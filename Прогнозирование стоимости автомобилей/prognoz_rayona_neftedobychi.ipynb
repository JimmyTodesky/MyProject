{
 "cells": [
  {
   "cell_type": "markdown",
   "metadata": {},
   "source": [
    "# Выбор нового района для нефтедобычи"
   ]
  },
  {
   "cell_type": "markdown",
   "metadata": {
    "toc": true
   },
   "source": [
    "<h1>Содержание<span class=\"tocSkip\"></span></h1>\n",
    "<div class=\"toc\"><ul class=\"toc-item\"><li><span><a href=\"#Загрузка-и-подготовка-данных\" data-toc-modified-id=\"Загрузка-и-подготовка-данных-1\"><span class=\"toc-item-num\">1&nbsp;&nbsp;</span>Загрузка и подготовка данных</a></span><ul class=\"toc-item\"><li><span><a href=\"#Вывод:\" data-toc-modified-id=\"Вывод:-1.1\"><span class=\"toc-item-num\">1.1&nbsp;&nbsp;</span>Вывод:</a></span></li></ul></li><li><span><a href=\"#Обучение-и-проверка-модели\" data-toc-modified-id=\"Обучение-и-проверка-модели-2\"><span class=\"toc-item-num\">2&nbsp;&nbsp;</span>Обучение и проверка модели</a></span><ul class=\"toc-item\"><li><span><a href=\"#Вывод:\" data-toc-modified-id=\"Вывод:-2.1\"><span class=\"toc-item-num\">2.1&nbsp;&nbsp;</span>Вывод:</a></span></li></ul></li><li><span><a href=\"#Подготовка-к-расчёту-прибыли\" data-toc-modified-id=\"Подготовка-к-расчёту-прибыли-3\"><span class=\"toc-item-num\">3&nbsp;&nbsp;</span>Подготовка к расчёту прибыли</a></span><ul class=\"toc-item\"><li><span><a href=\"#Вывод:\" data-toc-modified-id=\"Вывод:-3.1\"><span class=\"toc-item-num\">3.1&nbsp;&nbsp;</span>Вывод:</a></span></li></ul></li><li><span><a href=\"#Расчёт-прибыли-и-рисков\" data-toc-modified-id=\"Расчёт-прибыли-и-рисков-4\"><span class=\"toc-item-num\">4&nbsp;&nbsp;</span>Расчёт прибыли и рисков</a></span><ul class=\"toc-item\"><li><span><a href=\"#Функция-расчета-прибыли:\" data-toc-modified-id=\"Функция-расчета-прибыли:-4.1\"><span class=\"toc-item-num\">4.1&nbsp;&nbsp;</span>Функция расчета прибыли:</a></span><ul class=\"toc-item\"><li><span><a href=\"#Вывод:\" data-toc-modified-id=\"Вывод:-4.1.1\"><span class=\"toc-item-num\">4.1.1&nbsp;&nbsp;</span>Вывод:</a></span></li></ul></li></ul></li><li><span><a href=\"#Рассчет-прибыли-и-рисков-для-каждого-региона\" data-toc-modified-id=\"Рассчет-прибыли-и-рисков-для-каждого-региона-5\"><span class=\"toc-item-num\">5&nbsp;&nbsp;</span>Рассчет прибыли и рисков для каждого региона</a></span><ul class=\"toc-item\"><li><span><a href=\"#Применение-техники-бутстрап-для-расчета-распределения-прибыли-на-случайных-выборках\" data-toc-modified-id=\"Применение-техники-бутстрап-для-расчета-распределения-прибыли-на-случайных-выборках-5.1\"><span class=\"toc-item-num\">5.1&nbsp;&nbsp;</span>Применение техники бутстрап для расчета распределения прибыли на случайных выборках</a></span><ul class=\"toc-item\"><li><span><a href=\"#Вывод:\" data-toc-modified-id=\"Вывод:-5.1.1\"><span class=\"toc-item-num\">5.1.1&nbsp;&nbsp;</span>Вывод:</a></span></li></ul></li><li><span><a href=\"#Добавим-в-сводную-таблицу--среднюю-прибыль,-95-%-доверительный-интервал-и-риск-убытков-для-каждого-региона:\" data-toc-modified-id=\"Добавим-в-сводную-таблицу--среднюю-прибыль,-95-%-доверительный-интервал-и-риск-убытков-для-каждого-региона:-5.2\"><span class=\"toc-item-num\">5.2&nbsp;&nbsp;</span>Добавим в сводную таблицу  среднюю прибыль, 95 % доверительный интервал и риск убытков для каждого региона:</a></span><ul class=\"toc-item\"><li><span><a href=\"#Добавим-в-таблицу-среднюю-предполагаемую-прибыль-по-регионам:\" data-toc-modified-id=\"Добавим-в-таблицу-среднюю-предполагаемую-прибыль-по-регионам:-5.2.1\"><span class=\"toc-item-num\">5.2.1&nbsp;&nbsp;</span>Добавим в таблицу среднюю предполагаемую прибыль по регионам:</a></span></li><li><span><a href=\"#Добавим-в-таблицу-95-процентный-доверительный-интервал:\" data-toc-modified-id=\"Добавим-в-таблицу-95-процентный-доверительный-интервал:-5.2.2\"><span class=\"toc-item-num\">5.2.2&nbsp;&nbsp;</span>Добавим в таблицу 95 процентный доверительный интервал:</a></span></li><li><span><a href=\"#Добавим-в-таблицу-риск-убытков-для-каждого-региона:\" data-toc-modified-id=\"Добавим-в-таблицу-риск-убытков-для-каждого-региона:-5.2.3\"><span class=\"toc-item-num\">5.2.3&nbsp;&nbsp;</span>Добавим в таблицу риск убытков для каждого региона:</a></span></li></ul></li></ul></li><li><span><a href=\"#Вывод:\" data-toc-modified-id=\"Вывод:-6\"><span class=\"toc-item-num\">6&nbsp;&nbsp;</span>Вывод:</a></span></li></ul></div>"
   ]
  },
  {
   "cell_type": "markdown",
   "metadata": {},
   "source": [
    "## Загрузка и подготовка данных\n",
    "\n",
    "По правилам хорошего тона для удобства чтения и написания проекта, в первой ячейке загрузим все необходимые нам бибилиотеки и модули. "
   ]
  },
  {
   "cell_type": "code",
   "execution_count": 1,
   "metadata": {},
   "outputs": [],
   "source": [
    "import pandas as pd\n",
    "import numpy as np\n",
    "import seaborn as sns\n",
    "import matplotlib.pyplot as plt\n",
    "from scipy import stats as st\n",
    "from numpy.random import RandomState\n",
    "import warnings\n",
    "from sklearn.model_selection import train_test_split\n",
    "from sklearn.preprocessing import StandardScaler\n",
    "from sklearn.linear_model import LinearRegression\n",
    "from sklearn.metrics import mean_squared_error\n",
    "warnings.filterwarnings(\"ignore\")"
   ]
  },
  {
   "cell_type": "markdown",
   "metadata": {},
   "source": [
    "Загрузим и изучим данные, оценим необходимость работы с пропусками, перевода данных в другие типы и прочих улушений:"
   ]
  },
  {
   "cell_type": "code",
   "execution_count": 2,
   "metadata": {},
   "outputs": [
    {
     "name": "stdout",
     "output_type": "stream",
     "text": [
      "<class 'pandas.core.frame.DataFrame'>\n",
      "RangeIndex: 100000 entries, 0 to 99999\n",
      "Data columns (total 5 columns):\n",
      "id         100000 non-null object\n",
      "f0         100000 non-null float64\n",
      "f1         100000 non-null float64\n",
      "f2         100000 non-null float64\n",
      "product    100000 non-null float64\n",
      "dtypes: float64(4), object(1)\n",
      "memory usage: 3.8+ MB\n"
     ]
    },
    {
     "data": {
      "text/html": [
       "<div>\n",
       "<style scoped>\n",
       "    .dataframe tbody tr th:only-of-type {\n",
       "        vertical-align: middle;\n",
       "    }\n",
       "\n",
       "    .dataframe tbody tr th {\n",
       "        vertical-align: top;\n",
       "    }\n",
       "\n",
       "    .dataframe thead th {\n",
       "        text-align: right;\n",
       "    }\n",
       "</style>\n",
       "<table border=\"1\" class=\"dataframe\">\n",
       "  <thead>\n",
       "    <tr style=\"text-align: right;\">\n",
       "      <th></th>\n",
       "      <th>id</th>\n",
       "      <th>f0</th>\n",
       "      <th>f1</th>\n",
       "      <th>f2</th>\n",
       "      <th>product</th>\n",
       "    </tr>\n",
       "  </thead>\n",
       "  <tbody>\n",
       "    <tr>\n",
       "      <td>0</td>\n",
       "      <td>txEyH</td>\n",
       "      <td>0.705745</td>\n",
       "      <td>-0.497823</td>\n",
       "      <td>1.221170</td>\n",
       "      <td>105.280062</td>\n",
       "    </tr>\n",
       "    <tr>\n",
       "      <td>1</td>\n",
       "      <td>2acmU</td>\n",
       "      <td>1.334711</td>\n",
       "      <td>-0.340164</td>\n",
       "      <td>4.365080</td>\n",
       "      <td>73.037750</td>\n",
       "    </tr>\n",
       "    <tr>\n",
       "      <td>2</td>\n",
       "      <td>409Wp</td>\n",
       "      <td>1.022732</td>\n",
       "      <td>0.151990</td>\n",
       "      <td>1.419926</td>\n",
       "      <td>85.265647</td>\n",
       "    </tr>\n",
       "    <tr>\n",
       "      <td>3</td>\n",
       "      <td>iJLyR</td>\n",
       "      <td>-0.032172</td>\n",
       "      <td>0.139033</td>\n",
       "      <td>2.978566</td>\n",
       "      <td>168.620776</td>\n",
       "    </tr>\n",
       "    <tr>\n",
       "      <td>4</td>\n",
       "      <td>Xdl7t</td>\n",
       "      <td>1.988431</td>\n",
       "      <td>0.155413</td>\n",
       "      <td>4.751769</td>\n",
       "      <td>154.036647</td>\n",
       "    </tr>\n",
       "  </tbody>\n",
       "</table>\n",
       "</div>"
      ],
      "text/plain": [
       "      id        f0        f1        f2     product\n",
       "0  txEyH  0.705745 -0.497823  1.221170  105.280062\n",
       "1  2acmU  1.334711 -0.340164  4.365080   73.037750\n",
       "2  409Wp  1.022732  0.151990  1.419926   85.265647\n",
       "3  iJLyR -0.032172  0.139033  2.978566  168.620776\n",
       "4  Xdl7t  1.988431  0.155413  4.751769  154.036647"
      ]
     },
     "execution_count": 2,
     "metadata": {},
     "output_type": "execute_result"
    }
   ],
   "source": [
    "data1 = pd.read_csv('/datasets/geo_data_0.csv')\n",
    "data2 = pd.read_csv('/datasets/geo_data_1.csv')\n",
    "data3 = pd.read_csv('/datasets/geo_data_2.csv')\n",
    "\n",
    "data1.info()\n",
    "data1.head()"
   ]
  },
  {
   "cell_type": "code",
   "execution_count": 3,
   "metadata": {
    "scrolled": false
   },
   "outputs": [
    {
     "name": "stdout",
     "output_type": "stream",
     "text": [
      "<class 'pandas.core.frame.DataFrame'>\n",
      "RangeIndex: 100000 entries, 0 to 99999\n",
      "Data columns (total 5 columns):\n",
      "id         100000 non-null object\n",
      "f0         100000 non-null float64\n",
      "f1         100000 non-null float64\n",
      "f2         100000 non-null float64\n",
      "product    100000 non-null float64\n",
      "dtypes: float64(4), object(1)\n",
      "memory usage: 3.8+ MB\n"
     ]
    },
    {
     "data": {
      "text/html": [
       "<div>\n",
       "<style scoped>\n",
       "    .dataframe tbody tr th:only-of-type {\n",
       "        vertical-align: middle;\n",
       "    }\n",
       "\n",
       "    .dataframe tbody tr th {\n",
       "        vertical-align: top;\n",
       "    }\n",
       "\n",
       "    .dataframe thead th {\n",
       "        text-align: right;\n",
       "    }\n",
       "</style>\n",
       "<table border=\"1\" class=\"dataframe\">\n",
       "  <thead>\n",
       "    <tr style=\"text-align: right;\">\n",
       "      <th></th>\n",
       "      <th>id</th>\n",
       "      <th>f0</th>\n",
       "      <th>f1</th>\n",
       "      <th>f2</th>\n",
       "      <th>product</th>\n",
       "    </tr>\n",
       "  </thead>\n",
       "  <tbody>\n",
       "    <tr>\n",
       "      <td>0</td>\n",
       "      <td>kBEdx</td>\n",
       "      <td>-15.001348</td>\n",
       "      <td>-8.276000</td>\n",
       "      <td>-0.005876</td>\n",
       "      <td>3.179103</td>\n",
       "    </tr>\n",
       "    <tr>\n",
       "      <td>1</td>\n",
       "      <td>62mP7</td>\n",
       "      <td>14.272088</td>\n",
       "      <td>-3.475083</td>\n",
       "      <td>0.999183</td>\n",
       "      <td>26.953261</td>\n",
       "    </tr>\n",
       "    <tr>\n",
       "      <td>2</td>\n",
       "      <td>vyE1P</td>\n",
       "      <td>6.263187</td>\n",
       "      <td>-5.948386</td>\n",
       "      <td>5.001160</td>\n",
       "      <td>134.766305</td>\n",
       "    </tr>\n",
       "    <tr>\n",
       "      <td>3</td>\n",
       "      <td>KcrkZ</td>\n",
       "      <td>-13.081196</td>\n",
       "      <td>-11.506057</td>\n",
       "      <td>4.999415</td>\n",
       "      <td>137.945408</td>\n",
       "    </tr>\n",
       "    <tr>\n",
       "      <td>4</td>\n",
       "      <td>AHL4O</td>\n",
       "      <td>12.702195</td>\n",
       "      <td>-8.147433</td>\n",
       "      <td>5.004363</td>\n",
       "      <td>134.766305</td>\n",
       "    </tr>\n",
       "  </tbody>\n",
       "</table>\n",
       "</div>"
      ],
      "text/plain": [
       "      id         f0         f1        f2     product\n",
       "0  kBEdx -15.001348  -8.276000 -0.005876    3.179103\n",
       "1  62mP7  14.272088  -3.475083  0.999183   26.953261\n",
       "2  vyE1P   6.263187  -5.948386  5.001160  134.766305\n",
       "3  KcrkZ -13.081196 -11.506057  4.999415  137.945408\n",
       "4  AHL4O  12.702195  -8.147433  5.004363  134.766305"
      ]
     },
     "execution_count": 3,
     "metadata": {},
     "output_type": "execute_result"
    }
   ],
   "source": [
    "data2.info()\n",
    "data2.head()"
   ]
  },
  {
   "cell_type": "code",
   "execution_count": 4,
   "metadata": {
    "scrolled": false
   },
   "outputs": [
    {
     "name": "stdout",
     "output_type": "stream",
     "text": [
      "<class 'pandas.core.frame.DataFrame'>\n",
      "RangeIndex: 100000 entries, 0 to 99999\n",
      "Data columns (total 5 columns):\n",
      "id         100000 non-null object\n",
      "f0         100000 non-null float64\n",
      "f1         100000 non-null float64\n",
      "f2         100000 non-null float64\n",
      "product    100000 non-null float64\n",
      "dtypes: float64(4), object(1)\n",
      "memory usage: 3.8+ MB\n"
     ]
    },
    {
     "data": {
      "text/html": [
       "<div>\n",
       "<style scoped>\n",
       "    .dataframe tbody tr th:only-of-type {\n",
       "        vertical-align: middle;\n",
       "    }\n",
       "\n",
       "    .dataframe tbody tr th {\n",
       "        vertical-align: top;\n",
       "    }\n",
       "\n",
       "    .dataframe thead th {\n",
       "        text-align: right;\n",
       "    }\n",
       "</style>\n",
       "<table border=\"1\" class=\"dataframe\">\n",
       "  <thead>\n",
       "    <tr style=\"text-align: right;\">\n",
       "      <th></th>\n",
       "      <th>id</th>\n",
       "      <th>f0</th>\n",
       "      <th>f1</th>\n",
       "      <th>f2</th>\n",
       "      <th>product</th>\n",
       "    </tr>\n",
       "  </thead>\n",
       "  <tbody>\n",
       "    <tr>\n",
       "      <td>0</td>\n",
       "      <td>fwXo0</td>\n",
       "      <td>-1.146987</td>\n",
       "      <td>0.963328</td>\n",
       "      <td>-0.828965</td>\n",
       "      <td>27.758673</td>\n",
       "    </tr>\n",
       "    <tr>\n",
       "      <td>1</td>\n",
       "      <td>WJtFt</td>\n",
       "      <td>0.262778</td>\n",
       "      <td>0.269839</td>\n",
       "      <td>-2.530187</td>\n",
       "      <td>56.069697</td>\n",
       "    </tr>\n",
       "    <tr>\n",
       "      <td>2</td>\n",
       "      <td>ovLUW</td>\n",
       "      <td>0.194587</td>\n",
       "      <td>0.289035</td>\n",
       "      <td>-5.586433</td>\n",
       "      <td>62.871910</td>\n",
       "    </tr>\n",
       "    <tr>\n",
       "      <td>3</td>\n",
       "      <td>q6cA6</td>\n",
       "      <td>2.236060</td>\n",
       "      <td>-0.553760</td>\n",
       "      <td>0.930038</td>\n",
       "      <td>114.572842</td>\n",
       "    </tr>\n",
       "    <tr>\n",
       "      <td>4</td>\n",
       "      <td>WPMUX</td>\n",
       "      <td>-0.515993</td>\n",
       "      <td>1.716266</td>\n",
       "      <td>5.899011</td>\n",
       "      <td>149.600746</td>\n",
       "    </tr>\n",
       "  </tbody>\n",
       "</table>\n",
       "</div>"
      ],
      "text/plain": [
       "      id        f0        f1        f2     product\n",
       "0  fwXo0 -1.146987  0.963328 -0.828965   27.758673\n",
       "1  WJtFt  0.262778  0.269839 -2.530187   56.069697\n",
       "2  ovLUW  0.194587  0.289035 -5.586433   62.871910\n",
       "3  q6cA6  2.236060 -0.553760  0.930038  114.572842\n",
       "4  WPMUX -0.515993  1.716266  5.899011  149.600746"
      ]
     },
     "execution_count": 4,
     "metadata": {},
     "output_type": "execute_result"
    }
   ],
   "source": [
    "data3.info()\n",
    "data3.head()"
   ]
  },
  {
   "cell_type": "markdown",
   "metadata": {},
   "source": [
    "Удалим столбец с уникальным идентификатором во всех трех датасетах, для того чтобы модель не учитывала их при обучении: "
   ]
  },
  {
   "cell_type": "code",
   "execution_count": 5,
   "metadata": {},
   "outputs": [],
   "source": [
    "data1 = data1.drop('id', axis=1)\n",
    "data2 = data2.drop('id', axis=1)\n",
    "data3 = data3.drop('id', axis=1)"
   ]
  },
  {
   "cell_type": "markdown",
   "metadata": {},
   "source": [
    "### Вывод: \n",
    "Необходимости заполнять пропуски нет, столбцы имеют адекватные названия. Для текущей задачи данные уже готовы. Мы последовательно создали три датасета для кажого региона соответственно. Удалили столбец для id, для того чтобы модель обучалась только на числовых данных. Можно переходить к разбиению на выборки и обучение модели. "
   ]
  },
  {
   "cell_type": "markdown",
   "metadata": {},
   "source": [
    "## Обучение и проверка модели"
   ]
  },
  {
   "cell_type": "markdown",
   "metadata": {},
   "source": [
    "Выделим среди данных признаки и целевой признак для этого разделим датасеты на определяющие признаки и целевой признак:"
   ]
  },
  {
   "cell_type": "code",
   "execution_count": 6,
   "metadata": {},
   "outputs": [],
   "source": [
    "target1 = data1['product']\n",
    "features1 = data1.drop('product', axis=1)\n",
    "target2 = data2['product']\n",
    "features2 = data2.drop('product', axis=1)\n",
    "target3 = data3['product']\n",
    "features3 = data3.drop('product', axis=1)"
   ]
  },
  {
   "cell_type": "markdown",
   "metadata": {},
   "source": [
    "Разобьем данные на обучающую и валидационную выборки в пропорции 75:25, для начала определим значение random_state: "
   ]
  },
  {
   "cell_type": "code",
   "execution_count": 7,
   "metadata": {},
   "outputs": [],
   "source": [
    "state = np.random.RandomState(12345)\n",
    "\n",
    "features_train_1, features_valid_1, target_train_1, target_valid_1 = train_test_split(\n",
    "    features1, target1, test_size=0.25, \n",
    "    random_state=state)\n",
    "\n",
    "features_train_2, features_valid_2, target_train_2, target_valid_2 = train_test_split(\n",
    "    features2, target2, test_size=0.25, \n",
    "    random_state=state)\n",
    "\n",
    "features_train_3, features_valid_3, target_train_3, target_valid_3 = train_test_split(\n",
    "    features3, target3, test_size=0.25, \n",
    "    random_state=state)"
   ]
  },
  {
   "cell_type": "markdown",
   "metadata": {},
   "source": [
    "Проведем масштабирование определяющих признаков для улучшения работы модели, для упрощения задачи применим функцию: "
   ]
  },
  {
   "cell_type": "code",
   "execution_count": 8,
   "metadata": {},
   "outputs": [],
   "source": [
    "def standard(features_train, features_valid):\n",
    "\n",
    "    numeric = ['f0', 'f1', 'f2']\n",
    "\n",
    "    scaler = StandardScaler()\n",
    "    scaler.fit(features_train[numeric])\n",
    "\n",
    "    features_train[numeric] = scaler.transform(features_train[numeric])\n",
    "    features_valid[numeric] = scaler.transform(features_valid[numeric])\n",
    "    return features_train, features_valid\n",
    "\n",
    "features_train_1, features_valid_1 = standard(features_train_1, features_valid_1)\n",
    "features_train_2, features_valid_2 = standard(features_train_2, features_valid_2)\n",
    "features_train_3, features_valid_3 = standard(features_train_3, features_valid_3)"
   ]
  },
  {
   "cell_type": "markdown",
   "metadata": {},
   "source": [
    "Обучим модель логистической регрессии на обучающей выборке: "
   ]
  },
  {
   "cell_type": "code",
   "execution_count": 9,
   "metadata": {},
   "outputs": [
    {
     "data": {
      "text/plain": [
       "LinearRegression(copy_X=True, fit_intercept=True, n_jobs=None, normalize=False)"
      ]
     },
     "execution_count": 9,
     "metadata": {},
     "output_type": "execute_result"
    }
   ],
   "source": [
    "model1 = LinearRegression(\n",
    "    fit_intercept=True, normalize=False,\n",
    "    copy_X=True, n_jobs=None)\n",
    "\n",
    "model2 = LinearRegression(\n",
    "    fit_intercept=True, normalize=False,\n",
    "    copy_X=True, n_jobs=None)\n",
    "\n",
    "model3 = LinearRegression(\n",
    "    fit_intercept=True, normalize=False,\n",
    "    copy_X=True, n_jobs=None)\n",
    "\n",
    "model1.fit(features_train_1, target_train_1)\n",
    "model2.fit(features_train_2, target_train_2)\n",
    "model3.fit(features_train_3, target_train_3)"
   ]
  },
  {
   "cell_type": "markdown",
   "metadata": {},
   "source": [
    "Сохраним предсказания на валидационной выборке в переменные для каждого района, правильные ответы сохранены у нас в переменных target_valid_1, target_valid_2, target_valid_3: "
   ]
  },
  {
   "cell_type": "code",
   "execution_count": 10,
   "metadata": {},
   "outputs": [],
   "source": [
    "predicted_1 = pd.Series(model1.predict(features_valid_1))\n",
    "predicted_2 = pd.Series(model2.predict(features_valid_2))\n",
    "predicted_3 = pd.Series(model3.predict(features_valid_3))\n"
   ]
  },
  {
   "cell_type": "markdown",
   "metadata": {},
   "source": [
    "Выведем на экран средний запас сырья предсказанного моделью, а также значения метрики RMSE для модели: "
   ]
  },
  {
   "cell_type": "code",
   "execution_count": 11,
   "metadata": {},
   "outputs": [
    {
     "data": {
      "text/html": [
       "<div>\n",
       "<style scoped>\n",
       "    .dataframe tbody tr th:only-of-type {\n",
       "        vertical-align: middle;\n",
       "    }\n",
       "\n",
       "    .dataframe tbody tr th {\n",
       "        vertical-align: top;\n",
       "    }\n",
       "\n",
       "    .dataframe thead th {\n",
       "        text-align: right;\n",
       "    }\n",
       "</style>\n",
       "<table border=\"1\" class=\"dataframe\">\n",
       "  <thead>\n",
       "    <tr style=\"text-align: right;\">\n",
       "      <th></th>\n",
       "      <th>Регион добычи</th>\n",
       "      <th>Средние реальные запасы сырья, тыс. барр.</th>\n",
       "      <th>Средние предсказанные запасы сырья,тыс. барр.</th>\n",
       "      <th>RMSE</th>\n",
       "    </tr>\n",
       "  </thead>\n",
       "  <tbody>\n",
       "    <tr>\n",
       "      <td>0</td>\n",
       "      <td>1</td>\n",
       "      <td>92.59</td>\n",
       "      <td>92.08</td>\n",
       "      <td>37.58</td>\n",
       "    </tr>\n",
       "    <tr>\n",
       "      <td>1</td>\n",
       "      <td>2</td>\n",
       "      <td>68.77</td>\n",
       "      <td>68.77</td>\n",
       "      <td>0.89</td>\n",
       "    </tr>\n",
       "    <tr>\n",
       "      <td>2</td>\n",
       "      <td>3</td>\n",
       "      <td>95.09</td>\n",
       "      <td>94.75</td>\n",
       "      <td>39.96</td>\n",
       "    </tr>\n",
       "  </tbody>\n",
       "</table>\n",
       "</div>"
      ],
      "text/plain": [
       "   Регион добычи  Средние реальные запасы сырья, тыс. барр.  \\\n",
       "0              1                                      92.59   \n",
       "1              2                                      68.77   \n",
       "2              3                                      95.09   \n",
       "\n",
       "   Средние предсказанные запасы сырья,тыс. барр.   RMSE  \n",
       "0                                          92.08  37.58  \n",
       "1                                          68.77   0.89  \n",
       "2                                          94.75  39.96  "
      ]
     },
     "execution_count": 11,
     "metadata": {},
     "output_type": "execute_result"
    }
   ],
   "source": [
    "region_data = [[1, predicted_1.mean().round(2), target_valid_1.mean().round(2),\n",
    "                ((mean_squared_error(target_valid_1, predicted_1)) ** 0.5).round(2)],\n",
    "               [2, predicted_2.mean().round(2), target_valid_2.mean().round(2), \n",
    "                ((mean_squared_error(target_valid_2, predicted_2)) ** 0.5).round(2)],\n",
    "               [3, predicted_3.mean().round(2), target_valid_3.mean().round(2),\n",
    "                ((mean_squared_error(target_valid_3, predicted_3)) ** 0.5).round(2)]]\n",
    "\n",
    "region_data = pd.DataFrame(region_data)\n",
    "region_data.columns = ['Регион добычи', 'Средние реальные запасы сырья, тыс. барр.',\n",
    "                       'Средние предсказанные запасы сырья,тыс. барр.', 'RMSE']\n",
    "region_data"
   ]
  },
  {
   "cell_type": "markdown",
   "metadata": {},
   "source": [
    "### Вывод: \n",
    "Мы провели обучение моделей, сохранили предсказания моделей и вычислили метрику RMSE для каждого региона добычи. Наибольшее среднее как предсказанных, так и реальных запасов находится в третьем регионе добычи. Для этого же региона модель показала наибольшее значение метрики RMSE. На втором месте по предсказанным запасам, находится 1 регион добычи, значение метрики RMSE для этого региона тоже занимает почетное 2 место, на почти на 20 баррелей в среднем отстает от двух лидеров 2 регион добычи, однако нужно отметить, что RMSE данного региона менее 1 тысячи баррелей. Модель показала поразительную точность в предсказании. "
   ]
  },
  {
   "cell_type": "markdown",
   "metadata": {},
   "source": [
    "## Подготовка к расчёту прибыли\n",
    "\n",
    "Для того, чтобы рассчитать объем безубыточности разработки одной скважины нужно разделить на 200 точек суммарный бюджет для региона равный 10 млрд. рублей. "
   ]
  },
  {
   "cell_type": "code",
   "execution_count": 12,
   "metadata": {},
   "outputs": [
    {
     "name": "stdout",
     "output_type": "stream",
     "text": [
      "Сумма прибыли для безубыточной разработки одной скважины: 50.0 млн. рублей\n"
     ]
    }
   ],
   "source": [
    "region_budget = 10000000000\n",
    "set_borehole = 200\n",
    "one_thousand_profit = 450000\n",
    "one_borehole_sales = round(region_budget / set_borehole) / 1000000\n",
    "print('Сумма прибыли для безубыточной разработки одной скважины:', one_borehole_sales, 'млн. рублей')"
   ]
  },
  {
   "cell_type": "markdown",
   "metadata": {},
   "source": [
    "Как мы видим, прибыль для безубыточности разработки одной скважины равна 50 000 000 рублей. Теперь мы можем посчитать необходимый объем запасов в одной скважине для безубыточной ее  разработки, для этого необходимо сумму безубыточности одной скважины разделить на цену одной тысячи баррелей(равна 450000 рублей): "
   ]
  },
  {
   "cell_type": "code",
   "execution_count": 13,
   "metadata": {},
   "outputs": [
    {
     "name": "stdout",
     "output_type": "stream",
     "text": [
      "Запас сырья в скважине для ее безубыточной разработки: 0.0 тысяч баррелей\n"
     ]
    }
   ],
   "source": [
    "one_borehole_stock = one_borehole_sales / one_thousand_profit\n",
    "one_borehole_stock = round(one_borehole_stock, 2)\n",
    "print('Запас сырья в скважине для ее безубыточной разработки:', one_borehole_stock, 'тысяч баррелей')"
   ]
  },
  {
   "cell_type": "markdown",
   "metadata": {},
   "source": [
    "Сравним полученный запас сырья со средним объемом предсказанных и реальных запасов:"
   ]
  },
  {
   "cell_type": "code",
   "execution_count": 14,
   "metadata": {
    "scrolled": true
   },
   "outputs": [
    {
     "data": {
      "text/html": [
       "<div>\n",
       "<style scoped>\n",
       "    .dataframe tbody tr th:only-of-type {\n",
       "        vertical-align: middle;\n",
       "    }\n",
       "\n",
       "    .dataframe tbody tr th {\n",
       "        vertical-align: top;\n",
       "    }\n",
       "\n",
       "    .dataframe thead th {\n",
       "        text-align: right;\n",
       "    }\n",
       "</style>\n",
       "<table border=\"1\" class=\"dataframe\">\n",
       "  <thead>\n",
       "    <tr style=\"text-align: right;\">\n",
       "      <th></th>\n",
       "      <th>Регион добычи</th>\n",
       "      <th>Средние реальные запасы сырья, тыс. барр.</th>\n",
       "      <th>Средние предсказанные запасы сырья,тыс. барр.</th>\n",
       "      <th>RMSE</th>\n",
       "      <th>Разница среднего запаса региона и безубыточного запаса, тыс. барр.</th>\n",
       "    </tr>\n",
       "  </thead>\n",
       "  <tbody>\n",
       "    <tr>\n",
       "      <td>0</td>\n",
       "      <td>1</td>\n",
       "      <td>92.59</td>\n",
       "      <td>92.08</td>\n",
       "      <td>37.58</td>\n",
       "      <td>92.59</td>\n",
       "    </tr>\n",
       "    <tr>\n",
       "      <td>1</td>\n",
       "      <td>2</td>\n",
       "      <td>68.77</td>\n",
       "      <td>68.77</td>\n",
       "      <td>0.89</td>\n",
       "      <td>68.77</td>\n",
       "    </tr>\n",
       "    <tr>\n",
       "      <td>2</td>\n",
       "      <td>3</td>\n",
       "      <td>95.09</td>\n",
       "      <td>94.75</td>\n",
       "      <td>39.96</td>\n",
       "      <td>95.09</td>\n",
       "    </tr>\n",
       "  </tbody>\n",
       "</table>\n",
       "</div>"
      ],
      "text/plain": [
       "   Регион добычи  Средние реальные запасы сырья, тыс. барр.  \\\n",
       "0              1                                      92.59   \n",
       "1              2                                      68.77   \n",
       "2              3                                      95.09   \n",
       "\n",
       "   Средние предсказанные запасы сырья,тыс. барр.   RMSE  \\\n",
       "0                                          92.08  37.58   \n",
       "1                                          68.77   0.89   \n",
       "2                                          94.75  39.96   \n",
       "\n",
       "   Разница среднего запаса региона и безубыточного запаса, тыс. барр.  \n",
       "0                                              92.59                   \n",
       "1                                              68.77                   \n",
       "2                                              95.09                   "
      ]
     },
     "execution_count": 14,
     "metadata": {},
     "output_type": "execute_result"
    }
   ],
   "source": [
    "region_data['Разница среднего запаса региона и безубыточного запаса, тыс. барр.'] = (\n",
    "    region_data['Средние реальные запасы сырья, тыс. барр.'] - one_borehole_stock \n",
    ").round(2)\n",
    "region_data"
   ]
  },
  {
   "cell_type": "markdown",
   "metadata": {},
   "source": [
    "### Вывод: \n",
    "\n",
    "Мы сохранили в отдельных переменных все величины, необходимые нам для расчетов прибыли. Также мы рассчитали бюджет на разработку одной скважины, а также необходимый минимальный запас сырья для ее безубыточной разработки. Как видно из приведенной выше таблицы, средние запасы сырья в регионах разработки отличаются от минимальных запасов сырья для безубыточной разработки. Разница составляет от 16 до 42 тысяч баррелей."
   ]
  },
  {
   "cell_type": "markdown",
   "metadata": {},
   "source": [
    "## Расчёт прибыли и рисков \n",
    "\n",
    "### Функция расчета прибыли: \n",
    "\n",
    "Для начала напишем функцию для рассчета прибыли региона: "
   ]
  },
  {
   "cell_type": "code",
   "execution_count": 15,
   "metadata": {},
   "outputs": [],
   "source": [
    "def profit_region(target, predicted, count):\n",
    "    # Cортируем предсказания по убыванию запасов\n",
    "    sort_predict = predicted.sort_values(ascending=False)\n",
    "    # Выбираем скважины из целевого признака по индексам отсортированных предсказаний\n",
    "    # задаем количество пременной count\n",
    "    select_target = target[sort_predict.index][:count]\n",
    "    # Рассчитываем прибыль от разработки заданного количества реальных скважин\n",
    "    profit_region = ((select_target.sum() * one_thousand_profit) - region_budget) / 1000000\n",
    "           \n",
    "    return profit_region.round(2)\n"
   ]
  },
  {
   "cell_type": "markdown",
   "metadata": {},
   "source": [
    "Затем напишем фукнцию для расчета прибыли для полученного ранее ТОПа скважин в регионе: "
   ]
  },
  {
   "cell_type": "code",
   "execution_count": 16,
   "metadata": {
    "scrolled": false
   },
   "outputs": [
    {
     "data": {
      "text/html": [
       "<div>\n",
       "<style scoped>\n",
       "    .dataframe tbody tr th:only-of-type {\n",
       "        vertical-align: middle;\n",
       "    }\n",
       "\n",
       "    .dataframe tbody tr th {\n",
       "        vertical-align: top;\n",
       "    }\n",
       "\n",
       "    .dataframe thead th {\n",
       "        text-align: right;\n",
       "    }\n",
       "</style>\n",
       "<table border=\"1\" class=\"dataframe\">\n",
       "  <thead>\n",
       "    <tr style=\"text-align: right;\">\n",
       "      <th></th>\n",
       "      <th>Регион добычи</th>\n",
       "      <th>Средние реальные запасы сырья, тыс. барр.</th>\n",
       "      <th>Средние предсказанные запасы сырья,тыс. барр.</th>\n",
       "      <th>RMSE</th>\n",
       "      <th>Разница среднего запаса региона и безубыточного запаса, тыс. барр.</th>\n",
       "      <th>Реальная прибыль, млн. руб.</th>\n",
       "    </tr>\n",
       "  </thead>\n",
       "  <tbody>\n",
       "    <tr>\n",
       "      <td>0</td>\n",
       "      <td>1</td>\n",
       "      <td>92.59</td>\n",
       "      <td>92.08</td>\n",
       "      <td>37.58</td>\n",
       "      <td>92.59</td>\n",
       "      <td>3266.88</td>\n",
       "    </tr>\n",
       "    <tr>\n",
       "      <td>1</td>\n",
       "      <td>2</td>\n",
       "      <td>68.77</td>\n",
       "      <td>68.77</td>\n",
       "      <td>0.89</td>\n",
       "      <td>68.77</td>\n",
       "      <td>2353.01</td>\n",
       "    </tr>\n",
       "    <tr>\n",
       "      <td>2</td>\n",
       "      <td>3</td>\n",
       "      <td>95.09</td>\n",
       "      <td>94.75</td>\n",
       "      <td>39.96</td>\n",
       "      <td>95.09</td>\n",
       "      <td>2476.40</td>\n",
       "    </tr>\n",
       "  </tbody>\n",
       "</table>\n",
       "</div>"
      ],
      "text/plain": [
       "   Регион добычи  Средние реальные запасы сырья, тыс. барр.  \\\n",
       "0              1                                      92.59   \n",
       "1              2                                      68.77   \n",
       "2              3                                      95.09   \n",
       "\n",
       "   Средние предсказанные запасы сырья,тыс. барр.   RMSE  \\\n",
       "0                                          92.08  37.58   \n",
       "1                                          68.77   0.89   \n",
       "2                                          94.75  39.96   \n",
       "\n",
       "   Разница среднего запаса региона и безубыточного запаса, тыс. барр.  \\\n",
       "0                                              92.59                    \n",
       "1                                              68.77                    \n",
       "2                                              95.09                    \n",
       "\n",
       "   Реальная прибыль, млн. руб.  \n",
       "0                      3266.88  \n",
       "1                      2353.01  \n",
       "2                      2476.40  "
      ]
     },
     "execution_count": 16,
     "metadata": {},
     "output_type": "execute_result"
    }
   ],
   "source": [
    "target_valid_1 = target_valid_1.reset_index(drop=True)\n",
    "target_valid_2 = target_valid_2.reset_index(drop=True)\n",
    "target_valid_3 = target_valid_3.reset_index(drop=True)\n",
    "profit_region_1 = profit_region(target_valid_1, predicted_1, 199)\n",
    "profit_region_2 = profit_region(target_valid_2, predicted_2, 199)\n",
    "profit_region_3 = profit_region(target_valid_3, predicted_3, 199)\n",
    "\n",
    "region_data['Реальная прибыль, млн. руб.'] = pd.Series(\n",
    "    [profit_region_1, profit_region_2, profit_region_3]).astype('float')\n",
    "region_data"
   ]
  },
  {
   "cell_type": "markdown",
   "metadata": {},
   "source": [
    "#### Вывод:\n",
    "При выборе 200 скважин с максимальным запасом, и вычислении предполагаемой рибыли, мы получили профит равный от 2,5 до 4 млрд. рублей. Теперь мы готовы произвести расчет доверительного интервала, рисков и распределния прибыли в соответствии с техникой бутстрап. \n",
    "\n",
    "## Рассчет прибыли и рисков для каждого региона\n",
    "\n",
    "### Применение техники бутстрап для расчета распределения прибыли на случайных выборках\n",
    "\n",
    "Применим технику бутсрап, создадим 1000 случайных выборок для расчета распределения прибыли. При этом мы будем брать 500 случайных скважин, из которых возьмем ТОП-200 по запасам сырья и рассчитаем прибыль для данной выборки. Так как у нас три региона то, для расчета прибыли для каждого региона стоит создать функцию: "
   ]
  },
  {
   "cell_type": "code",
   "execution_count": 17,
   "metadata": {},
   "outputs": [],
   "source": [
    "def bootstrap(target, predictions):\n",
    "    \n",
    "    bootstrap_samples = 1000 # количество выборок для бутстрапа\n",
    "    # Создаем пустый список для прибыли региона\n",
    "    profit_reg = []\n",
    "    count = 0 # счетчик скважин с отрицательной прибылью\n",
    "    # Сбросим индекс для целевого признака, чтобы он соответствовал предсказанию\n",
    "    target = target.reset_index(drop=True) \n",
    "        \n",
    "    for i in range(bootstrap_samples):\n",
    "        # Создаем подвыборку из целевого признака 500 случайных скважин для разработки\n",
    "        target_subsample = target.sample(n=500, replace=True, random_state=state)\n",
    "        # По индексу этой выборки выбираем скважины с предсказанным объемом\n",
    "        probs_subsample = predictions[target_subsample.index]\n",
    "        # Выбираем 200 лучших скважин и считаем для них прибыль\n",
    "        profit_top = profit_region(target_subsample, probs_subsample, 199)\n",
    "        \n",
    "        if profit_top < 0:\n",
    "            count += 1\n",
    "        \n",
    "        profit_reg.append(profit_top)\n",
    "        \n",
    "    # Переводим в Series список profit_reg         \n",
    "    profit_reg = pd.DataFrame(profit_reg)\n",
    "    # Рассчитаем 95 % доверительный интервал \n",
    "    # Вычислим 2,5 % квантиль\n",
    "    lower = profit_reg.quantile(0.025) \n",
    "    # Вычислим 97,5 % квантиль\n",
    "    upper = profit_reg.quantile(0.975)\n",
    "    # Вычислим среднюю прибыль региона\n",
    "    profit_reg_mean = profit_reg.mean()\n",
    "    # Вычислим риск убытков \n",
    "    risk = (count / bootstrap_samples) * 100  # % убыточных скважин\n",
    "    return profit_reg, lower, upper, profit_reg_mean, risk"
   ]
  },
  {
   "cell_type": "code",
   "execution_count": 18,
   "metadata": {},
   "outputs": [
    {
     "name": "stdout",
     "output_type": "stream",
     "text": [
      "CPU times: user 19 s, sys: 3.79 ms, total: 19 s\n",
      "Wall time: 38.7 s\n"
     ]
    }
   ],
   "source": [
    "%%time\n",
    "profit_distribution_1, lower_1, upper_1, profit_reg_mean_1, risk_1 = bootstrap(target_valid_1, predicted_1)\n",
    "profit_distribution_2, lower_2, upper_2, profit_reg_mean_2, risk_2 = bootstrap(target_valid_2, predicted_2)\n",
    "profit_distribution_3, lower_3, upper_3, profit_reg_mean_3, risk_3 = bootstrap(target_valid_3, predicted_3)"
   ]
  },
  {
   "cell_type": "code",
   "execution_count": 19,
   "metadata": {},
   "outputs": [],
   "source": [
    "profit_distribution_1.columns = ['Прибыль, млн. руб.']\n",
    "profit_distribution_2.columns = ['Прибыль, млн. руб.']\n",
    "profit_distribution_3.columns = ['Прибыль, млн. руб.']"
   ]
  },
  {
   "cell_type": "markdown",
   "metadata": {},
   "source": [
    "Посмотрим на распределение прибыли по регионам:"
   ]
  },
  {
   "cell_type": "code",
   "execution_count": 20,
   "metadata": {},
   "outputs": [
    {
     "data": {
      "text/plain": [
       "Text(0.5, 1.0, 'Распределение прибыли по регионам')"
      ]
     },
     "execution_count": 20,
     "metadata": {},
     "output_type": "execute_result"
    },
    {
     "data": {
      "image/png": "[encoded data removed]",
      "text/plain": [
       "<Figure size 1080x720 with 1 Axes>"
      ]
     },
     "metadata": {
      "needs_background": "light"
     },
     "output_type": "display_data"
    }
   ],
   "source": [
    "x1 = profit_distribution_1['Прибыль, млн. руб.']\n",
    "x2 = profit_distribution_2['Прибыль, млн. руб.']\n",
    "x3 = profit_distribution_3['Прибыль, млн. руб.']\n",
    "plt.figure(figsize=(15, 10))\n",
    "\n",
    "# Assign colors for each airline and the names\n",
    "colors = ['#E69F00', '#56B4E9', '#F0E442']\n",
    "names = ['Регион 1', 'Регион 2', 'Регион 3']\n",
    "\n",
    "plt.hist([x1, x2, x3], bins = 25, normed=False,\n",
    "         color = colors, label=names)\n",
    "\n",
    "\n",
    "plt.legend()\n",
    "plt.xlabel('Прибыль, млн. руб.')\n",
    "plt.ylabel('Количество скважиню. шт.')\n",
    "plt.title('Распределение прибыли по регионам')"
   ]
  },
  {
   "cell_type": "markdown",
   "metadata": {
    "scrolled": false
   },
   "source": [
    "#### Вывод:\n",
    "\n",
    "Как видно из графика, прибыль всех трех регионов имеет распределние близкое к нормальному. Прибыль лежит в интервале от  500 млн рублей убытка до 1 250 млн. рублей прибыли. При этом отчетливо видно, что регион номер 2 смещен вправо. и его пики более высокие нежели у 1 и 3 регионов. \n",
    "\n",
    "### Добавим в сводную таблицу  среднюю прибыль, 95 % доверительный интервал и риск убытков для каждого региона: \n",
    "\n",
    "\n",
    "#### Добавим в таблицу среднюю предполагаемую прибыль по регионам: "
   ]
  },
  {
   "cell_type": "code",
   "execution_count": 21,
   "metadata": {},
   "outputs": [
    {
     "data": {
      "text/html": [
       "<div>\n",
       "<style scoped>\n",
       "    .dataframe tbody tr th:only-of-type {\n",
       "        vertical-align: middle;\n",
       "    }\n",
       "\n",
       "    .dataframe tbody tr th {\n",
       "        vertical-align: top;\n",
       "    }\n",
       "\n",
       "    .dataframe thead th {\n",
       "        text-align: right;\n",
       "    }\n",
       "</style>\n",
       "<table border=\"1\" class=\"dataframe\">\n",
       "  <thead>\n",
       "    <tr style=\"text-align: right;\">\n",
       "      <th></th>\n",
       "      <th>Регион добычи</th>\n",
       "      <th>Средние реальные запасы сырья, тыс. барр.</th>\n",
       "      <th>Средние предсказанные запасы сырья,тыс. барр.</th>\n",
       "      <th>RMSE</th>\n",
       "      <th>Разница среднего запаса региона и безубыточного запаса, тыс. барр.</th>\n",
       "      <th>Реальная прибыль, млн. руб.</th>\n",
       "      <th>Средняя прибыль после bootstrap, млн. руб.</th>\n",
       "    </tr>\n",
       "  </thead>\n",
       "  <tbody>\n",
       "    <tr>\n",
       "      <td>0</td>\n",
       "      <td>1</td>\n",
       "      <td>92.59</td>\n",
       "      <td>92.08</td>\n",
       "      <td>37.58</td>\n",
       "      <td>92.59</td>\n",
       "      <td>3266.88</td>\n",
       "      <td>378.99</td>\n",
       "    </tr>\n",
       "    <tr>\n",
       "      <td>1</td>\n",
       "      <td>2</td>\n",
       "      <td>68.77</td>\n",
       "      <td>68.77</td>\n",
       "      <td>0.89</td>\n",
       "      <td>68.77</td>\n",
       "      <td>2353.01</td>\n",
       "      <td>475.70</td>\n",
       "    </tr>\n",
       "    <tr>\n",
       "      <td>2</td>\n",
       "      <td>3</td>\n",
       "      <td>95.09</td>\n",
       "      <td>94.75</td>\n",
       "      <td>39.96</td>\n",
       "      <td>95.09</td>\n",
       "      <td>2476.40</td>\n",
       "      <td>336.88</td>\n",
       "    </tr>\n",
       "  </tbody>\n",
       "</table>\n",
       "</div>"
      ],
      "text/plain": [
       "   Регион добычи  Средние реальные запасы сырья, тыс. барр.  \\\n",
       "0              1                                      92.59   \n",
       "1              2                                      68.77   \n",
       "2              3                                      95.09   \n",
       "\n",
       "   Средние предсказанные запасы сырья,тыс. барр.   RMSE  \\\n",
       "0                                          92.08  37.58   \n",
       "1                                          68.77   0.89   \n",
       "2                                          94.75  39.96   \n",
       "\n",
       "   Разница среднего запаса региона и безубыточного запаса, тыс. барр.  \\\n",
       "0                                              92.59                    \n",
       "1                                              68.77                    \n",
       "2                                              95.09                    \n",
       "\n",
       "   Реальная прибыль, млн. руб.  Средняя прибыль после bootstrap, млн. руб.  \n",
       "0                      3266.88                                      378.99  \n",
       "1                      2353.01                                      475.70  \n",
       "2                      2476.40                                      336.88  "
      ]
     },
     "execution_count": 21,
     "metadata": {},
     "output_type": "execute_result"
    }
   ],
   "source": [
    "region_data['Средняя прибыль после bootstrap, млн. руб.'] = pd.Series(\n",
    "    [profit_reg_mean_1, profit_reg_mean_2, profit_reg_mean_3]).astype('float').round(2)\n",
    "region_data"
   ]
  },
  {
   "cell_type": "markdown",
   "metadata": {},
   "source": [
    "#### Добавим в таблицу 95 процентный доверительный интервал: "
   ]
  },
  {
   "cell_type": "code",
   "execution_count": 22,
   "metadata": {},
   "outputs": [
    {
     "data": {
      "text/html": [
       "<div>\n",
       "<style scoped>\n",
       "    .dataframe tbody tr th:only-of-type {\n",
       "        vertical-align: middle;\n",
       "    }\n",
       "\n",
       "    .dataframe tbody tr th {\n",
       "        vertical-align: top;\n",
       "    }\n",
       "\n",
       "    .dataframe thead th {\n",
       "        text-align: right;\n",
       "    }\n",
       "</style>\n",
       "<table border=\"1\" class=\"dataframe\">\n",
       "  <thead>\n",
       "    <tr style=\"text-align: right;\">\n",
       "      <th></th>\n",
       "      <th>Регион добычи</th>\n",
       "      <th>Средние реальные запасы сырья, тыс. барр.</th>\n",
       "      <th>Средние предсказанные запасы сырья,тыс. барр.</th>\n",
       "      <th>RMSE</th>\n",
       "      <th>Разница среднего запаса региона и безубыточного запаса, тыс. барр.</th>\n",
       "      <th>Реальная прибыль, млн. руб.</th>\n",
       "      <th>Средняя прибыль после bootstrap, млн. руб.</th>\n",
       "      <th>95% дов. инт. от: , млн. руб.</th>\n",
       "      <th>95% дов. инт. до: , млн. руб.</th>\n",
       "    </tr>\n",
       "  </thead>\n",
       "  <tbody>\n",
       "    <tr>\n",
       "      <td>0</td>\n",
       "      <td>1</td>\n",
       "      <td>92.59</td>\n",
       "      <td>92.08</td>\n",
       "      <td>37.58</td>\n",
       "      <td>92.59</td>\n",
       "      <td>3266.88</td>\n",
       "      <td>378.99</td>\n",
       "      <td>-119.10</td>\n",
       "      <td>910.64</td>\n",
       "    </tr>\n",
       "    <tr>\n",
       "      <td>1</td>\n",
       "      <td>2</td>\n",
       "      <td>68.77</td>\n",
       "      <td>68.77</td>\n",
       "      <td>0.89</td>\n",
       "      <td>68.77</td>\n",
       "      <td>2353.01</td>\n",
       "      <td>475.70</td>\n",
       "      <td>71.02</td>\n",
       "      <td>890.76</td>\n",
       "    </tr>\n",
       "    <tr>\n",
       "      <td>2</td>\n",
       "      <td>3</td>\n",
       "      <td>95.09</td>\n",
       "      <td>94.75</td>\n",
       "      <td>39.96</td>\n",
       "      <td>95.09</td>\n",
       "      <td>2476.40</td>\n",
       "      <td>336.88</td>\n",
       "      <td>-178.68</td>\n",
       "      <td>845.00</td>\n",
       "    </tr>\n",
       "  </tbody>\n",
       "</table>\n",
       "</div>"
      ],
      "text/plain": [
       "   Регион добычи  Средние реальные запасы сырья, тыс. барр.  \\\n",
       "0              1                                      92.59   \n",
       "1              2                                      68.77   \n",
       "2              3                                      95.09   \n",
       "\n",
       "   Средние предсказанные запасы сырья,тыс. барр.   RMSE  \\\n",
       "0                                          92.08  37.58   \n",
       "1                                          68.77   0.89   \n",
       "2                                          94.75  39.96   \n",
       "\n",
       "   Разница среднего запаса региона и безубыточного запаса, тыс. барр.  \\\n",
       "0                                              92.59                    \n",
       "1                                              68.77                    \n",
       "2                                              95.09                    \n",
       "\n",
       "   Реальная прибыль, млн. руб.  Средняя прибыль после bootstrap, млн. руб.  \\\n",
       "0                      3266.88                                      378.99   \n",
       "1                      2353.01                                      475.70   \n",
       "2                      2476.40                                      336.88   \n",
       "\n",
       "   95% дов. инт. от: , млн. руб.  95% дов. инт. до: , млн. руб.  \n",
       "0                        -119.10                         910.64  \n",
       "1                          71.02                         890.76  \n",
       "2                        -178.68                         845.00  "
      ]
     },
     "execution_count": 22,
     "metadata": {},
     "output_type": "execute_result"
    }
   ],
   "source": [
    "region_data['95% дов. инт. от: , млн. руб.'] = pd.Series(\n",
    "    [lower_1, lower_2, lower_3]).astype('float').round(2)\n",
    "\n",
    "region_data['95% дов. инт. до: , млн. руб.'] = pd.Series(\n",
    "    [upper_1, upper_2, upper_3]).astype('float').round(2)\n",
    "region_data\n",
    "                  "
   ]
  },
  {
   "cell_type": "markdown",
   "metadata": {},
   "source": [
    "#### Добавим в таблицу риск убытков для каждого региона: "
   ]
  },
  {
   "cell_type": "code",
   "execution_count": 23,
   "metadata": {
    "scrolled": false
   },
   "outputs": [
    {
     "data": {
      "text/html": [
       "<div>\n",
       "<style scoped>\n",
       "    .dataframe tbody tr th:only-of-type {\n",
       "        vertical-align: middle;\n",
       "    }\n",
       "\n",
       "    .dataframe tbody tr th {\n",
       "        vertical-align: top;\n",
       "    }\n",
       "\n",
       "    .dataframe thead th {\n",
       "        text-align: right;\n",
       "    }\n",
       "</style>\n",
       "<table border=\"1\" class=\"dataframe\">\n",
       "  <thead>\n",
       "    <tr style=\"text-align: right;\">\n",
       "      <th></th>\n",
       "      <th>Регион добычи</th>\n",
       "      <th>Средние реальные запасы сырья, тыс. барр.</th>\n",
       "      <th>Средние предсказанные запасы сырья,тыс. барр.</th>\n",
       "      <th>RMSE</th>\n",
       "      <th>Разница среднего запаса региона и безубыточного запаса, тыс. барр.</th>\n",
       "      <th>Реальная прибыль, млн. руб.</th>\n",
       "      <th>Средняя прибыль после bootstrap, млн. руб.</th>\n",
       "      <th>95% дов. инт. от: , млн. руб.</th>\n",
       "      <th>95% дов. инт. до: , млн. руб.</th>\n",
       "      <th>Риск убытков, %</th>\n",
       "    </tr>\n",
       "  </thead>\n",
       "  <tbody>\n",
       "    <tr>\n",
       "      <td>0</td>\n",
       "      <td>1</td>\n",
       "      <td>92.59</td>\n",
       "      <td>92.08</td>\n",
       "      <td>37.58</td>\n",
       "      <td>92.59</td>\n",
       "      <td>3266.88</td>\n",
       "      <td>378.99</td>\n",
       "      <td>-119.10</td>\n",
       "      <td>910.64</td>\n",
       "      <td>7.8</td>\n",
       "    </tr>\n",
       "    <tr>\n",
       "      <td>1</td>\n",
       "      <td>2</td>\n",
       "      <td>68.77</td>\n",
       "      <td>68.77</td>\n",
       "      <td>0.89</td>\n",
       "      <td>68.77</td>\n",
       "      <td>2353.01</td>\n",
       "      <td>475.70</td>\n",
       "      <td>71.02</td>\n",
       "      <td>890.76</td>\n",
       "      <td>1.0</td>\n",
       "    </tr>\n",
       "    <tr>\n",
       "      <td>2</td>\n",
       "      <td>3</td>\n",
       "      <td>95.09</td>\n",
       "      <td>94.75</td>\n",
       "      <td>39.96</td>\n",
       "      <td>95.09</td>\n",
       "      <td>2476.40</td>\n",
       "      <td>336.88</td>\n",
       "      <td>-178.68</td>\n",
       "      <td>845.00</td>\n",
       "      <td>9.2</td>\n",
       "    </tr>\n",
       "  </tbody>\n",
       "</table>\n",
       "</div>"
      ],
      "text/plain": [
       "   Регион добычи  Средние реальные запасы сырья, тыс. барр.  \\\n",
       "0              1                                      92.59   \n",
       "1              2                                      68.77   \n",
       "2              3                                      95.09   \n",
       "\n",
       "   Средние предсказанные запасы сырья,тыс. барр.   RMSE  \\\n",
       "0                                          92.08  37.58   \n",
       "1                                          68.77   0.89   \n",
       "2                                          94.75  39.96   \n",
       "\n",
       "   Разница среднего запаса региона и безубыточного запаса, тыс. барр.  \\\n",
       "0                                              92.59                    \n",
       "1                                              68.77                    \n",
       "2                                              95.09                    \n",
       "\n",
       "   Реальная прибыль, млн. руб.  Средняя прибыль после bootstrap, млн. руб.  \\\n",
       "0                      3266.88                                      378.99   \n",
       "1                      2353.01                                      475.70   \n",
       "2                      2476.40                                      336.88   \n",
       "\n",
       "   95% дов. инт. от: , млн. руб.  95% дов. инт. до: , млн. руб.  \\\n",
       "0                        -119.10                         910.64   \n",
       "1                          71.02                         890.76   \n",
       "2                        -178.68                         845.00   \n",
       "\n",
       "   Риск убытков, %  \n",
       "0              7.8  \n",
       "1              1.0  \n",
       "2              9.2  "
      ]
     },
     "execution_count": 23,
     "metadata": {},
     "output_type": "execute_result"
    }
   ],
   "source": [
    "region_data['Риск убытков, %'] = pd.Series(\n",
    "    [risk_1, risk_2, risk_3])\n",
    "region_data"
   ]
  },
  {
   "cell_type": "markdown",
   "metadata": {},
   "source": [
    "## Вывод: \n",
    "Мы провели рассчеты прибыли с помощью техники бутстрап, рассчитали среднюю предсказанную и реальную прибыль, рассчитали 95% доверительный интервал. Риски получились минимальными во втором регионе(1 процента), риски в 1 и 3 регионах находятся на уровне 8 и 9 процентов соответственно. Исходя из полученных данных наиболее прибыльным регионом является регион №2 у него наибольшая средняя предсказанная прибыль, наибольший доверительный интервал, а также минимальные риски убытков.  \n",
    "\n"
   ]
  },
  {
   "cell_type": "code",
   "execution_count": null,
   "metadata": {},
   "outputs": [],
   "source": []
  }
 ],
 "metadata": {
  "hide_input": false,
  "kernelspec": {
   "display_name": "Python 3 (ipykernel)",
   "language": "python",
   "name": "python3"
  },
  "language_info": {
   "codemirror_mode": {
    "name": "ipython",
    "version": 3
   },
   "file_extension": ".py",
   "mimetype": "text/x-python",
   "name": "python",
   "nbconvert_exporter": "python",
   "pygments_lexer": "ipython3",
   "version": "3.8.5"
  },
  "toc": {
   "base_numbering": 1,
   "nav_menu": {},
   "number_sections": true,
   "sideBar": true,
   "skip_h1_title": true,
   "title_cell": "Содержание",
   "title_sidebar": "Contents",
   "toc_cell": true,
   "toc_position": {},
   "toc_section_display": true,
   "toc_window_display": true
  },
  "varInspector": {
   "cols": {
    "lenName": 16,
    "lenType": 16,
    "lenVar": 40
   },
   "kernels_config": {
    "python": {
     "delete_cmd_postfix": "",
     "delete_cmd_prefix": "del ",
     "library": "var_list.py",
     "varRefreshCmd": "print(var_dic_list())"
    },
    "r": {
     "delete_cmd_postfix": ") ",
     "delete_cmd_prefix": "rm(",
     "library": "var_list.r",
     "varRefreshCmd": "cat(var_dic_list()) "
    }
   },
   "types_to_exclude": [
    "module",
    "function",
    "builtin_function_or_method",
    "instance",
    "_Feature"
   ],
   "window_display": false
  }
 },
 "nbformat": 4,
 "nbformat_minor": 2
}
