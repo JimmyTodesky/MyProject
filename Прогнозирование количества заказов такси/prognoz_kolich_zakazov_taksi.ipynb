{
 "cells": [
  {
   "cell_type": "markdown",
   "metadata": {
    "toc": true
   },
   "source": [
    "<h1>Содержание<span class=\"tocSkip\"></span></h1>\n",
    "<div class=\"toc\"><ul class=\"toc-item\"><li><span><a href=\"#Подготовка\" data-toc-modified-id=\"Подготовка-1\"><span class=\"toc-item-num\">1&nbsp;&nbsp;</span>Подготовка</a></span><ul class=\"toc-item\"><li><span><a href=\"#Подготовка-функционала-к-работе\" data-toc-modified-id=\"Подготовка-функционала-к-работе-1.1\"><span class=\"toc-item-num\">1.1&nbsp;&nbsp;</span>Подготовка функционала к работе</a></span></li><li><span><a href=\"#Загрузка-и-подготовка-исходных-данных\" data-toc-modified-id=\"Загрузка-и-подготовка-исходных-данных-1.2\"><span class=\"toc-item-num\">1.2&nbsp;&nbsp;</span>Загрузка и подготовка исходных данных</a></span><ul class=\"toc-item\"><li><span><a href=\"#ВЫВОД\" data-toc-modified-id=\"ВЫВОД-1.2.1\"><span class=\"toc-item-num\">1.2.1&nbsp;&nbsp;</span>ВЫВОД</a></span></li></ul></li><li><span><a href=\"#Предобработка-данных\" data-toc-modified-id=\"Предобработка-данных-1.3\"><span class=\"toc-item-num\">1.3&nbsp;&nbsp;</span>Предобработка данных</a></span><ul class=\"toc-item\"><li><span><a href=\"#Анализ-аномалий\" data-toc-modified-id=\"Анализ-аномалий-1.3.1\"><span class=\"toc-item-num\">1.3.1&nbsp;&nbsp;</span>Анализ аномалий</a></span><ul class=\"toc-item\"><li><span><a href=\"#Вывод:\" data-toc-modified-id=\"Вывод:-1.3.1.1\"><span class=\"toc-item-num\">1.3.1.1&nbsp;&nbsp;</span>Вывод:</a></span></li></ul></li><li><span><a href=\"#Анализ-пропусков\" data-toc-modified-id=\"Анализ-пропусков-1.3.2\"><span class=\"toc-item-num\">1.3.2&nbsp;&nbsp;</span>Анализ пропусков</a></span><ul class=\"toc-item\"><li><span><a href=\"#Вывод\" data-toc-modified-id=\"Вывод-1.3.2.1\"><span class=\"toc-item-num\">1.3.2.1&nbsp;&nbsp;</span>Вывод</a></span></li></ul></li><li><span><a href=\"#Проверка-дубликатов\" data-toc-modified-id=\"Проверка-дубликатов-1.3.3\"><span class=\"toc-item-num\">1.3.3&nbsp;&nbsp;</span>Проверка дубликатов</a></span><ul class=\"toc-item\"><li><span><a href=\"#Вывод:\" data-toc-modified-id=\"Вывод:-1.3.3.1\"><span class=\"toc-item-num\">1.3.3.1&nbsp;&nbsp;</span>Вывод:</a></span></li></ul></li></ul></li><li><span><a href=\"#Вывод:\" data-toc-modified-id=\"Вывод:-1.4\"><span class=\"toc-item-num\">1.4&nbsp;&nbsp;</span>Вывод:</a></span></li></ul></li><li><span><a href=\"#Анализ\" data-toc-modified-id=\"Анализ-2\"><span class=\"toc-item-num\">2&nbsp;&nbsp;</span>Анализ</a></span><ul class=\"toc-item\"><li><span><a href=\"#Визуальная-оценка-данных\" data-toc-modified-id=\"Визуальная-оценка-данных-2.1\"><span class=\"toc-item-num\">2.1&nbsp;&nbsp;</span>Визуальная оценка данных</a></span><ul class=\"toc-item\"><li><span><a href=\"#Вывод:\" data-toc-modified-id=\"Вывод:-2.1.1\"><span class=\"toc-item-num\">2.1.1&nbsp;&nbsp;</span>Вывод:</a></span></li></ul></li><li><span><a href=\"#Скользящее-среднее\" data-toc-modified-id=\"Скользящее-среднее-2.2\"><span class=\"toc-item-num\">2.2&nbsp;&nbsp;</span>Скользящее среднее</a></span><ul class=\"toc-item\"><li><span><a href=\"#Вывод:\" data-toc-modified-id=\"Вывод:-2.2.1\"><span class=\"toc-item-num\">2.2.1&nbsp;&nbsp;</span>Вывод:</a></span></li></ul></li><li><span><a href=\"#Тренд-и-сезонность\" data-toc-modified-id=\"Тренд-и-сезонность-2.3\"><span class=\"toc-item-num\">2.3&nbsp;&nbsp;</span>Тренд и сезонность</a></span><ul class=\"toc-item\"><li><span><a href=\"#Вывод:\" data-toc-modified-id=\"Вывод:-2.3.1\"><span class=\"toc-item-num\">2.3.1&nbsp;&nbsp;</span>Вывод:</a></span></li></ul></li><li><span><a href=\"#Стационарность\" data-toc-modified-id=\"Стационарность-2.4\"><span class=\"toc-item-num\">2.4&nbsp;&nbsp;</span>Стационарность</a></span><ul class=\"toc-item\"><li><span><a href=\"#Вывод:\" data-toc-modified-id=\"Вывод:-2.4.1\"><span class=\"toc-item-num\">2.4.1&nbsp;&nbsp;</span>Вывод:</a></span></li></ul></li><li><span><a href=\"#Общий-вывод:\" data-toc-modified-id=\"Общий-вывод:-2.5\"><span class=\"toc-item-num\">2.5&nbsp;&nbsp;</span>Общий вывод:</a></span></li></ul></li><li><span><a href=\"#Обучение\" data-toc-modified-id=\"Обучение-3\"><span class=\"toc-item-num\">3&nbsp;&nbsp;</span>Обучение</a></span><ul class=\"toc-item\"><li><span><a href=\"#Создание-признаков\" data-toc-modified-id=\"Создание-признаков-3.1\"><span class=\"toc-item-num\">3.1&nbsp;&nbsp;</span>Создание признаков</a></span><ul class=\"toc-item\"><li><span><a href=\"#Вывод-:\" data-toc-modified-id=\"Вывод-:-3.1.1\"><span class=\"toc-item-num\">3.1.1&nbsp;&nbsp;</span>Вывод :</a></span></li><li><span><a href=\"#Датафрейм-для-сравнения-результатов-моделей:\" data-toc-modified-id=\"Датафрейм-для-сравнения-результатов-моделей:-3.1.2\"><span class=\"toc-item-num\">3.1.2&nbsp;&nbsp;</span>Датафрейм для сравнения результатов моделей:</a></span></li></ul></li><li><span><a href=\"#Константная-модель\" data-toc-modified-id=\"Константная-модель-3.2\"><span class=\"toc-item-num\">3.2&nbsp;&nbsp;</span>Константная модель</a></span><ul class=\"toc-item\"><li><span><a href=\"#Вывод:\" data-toc-modified-id=\"Вывод:-3.2.1\"><span class=\"toc-item-num\">3.2.1&nbsp;&nbsp;</span>Вывод:</a></span></li></ul></li><li><span><a href=\"#Линейнная-регрессия¶\" data-toc-modified-id=\"Линейнная-регрессия¶-3.3\"><span class=\"toc-item-num\">3.3&nbsp;&nbsp;</span>Линейнная регрессия¶</a></span><ul class=\"toc-item\"><li><span><a href=\"#Вывод:\" data-toc-modified-id=\"Вывод:-3.3.1\"><span class=\"toc-item-num\">3.3.1&nbsp;&nbsp;</span>Вывод:</a></span></li></ul></li><li><span><a href=\"#Случайный-лес\" data-toc-modified-id=\"Случайный-лес-3.4\"><span class=\"toc-item-num\">3.4&nbsp;&nbsp;</span>Случайный лес</a></span><ul class=\"toc-item\"><li><span><a href=\"#Вывод\" data-toc-modified-id=\"Вывод-3.4.1\"><span class=\"toc-item-num\">3.4.1&nbsp;&nbsp;</span>Вывод</a></span></li></ul></li><li><span><a href=\"#Градиентный-бустинг-(LightGBM)\" data-toc-modified-id=\"Градиентный-бустинг-(LightGBM)-3.5\"><span class=\"toc-item-num\">3.5&nbsp;&nbsp;</span>Градиентный бустинг (LightGBM)</a></span><ul class=\"toc-item\"><li><span><a href=\"#Вывод:\" data-toc-modified-id=\"Вывод:-3.5.1\"><span class=\"toc-item-num\">3.5.1&nbsp;&nbsp;</span>Вывод:</a></span></li></ul></li><li><span><a href=\"#Градиентный-бустинг-(CatBoost):\" data-toc-modified-id=\"Градиентный-бустинг-(CatBoost):-3.6\"><span class=\"toc-item-num\">3.6&nbsp;&nbsp;</span>Градиентный бустинг (CatBoost):</a></span><ul class=\"toc-item\"><li><span><a href=\"#Вывод\" data-toc-modified-id=\"Вывод-3.6.1\"><span class=\"toc-item-num\">3.6.1&nbsp;&nbsp;</span>Вывод</a></span></li></ul></li><li><span><a href=\"#Вывод:\" data-toc-modified-id=\"Вывод:-3.7\"><span class=\"toc-item-num\">3.7&nbsp;&nbsp;</span>Вывод:</a></span></li></ul></li><li><span><a href=\"#Тестирование(Анализ-работы-моделей)\" data-toc-modified-id=\"Тестирование(Анализ-работы-моделей)-4\"><span class=\"toc-item-num\">4&nbsp;&nbsp;</span>Тестирование(Анализ работы моделей)</a></span></li><li><span><a href=\"#Вывод:\" data-toc-modified-id=\"Вывод:-5\"><span class=\"toc-item-num\">5&nbsp;&nbsp;</span>Вывод:</a></span></li><li><span><a href=\"#Чек-лист-проверки\" data-toc-modified-id=\"Чек-лист-проверки-6\"><span class=\"toc-item-num\">6&nbsp;&nbsp;</span>Чек-лист проверки</a></span></li></ul></div>"
   ]
  },
  {
   "cell_type": "markdown",
   "metadata": {},
   "source": [
    "#  Прогнозирование заказов такси"
   ]
  },
  {
   "cell_type": "markdown",
   "metadata": {},
   "source": [
    "## Подготовка\n",
    "\n",
    "### Подготовка функционала к работе\n",
    "\n",
    "Обновим бибилиотеку seaborn до последней версии: "
   ]
  },
  {
   "cell_type": "code",
   "execution_count": 1,
   "metadata": {},
   "outputs": [],
   "source": [
    "!pip install seaborn --user --upgrade --quiet"
   ]
  },
  {
   "cell_type": "markdown",
   "metadata": {},
   "source": [
    "Сначала подключим все модули и библиотеки, которые будут нам необходимы для выполнения проекта: "
   ]
  },
  {
   "cell_type": "code",
   "execution_count": 1,
   "metadata": {},
   "outputs": [],
   "source": [
    "# Импортируем функционал из библиотек pandas, numpy и scipy\n",
    "import pandas as pd\n",
    "import numpy as np\n",
    "from scipy.stats import randint as sp_randint\n",
    "from statsmodels.tsa.seasonal import seasonal_decompose\n",
    "\n",
    "# Импортируем функционал для машинного обучения\n",
    "from lightgbm import LGBMRegressor\n",
    "from catboost import CatBoostRegressor\n",
    "from sklearn.tree import DecisionTreeRegressor\n",
    "from sklearn.ensemble import RandomForestRegressor\n",
    "from sklearn.linear_model import LinearRegression\n",
    "\n",
    "from sklearn.model_selection import cross_val_score\n",
    "from sklearn.model_selection import RepeatedStratifiedKFold\n",
    "from sklearn.model_selection import train_test_split\n",
    "from sklearn.model_selection import GridSearchCV\n",
    "from sklearn.model_selection import RandomizedSearchCV\n",
    "from sklearn.model_selection import TimeSeriesSplit\n",
    "\n",
    "from sklearn.preprocessing import OrdinalEncoder\n",
    "from sklearn.preprocessing import StandardScaler\n",
    "\n",
    "from sklearn.metrics import mean_squared_error\n",
    "\n",
    "# Импортируем функционал для построения и настройки графиков\n",
    "import matplotlib.pyplot as plt \n",
    "import matplotlib.ticker as tck\n",
    "import seaborn as sns\n",
    "\n",
    "# Импортируем прочий функционал\n",
    "import timeit\n",
    "from IPython.core.display import HTML\n",
    "from IPython.core.interactiveshell import InteractiveShell\n",
    "\n",
    "# Задаем опцию отображения результатов расчетов в ячейках\n",
    "pd.options.mode.chained_assignment = None\n",
    "\n",
    "# Задаем формат отображения чисел с плавающей точкой в pandas\n",
    "pd.set_option('display.float_format', '{:,.2f}'.format) \n",
    "\n",
    "# Задаем стиль графиков seaborn\n",
    "sns.set_style('darkgrid')\n",
    "\n",
    "# Отключаем свертывание столбцов и строк при отображении\n",
    "pd.set_option('display.max_rows', None)\n",
    "pd.set_option('display.max_columns', None)\n",
    "\n",
    "# Отключаем вывод предупреждений\n",
    "import warnings\n",
    "warnings.filterwarnings(\"ignore\")"
   ]
  },
  {
   "cell_type": "markdown",
   "metadata": {},
   "source": [
    "Введем функции для построения диаграммы размаха, а также нескольких графиков на одном: "
   ]
  },
  {
   "cell_type": "code",
   "execution_count": 2,
   "metadata": {},
   "outputs": [],
   "source": [
    "# Функция для удобного построения диграммы размаха\n",
    "def boxplot(field, x_min, x_max, tick):\n",
    "    fig, ax = plt.subplots()\n",
    "    plt.xticks(np.arange(x_min, x_max, tick),fontsize=8,rotation=90)   \n",
    "    fig = plt.gcf()\n",
    "    fig.set_size_inches(17, 2)\n",
    "    ax.xaxis.grid(True)\n",
    "    ax.yaxis.grid(True)\n",
    "    ax.set(xlim = [x_min, x_max])\n",
    "    ax=sns.boxplot(x=field, data=data, width=.3)\n",
    "    plt.show()\n",
    "    \n",
    " # Функция для построения гистограмм\n",
    "\n",
    "def show_plot(\n",
    "    df,\n",
    "    lable,\n",
    "    name1,\n",
    "    name2,\n",
    "    size1,\n",
    "    size2,\n",
    "    y_min,\n",
    "    y_max,\n",
    "    tick\n",
    "):\n",
    "\n",
    "    sns.set(\n",
    "        context='notebook',\n",
    "        style='darkgrid',\n",
    "        palette='deep',\n",
    "        font='sans-serif',\n",
    "        font_scale=1,\n",
    "        color_codes=True,\n",
    "        rc={'figure.figsize':(size1,size2)}\n",
    "    )\n",
    "    \n",
    "    \n",
    "    \n",
    "    boxplot = df.plot()\n",
    "\n",
    "    \n",
    "    \n",
    "    boxplot.axes.set_title(\n",
    "        lable, \n",
    "        fontsize=16\n",
    "    )\n",
    "\n",
    "    boxplot.set_xlabel(\n",
    "        name1,\n",
    "        fontsize=14\n",
    "    )\n",
    "\n",
    "    boxplot.set_ylabel(\n",
    "        name2,\n",
    "        fontsize=14\n",
    "    )\n",
    "    plt.yticks(\n",
    "        np.arange(\n",
    "            y_min,\n",
    "            y_max,\n",
    "            tick\n",
    "        ),\n",
    "        fontsize=8,\n",
    "        rotation=90\n",
    "    )\n",
    "   "
   ]
  },
  {
   "cell_type": "markdown",
   "metadata": {},
   "source": [
    "### Загрузка и подготовка исходных данных\n",
    "\n",
    "Загрузим наш датасет, при этом в команде выгрузки введем команду для парсинга дат, сразу сделаем этот столбец индексом, после этого отсортируем данные по индексу и сохраним данные с индексом в порядке возрастания: "
   ]
  },
  {
   "cell_type": "code",
   "execution_count": 3,
   "metadata": {},
   "outputs": [
    {
     "name": "stdout",
     "output_type": "stream",
     "text": [
      "<class 'pandas.core.frame.DataFrame'>\n",
      "DatetimeIndex: 4416 entries, 2018-03-01 00:00:00 to 2018-08-31 23:00:00\n",
      "Freq: H\n",
      "Data columns (total 1 columns):\n",
      "num_orders    4416 non-null int64\n",
      "dtypes: int64(1)\n",
      "memory usage: 69.0 KB\n"
     ]
    }
   ],
   "source": [
    "# загрузка исходных данных с поиском дат в 1 столбце(индекс[0]), назнеачение столбца с датами в индекс. \n",
    "data = pd.read_csv(\n",
    "    '/datasets/taxi.csv',\n",
    "    index_col=[0],\n",
    "    parse_dates=[0]\n",
    ")\n",
    "# Сортируем данные по индексу в порядке возрастания\n",
    "data = data.sort_index()\n",
    "\n",
    "# Проводим ресемплинг данных до 1 часа\n",
    "data = data.resample('1H').sum()\n",
    "\n",
    "# Выводем общую информацию о данных\n",
    "data.info()"
   ]
  },
  {
   "cell_type": "markdown",
   "metadata": {},
   "source": [
    "Как видно из общей информации о датасете, пропусков нет - заполнение не требуется. Взглянем визуально на данные, а также посмотрим их рапределние на блокспоте: "
   ]
  },
  {
   "cell_type": "code",
   "execution_count": 4,
   "metadata": {
    "scrolled": true
   },
   "outputs": [
    {
     "data": {
      "text/html": [
       "<div>\n",
       "<style scoped>\n",
       "    .dataframe tbody tr th:only-of-type {\n",
       "        vertical-align: middle;\n",
       "    }\n",
       "\n",
       "    .dataframe tbody tr th {\n",
       "        vertical-align: top;\n",
       "    }\n",
       "\n",
       "    .dataframe thead th {\n",
       "        text-align: right;\n",
       "    }\n",
       "</style>\n",
       "<table border=\"1\" class=\"dataframe\">\n",
       "  <thead>\n",
       "    <tr style=\"text-align: right;\">\n",
       "      <th></th>\n",
       "      <th>num_orders</th>\n",
       "    </tr>\n",
       "    <tr>\n",
       "      <th>datetime</th>\n",
       "      <th></th>\n",
       "    </tr>\n",
       "  </thead>\n",
       "  <tbody>\n",
       "    <tr>\n",
       "      <td>2018-03-01 00:00:00</td>\n",
       "      <td>124</td>\n",
       "    </tr>\n",
       "    <tr>\n",
       "      <td>2018-03-01 01:00:00</td>\n",
       "      <td>85</td>\n",
       "    </tr>\n",
       "    <tr>\n",
       "      <td>2018-03-01 02:00:00</td>\n",
       "      <td>71</td>\n",
       "    </tr>\n",
       "    <tr>\n",
       "      <td>2018-03-01 03:00:00</td>\n",
       "      <td>66</td>\n",
       "    </tr>\n",
       "    <tr>\n",
       "      <td>2018-03-01 04:00:00</td>\n",
       "      <td>43</td>\n",
       "    </tr>\n",
       "  </tbody>\n",
       "</table>\n",
       "</div>"
      ],
      "text/plain": [
       "                     num_orders\n",
       "datetime                       \n",
       "2018-03-01 00:00:00         124\n",
       "2018-03-01 01:00:00          85\n",
       "2018-03-01 02:00:00          71\n",
       "2018-03-01 03:00:00          66\n",
       "2018-03-01 04:00:00          43"
      ]
     },
     "execution_count": 4,
     "metadata": {},
     "output_type": "execute_result"
    }
   ],
   "source": [
    "data.head()\n"
   ]
  },
  {
   "cell_type": "markdown",
   "metadata": {},
   "source": [
    "#### ВЫВОД \n",
    "Как мы видим, данные отсортированы по индексу, индекс имеет формат DateTime, частота выставлена часовая.\n",
    "\n",
    "### Предобработка данных\n",
    "\n",
    "#### Анализ аномалий"
   ]
  },
  {
   "cell_type": "code",
   "execution_count": 5,
   "metadata": {
    "scrolled": true
   },
   "outputs": [
    {
     "data": {
      "image/png": "[encoded data removed]",
      "text/plain": [
       "<Figure size 1224x144 with 1 Axes>"
      ]
     },
     "metadata": {},
     "output_type": "display_data"
    }
   ],
   "source": [
    "boxplot(\n",
    "    data['num_orders'],\n",
    "    -10,\n",
    "    400,\n",
    "    50\n",
    ")"
   ]
  },
  {
   "cell_type": "code",
   "execution_count": 6,
   "metadata": {},
   "outputs": [
    {
     "data": {
      "text/html": [
       "<div>\n",
       "<style scoped>\n",
       "    .dataframe tbody tr th:only-of-type {\n",
       "        vertical-align: middle;\n",
       "    }\n",
       "\n",
       "    .dataframe tbody tr th {\n",
       "        vertical-align: top;\n",
       "    }\n",
       "\n",
       "    .dataframe thead th {\n",
       "        text-align: right;\n",
       "    }\n",
       "</style>\n",
       "<table border=\"1\" class=\"dataframe\">\n",
       "  <thead>\n",
       "    <tr style=\"text-align: right;\">\n",
       "      <th></th>\n",
       "      <th>num_orders</th>\n",
       "    </tr>\n",
       "  </thead>\n",
       "  <tbody>\n",
       "    <tr>\n",
       "      <td>min</td>\n",
       "      <td>0.00</td>\n",
       "    </tr>\n",
       "    <tr>\n",
       "      <td>mean</td>\n",
       "      <td>84.42</td>\n",
       "    </tr>\n",
       "    <tr>\n",
       "      <td>max</td>\n",
       "      <td>462.00</td>\n",
       "    </tr>\n",
       "  </tbody>\n",
       "</table>\n",
       "</div>"
      ],
      "text/plain": [
       "      num_orders\n",
       "min         0.00\n",
       "mean       84.42\n",
       "max       462.00"
      ]
     },
     "execution_count": 6,
     "metadata": {},
     "output_type": "execute_result"
    }
   ],
   "source": [
    "data.describe().loc[['min','mean','max']][['num_orders']]"
   ]
  },
  {
   "cell_type": "markdown",
   "metadata": {},
   "source": [
    "Распределение близко к нормальному, имеется выбросы, но для пиковой нагрузки такси - это вполне нормально. \n",
    "\n",
    "##### Вывод: \n",
    "\n",
    "Аномалий нет. Как видно, минимум находится в нуле, отрицательных значений нет. Максимальное значение находится на уровне 462 вызова, что в пиковую нагрузку в пределах одного часа может вполне быть, например во время крупного праздника, фестиваля.\n",
    "\n",
    "#### Анализ пропусков"
   ]
  },
  {
   "cell_type": "code",
   "execution_count": 7,
   "metadata": {},
   "outputs": [
    {
     "name": "stdout",
     "output_type": "stream",
     "text": [
      "<class 'pandas.core.frame.DataFrame'>\n",
      "DatetimeIndex: 4416 entries, 2018-03-01 00:00:00 to 2018-08-31 23:00:00\n",
      "Freq: H\n",
      "Data columns (total 1 columns):\n",
      "num_orders    4416 non-null int64\n",
      "dtypes: int64(1)\n",
      "memory usage: 69.0 KB\n"
     ]
    }
   ],
   "source": [
    "data.info()"
   ]
  },
  {
   "cell_type": "markdown",
   "metadata": {},
   "source": [
    "##### Вывод\n",
    "\n",
    "Данные полные, пропусков нет - заполнять их соответственно не нужно. \n",
    "\n",
    "#### Проверка дубликатов\n",
    "\n",
    "В данном датасете нет необходимости производить проверку на наличие дубликатов, потому как повторяющиеся значения в значения столбца num_orders - являются органическими.\n",
    "\n",
    "##### Вывод: \n",
    "Дубликаты удалить не нужно\n",
    "\n",
    "### Вывод: \n",
    "\n",
    "Нами проведена загрузка и предобработка данных. Данные готовы к анализу, чем мы собственно и займемся в следубщем пункте"
   ]
  },
  {
   "cell_type": "markdown",
   "metadata": {},
   "source": [
    "## Анализ\n",
    "\n",
    "Пришло время провести анализ на основе полученных и обработанных нами данных, итак начнем: \n",
    "\n",
    "### Визуальная оценка данных \n",
    "\n",
    "Построим график наших данных для визуального взгляда на нихс помощью созданной нами в начале функции: "
   ]
  },
  {
   "cell_type": "code",
   "execution_count": 8,
   "metadata": {
    "scrolled": false
   },
   "outputs": [
    {
     "data": {
      "image/png": "[encoded data removed]",
      "text/plain": [
       "<Figure size 1080x720 with 1 Axes>"
      ]
     },
     "metadata": {},
     "output_type": "display_data"
    }
   ],
   "source": [
    "show_plot(\n",
    "    data,\n",
    "    'Количество заказов',\n",
    "    'Дата и время',\n",
    "    'Количество заказов',\n",
    "    15,\n",
    "    10,\n",
    "    0,\n",
    "    500,\n",
    "    50\n",
    ")"
   ]
  },
  {
   "cell_type": "markdown",
   "metadata": {},
   "source": [
    "#### Вывод: \n",
    "Как видно из приведенного выше графика, на первый взгляд имеется тренд к увеличению заказов к осени. Однако же оценить его затруднительно - нам необходимо для анализа добавить в данные новые признаки: "
   ]
  },
  {
   "cell_type": "markdown",
   "metadata": {},
   "source": [
    "### Скользящее среднее \n",
    "\n",
    "Создадим копию данных и добавим в наши данные столбец характерезующий скользящее среднее, для определения трендов и взглянем на визуальное представление данных: "
   ]
  },
  {
   "cell_type": "code",
   "execution_count": 9,
   "metadata": {
    "scrolled": false
   },
   "outputs": [
    {
     "data": {
      "image/png": "[encoded data removed]",
      "text/plain": [
       "<Figure size 1080x720 with 1 Axes>"
      ]
     },
     "metadata": {},
     "output_type": "display_data"
    }
   ],
   "source": [
    "data_copy = data.copy()\n",
    "data_copy['rolling_mean'] = data_copy.rolling(30).mean()\n",
    "\n",
    "show_plot(\n",
    "    data_copy,\n",
    "    'Количество заказов',\n",
    "    'Дата и время',\n",
    "    'Количество заказов',\n",
    "    15,\n",
    "    10,\n",
    "    0,\n",
    "    500,\n",
    "    50\n",
    ")"
   ]
  },
  {
   "cell_type": "markdown",
   "metadata": {},
   "source": [
    "#### Вывод: \n",
    "\n",
    "Изучив скользяещее средние на графике мы можем прийти к выводу, что у данных есть, как тренды, так и сезонность. Посмотрим на данные в этом разрезе с помощью средств библиотеки seasonal_decompose. \n",
    "\n",
    "\n",
    "\n",
    "\n",
    "### Тренд и сезонность\n",
    "\n",
    "Построим графики характеризующие тренд и сезонность: "
   ]
  },
  {
   "cell_type": "code",
   "execution_count": 15,
   "metadata": {},
   "outputs": [
    {
     "data": {
      "image/png": "[encoded data removed]",
      "text/plain": [
       "<Figure size 720x1080 with 3 Axes>"
      ]
     },
     "metadata": {},
     "output_type": "display_data"
    }
   ],
   "source": [
    "decomposed = seasonal_decompose(data_copy['num_orders'])\n",
    "\n",
    "plt.figure(figsize=(10, 15))\n",
    "plt.subplot(311)\n",
    "# Чтобы график корректно отобразился, указываем его\n",
    "# оси ax, равными plt.gca() (англ. get current axis,\n",
    "# получить текущие оси)\n",
    "decomposed.trend.plot(ax=plt.gca())\n",
    "plt.title('Trend')\n",
    "plt.subplot(312)\n",
    "decomposed.seasonal.plot(ax=plt.gca())\n",
    "plt.title('Seasonality')\n",
    "plt.subplot(313)\n",
    "decomposed.resid.plot(ax=plt.gca())\n",
    "plt.title('Residuals')\n",
    "plt.tight_layout()"
   ]
  },
  {
   "cell_type": "markdown",
   "metadata": {},
   "source": [
    "Из полученных графиков, можно сделать вывод лишь о тренде, как уже отмечалось ранее, он явно восходящий к осени. Определить сезонность на полученном графике в течении суток проблематично.\n",
    "\n",
    "Для оценки сезонности в течении суток, создадим датасет со значениями количества заказов за последний месяц лета - август и оценим данные только за два первых дня в этот переиод:"
   ]
  },
  {
   "cell_type": "code",
   "execution_count": 11,
   "metadata": {},
   "outputs": [
    {
     "data": {
      "image/png": "[encoded data removed]",
      "text/plain": [
       "<Figure size 1080x720 with 1 Axes>"
      ]
     },
     "metadata": {},
     "output_type": "display_data"
    }
   ],
   "source": [
    "# Возьмем временной учатсок за пару дней\n",
    "data_aug = data_copy['2018-08-01':'2018-08-2']\n",
    "\n",
    "# Сохраним сезонную составляющую в переменную\n",
    "decomposed = seasonal_decompose(data_aug)\n",
    "\n",
    "\n",
    "# Построим графи\n",
    "show_plot(\n",
    "    decomposed.seasonal,\n",
    "    'Количество заказов',\n",
    "    'Дата и время',\n",
    "    'Количество заказов',\n",
    "    15,\n",
    "    10,\n",
    "    -100,\n",
    "    100,\n",
    "    10\n",
    ")"
   ]
  },
  {
   "cell_type": "markdown",
   "metadata": {},
   "source": [
    "#### Вывод: \n",
    "\n",
    "На графике отчетливо видно, что в пределах суток сезонность четко прослеживается, утром, все едут на работу от 7 до 10 часов, вечером с с 17 до 18 с работы, с 20 до 21 едут на культурно досуговые мероприятия и максимальные ут с работы, либо же на какие-то досуговые мероприятия, а с 23 часов до 01, отмечается максимальный всплеск вызовов, потому как все возвращаются домой. \n",
    "\n",
    "Этот всплеск обусловлен также и тем фактом, что с 23.00 перестает ходить общественный транспорт и люди уехавшие куда-то на общественном транспорте вынуждены возвращаться на такси. "
   ]
  },
  {
   "cell_type": "code",
   "execution_count": 17,
   "metadata": {},
   "outputs": [
    {
     "data": {
      "image/png": "[encoded data removed]",
      "text/plain": [
       "<Figure size 1080x720 with 1 Axes>"
      ]
     },
     "metadata": {},
     "output_type": "display_data"
    }
   ],
   "source": [
    "decomposed = seasonal_decompose(data_copy['num_orders'])\n",
    "decomposed_slice = decomposed.seasonal['2018-08-01':'2018-08-2']\n",
    "show_plot(\n",
    "    decomposed_slice,\n",
    "    'Количество заказов',\n",
    "    'Дата и время',\n",
    "    'Количество заказов',\n",
    "    15,\n",
    "    10,\n",
    "    -100,\n",
    "    100,\n",
    "    10\n",
    ")"
   ]
  },
  {
   "cell_type": "markdown",
   "metadata": {},
   "source": [
    "### Стационарность\n",
    "\n",
    "Доя завершнения анализа, нам необходимо проверить стационарность временного ряда. Для этого нам необходимо найти разность  временного ряда и его стандартное отклонени -  если оно не меняется, то можно будет говорить о том, что имеющиеся у нас данные - стационарные: "
   ]
  },
  {
   "cell_type": "code",
   "execution_count": 13,
   "metadata": {},
   "outputs": [
    {
     "data": {
      "image/png": "[encoded data removed]",
      "text/plain": [
       "<Figure size 1080x720 with 1 Axes>"
      ]
     },
     "metadata": {},
     "output_type": "display_data"
    }
   ],
   "source": [
    "data_diff = pd.DataFrame(data_copy['num_orders'])\n",
    "data_diff -= data_diff.shift()\n",
    "data_diff['mean'] = data_diff['num_orders'].rolling(30).mean()\n",
    "data_diff['std'] = data_diff['num_orders'].rolling(30).std()\n",
    "\n",
    "show_plot(\n",
    "    data_diff,\n",
    "    'Количество заказов',\n",
    "    'Дата и время',\n",
    "    'Количество заказов',\n",
    "    15,\n",
    "    10,\n",
    "    -100,\n",
    "    100,\n",
    "    10\n",
    ")"
   ]
  },
  {
   "cell_type": "markdown",
   "metadata": {},
   "source": [
    "#### Вывод: \n",
    "\n",
    "На построенном графике отчетливо видно, что стандартное отклонение начинает возрастать на конечном этапе нашего графика, поэтому стоит отметить, что процесс не стационарный.\n",
    "\n",
    "### Общий вывод:\n",
    "\n",
    "- Наши данные подвержены восходящему тренду\n",
    "- В пределах суток данные имеют сезонность всплесков и просадок высовов такси. \n",
    "- Процесс не стационарен, потому как в конце периода наблюдается рост скользящего  "
   ]
  },
  {
   "cell_type": "markdown",
   "metadata": {},
   "source": [
    "## Обучение\n",
    "\n",
    "### Создание признаков\n",
    "\n",
    "Для качественного обучения и прогнозирования создадим дополнительные признаки в наших данных. Напишем функцию генерации признаков: "
   ]
  },
  {
   "cell_type": "code",
   "execution_count": 14,
   "metadata": {},
   "outputs": [
    {
     "data": {
      "text/html": [
       "<div>\n",
       "<style scoped>\n",
       "    .dataframe tbody tr th:only-of-type {\n",
       "        vertical-align: middle;\n",
       "    }\n",
       "\n",
       "    .dataframe tbody tr th {\n",
       "        vertical-align: top;\n",
       "    }\n",
       "\n",
       "    .dataframe thead th {\n",
       "        text-align: right;\n",
       "    }\n",
       "</style>\n",
       "<table border=\"1\" class=\"dataframe\">\n",
       "  <thead>\n",
       "    <tr style=\"text-align: right;\">\n",
       "      <th></th>\n",
       "      <th>num_orders</th>\n",
       "      <th>month</th>\n",
       "      <th>day</th>\n",
       "      <th>hour</th>\n",
       "      <th>dayofweek</th>\n",
       "      <th>lag_1</th>\n",
       "      <th>lag_2</th>\n",
       "      <th>lag_3</th>\n",
       "      <th>lag_4</th>\n",
       "      <th>rolling_mean</th>\n",
       "    </tr>\n",
       "    <tr>\n",
       "      <th>datetime</th>\n",
       "      <th></th>\n",
       "      <th></th>\n",
       "      <th></th>\n",
       "      <th></th>\n",
       "      <th></th>\n",
       "      <th></th>\n",
       "      <th></th>\n",
       "      <th></th>\n",
       "      <th></th>\n",
       "      <th></th>\n",
       "    </tr>\n",
       "  </thead>\n",
       "  <tbody>\n",
       "    <tr>\n",
       "      <td>2018-03-01 00:00:00</td>\n",
       "      <td>124</td>\n",
       "      <td>3</td>\n",
       "      <td>1</td>\n",
       "      <td>0</td>\n",
       "      <td>3</td>\n",
       "      <td>nan</td>\n",
       "      <td>nan</td>\n",
       "      <td>nan</td>\n",
       "      <td>nan</td>\n",
       "      <td>nan</td>\n",
       "    </tr>\n",
       "    <tr>\n",
       "      <td>2018-03-01 01:00:00</td>\n",
       "      <td>85</td>\n",
       "      <td>3</td>\n",
       "      <td>1</td>\n",
       "      <td>1</td>\n",
       "      <td>3</td>\n",
       "      <td>124.00</td>\n",
       "      <td>nan</td>\n",
       "      <td>nan</td>\n",
       "      <td>nan</td>\n",
       "      <td>nan</td>\n",
       "    </tr>\n",
       "    <tr>\n",
       "      <td>2018-03-01 02:00:00</td>\n",
       "      <td>71</td>\n",
       "      <td>3</td>\n",
       "      <td>1</td>\n",
       "      <td>2</td>\n",
       "      <td>3</td>\n",
       "      <td>85.00</td>\n",
       "      <td>124.00</td>\n",
       "      <td>nan</td>\n",
       "      <td>nan</td>\n",
       "      <td>nan</td>\n",
       "    </tr>\n",
       "    <tr>\n",
       "      <td>2018-03-01 03:00:00</td>\n",
       "      <td>66</td>\n",
       "      <td>3</td>\n",
       "      <td>1</td>\n",
       "      <td>3</td>\n",
       "      <td>3</td>\n",
       "      <td>71.00</td>\n",
       "      <td>85.00</td>\n",
       "      <td>124.00</td>\n",
       "      <td>nan</td>\n",
       "      <td>nan</td>\n",
       "    </tr>\n",
       "    <tr>\n",
       "      <td>2018-03-01 04:00:00</td>\n",
       "      <td>43</td>\n",
       "      <td>3</td>\n",
       "      <td>1</td>\n",
       "      <td>4</td>\n",
       "      <td>3</td>\n",
       "      <td>66.00</td>\n",
       "      <td>71.00</td>\n",
       "      <td>85.00</td>\n",
       "      <td>124.00</td>\n",
       "      <td>86.50</td>\n",
       "    </tr>\n",
       "  </tbody>\n",
       "</table>\n",
       "</div>"
      ],
      "text/plain": [
       "                     num_orders  month  day  hour  dayofweek  lag_1  lag_2  \\\n",
       "datetime                                                                     \n",
       "2018-03-01 00:00:00         124      3    1     0          3    nan    nan   \n",
       "2018-03-01 01:00:00          85      3    1     1          3 124.00    nan   \n",
       "2018-03-01 02:00:00          71      3    1     2          3  85.00 124.00   \n",
       "2018-03-01 03:00:00          66      3    1     3          3  71.00  85.00   \n",
       "2018-03-01 04:00:00          43      3    1     4          3  66.00  71.00   \n",
       "\n",
       "                     lag_3  lag_4  rolling_mean  \n",
       "datetime                                         \n",
       "2018-03-01 00:00:00    nan    nan           nan  \n",
       "2018-03-01 01:00:00    nan    nan           nan  \n",
       "2018-03-01 02:00:00    nan    nan           nan  \n",
       "2018-03-01 03:00:00 124.00    nan           nan  \n",
       "2018-03-01 04:00:00  85.00 124.00         86.50  "
      ]
     },
     "execution_count": 14,
     "metadata": {},
     "output_type": "execute_result"
    }
   ],
   "source": [
    "def make_features(\n",
    "    data, \n",
    "    max_lag,\n",
    "    rolling_mean_size\n",
    "):\n",
    "    \n",
    "    data['month'] = data.index.month\n",
    "    data['day'] = data.index.day\n",
    "    data['hour'] = data.index.hour\n",
    "    data['dayofweek'] = data.index.dayofweek\n",
    "    \n",
    "    for lag in range(1, max_lag + 1):\n",
    "        data['lag_{}'.format(lag)] = data.iloc[:,0].shift(lag)\n",
    "\n",
    "    data['rolling_mean'] = data.iloc[:,5].rolling(rolling_mean_size).mean()\n",
    "\n",
    "make_features(data, 4, 4)\n",
    "data.head()"
   ]
  },
  {
   "cell_type": "markdown",
   "metadata": {},
   "source": [
    "Установим значение окна скользящего среднего на 3, а количество лагов установим на 10: \n"
   ]
  },
  {
   "cell_type": "code",
   "execution_count": 15,
   "metadata": {},
   "outputs": [
    {
     "data": {
      "text/html": [
       "<div>\n",
       "<style scoped>\n",
       "    .dataframe tbody tr th:only-of-type {\n",
       "        vertical-align: middle;\n",
       "    }\n",
       "\n",
       "    .dataframe tbody tr th {\n",
       "        vertical-align: top;\n",
       "    }\n",
       "\n",
       "    .dataframe thead th {\n",
       "        text-align: right;\n",
       "    }\n",
       "</style>\n",
       "<table border=\"1\" class=\"dataframe\">\n",
       "  <thead>\n",
       "    <tr style=\"text-align: right;\">\n",
       "      <th></th>\n",
       "      <th>num_orders</th>\n",
       "      <th>month</th>\n",
       "      <th>day</th>\n",
       "      <th>hour</th>\n",
       "      <th>dayofweek</th>\n",
       "      <th>lag_1</th>\n",
       "      <th>lag_2</th>\n",
       "      <th>lag_3</th>\n",
       "      <th>lag_4</th>\n",
       "      <th>rolling_mean</th>\n",
       "      <th>lag_5</th>\n",
       "      <th>lag_6</th>\n",
       "      <th>lag_7</th>\n",
       "      <th>lag_8</th>\n",
       "      <th>lag_9</th>\n",
       "      <th>lag_10</th>\n",
       "    </tr>\n",
       "    <tr>\n",
       "      <th>datetime</th>\n",
       "      <th></th>\n",
       "      <th></th>\n",
       "      <th></th>\n",
       "      <th></th>\n",
       "      <th></th>\n",
       "      <th></th>\n",
       "      <th></th>\n",
       "      <th></th>\n",
       "      <th></th>\n",
       "      <th></th>\n",
       "      <th></th>\n",
       "      <th></th>\n",
       "      <th></th>\n",
       "      <th></th>\n",
       "      <th></th>\n",
       "      <th></th>\n",
       "    </tr>\n",
       "  </thead>\n",
       "  <tbody>\n",
       "    <tr>\n",
       "      <td>2018-03-01 00:00:00</td>\n",
       "      <td>124</td>\n",
       "      <td>3</td>\n",
       "      <td>1</td>\n",
       "      <td>0</td>\n",
       "      <td>3</td>\n",
       "      <td>nan</td>\n",
       "      <td>nan</td>\n",
       "      <td>nan</td>\n",
       "      <td>nan</td>\n",
       "      <td>nan</td>\n",
       "      <td>nan</td>\n",
       "      <td>nan</td>\n",
       "      <td>nan</td>\n",
       "      <td>nan</td>\n",
       "      <td>nan</td>\n",
       "      <td>nan</td>\n",
       "    </tr>\n",
       "    <tr>\n",
       "      <td>2018-03-01 01:00:00</td>\n",
       "      <td>85</td>\n",
       "      <td>3</td>\n",
       "      <td>1</td>\n",
       "      <td>1</td>\n",
       "      <td>3</td>\n",
       "      <td>124.00</td>\n",
       "      <td>nan</td>\n",
       "      <td>nan</td>\n",
       "      <td>nan</td>\n",
       "      <td>nan</td>\n",
       "      <td>nan</td>\n",
       "      <td>nan</td>\n",
       "      <td>nan</td>\n",
       "      <td>nan</td>\n",
       "      <td>nan</td>\n",
       "      <td>nan</td>\n",
       "    </tr>\n",
       "    <tr>\n",
       "      <td>2018-03-01 02:00:00</td>\n",
       "      <td>71</td>\n",
       "      <td>3</td>\n",
       "      <td>1</td>\n",
       "      <td>2</td>\n",
       "      <td>3</td>\n",
       "      <td>85.00</td>\n",
       "      <td>124.00</td>\n",
       "      <td>nan</td>\n",
       "      <td>nan</td>\n",
       "      <td>nan</td>\n",
       "      <td>nan</td>\n",
       "      <td>nan</td>\n",
       "      <td>nan</td>\n",
       "      <td>nan</td>\n",
       "      <td>nan</td>\n",
       "      <td>nan</td>\n",
       "    </tr>\n",
       "    <tr>\n",
       "      <td>2018-03-01 03:00:00</td>\n",
       "      <td>66</td>\n",
       "      <td>3</td>\n",
       "      <td>1</td>\n",
       "      <td>3</td>\n",
       "      <td>3</td>\n",
       "      <td>71.00</td>\n",
       "      <td>85.00</td>\n",
       "      <td>124.00</td>\n",
       "      <td>nan</td>\n",
       "      <td>93.33</td>\n",
       "      <td>nan</td>\n",
       "      <td>nan</td>\n",
       "      <td>nan</td>\n",
       "      <td>nan</td>\n",
       "      <td>nan</td>\n",
       "      <td>nan</td>\n",
       "    </tr>\n",
       "    <tr>\n",
       "      <td>2018-03-01 04:00:00</td>\n",
       "      <td>43</td>\n",
       "      <td>3</td>\n",
       "      <td>1</td>\n",
       "      <td>4</td>\n",
       "      <td>3</td>\n",
       "      <td>66.00</td>\n",
       "      <td>71.00</td>\n",
       "      <td>85.00</td>\n",
       "      <td>124.00</td>\n",
       "      <td>74.00</td>\n",
       "      <td>nan</td>\n",
       "      <td>nan</td>\n",
       "      <td>nan</td>\n",
       "      <td>nan</td>\n",
       "      <td>nan</td>\n",
       "      <td>nan</td>\n",
       "    </tr>\n",
       "  </tbody>\n",
       "</table>\n",
       "</div>"
      ],
      "text/plain": [
       "                     num_orders  month  day  hour  dayofweek  lag_1  lag_2  \\\n",
       "datetime                                                                     \n",
       "2018-03-01 00:00:00         124      3    1     0          3    nan    nan   \n",
       "2018-03-01 01:00:00          85      3    1     1          3 124.00    nan   \n",
       "2018-03-01 02:00:00          71      3    1     2          3  85.00 124.00   \n",
       "2018-03-01 03:00:00          66      3    1     3          3  71.00  85.00   \n",
       "2018-03-01 04:00:00          43      3    1     4          3  66.00  71.00   \n",
       "\n",
       "                     lag_3  lag_4  rolling_mean  lag_5  lag_6  lag_7  lag_8  \\\n",
       "datetime                                                                      \n",
       "2018-03-01 00:00:00    nan    nan           nan    nan    nan    nan    nan   \n",
       "2018-03-01 01:00:00    nan    nan           nan    nan    nan    nan    nan   \n",
       "2018-03-01 02:00:00    nan    nan           nan    nan    nan    nan    nan   \n",
       "2018-03-01 03:00:00 124.00    nan         93.33    nan    nan    nan    nan   \n",
       "2018-03-01 04:00:00  85.00 124.00         74.00    nan    nan    nan    nan   \n",
       "\n",
       "                     lag_9  lag_10  \n",
       "datetime                            \n",
       "2018-03-01 00:00:00    nan     nan  \n",
       "2018-03-01 01:00:00    nan     nan  \n",
       "2018-03-01 02:00:00    nan     nan  \n",
       "2018-03-01 03:00:00    nan     nan  \n",
       "2018-03-01 04:00:00    nan     nan  "
      ]
     },
     "execution_count": 15,
     "metadata": {},
     "output_type": "execute_result"
    }
   ],
   "source": [
    "make_features(data, 10, 3)\n",
    "data.head()"
   ]
  },
  {
   "cell_type": "markdown",
   "metadata": {},
   "source": [
    "Разобьем наш датасет на обучающую и тестовые выборки в пропорции 9 к 1: "
   ]
  },
  {
   "cell_type": "code",
   "execution_count": 16,
   "metadata": {
    "scrolled": false
   },
   "outputs": [
    {
     "name": "stdout",
     "output_type": "stream",
     "text": [
      "(3965, 15)\n",
      "(441, 15)\n",
      "(3965,)\n",
      "(441,)\n"
     ]
    },
    {
     "data": {
      "text/html": [
       "<div>\n",
       "<style scoped>\n",
       "    .dataframe tbody tr th:only-of-type {\n",
       "        vertical-align: middle;\n",
       "    }\n",
       "\n",
       "    .dataframe tbody tr th {\n",
       "        vertical-align: top;\n",
       "    }\n",
       "\n",
       "    .dataframe thead th {\n",
       "        text-align: right;\n",
       "    }\n",
       "</style>\n",
       "<table border=\"1\" class=\"dataframe\">\n",
       "  <thead>\n",
       "    <tr style=\"text-align: right;\">\n",
       "      <th></th>\n",
       "      <th>month</th>\n",
       "      <th>day</th>\n",
       "      <th>hour</th>\n",
       "      <th>dayofweek</th>\n",
       "      <th>lag_1</th>\n",
       "      <th>lag_2</th>\n",
       "      <th>lag_3</th>\n",
       "      <th>lag_4</th>\n",
       "      <th>rolling_mean</th>\n",
       "      <th>lag_5</th>\n",
       "      <th>lag_6</th>\n",
       "      <th>lag_7</th>\n",
       "      <th>lag_8</th>\n",
       "      <th>lag_9</th>\n",
       "      <th>lag_10</th>\n",
       "    </tr>\n",
       "    <tr>\n",
       "      <th>datetime</th>\n",
       "      <th></th>\n",
       "      <th></th>\n",
       "      <th></th>\n",
       "      <th></th>\n",
       "      <th></th>\n",
       "      <th></th>\n",
       "      <th></th>\n",
       "      <th></th>\n",
       "      <th></th>\n",
       "      <th></th>\n",
       "      <th></th>\n",
       "      <th></th>\n",
       "      <th></th>\n",
       "      <th></th>\n",
       "      <th></th>\n",
       "    </tr>\n",
       "  </thead>\n",
       "  <tbody>\n",
       "    <tr>\n",
       "      <td>2018-03-01 10:00:00</td>\n",
       "      <td>3</td>\n",
       "      <td>1</td>\n",
       "      <td>10</td>\n",
       "      <td>3</td>\n",
       "      <td>69.00</td>\n",
       "      <td>34.00</td>\n",
       "      <td>15.00</td>\n",
       "      <td>12.00</td>\n",
       "      <td>39.33</td>\n",
       "      <td>6.00</td>\n",
       "      <td>43.00</td>\n",
       "      <td>66.00</td>\n",
       "      <td>71.00</td>\n",
       "      <td>85.00</td>\n",
       "      <td>124.00</td>\n",
       "    </tr>\n",
       "    <tr>\n",
       "      <td>2018-03-01 11:00:00</td>\n",
       "      <td>3</td>\n",
       "      <td>1</td>\n",
       "      <td>11</td>\n",
       "      <td>3</td>\n",
       "      <td>64.00</td>\n",
       "      <td>69.00</td>\n",
       "      <td>34.00</td>\n",
       "      <td>15.00</td>\n",
       "      <td>55.67</td>\n",
       "      <td>12.00</td>\n",
       "      <td>6.00</td>\n",
       "      <td>43.00</td>\n",
       "      <td>66.00</td>\n",
       "      <td>71.00</td>\n",
       "      <td>85.00</td>\n",
       "    </tr>\n",
       "    <tr>\n",
       "      <td>2018-03-01 12:00:00</td>\n",
       "      <td>3</td>\n",
       "      <td>1</td>\n",
       "      <td>12</td>\n",
       "      <td>3</td>\n",
       "      <td>96.00</td>\n",
       "      <td>64.00</td>\n",
       "      <td>69.00</td>\n",
       "      <td>34.00</td>\n",
       "      <td>76.33</td>\n",
       "      <td>15.00</td>\n",
       "      <td>12.00</td>\n",
       "      <td>6.00</td>\n",
       "      <td>43.00</td>\n",
       "      <td>66.00</td>\n",
       "      <td>71.00</td>\n",
       "    </tr>\n",
       "    <tr>\n",
       "      <td>2018-03-01 13:00:00</td>\n",
       "      <td>3</td>\n",
       "      <td>1</td>\n",
       "      <td>13</td>\n",
       "      <td>3</td>\n",
       "      <td>30.00</td>\n",
       "      <td>96.00</td>\n",
       "      <td>64.00</td>\n",
       "      <td>69.00</td>\n",
       "      <td>63.33</td>\n",
       "      <td>34.00</td>\n",
       "      <td>15.00</td>\n",
       "      <td>12.00</td>\n",
       "      <td>6.00</td>\n",
       "      <td>43.00</td>\n",
       "      <td>66.00</td>\n",
       "    </tr>\n",
       "    <tr>\n",
       "      <td>2018-03-01 14:00:00</td>\n",
       "      <td>3</td>\n",
       "      <td>1</td>\n",
       "      <td>14</td>\n",
       "      <td>3</td>\n",
       "      <td>32.00</td>\n",
       "      <td>30.00</td>\n",
       "      <td>96.00</td>\n",
       "      <td>64.00</td>\n",
       "      <td>52.67</td>\n",
       "      <td>69.00</td>\n",
       "      <td>34.00</td>\n",
       "      <td>15.00</td>\n",
       "      <td>12.00</td>\n",
       "      <td>6.00</td>\n",
       "      <td>43.00</td>\n",
       "    </tr>\n",
       "  </tbody>\n",
       "</table>\n",
       "</div>"
      ],
      "text/plain": [
       "                     month  day  hour  dayofweek  lag_1  lag_2  lag_3  lag_4  \\\n",
       "datetime                                                                       \n",
       "2018-03-01 10:00:00      3    1    10          3  69.00  34.00  15.00  12.00   \n",
       "2018-03-01 11:00:00      3    1    11          3  64.00  69.00  34.00  15.00   \n",
       "2018-03-01 12:00:00      3    1    12          3  96.00  64.00  69.00  34.00   \n",
       "2018-03-01 13:00:00      3    1    13          3  30.00  96.00  64.00  69.00   \n",
       "2018-03-01 14:00:00      3    1    14          3  32.00  30.00  96.00  64.00   \n",
       "\n",
       "                     rolling_mean  lag_5  lag_6  lag_7  lag_8  lag_9  lag_10  \n",
       "datetime                                                                      \n",
       "2018-03-01 10:00:00         39.33   6.00  43.00  66.00  71.00  85.00  124.00  \n",
       "2018-03-01 11:00:00         55.67  12.00   6.00  43.00  66.00  71.00   85.00  \n",
       "2018-03-01 12:00:00         76.33  15.00  12.00   6.00  43.00  66.00   71.00  \n",
       "2018-03-01 13:00:00         63.33  34.00  15.00  12.00   6.00  43.00   66.00  \n",
       "2018-03-01 14:00:00         52.67  69.00  34.00  15.00  12.00   6.00   43.00  "
      ]
     },
     "execution_count": 16,
     "metadata": {},
     "output_type": "execute_result"
    }
   ],
   "source": [
    "data = data.dropna(axis=0)\n",
    "\n",
    "target = data['num_orders']\n",
    "features = data.drop('num_orders',axis=1)\n",
    "\n",
    "features_train, features_test, target_train, target_test = train_test_split(\n",
    "    features, \n",
    "    target,\n",
    "     shuffle=False,\n",
    "      test_size=.1\n",
    "      )\n",
    "\n",
    "print(features_train.shape)\n",
    "print(features_test.shape)\n",
    "print(target_train.shape)\n",
    "print(target_test.shape)\n",
    "features_train.head()"
   ]
  },
  {
   "cell_type": "markdown",
   "metadata": {},
   "source": [
    "####  Вывод : \n",
    "\n",
    "Мы подготовили данные к обучению: \n",
    "- создали признаки в датасете, для более качественного обучения\n",
    "- выделили из данных целевой признак и признаки для обучения\n",
    "- разбили исходный датасет на обучающую и тестовые выборки в пропорции 9 к 1\n",
    "\n",
    "#### Датафрейм для сравнения результатов моделей: \n",
    "\n"
   ]
  },
  {
   "cell_type": "code",
   "execution_count": 17,
   "metadata": {},
   "outputs": [
    {
     "data": {
      "text/html": [
       "<div>\n",
       "<style scoped>\n",
       "    .dataframe tbody tr th:only-of-type {\n",
       "        vertical-align: middle;\n",
       "    }\n",
       "\n",
       "    .dataframe tbody tr th {\n",
       "        vertical-align: top;\n",
       "    }\n",
       "\n",
       "    .dataframe thead th {\n",
       "        text-align: right;\n",
       "    }\n",
       "</style>\n",
       "<table border=\"1\" class=\"dataframe\">\n",
       "  <thead>\n",
       "    <tr style=\"text-align: right;\">\n",
       "      <th></th>\n",
       "      <th>Модель</th>\n",
       "      <th>RMSE</th>\n",
       "      <th>Обучение (сек.)</th>\n",
       "      <th>Предсказание (сек.)</th>\n",
       "    </tr>\n",
       "  </thead>\n",
       "  <tbody>\n",
       "  </tbody>\n",
       "</table>\n",
       "</div>"
      ],
      "text/plain": [
       "Empty DataFrame\n",
       "Columns: [Модель, RMSE, Обучение (сек.), Предсказание (сек.)]\n",
       "Index: []"
      ]
     },
     "execution_count": 17,
     "metadata": {},
     "output_type": "execute_result"
    }
   ],
   "source": [
    "df_Result = pd.DataFrame({'Модель':[], 'RMSE':[], 'Обучение (сек.)':[], 'Предсказание (сек.)':[]})\n",
    "df_Result"
   ]
  },
  {
   "cell_type": "markdown",
   "metadata": {},
   "source": [
    "### Константная модель\n",
    "\n",
    "Для начала посмотрим, как себя поведет dummy-модель: "
   ]
  },
  {
   "cell_type": "code",
   "execution_count": 18,
   "metadata": {},
   "outputs": [
    {
     "name": "stdout",
     "output_type": "stream",
     "text": [
      "RMSE константной модели на тестовой выборке: 58.92\n",
      "CPU times: user 8.92 ms, sys: 538 µs, total: 9.46 ms\n",
      "Wall time: 12.3 ms\n"
     ]
    }
   ],
   "source": [
    "%%time\n",
    "start_time_predict = timeit.default_timer()\n",
    "\n",
    "#predicted_const = pd.Series(target_test.median(), index=target_test.index)\n",
    "\n",
    "predicted_const = target_test.shift()\n",
    "predicted_const.iloc[0] = target_train.iloc[-1] \n",
    "\n",
    "duration_predict=timeit.default_timer() - start_time_predict\n",
    "\n",
    "RMSE=round(abs(mean_squared_error(target_test,predicted_const))**0.5,2)\n",
    "print('RMSE константной модели на тестовой выборке:', RMSE)\n",
    "\n",
    "df_Result=df_Result.append({'Модель':'Константная модель'\n",
    "                           ,'RMSE':RMSE\n",
    "                           ,'Обучение (сек.)':0\n",
    "                           ,'Предсказание (сек.)':duration_predict}, ignore_index=True)"
   ]
  },
  {
   "cell_type": "markdown",
   "metadata": {},
   "source": [
    "#### Вывод: \n",
    "как видно из результатов, RMSE на тестовой выборке нашей константной модели - 58.77, что на 10 единиц больше минимально разрешенного в проекте значения. \n",
    "\n",
    "### Линейнная регрессия¶\n",
    "Обучим модель линейной регрессии и проверим значение RMSE:"
   ]
  },
  {
   "cell_type": "code",
   "execution_count": 19,
   "metadata": {},
   "outputs": [
    {
     "name": "stdout",
     "output_type": "stream",
     "text": [
      "RMSE модели линейной регрессии на тестовой выборке: 53.52\n",
      "CPU times: user 23.4 ms, sys: 28.2 ms, total: 51.6 ms\n",
      "Wall time: 27 ms\n"
     ]
    }
   ],
   "source": [
    "%%time\n",
    "\n",
    "model=LinearRegression(n_jobs=-1)\n",
    "\n",
    "start_time_fit = timeit.default_timer()\n",
    "model.fit(features_train,target_train)\n",
    "duration_fit=timeit.default_timer() - start_time_fit\n",
    "\n",
    "start_time_predict = timeit.default_timer()\n",
    "predict_test = model.predict(features_test)\n",
    "duration_predict=timeit.default_timer() - start_time_predict\n",
    "\n",
    "RMSE=round(mean_squared_error(target_test,predict_test)**0.5,2)\n",
    "print('RMSE модели линейной регрессии на тестовой выборке:', RMSE)\n",
    "\n",
    "df_Result=df_Result.append({'Модель':'Линейная регрессия'\n",
    "                           ,'RMSE':RMSE\n",
    "                           ,'Обучение (сек.)':duration_fit\n",
    "                           ,'Предсказание (сек.)':duration_predict}, ignore_index=True)"
   ]
  },
  {
   "cell_type": "markdown",
   "metadata": {},
   "source": [
    "#### Вывод: \n",
    "\n",
    "Модель линейной регрессии показывает крайне низкий результат. Ее результат не дотягивает до заданного значения. Однако все же, результат лучше, нежели на константной модели\n",
    "\n",
    "###  Случайный лес\n",
    "\n",
    "Для начала определим диапозон поиска наилучших параметров для модели случайного леса, затем в автоматическом режиме подберем оптимальные параметры после чего проверим работу наилучшей модели на тестовой выборке"
   ]
  },
  {
   "cell_type": "code",
   "execution_count": 20,
   "metadata": {},
   "outputs": [
    {
     "name": "stdout",
     "output_type": "stream",
     "text": [
      "RMSE лучшей модели на тестовой выборке: 46.85\n",
      "CPU times: user 10.3 s, sys: 61.7 ms, total: 10.4 s\n",
      "Wall time: 10.4 s\n"
     ]
    }
   ],
   "source": [
    "%%time\n",
    "# Инициализация диапазона подбираемых параметров\n",
    "params = {\n",
    "          \"n_estimators\": sp_randint(1, 60),\n",
    "          \"max_depth\": sp_randint(5, 21),\n",
    "          \"max_features\": sp_randint(1, 5),          \n",
    "          \"min_samples_split\": sp_randint(2, 10),     \n",
    "          \"bootstrap\": [True, False],\n",
    "          \"warm_start\": [True, False],\n",
    "         }           \n",
    "\n",
    "# Подбор наилучших параметров\n",
    "random_search = RandomizedSearchCV(\n",
    "                                   RandomForestRegressor(random_state=777, n_jobs=-1), \n",
    "                                   param_distributions=params,\n",
    "                                   n_iter=20,\n",
    "                                   cv=TimeSeriesSplit(n_splits=5).split(features_train),\n",
    "                                   scoring='neg_mean_squared_error',\n",
    "                                   error_score='raise',\n",
    "                                   random_state=777\n",
    "                                   )\n",
    "\n",
    "random_search.fit(features_train, target_train)\n",
    "\n",
    " # Проверка качества модели на тестовой выборке\n",
    "model = RandomForestRegressor(**random_search.best_params_) \n",
    "\n",
    "start_time_fit = timeit.default_timer()\n",
    "model.fit(features_train,target_train)\n",
    "duration_fit=timeit.default_timer() - start_time_fit\n",
    "\n",
    "#predicted_test = model.predict(features_test)\n",
    "\n",
    "start_time_predict = timeit.default_timer()\n",
    "predict_test = model.predict(features_test)\n",
    "duration_predict=timeit.default_timer() - start_time_predict\n",
    "\n",
    "RMSE=round(abs(mean_squared_error(target_test,predict_test))**0.5,2)\n",
    "print('RMSE лучшей модели на тестовой выборке:', RMSE)"
   ]
  },
  {
   "cell_type": "markdown",
   "metadata": {},
   "source": [
    "Добавим полученный результат в итоговую таблицу для тестирования: "
   ]
  },
  {
   "cell_type": "code",
   "execution_count": 21,
   "metadata": {},
   "outputs": [],
   "source": [
    "df_Result=df_Result.append({'Модель':'Случайный лес'\n",
    "                           ,'RMSE':RMSE\n",
    "                           ,'Обучение (сек.)':duration_fit\n",
    "                           ,'Предсказание (сек.)':duration_predict}, ignore_index=True)"
   ]
  },
  {
   "cell_type": "markdown",
   "metadata": {},
   "source": [
    "#### Вывод\n",
    "Модель случайного леса показывает ожидаемо лучший результат, нежели предыдущие алгоритмы. Такж мы по кромке попадаем в установленный нам интервал. Посмотрим, что дадут модели градиентного бустинга: \n",
    "\n",
    "### Градиентный бустинг (LightGBM)\n",
    "\n",
    "Для изучения работы градиентного бустинга переформатируем данные из нашего датасета, а именно изменим тип данных в категориальных признаках с int64 на category:"
   ]
  },
  {
   "cell_type": "code",
   "execution_count": 22,
   "metadata": {
    "scrolled": false
   },
   "outputs": [
    {
     "name": "stdout",
     "output_type": "stream",
     "text": [
      "<class 'pandas.core.frame.DataFrame'>\n",
      "DatetimeIndex: 4406 entries, 2018-03-01 10:00:00 to 2018-08-31 23:00:00\n",
      "Freq: H\n",
      "Data columns (total 16 columns):\n",
      "num_orders      4406 non-null int64\n",
      "month           4406 non-null category\n",
      "day             4406 non-null category\n",
      "hour            4406 non-null category\n",
      "dayofweek       4406 non-null category\n",
      "lag_1           4406 non-null float64\n",
      "lag_2           4406 non-null float64\n",
      "lag_3           4406 non-null float64\n",
      "lag_4           4406 non-null float64\n",
      "rolling_mean    4406 non-null float64\n",
      "lag_5           4406 non-null float64\n",
      "lag_6           4406 non-null float64\n",
      "lag_7           4406 non-null float64\n",
      "lag_8           4406 non-null float64\n",
      "lag_9           4406 non-null float64\n",
      "lag_10          4406 non-null float64\n",
      "dtypes: category(4), float64(11), int64(1)\n",
      "memory usage: 467.6 KB\n"
     ]
    }
   ],
   "source": [
    "object_columns = ['month','day','hour','dayofweek']\n",
    "for column in object_columns:\n",
    "    data[column] = data[column].astype('category')\n",
    "    \n",
    "data.info()"
   ]
  },
  {
   "cell_type": "markdown",
   "metadata": {},
   "source": [
    "Снова выделим из нашего датасета целевой признак и определяющие признаки, а также разделим его на обучающую и тестовые выборки: "
   ]
  },
  {
   "cell_type": "code",
   "execution_count": 23,
   "metadata": {},
   "outputs": [
    {
     "name": "stdout",
     "output_type": "stream",
     "text": [
      "(3965, 15)\n",
      "(441, 15)\n",
      "(3965,)\n",
      "(441,)\n"
     ]
    },
    {
     "data": {
      "text/html": [
       "<div>\n",
       "<style scoped>\n",
       "    .dataframe tbody tr th:only-of-type {\n",
       "        vertical-align: middle;\n",
       "    }\n",
       "\n",
       "    .dataframe tbody tr th {\n",
       "        vertical-align: top;\n",
       "    }\n",
       "\n",
       "    .dataframe thead th {\n",
       "        text-align: right;\n",
       "    }\n",
       "</style>\n",
       "<table border=\"1\" class=\"dataframe\">\n",
       "  <thead>\n",
       "    <tr style=\"text-align: right;\">\n",
       "      <th></th>\n",
       "      <th>month</th>\n",
       "      <th>day</th>\n",
       "      <th>hour</th>\n",
       "      <th>dayofweek</th>\n",
       "      <th>lag_1</th>\n",
       "      <th>lag_2</th>\n",
       "      <th>lag_3</th>\n",
       "      <th>lag_4</th>\n",
       "      <th>rolling_mean</th>\n",
       "      <th>lag_5</th>\n",
       "      <th>lag_6</th>\n",
       "      <th>lag_7</th>\n",
       "      <th>lag_8</th>\n",
       "      <th>lag_9</th>\n",
       "      <th>lag_10</th>\n",
       "    </tr>\n",
       "    <tr>\n",
       "      <th>datetime</th>\n",
       "      <th></th>\n",
       "      <th></th>\n",
       "      <th></th>\n",
       "      <th></th>\n",
       "      <th></th>\n",
       "      <th></th>\n",
       "      <th></th>\n",
       "      <th></th>\n",
       "      <th></th>\n",
       "      <th></th>\n",
       "      <th></th>\n",
       "      <th></th>\n",
       "      <th></th>\n",
       "      <th></th>\n",
       "      <th></th>\n",
       "    </tr>\n",
       "  </thead>\n",
       "  <tbody>\n",
       "    <tr>\n",
       "      <td>2018-03-01 10:00:00</td>\n",
       "      <td>3</td>\n",
       "      <td>1</td>\n",
       "      <td>10</td>\n",
       "      <td>3</td>\n",
       "      <td>69.00</td>\n",
       "      <td>34.00</td>\n",
       "      <td>15.00</td>\n",
       "      <td>12.00</td>\n",
       "      <td>39.33</td>\n",
       "      <td>6.00</td>\n",
       "      <td>43.00</td>\n",
       "      <td>66.00</td>\n",
       "      <td>71.00</td>\n",
       "      <td>85.00</td>\n",
       "      <td>124.00</td>\n",
       "    </tr>\n",
       "    <tr>\n",
       "      <td>2018-03-01 11:00:00</td>\n",
       "      <td>3</td>\n",
       "      <td>1</td>\n",
       "      <td>11</td>\n",
       "      <td>3</td>\n",
       "      <td>64.00</td>\n",
       "      <td>69.00</td>\n",
       "      <td>34.00</td>\n",
       "      <td>15.00</td>\n",
       "      <td>55.67</td>\n",
       "      <td>12.00</td>\n",
       "      <td>6.00</td>\n",
       "      <td>43.00</td>\n",
       "      <td>66.00</td>\n",
       "      <td>71.00</td>\n",
       "      <td>85.00</td>\n",
       "    </tr>\n",
       "    <tr>\n",
       "      <td>2018-03-01 12:00:00</td>\n",
       "      <td>3</td>\n",
       "      <td>1</td>\n",
       "      <td>12</td>\n",
       "      <td>3</td>\n",
       "      <td>96.00</td>\n",
       "      <td>64.00</td>\n",
       "      <td>69.00</td>\n",
       "      <td>34.00</td>\n",
       "      <td>76.33</td>\n",
       "      <td>15.00</td>\n",
       "      <td>12.00</td>\n",
       "      <td>6.00</td>\n",
       "      <td>43.00</td>\n",
       "      <td>66.00</td>\n",
       "      <td>71.00</td>\n",
       "    </tr>\n",
       "    <tr>\n",
       "      <td>2018-03-01 13:00:00</td>\n",
       "      <td>3</td>\n",
       "      <td>1</td>\n",
       "      <td>13</td>\n",
       "      <td>3</td>\n",
       "      <td>30.00</td>\n",
       "      <td>96.00</td>\n",
       "      <td>64.00</td>\n",
       "      <td>69.00</td>\n",
       "      <td>63.33</td>\n",
       "      <td>34.00</td>\n",
       "      <td>15.00</td>\n",
       "      <td>12.00</td>\n",
       "      <td>6.00</td>\n",
       "      <td>43.00</td>\n",
       "      <td>66.00</td>\n",
       "    </tr>\n",
       "    <tr>\n",
       "      <td>2018-03-01 14:00:00</td>\n",
       "      <td>3</td>\n",
       "      <td>1</td>\n",
       "      <td>14</td>\n",
       "      <td>3</td>\n",
       "      <td>32.00</td>\n",
       "      <td>30.00</td>\n",
       "      <td>96.00</td>\n",
       "      <td>64.00</td>\n",
       "      <td>52.67</td>\n",
       "      <td>69.00</td>\n",
       "      <td>34.00</td>\n",
       "      <td>15.00</td>\n",
       "      <td>12.00</td>\n",
       "      <td>6.00</td>\n",
       "      <td>43.00</td>\n",
       "    </tr>\n",
       "  </tbody>\n",
       "</table>\n",
       "</div>"
      ],
      "text/plain": [
       "                    month day hour dayofweek  lag_1  lag_2  lag_3  lag_4  \\\n",
       "datetime                                                                   \n",
       "2018-03-01 10:00:00     3   1   10         3  69.00  34.00  15.00  12.00   \n",
       "2018-03-01 11:00:00     3   1   11         3  64.00  69.00  34.00  15.00   \n",
       "2018-03-01 12:00:00     3   1   12         3  96.00  64.00  69.00  34.00   \n",
       "2018-03-01 13:00:00     3   1   13         3  30.00  96.00  64.00  69.00   \n",
       "2018-03-01 14:00:00     3   1   14         3  32.00  30.00  96.00  64.00   \n",
       "\n",
       "                     rolling_mean  lag_5  lag_6  lag_7  lag_8  lag_9  lag_10  \n",
       "datetime                                                                      \n",
       "2018-03-01 10:00:00         39.33   6.00  43.00  66.00  71.00  85.00  124.00  \n",
       "2018-03-01 11:00:00         55.67  12.00   6.00  43.00  66.00  71.00   85.00  \n",
       "2018-03-01 12:00:00         76.33  15.00  12.00   6.00  43.00  66.00   71.00  \n",
       "2018-03-01 13:00:00         63.33  34.00  15.00  12.00   6.00  43.00   66.00  \n",
       "2018-03-01 14:00:00         52.67  69.00  34.00  15.00  12.00   6.00   43.00  "
      ]
     },
     "execution_count": 23,
     "metadata": {},
     "output_type": "execute_result"
    }
   ],
   "source": [
    "target = data['num_orders']\n",
    "features = data.drop('num_orders',axis=1)\n",
    "\n",
    "features_train, features_test, target_train, target_test = train_test_split(\n",
    "    features, \n",
    "    target,\n",
    "     shuffle=False,\n",
    "      test_size=.1\n",
    "      )\n",
    "\n",
    "print(features_train.shape)\n",
    "print(features_test.shape)\n",
    "print(target_train.shape)\n",
    "print(target_test.shape)\n",
    "features_train.head()"
   ]
  },
  {
   "cell_type": "markdown",
   "metadata": {},
   "source": [
    "Обучим модель и оценим величину ошибки Rmse:"
   ]
  },
  {
   "cell_type": "code",
   "execution_count": 24,
   "metadata": {},
   "outputs": [
    {
     "name": "stdout",
     "output_type": "stream",
     "text": [
      "RMSE лучшей модели на тестовой выборке: 41.43\n",
      "CPU times: user 1.3 s, sys: 0 ns, total: 1.3 s\n",
      "Wall time: 1.3 s\n"
     ]
    }
   ],
   "source": [
    "%%time\n",
    "model = LGBMRegressor(n_splits=10, n_repeats=3, random_state=777)\n",
    "\n",
    "start_time_fit = timeit.default_timer()\n",
    "model.fit(features_train,target_train)\n",
    "duration_fit=timeit.default_timer() - start_time_fit\n",
    "\n",
    "start_time_predict = timeit.default_timer()\n",
    "predict_test = model.predict(features_test)\n",
    "duration_predict=timeit.default_timer() - start_time_predict\n",
    "\n",
    "RMSE=round(abs(mean_squared_error(target_test,predict_test))**0.5,2)\n",
    "print('RMSE лучшей модели на тестовой выборке:', RMSE)"
   ]
  },
  {
   "cell_type": "markdown",
   "metadata": {},
   "source": [
    "Как видно из полученного результата, ошибка получилась намного меньше.\n",
    "\n",
    "Однако же, мы не изменяли еще гиперпараметры - попробуем улучшить модель с помощью подбора гиперпараметров:"
   ]
  },
  {
   "cell_type": "code",
   "execution_count": 25,
   "metadata": {},
   "outputs": [
    {
     "name": "stdout",
     "output_type": "stream",
     "text": [
      "RMSE лучшей модели на тестовой выборке: 40.51\n",
      "CPU times: user 20.4 s, sys: 143 ms, total: 20.6 s\n",
      "Wall time: 20.7 s\n"
     ]
    }
   ],
   "source": [
    "%%time\n",
    "# Инициализация диапазона подбираемых параметров\n",
    "params = {\n",
    "          'algorithm_type': ['lgbm','cat','xgb'], \n",
    "          'n_estimators': sp_randint(5, 150),\n",
    "          'max_depth': sp_randint(1, 21),\n",
    "          'min_child_samples': sp_randint(1,20),          \n",
    "          'n_splits': sp_randint(5, 25)     \n",
    "         }           \n",
    "\n",
    "# Подбор наилучших параметров\n",
    "random_search = RandomizedSearchCV(\n",
    "                                   LGBMRegressor(random_state=123, n_jobs=-1), \n",
    "                                   param_distributions=params,\n",
    "                                   n_iter=5,\n",
    "                                   cv=TimeSeriesSplit(n_splits=5).split(features_train),\n",
    "                                   scoring='neg_mean_squared_error',\n",
    "                                   error_score='raise',\n",
    "                                   random_state=11111\n",
    "                                   )\n",
    "\n",
    "random_search.fit(features_train, target_train)\n",
    "\n",
    " # Проверка качества модели на тестовой выборке\n",
    "model = LGBMRegressor(**random_search.best_params_) \n",
    "\n",
    "start_time_fit = timeit.default_timer()\n",
    "model.fit(features_train,target_train)\n",
    "duration_fit=timeit.default_timer() - start_time_fit\n",
    "\n",
    "start_time_predict = timeit.default_timer()\n",
    "predict_test = model.predict(features_test)\n",
    "duration_predict=timeit.default_timer() - start_time_predict\n",
    "\n",
    "RMSE=round(abs(mean_squared_error(target_test,predict_test))**0.5,2)\n",
    "print('RMSE лучшей модели на тестовой выборке:', RMSE)"
   ]
  },
  {
   "cell_type": "markdown",
   "metadata": {},
   "source": [
    "Запишем полученные результаты в итоговый датафрейм:"
   ]
  },
  {
   "cell_type": "code",
   "execution_count": 26,
   "metadata": {},
   "outputs": [],
   "source": [
    "df_Result=df_Result.append({'Модель':'Градиентный бустинг (LightGBM)'\n",
    "                           ,'RMSE':RMSE\n",
    "                           ,'Обучение (сек.)':duration_fit\n",
    "                           ,'Предсказание (сек.)':duration_predict}, ignore_index=True)"
   ]
  },
  {
   "cell_type": "markdown",
   "metadata": {},
   "source": [
    "#### Вывод: \n",
    "\n",
    "Как видно из полученного результата, подбор гиперпараметров не сильно улучшил нашу модель градиентного бустинга. Таким образом можно на данной модели не производить подбор оптимальных параметров, она неплохо работает и \"из коробки\", то есть на значениях по умолчанию\n",
    "\n",
    "### Градиентный бустинг (CatBoost):\n",
    "\n",
    "Проверим работу еще одного алгоритма градиентного бустинга Catboost.\n",
    "Для начала обучим модель на обучающей выборке:"
   ]
  },
  {
   "cell_type": "code",
   "execution_count": 27,
   "metadata": {},
   "outputs": [
    {
     "name": "stdout",
     "output_type": "stream",
     "text": [
      "CPU times: user 1min 45s, sys: 7.82 s, total: 1min 53s\n",
      "Wall time: 1min 55s\n"
     ]
    }
   ],
   "source": [
    "%%time\n",
    "cat_features=['month','day','hour','dayofweek']\n",
    "model = CatBoostRegressor(depth=10, l2_leaf_reg=1, learning_rate=0.1)\n",
    "\n",
    "start_time_fit = timeit.default_timer()\n",
    "model.fit(features_train, target_train, cat_features=cat_features, verbose=False)\n",
    "duration_fit=timeit.default_timer() - start_time_fit"
   ]
  },
  {
   "cell_type": "markdown",
   "metadata": {},
   "source": [
    "Проверим работу модели на тестовой выборке:"
   ]
  },
  {
   "cell_type": "code",
   "execution_count": 28,
   "metadata": {},
   "outputs": [
    {
     "name": "stdout",
     "output_type": "stream",
     "text": [
      "RMSE лучшей модели на тестовой выборке: 42.98\n"
     ]
    }
   ],
   "source": [
    "start_time_predict = timeit.default_timer()\n",
    "predict_test = model.predict(features_test)\n",
    "duration_predict=timeit.default_timer() - start_time_predict\n",
    "\n",
    "RMSE=round(abs(mean_squared_error(target_test,predict_test))**0.5,2)\n",
    "print('RMSE лучшей модели на тестовой выборке:', RMSE)"
   ]
  },
  {
   "cell_type": "markdown",
   "metadata": {},
   "source": [
    "Запишем полученные результаты в нашу сводную таблицу для дальнейшего анализа:"
   ]
  },
  {
   "cell_type": "code",
   "execution_count": 29,
   "metadata": {},
   "outputs": [],
   "source": [
    "df_Result=df_Result.append({'Модель':'Градиентный бустинг (CatBoost)'\n",
    "                           ,'RMSE':RMSE\n",
    "                           ,'Обучение (сек.)':duration_fit\n",
    "                           ,'Предсказание (сек.)':duration_predict}, ignore_index=True)"
   ]
  },
  {
   "cell_type": "markdown",
   "metadata": {},
   "source": [
    "#### Вывод \n",
    "Результат работы оказался несколько хуже, нежели в LightGBM"
   ]
  },
  {
   "cell_type": "markdown",
   "metadata": {},
   "source": [
    "### Вывод: \n",
    "В данном разделе мы провели: \n",
    "- подготовку определяющих и целевого признаков\n",
    "- предотвратили утекание целевого признака\n",
    "- разбили датасет на обучающую и тестовые выборки в заднной пропорции 9 к 1\n",
    "- записали результаты работы каждой из моделей в итоговую таблицу\n",
    "- оценили время выполнения кода в ячейках, а также время обучения и предсказания\n",
    "\n",
    "Теперь мы готовы взглянуть на полученные результаты и оценить работу наших моделей на тестовой выборке "
   ]
  },
  {
   "cell_type": "markdown",
   "metadata": {},
   "source": [
    "## Тестирование(Анализ работы моделей)\n",
    "\n",
    "Итак пришло время вывести наш итоговый датасет с данными о работе различных моделей и на основании результатов сделать итоговый вывод: "
   ]
  },
  {
   "cell_type": "code",
   "execution_count": 30,
   "metadata": {},
   "outputs": [
    {
     "data": {
      "text/html": [
       "<div>\n",
       "<style scoped>\n",
       "    .dataframe tbody tr th:only-of-type {\n",
       "        vertical-align: middle;\n",
       "    }\n",
       "\n",
       "    .dataframe tbody tr th {\n",
       "        vertical-align: top;\n",
       "    }\n",
       "\n",
       "    .dataframe thead th {\n",
       "        text-align: right;\n",
       "    }\n",
       "</style>\n",
       "<table border=\"1\" class=\"dataframe\">\n",
       "  <thead>\n",
       "    <tr style=\"text-align: right;\">\n",
       "      <th></th>\n",
       "      <th>Модель</th>\n",
       "      <th>RMSE</th>\n",
       "      <th>Обучение (сек.)</th>\n",
       "      <th>Предсказание (сек.)</th>\n",
       "    </tr>\n",
       "  </thead>\n",
       "  <tbody>\n",
       "    <tr>\n",
       "      <td>0</td>\n",
       "      <td>Константная модель</td>\n",
       "      <td>58.92</td>\n",
       "      <td>0.00</td>\n",
       "      <td>0.00</td>\n",
       "    </tr>\n",
       "    <tr>\n",
       "      <td>1</td>\n",
       "      <td>Линейная регрессия</td>\n",
       "      <td>53.52</td>\n",
       "      <td>0.02</td>\n",
       "      <td>0.00</td>\n",
       "    </tr>\n",
       "    <tr>\n",
       "      <td>2</td>\n",
       "      <td>Случайный лес</td>\n",
       "      <td>46.85</td>\n",
       "      <td>0.26</td>\n",
       "      <td>0.00</td>\n",
       "    </tr>\n",
       "    <tr>\n",
       "      <td>3</td>\n",
       "      <td>Градиентный бустинг (LightGBM)</td>\n",
       "      <td>40.51</td>\n",
       "      <td>0.91</td>\n",
       "      <td>0.09</td>\n",
       "    </tr>\n",
       "    <tr>\n",
       "      <td>4</td>\n",
       "      <td>Градиентный бустинг (CatBoost)</td>\n",
       "      <td>42.98</td>\n",
       "      <td>115.50</td>\n",
       "      <td>0.01</td>\n",
       "    </tr>\n",
       "  </tbody>\n",
       "</table>\n",
       "</div>"
      ],
      "text/plain": [
       "                           Модель  RMSE  Обучение (сек.)  Предсказание (сек.)\n",
       "0              Константная модель 58.92             0.00                 0.00\n",
       "1              Линейная регрессия 53.52             0.02                 0.00\n",
       "2                   Случайный лес 46.85             0.26                 0.00\n",
       "3  Градиентный бустинг (LightGBM) 40.51             0.91                 0.09\n",
       "4  Градиентный бустинг (CatBoost) 42.98           115.50                 0.01"
      ]
     },
     "execution_count": 30,
     "metadata": {},
     "output_type": "execute_result"
    }
   ],
   "source": [
    "df_Result"
   ]
  },
  {
   "cell_type": "markdown",
   "metadata": {},
   "source": [
    "## Вывод: \n",
    "\n",
    "- Мы произвели оценку входных данных, а также убедились в том, что данные не нуждаются в значительной преобработке. \n",
    "- Было произведено ресемплирование до 1 часа, выделены категориальные признаки характеризующие месяц, день недели, день и час. \n",
    "- Вычислено скользящее среднее и дисперсия\n",
    "- Определна стационарность нашего процесса\n",
    "- Оптимальная модель для работы с нашим датасетом(временным рядом) - **алгоритм LightGBM**, он показал наименьшее значение значение ошибки, при этом скорость обучения высокая. \n",
    "- В заданный интервал занчения RMSE, также \"уложились\"- модель градиентного бустинга **CatBoost**, и по самому краю модель **Случайный лес**"
   ]
  },
  {
   "cell_type": "code",
   "execution_count": null,
   "metadata": {},
   "outputs": [],
   "source": []
  }
 ],
 "metadata": {
  "ExecuteTimeLog": [
   {
    "duration": 4115,
    "start_time": "2021-09-15T15:17:02.632Z"
   },
   {
    "duration": 1240,
    "start_time": "2021-09-15T15:18:49.737Z"
   },
   {
    "duration": 5,
    "start_time": "2021-09-15T15:26:09.582Z"
   },
   {
    "duration": 348,
    "start_time": "2021-09-15T15:34:00.543Z"
   },
   {
    "duration": 457,
    "start_time": "2021-09-15T15:34:59.167Z"
   },
   {
    "duration": 44,
    "start_time": "2021-09-15T15:36:47.315Z"
   },
   {
    "duration": 477,
    "start_time": "2021-09-15T15:37:20.034Z"
   },
   {
    "duration": 9,
    "start_time": "2021-09-15T15:37:28.235Z"
   },
   {
    "duration": 1972,
    "start_time": "2021-09-15T15:38:36.732Z"
   },
   {
    "duration": 175,
    "start_time": "2021-09-15T15:38:54.670Z"
   },
   {
    "duration": 140,
    "start_time": "2021-09-15T15:39:08.117Z"
   },
   {
    "duration": 231,
    "start_time": "2021-09-15T15:39:17.629Z"
   },
   {
    "duration": 180,
    "start_time": "2021-09-15T15:41:17.644Z"
   },
   {
    "duration": 300,
    "start_time": "2021-09-15T15:41:48.731Z"
   },
   {
    "duration": 384,
    "start_time": "2021-09-15T15:41:59.843Z"
   },
   {
    "duration": 371,
    "start_time": "2021-09-15T15:42:31.798Z"
   },
   {
    "duration": 854,
    "start_time": "2021-09-15T15:44:11.746Z"
   },
   {
    "duration": 344,
    "start_time": "2021-09-15T15:45:55.923Z"
   },
   {
    "duration": 543,
    "start_time": "2021-09-15T15:46:15.131Z"
   },
   {
    "duration": 11,
    "start_time": "2021-09-15T15:46:28.707Z"
   },
   {
    "duration": 11,
    "start_time": "2021-09-15T16:01:24.581Z"
   },
   {
    "duration": 101,
    "start_time": "2021-09-15T16:08:45.618Z"
   },
   {
    "duration": 13,
    "start_time": "2021-09-15T16:11:33.803Z"
   },
   {
    "duration": 13,
    "start_time": "2021-09-15T16:11:47.668Z"
   },
   {
    "duration": 5,
    "start_time": "2021-09-16T10:21:18.802Z"
   },
   {
    "duration": 4361,
    "start_time": "2021-09-16T10:21:25.675Z"
   },
   {
    "duration": 1645,
    "start_time": "2021-09-16T10:21:30.039Z"
   },
   {
    "duration": 7,
    "start_time": "2021-09-16T10:21:31.687Z"
   },
   {
    "duration": 78,
    "start_time": "2021-09-16T10:21:31.697Z"
   },
   {
    "duration": 16,
    "start_time": "2021-09-16T10:21:31.778Z"
   },
   {
    "duration": 326,
    "start_time": "2021-09-16T10:21:31.797Z"
   },
   {
    "duration": 20,
    "start_time": "2021-09-16T10:21:32.126Z"
   },
   {
    "duration": 33,
    "start_time": "2021-09-16T10:21:32.151Z"
   },
   {
    "duration": 8,
    "start_time": "2021-09-16T10:21:32.187Z"
   },
   {
    "duration": 717,
    "start_time": "2021-09-16T10:23:54.891Z"
   },
   {
    "duration": 671,
    "start_time": "2021-09-16T10:24:09.628Z"
   },
   {
    "duration": 410,
    "start_time": "2021-09-16T10:24:33.812Z"
   },
   {
    "duration": 278,
    "start_time": "2021-09-16T10:24:45.787Z"
   },
   {
    "duration": 851,
    "start_time": "2021-09-16T10:25:01.996Z"
   },
   {
    "duration": 283,
    "start_time": "2021-09-16T10:25:15.844Z"
   },
   {
    "duration": 978,
    "start_time": "2021-09-16T10:27:49.134Z"
   },
   {
    "duration": 1274,
    "start_time": "2021-09-16T10:29:44.046Z"
   },
   {
    "duration": 3019,
    "start_time": "2021-09-16T10:31:02.373Z"
   },
   {
    "duration": 747,
    "start_time": "2021-09-16T10:31:33.575Z"
   },
   {
    "duration": 273,
    "start_time": "2021-09-16T10:32:19.759Z"
   },
   {
    "duration": 573,
    "start_time": "2021-09-16T10:32:34.870Z"
   },
   {
    "duration": 94,
    "start_time": "2021-09-16T10:34:19.098Z"
   },
   {
    "duration": 110,
    "start_time": "2021-09-16T10:34:22.487Z"
   },
   {
    "duration": 3038,
    "start_time": "2021-09-16T10:34:39.910Z"
   },
   {
    "duration": 7,
    "start_time": "2021-09-16T11:00:50.482Z"
   },
   {
    "duration": 81,
    "start_time": "2021-09-16T11:03:01.347Z"
   },
   {
    "duration": 3492,
    "start_time": "2021-09-16T11:03:10.956Z"
   },
   {
    "duration": 6,
    "start_time": "2021-09-16T11:04:10.036Z"
   },
   {
    "duration": 2934,
    "start_time": "2021-09-16T11:04:14.910Z"
   },
   {
    "duration": 89,
    "start_time": "2021-09-16T11:04:34.510Z"
   },
   {
    "duration": 3218,
    "start_time": "2021-09-16T11:04:38.669Z"
   },
   {
    "duration": 9289,
    "start_time": "2021-09-16T11:05:12.996Z"
   },
   {
    "duration": 5701,
    "start_time": "2021-09-16T11:07:11.654Z"
   },
   {
    "duration": 7,
    "start_time": "2021-09-16T11:16:36.537Z"
   },
   {
    "duration": 557,
    "start_time": "2021-09-16T11:16:40.321Z"
   },
   {
    "duration": 7,
    "start_time": "2021-09-16T11:16:54.311Z"
   },
   {
    "duration": 618,
    "start_time": "2021-09-16T11:16:58.320Z"
   },
   {
    "duration": 6,
    "start_time": "2021-09-16T11:17:14.543Z"
   },
   {
    "duration": 778,
    "start_time": "2021-09-16T11:17:23.202Z"
   },
   {
    "duration": 490,
    "start_time": "2021-09-16T11:17:43.153Z"
   },
   {
    "duration": 520,
    "start_time": "2021-09-16T11:17:48.441Z"
   },
   {
    "duration": 6,
    "start_time": "2021-09-16T11:18:20.242Z"
   },
   {
    "duration": 6111,
    "start_time": "2021-09-16T11:18:24.889Z"
   },
   {
    "duration": 96,
    "start_time": "2021-09-16T11:18:52.779Z"
   },
   {
    "duration": 5866,
    "start_time": "2021-09-16T11:19:02.074Z"
   },
   {
    "duration": 7,
    "start_time": "2021-09-16T11:21:12.524Z"
   },
   {
    "duration": 732,
    "start_time": "2021-09-16T11:21:22.259Z"
   },
   {
    "duration": 6,
    "start_time": "2021-09-16T11:22:14.244Z"
   },
   {
    "duration": 5934,
    "start_time": "2021-09-16T11:22:16.867Z"
   },
   {
    "duration": 9,
    "start_time": "2021-09-16T11:22:50.790Z"
   },
   {
    "duration": 3906,
    "start_time": "2021-09-16T11:22:52.619Z"
   },
   {
    "duration": 7,
    "start_time": "2021-09-16T11:23:07.226Z"
   },
   {
    "duration": 5882,
    "start_time": "2021-09-16T11:23:10.683Z"
   },
   {
    "duration": 7,
    "start_time": "2021-09-16T11:25:01.004Z"
   },
   {
    "duration": 607,
    "start_time": "2021-09-16T11:25:03.628Z"
   },
   {
    "duration": 6,
    "start_time": "2021-09-16T11:26:19.413Z"
   },
   {
    "duration": 3885,
    "start_time": "2021-09-16T11:26:22.229Z"
   },
   {
    "duration": 6,
    "start_time": "2021-09-16T11:28:33.902Z"
   },
   {
    "duration": 7323,
    "start_time": "2021-09-16T11:28:37.527Z"
   },
   {
    "duration": 7276,
    "start_time": "2021-09-16T11:29:04.822Z"
   },
   {
    "duration": 8,
    "start_time": "2021-09-16T11:29:12.103Z"
   },
   {
    "duration": 7528,
    "start_time": "2021-09-16T11:29:29.415Z"
   },
   {
    "duration": 5821,
    "start_time": "2021-09-16T11:29:48.791Z"
   },
   {
    "duration": 6,
    "start_time": "2021-09-16T11:31:20.416Z"
   },
   {
    "duration": 5924,
    "start_time": "2021-09-16T11:31:24.608Z"
   },
   {
    "duration": 9,
    "start_time": "2021-09-16T11:34:15.489Z"
   },
   {
    "duration": 5980,
    "start_time": "2021-09-16T11:34:18.785Z"
   },
   {
    "duration": 7,
    "start_time": "2021-09-16T11:34:34.802Z"
   },
   {
    "duration": 9,
    "start_time": "2021-09-16T11:34:44.889Z"
   },
   {
    "duration": 5991,
    "start_time": "2021-09-16T11:34:46.711Z"
   },
   {
    "duration": 6,
    "start_time": "2021-09-16T11:35:20.315Z"
   },
   {
    "duration": 6021,
    "start_time": "2021-09-16T11:35:22.777Z"
   },
   {
    "duration": 7,
    "start_time": "2021-09-16T11:35:42.568Z"
   },
   {
    "duration": 8,
    "start_time": "2021-09-16T11:35:46.641Z"
   },
   {
    "duration": 5942,
    "start_time": "2021-09-16T11:35:47.281Z"
   },
   {
    "duration": 8,
    "start_time": "2021-09-16T11:36:38.033Z"
   },
   {
    "duration": 6050,
    "start_time": "2021-09-16T11:36:40.818Z"
   },
   {
    "duration": 7,
    "start_time": "2021-09-16T11:37:09.162Z"
   },
   {
    "duration": 5914,
    "start_time": "2021-09-16T11:37:12.458Z"
   },
   {
    "duration": 8,
    "start_time": "2021-09-16T11:43:58.534Z"
   },
   {
    "duration": 311,
    "start_time": "2021-09-16T11:44:01.902Z"
   },
   {
    "duration": 8,
    "start_time": "2021-09-16T11:44:24.639Z"
   },
   {
    "duration": 6296,
    "start_time": "2021-09-16T11:44:27.582Z"
   },
   {
    "duration": 5947,
    "start_time": "2021-09-16T11:44:49.363Z"
   },
   {
    "duration": 5915,
    "start_time": "2021-09-16T11:44:59.576Z"
   },
   {
    "duration": 8,
    "start_time": "2021-09-16T12:39:49.229Z"
   },
   {
    "duration": 3971,
    "start_time": "2021-09-16T12:39:51.252Z"
   },
   {
    "duration": 8,
    "start_time": "2021-09-16T12:42:00.453Z"
   },
   {
    "duration": 3872,
    "start_time": "2021-09-16T12:42:04.269Z"
   },
   {
    "duration": 8,
    "start_time": "2021-09-16T12:42:35.349Z"
   },
   {
    "duration": 4018,
    "start_time": "2021-09-16T12:42:38.133Z"
   },
   {
    "duration": 10,
    "start_time": "2021-09-16T12:42:56.973Z"
   },
   {
    "duration": 3959,
    "start_time": "2021-09-16T12:43:00.374Z"
   },
   {
    "duration": 7,
    "start_time": "2021-09-16T12:43:33.728Z"
   },
   {
    "duration": 4009,
    "start_time": "2021-09-16T12:43:50.967Z"
   },
   {
    "duration": 10,
    "start_time": "2021-09-16T12:44:26.990Z"
   },
   {
    "duration": 5987,
    "start_time": "2021-09-16T12:44:28.878Z"
   },
   {
    "duration": 8,
    "start_time": "2021-09-16T12:46:58.655Z"
   },
   {
    "duration": 5955,
    "start_time": "2021-09-16T12:47:02.591Z"
   },
   {
    "duration": 9,
    "start_time": "2021-09-16T12:47:31.786Z"
   },
   {
    "duration": 3967,
    "start_time": "2021-09-16T12:47:33.742Z"
   },
   {
    "duration": 7,
    "start_time": "2021-09-16T12:48:53.824Z"
   },
   {
    "duration": 4000,
    "start_time": "2021-09-16T12:48:55.745Z"
   },
   {
    "duration": 8,
    "start_time": "2021-09-16T12:50:01.538Z"
   },
   {
    "duration": 4150,
    "start_time": "2021-09-16T12:50:04.905Z"
   },
   {
    "duration": 7,
    "start_time": "2021-09-16T12:50:21.409Z"
   },
   {
    "duration": 3983,
    "start_time": "2021-09-16T12:50:25.281Z"
   },
   {
    "duration": 91,
    "start_time": "2021-09-16T12:52:52.954Z"
   },
   {
    "duration": 470,
    "start_time": "2021-09-16T12:53:05.683Z"
   },
   {
    "duration": 7,
    "start_time": "2021-09-16T12:58:45.214Z"
   },
   {
    "duration": 516,
    "start_time": "2021-09-16T12:58:48.197Z"
   },
   {
    "duration": 7,
    "start_time": "2021-09-16T12:59:02.869Z"
   },
   {
    "duration": 5913,
    "start_time": "2021-09-16T12:59:03.669Z"
   },
   {
    "duration": 7,
    "start_time": "2021-09-16T12:59:19.662Z"
   },
   {
    "duration": 6031,
    "start_time": "2021-09-16T12:59:26.965Z"
   },
   {
    "duration": 8,
    "start_time": "2021-09-16T13:00:03.974Z"
   },
   {
    "duration": 6179,
    "start_time": "2021-09-16T13:00:07.949Z"
   },
   {
    "duration": 7,
    "start_time": "2021-09-16T13:02:44.966Z"
   },
   {
    "duration": 6171,
    "start_time": "2021-09-16T13:02:47.726Z"
   },
   {
    "duration": 7,
    "start_time": "2021-09-16T13:03:22.270Z"
   },
   {
    "duration": 5922,
    "start_time": "2021-09-16T13:03:24.662Z"
   },
   {
    "duration": 9,
    "start_time": "2021-09-16T13:04:41.192Z"
   },
   {
    "duration": 6109,
    "start_time": "2021-09-16T13:04:44.326Z"
   },
   {
    "duration": 8,
    "start_time": "2021-09-16T13:05:02.305Z"
   },
   {
    "duration": 6031,
    "start_time": "2021-09-16T13:05:07.015Z"
   },
   {
    "duration": 8,
    "start_time": "2021-09-16T13:05:39.407Z"
   },
   {
    "duration": 3891,
    "start_time": "2021-09-16T13:05:43.385Z"
   },
   {
    "duration": 7,
    "start_time": "2021-09-16T13:06:02.544Z"
   },
   {
    "duration": 6070,
    "start_time": "2021-09-16T13:06:05.904Z"
   },
   {
    "duration": 6377,
    "start_time": "2021-09-16T13:06:43.259Z"
   },
   {
    "duration": 9,
    "start_time": "2021-09-16T13:09:42.179Z"
   },
   {
    "duration": 287,
    "start_time": "2021-09-16T13:09:53.065Z"
   },
   {
    "duration": 130,
    "start_time": "2021-09-16T13:10:24.690Z"
   },
   {
    "duration": 298,
    "start_time": "2021-09-16T13:11:10.018Z"
   },
   {
    "duration": 8,
    "start_time": "2021-09-16T13:11:38.348Z"
   },
   {
    "duration": 624,
    "start_time": "2021-09-16T13:11:40.107Z"
   },
   {
    "duration": 9,
    "start_time": "2021-09-16T13:11:56.930Z"
   },
   {
    "duration": 1323,
    "start_time": "2021-09-16T13:11:57.032Z"
   },
   {
    "duration": 8,
    "start_time": "2021-09-16T13:19:00.960Z"
   },
   {
    "duration": 287,
    "start_time": "2021-09-16T13:19:04.583Z"
   },
   {
    "duration": 6199,
    "start_time": "2021-09-16T13:19:36.207Z"
   },
   {
    "duration": 8,
    "start_time": "2021-09-16T13:19:48.407Z"
   },
   {
    "duration": 7,
    "start_time": "2021-09-16T13:19:58.759Z"
   },
   {
    "duration": 5995,
    "start_time": "2021-09-16T13:20:03.566Z"
   },
   {
    "duration": 9,
    "start_time": "2021-09-16T13:21:01.392Z"
   },
   {
    "duration": 5955,
    "start_time": "2021-09-16T13:21:05.718Z"
   },
   {
    "duration": 8,
    "start_time": "2021-09-16T13:21:51.134Z"
   },
   {
    "duration": 6145,
    "start_time": "2021-09-16T13:21:55.263Z"
   },
   {
    "duration": 6126,
    "start_time": "2021-09-16T13:22:11.375Z"
   },
   {
    "duration": 11,
    "start_time": "2021-09-16T13:22:31.489Z"
   },
   {
    "duration": 256,
    "start_time": "2021-09-16T13:24:46.897Z"
   },
   {
    "duration": 1017,
    "start_time": "2021-09-16T13:25:18.419Z"
   },
   {
    "duration": 374,
    "start_time": "2021-09-16T13:25:34.402Z"
   },
   {
    "duration": 6187,
    "start_time": "2021-09-16T13:25:46.737Z"
   },
   {
    "duration": 9,
    "start_time": "2021-09-16T13:26:10.889Z"
   },
   {
    "duration": 12,
    "start_time": "2021-09-16T13:26:20.081Z"
   },
   {
    "duration": 6142,
    "start_time": "2021-09-16T13:26:23.154Z"
   },
   {
    "duration": 960,
    "start_time": "2021-09-16T13:56:42.144Z"
   },
   {
    "duration": 1368,
    "start_time": "2021-09-16T13:57:31.215Z"
   },
   {
    "duration": 93,
    "start_time": "2021-09-16T13:58:45.335Z"
   },
   {
    "duration": 16,
    "start_time": "2021-09-16T13:58:53.886Z"
   },
   {
    "duration": 6,
    "start_time": "2021-09-16T13:59:06.502Z"
   },
   {
    "duration": 1326,
    "start_time": "2021-09-16T13:59:37.575Z"
   },
   {
    "duration": 7,
    "start_time": "2021-09-16T14:00:01.399Z"
   },
   {
    "duration": 7,
    "start_time": "2021-09-16T14:00:20.006Z"
   },
   {
    "duration": 1177,
    "start_time": "2021-09-16T14:00:21.455Z"
   },
   {
    "duration": 1120,
    "start_time": "2021-09-16T14:04:41.835Z"
   },
   {
    "duration": 7,
    "start_time": "2021-09-16T14:06:44.809Z"
   },
   {
    "duration": 1232,
    "start_time": "2021-09-16T14:06:47.336Z"
   },
   {
    "duration": 3500,
    "start_time": "2021-09-16T14:06:56.524Z"
   },
   {
    "duration": 1671,
    "start_time": "2021-09-16T14:07:00.027Z"
   },
   {
    "duration": 8,
    "start_time": "2021-09-16T14:07:01.701Z"
   },
   {
    "duration": 114,
    "start_time": "2021-09-16T14:07:01.712Z"
   },
   {
    "duration": 18,
    "start_time": "2021-09-16T14:07:01.829Z"
   },
   {
    "duration": 340,
    "start_time": "2021-09-16T14:07:01.849Z"
   },
   {
    "duration": 17,
    "start_time": "2021-09-16T14:07:02.191Z"
   },
   {
    "duration": 25,
    "start_time": "2021-09-16T14:07:02.211Z"
   },
   {
    "duration": 25,
    "start_time": "2021-09-16T14:07:02.238Z"
   },
   {
    "duration": 486,
    "start_time": "2021-09-16T14:07:02.265Z"
   },
   {
    "duration": 7,
    "start_time": "2021-09-16T14:08:48.314Z"
   },
   {
    "duration": 1202,
    "start_time": "2021-09-16T14:08:51.642Z"
   },
   {
    "duration": 3348,
    "start_time": "2021-09-16T14:09:39.447Z"
   },
   {
    "duration": 1631,
    "start_time": "2021-09-16T14:09:42.800Z"
   },
   {
    "duration": 8,
    "start_time": "2021-09-16T14:09:44.434Z"
   },
   {
    "duration": 96,
    "start_time": "2021-09-16T14:09:44.445Z"
   },
   {
    "duration": 13,
    "start_time": "2021-09-16T14:09:44.543Z"
   },
   {
    "duration": 339,
    "start_time": "2021-09-16T14:09:44.559Z"
   },
   {
    "duration": 22,
    "start_time": "2021-09-16T14:09:44.901Z"
   },
   {
    "duration": 27,
    "start_time": "2021-09-16T14:09:44.927Z"
   },
   {
    "duration": 23,
    "start_time": "2021-09-16T14:09:44.957Z"
   },
   {
    "duration": 1258,
    "start_time": "2021-09-16T14:09:44.983Z"
   },
   {
    "duration": 3753,
    "start_time": "2021-09-16T14:13:37.371Z"
   },
   {
    "duration": 1611,
    "start_time": "2021-09-16T14:13:41.127Z"
   },
   {
    "duration": 11,
    "start_time": "2021-09-16T14:13:42.742Z"
   },
   {
    "duration": 93,
    "start_time": "2021-09-16T14:13:42.757Z"
   },
   {
    "duration": 14,
    "start_time": "2021-09-16T14:13:42.854Z"
   },
   {
    "duration": 348,
    "start_time": "2021-09-16T14:13:42.871Z"
   },
   {
    "duration": 21,
    "start_time": "2021-09-16T14:13:43.222Z"
   },
   {
    "duration": 8,
    "start_time": "2021-09-16T14:13:43.246Z"
   },
   {
    "duration": 1143,
    "start_time": "2021-09-16T14:13:43.283Z"
   },
   {
    "duration": 19,
    "start_time": "2021-09-16T14:14:09.190Z"
   },
   {
    "duration": 3444,
    "start_time": "2021-09-16T14:14:19.137Z"
   },
   {
    "duration": 1652,
    "start_time": "2021-09-16T14:14:22.585Z"
   },
   {
    "duration": 10,
    "start_time": "2021-09-16T14:14:24.240Z"
   },
   {
    "duration": 106,
    "start_time": "2021-09-16T14:14:24.252Z"
   },
   {
    "duration": 27,
    "start_time": "2021-09-16T14:14:24.360Z"
   },
   {
    "duration": 342,
    "start_time": "2021-09-16T14:14:24.390Z"
   },
   {
    "duration": 18,
    "start_time": "2021-09-16T14:14:24.735Z"
   },
   {
    "duration": 27,
    "start_time": "2021-09-16T14:14:24.757Z"
   },
   {
    "duration": 1208,
    "start_time": "2021-09-16T14:14:24.787Z"
   },
   {
    "duration": 1204,
    "start_time": "2021-09-16T14:21:57.699Z"
   },
   {
    "duration": 1120,
    "start_time": "2021-09-16T14:22:12.436Z"
   },
   {
    "duration": 1096,
    "start_time": "2021-09-16T14:22:19.805Z"
   },
   {
    "duration": 1131,
    "start_time": "2021-09-16T14:23:21.820Z"
   },
   {
    "duration": 918,
    "start_time": "2021-09-16T14:28:45.901Z"
   },
   {
    "duration": 3490,
    "start_time": "2021-09-16T14:31:02.353Z"
   },
   {
    "duration": 2170,
    "start_time": "2021-09-16T14:31:05.846Z"
   },
   {
    "duration": 10,
    "start_time": "2021-09-16T14:31:08.019Z"
   },
   {
    "duration": 85,
    "start_time": "2021-09-16T14:31:08.032Z"
   },
   {
    "duration": 18,
    "start_time": "2021-09-16T14:31:08.120Z"
   },
   {
    "duration": 352,
    "start_time": "2021-09-16T14:31:08.141Z"
   },
   {
    "duration": 19,
    "start_time": "2021-09-16T14:31:08.495Z"
   },
   {
    "duration": 21,
    "start_time": "2021-09-16T14:31:08.517Z"
   },
   {
    "duration": 1148,
    "start_time": "2021-09-16T14:31:08.541Z"
   },
   {
    "duration": 1290,
    "start_time": "2021-09-16T14:31:09.692Z"
   },
   {
    "duration": 400,
    "start_time": "2021-09-16T14:31:10.985Z"
   },
   {
    "duration": 2904,
    "start_time": "2021-09-16T14:32:49.191Z"
   },
   {
    "duration": 3546,
    "start_time": "2021-09-16T14:33:05.519Z"
   },
   {
    "duration": 1197,
    "start_time": "2021-09-16T14:42:09.451Z"
   },
   {
    "duration": 900,
    "start_time": "2021-09-16T14:42:31.707Z"
   },
   {
    "duration": 880,
    "start_time": "2021-09-16T14:42:42.531Z"
   },
   {
    "duration": 632,
    "start_time": "2021-09-16T14:42:55.796Z"
   },
   {
    "duration": 673,
    "start_time": "2021-09-16T14:43:12.036Z"
   },
   {
    "duration": 699,
    "start_time": "2021-09-16T14:43:31.900Z"
   },
   {
    "duration": 294,
    "start_time": "2021-09-16T14:43:55.540Z"
   },
   {
    "duration": 696,
    "start_time": "2021-09-16T14:44:03.933Z"
   },
   {
    "duration": 294,
    "start_time": "2021-09-16T14:44:37.986Z"
   },
   {
    "duration": 3179,
    "start_time": "2021-09-16T14:44:43.843Z"
   },
   {
    "duration": 685,
    "start_time": "2021-09-16T14:45:08.507Z"
   },
   {
    "duration": 667,
    "start_time": "2021-09-16T14:46:09.955Z"
   },
   {
    "duration": 631,
    "start_time": "2021-09-16T14:46:22.808Z"
   },
   {
    "duration": 4250,
    "start_time": "2021-09-16T14:47:40.829Z"
   },
   {
    "duration": 246,
    "start_time": "2021-09-16T14:48:11.540Z"
   },
   {
    "duration": 3362,
    "start_time": "2021-09-16T14:48:23.654Z"
   },
   {
    "duration": 695,
    "start_time": "2021-09-16T14:49:47.158Z"
   },
   {
    "duration": 23,
    "start_time": "2021-09-16T14:50:43.565Z"
   },
   {
    "duration": 672,
    "start_time": "2021-09-16T14:54:59.833Z"
   },
   {
    "duration": 787,
    "start_time": "2021-09-16T14:55:22.738Z"
   },
   {
    "duration": 919,
    "start_time": "2021-09-16T14:58:27.395Z"
   },
   {
    "duration": 864,
    "start_time": "2021-09-16T14:58:37.938Z"
   },
   {
    "duration": 711,
    "start_time": "2021-09-16T14:58:47.355Z"
   },
   {
    "duration": 727,
    "start_time": "2021-09-16T14:59:26.340Z"
   },
   {
    "duration": 3923,
    "start_time": "2021-09-16T15:08:45.761Z"
   },
   {
    "duration": 1601,
    "start_time": "2021-09-16T15:08:49.688Z"
   },
   {
    "duration": 9,
    "start_time": "2021-09-16T15:08:51.292Z"
   },
   {
    "duration": 80,
    "start_time": "2021-09-16T15:08:51.304Z"
   },
   {
    "duration": 14,
    "start_time": "2021-09-16T15:08:51.388Z"
   },
   {
    "duration": 350,
    "start_time": "2021-09-16T15:08:51.405Z"
   },
   {
    "duration": 34,
    "start_time": "2021-09-16T15:08:51.758Z"
   },
   {
    "duration": 10,
    "start_time": "2021-09-16T15:08:51.797Z"
   },
   {
    "duration": 1483,
    "start_time": "2021-09-16T15:08:51.810Z"
   },
   {
    "duration": 1276,
    "start_time": "2021-09-16T15:08:53.296Z"
   },
   {
    "duration": 3347,
    "start_time": "2021-09-16T15:08:54.582Z"
   },
   {
    "duration": 794,
    "start_time": "2021-09-16T15:08:57.932Z"
   },
   {
    "duration": 3319,
    "start_time": "2021-09-16T15:09:35.831Z"
   },
   {
    "duration": 1676,
    "start_time": "2021-09-16T15:09:39.153Z"
   },
   {
    "duration": 9,
    "start_time": "2021-09-16T15:09:40.832Z"
   },
   {
    "duration": 90,
    "start_time": "2021-09-16T15:09:40.844Z"
   },
   {
    "duration": 13,
    "start_time": "2021-09-16T15:09:40.936Z"
   },
   {
    "duration": 323,
    "start_time": "2021-09-16T15:09:40.951Z"
   },
   {
    "duration": 23,
    "start_time": "2021-09-16T15:09:41.277Z"
   },
   {
    "duration": 58,
    "start_time": "2021-09-16T15:09:41.303Z"
   },
   {
    "duration": 1096,
    "start_time": "2021-09-16T15:09:41.364Z"
   },
   {
    "duration": 1301,
    "start_time": "2021-09-16T15:09:42.462Z"
   },
   {
    "duration": 3221,
    "start_time": "2021-09-16T15:09:43.766Z"
   },
   {
    "duration": 758,
    "start_time": "2021-09-16T15:09:46.989Z"
   },
   {
    "duration": 473,
    "start_time": "2021-09-16T16:41:27.770Z"
   },
   {
    "duration": 7442,
    "start_time": "2021-09-16T16:41:58.043Z"
   },
   {
    "duration": 6537,
    "start_time": "2021-09-16T16:42:16.949Z"
   },
   {
    "duration": 1304,
    "start_time": "2021-09-16T16:42:53.095Z"
   },
   {
    "duration": 1110,
    "start_time": "2021-09-16T16:43:24.294Z"
   },
   {
    "duration": 8339,
    "start_time": "2021-09-16T16:43:41.365Z"
   },
   {
    "duration": 1414,
    "start_time": "2021-09-16T16:44:49.158Z"
   },
   {
    "duration": 7684,
    "start_time": "2021-09-16T16:45:41.855Z"
   },
   {
    "duration": 7,
    "start_time": "2021-09-16T16:46:49.704Z"
   },
   {
    "duration": 1050,
    "start_time": "2021-09-16T16:47:50.555Z"
   },
   {
    "duration": 10,
    "start_time": "2021-09-16T16:47:54.968Z"
   },
   {
    "duration": 11,
    "start_time": "2021-09-16T16:48:08.880Z"
   },
   {
    "duration": 3310,
    "start_time": "2021-09-16T16:48:24.354Z"
   },
   {
    "duration": 1630,
    "start_time": "2021-09-16T16:48:27.668Z"
   },
   {
    "duration": 11,
    "start_time": "2021-09-16T16:48:29.302Z"
   },
   {
    "duration": 89,
    "start_time": "2021-09-16T16:48:29.316Z"
   },
   {
    "duration": 13,
    "start_time": "2021-09-16T16:48:29.407Z"
   },
   {
    "duration": 336,
    "start_time": "2021-09-16T16:48:29.423Z"
   },
   {
    "duration": 27,
    "start_time": "2021-09-16T16:48:29.761Z"
   },
   {
    "duration": 16,
    "start_time": "2021-09-16T16:48:29.792Z"
   },
   {
    "duration": 1149,
    "start_time": "2021-09-16T16:48:29.811Z"
   },
   {
    "duration": 1269,
    "start_time": "2021-09-16T16:48:30.963Z"
   },
   {
    "duration": 3235,
    "start_time": "2021-09-16T16:48:32.234Z"
   },
   {
    "duration": 743,
    "start_time": "2021-09-16T16:48:35.471Z"
   },
   {
    "duration": 1265,
    "start_time": "2021-09-16T16:48:36.217Z"
   },
   {
    "duration": 10,
    "start_time": "2021-09-16T16:48:37.485Z"
   },
   {
    "duration": 1460,
    "start_time": "2021-09-16T16:49:25.074Z"
   },
   {
    "duration": 1113,
    "start_time": "2021-09-16T16:49:41.090Z"
   },
   {
    "duration": 483,
    "start_time": "2021-09-17T07:17:25.435Z"
   },
   {
    "duration": 4704,
    "start_time": "2021-09-17T07:17:36.468Z"
   },
   {
    "duration": 1641,
    "start_time": "2021-09-17T07:17:41.175Z"
   },
   {
    "duration": 10,
    "start_time": "2021-09-17T07:17:42.818Z"
   },
   {
    "duration": 79,
    "start_time": "2021-09-17T07:17:42.830Z"
   },
   {
    "duration": 13,
    "start_time": "2021-09-17T07:17:42.911Z"
   },
   {
    "duration": 346,
    "start_time": "2021-09-17T07:17:42.926Z"
   },
   {
    "duration": 19,
    "start_time": "2021-09-17T07:17:43.274Z"
   },
   {
    "duration": 22,
    "start_time": "2021-09-17T07:17:43.297Z"
   },
   {
    "duration": 1256,
    "start_time": "2021-09-17T07:17:43.322Z"
   },
   {
    "duration": 1261,
    "start_time": "2021-09-17T07:17:44.581Z"
   },
   {
    "duration": 3390,
    "start_time": "2021-09-17T07:17:45.844Z"
   },
   {
    "duration": 461,
    "start_time": "2021-09-17T07:17:49.236Z"
   },
   {
    "duration": -46,
    "start_time": "2021-09-17T07:17:49.745Z"
   },
   {
    "duration": 281,
    "start_time": "2021-09-17T07:19:09.563Z"
   },
   {
    "duration": 286,
    "start_time": "2021-09-17T07:19:46.388Z"
   },
   {
    "duration": 562,
    "start_time": "2021-09-17T07:20:00.011Z"
   },
   {
    "duration": 291,
    "start_time": "2021-09-17T07:20:29.204Z"
   },
   {
    "duration": 242,
    "start_time": "2021-09-17T07:20:45.102Z"
   },
   {
    "duration": 243,
    "start_time": "2021-09-17T07:20:55.739Z"
   },
   {
    "duration": 748,
    "start_time": "2021-09-17T07:21:28.556Z"
   },
   {
    "duration": 31,
    "start_time": "2021-09-17T07:43:57.293Z"
   },
   {
    "duration": 27,
    "start_time": "2021-09-17T07:44:09.623Z"
   },
   {
    "duration": 3397,
    "start_time": "2021-09-17T08:06:57.647Z"
   },
   {
    "duration": 1668,
    "start_time": "2021-09-17T08:07:01.048Z"
   },
   {
    "duration": 10,
    "start_time": "2021-09-17T08:07:02.719Z"
   },
   {
    "duration": 92,
    "start_time": "2021-09-17T08:07:02.733Z"
   },
   {
    "duration": 15,
    "start_time": "2021-09-17T08:07:02.828Z"
   },
   {
    "duration": 328,
    "start_time": "2021-09-17T08:07:02.846Z"
   },
   {
    "duration": 19,
    "start_time": "2021-09-17T08:07:03.176Z"
   },
   {
    "duration": 8,
    "start_time": "2021-09-17T08:07:03.198Z"
   },
   {
    "duration": 1196,
    "start_time": "2021-09-17T08:07:03.209Z"
   },
   {
    "duration": 1268,
    "start_time": "2021-09-17T08:07:04.408Z"
   },
   {
    "duration": 3451,
    "start_time": "2021-09-17T08:07:05.679Z"
   },
   {
    "duration": 764,
    "start_time": "2021-09-17T08:07:09.133Z"
   },
   {
    "duration": 1332,
    "start_time": "2021-09-17T08:07:09.899Z"
   },
   {
    "duration": 49,
    "start_time": "2021-09-17T08:07:11.234Z"
   },
   {
    "duration": 32,
    "start_time": "2021-09-17T08:08:50.038Z"
   },
   {
    "duration": 26,
    "start_time": "2021-09-17T08:33:47.487Z"
   },
   {
    "duration": 27,
    "start_time": "2021-09-17T08:34:07.154Z"
   },
   {
    "duration": 3740,
    "start_time": "2021-09-17T08:34:24.208Z"
   },
   {
    "duration": 1640,
    "start_time": "2021-09-17T08:34:27.951Z"
   },
   {
    "duration": 9,
    "start_time": "2021-09-17T08:34:29.594Z"
   },
   {
    "duration": 70,
    "start_time": "2021-09-17T08:34:29.606Z"
   },
   {
    "duration": 14,
    "start_time": "2021-09-17T08:34:29.678Z"
   },
   {
    "duration": 346,
    "start_time": "2021-09-17T08:34:29.695Z"
   },
   {
    "duration": 26,
    "start_time": "2021-09-17T08:34:30.044Z"
   },
   {
    "duration": 15,
    "start_time": "2021-09-17T08:34:30.074Z"
   },
   {
    "duration": 1134,
    "start_time": "2021-09-17T08:34:30.091Z"
   },
   {
    "duration": 1265,
    "start_time": "2021-09-17T08:34:31.227Z"
   },
   {
    "duration": 3299,
    "start_time": "2021-09-17T08:34:32.495Z"
   },
   {
    "duration": 743,
    "start_time": "2021-09-17T08:34:35.797Z"
   },
   {
    "duration": 1263,
    "start_time": "2021-09-17T08:34:36.543Z"
   },
   {
    "duration": 31,
    "start_time": "2021-09-17T08:34:37.808Z"
   },
   {
    "duration": 56,
    "start_time": "2021-09-17T08:34:37.841Z"
   },
   {
    "duration": 26,
    "start_time": "2021-09-17T08:34:37.899Z"
   },
   {
    "duration": 30,
    "start_time": "2021-09-17T09:32:22.464Z"
   },
   {
    "duration": 33,
    "start_time": "2021-09-17T09:33:50.014Z"
   },
   {
    "duration": 3682,
    "start_time": "2021-09-17T09:36:02.697Z"
   },
   {
    "duration": 1704,
    "start_time": "2021-09-17T09:36:06.382Z"
   },
   {
    "duration": 10,
    "start_time": "2021-09-17T09:36:08.089Z"
   },
   {
    "duration": 75,
    "start_time": "2021-09-17T09:36:08.102Z"
   },
   {
    "duration": 13,
    "start_time": "2021-09-17T09:36:08.181Z"
   },
   {
    "duration": 393,
    "start_time": "2021-09-17T09:36:08.197Z"
   },
   {
    "duration": 20,
    "start_time": "2021-09-17T09:36:08.593Z"
   },
   {
    "duration": 14,
    "start_time": "2021-09-17T09:36:08.617Z"
   },
   {
    "duration": 1322,
    "start_time": "2021-09-17T09:36:08.634Z"
   },
   {
    "duration": 1329,
    "start_time": "2021-09-17T09:36:09.967Z"
   },
   {
    "duration": 3455,
    "start_time": "2021-09-17T09:36:11.298Z"
   },
   {
    "duration": 880,
    "start_time": "2021-09-17T09:36:14.756Z"
   },
   {
    "duration": 1476,
    "start_time": "2021-09-17T09:36:15.639Z"
   },
   {
    "duration": 31,
    "start_time": "2021-09-17T09:36:17.118Z"
   },
   {
    "duration": 33,
    "start_time": "2021-09-17T09:36:17.168Z"
   },
   {
    "duration": 30,
    "start_time": "2021-09-17T09:36:17.203Z"
   },
   {
    "duration": 11,
    "start_time": "2021-09-17T10:27:36.712Z"
   },
   {
    "duration": 28,
    "start_time": "2021-09-17T10:31:21.324Z"
   },
   {
    "duration": 14,
    "start_time": "2021-09-17T10:32:07.715Z"
   },
   {
    "duration": 23,
    "start_time": "2021-09-17T10:35:34.340Z"
   },
   {
    "duration": 23885,
    "start_time": "2021-09-17T10:39:51.895Z"
   },
   {
    "duration": 12,
    "start_time": "2021-09-17T10:45:39.505Z"
   },
   {
    "duration": 19,
    "start_time": "2021-09-17T10:47:53.242Z"
   },
   {
    "duration": 139,
    "start_time": "2021-09-17T10:50:45.755Z"
   },
   {
    "duration": 31,
    "start_time": "2021-09-17T10:51:11.795Z"
   },
   {
    "duration": 44,
    "start_time": "2021-09-17T10:51:23.644Z"
   },
   {
    "duration": 3476,
    "start_time": "2021-09-17T10:51:30.004Z"
   },
   {
    "duration": 1838,
    "start_time": "2021-09-17T10:51:33.483Z"
   },
   {
    "duration": 15,
    "start_time": "2021-09-17T10:51:35.325Z"
   },
   {
    "duration": 79,
    "start_time": "2021-09-17T10:51:35.343Z"
   },
   {
    "duration": 18,
    "start_time": "2021-09-17T10:51:35.425Z"
   },
   {
    "duration": 353,
    "start_time": "2021-09-17T10:51:35.446Z"
   },
   {
    "duration": 19,
    "start_time": "2021-09-17T10:51:35.801Z"
   },
   {
    "duration": 8,
    "start_time": "2021-09-17T10:51:35.823Z"
   },
   {
    "duration": 1240,
    "start_time": "2021-09-17T10:51:35.834Z"
   },
   {
    "duration": 1425,
    "start_time": "2021-09-17T10:51:37.077Z"
   },
   {
    "duration": 3738,
    "start_time": "2021-09-17T10:51:38.504Z"
   },
   {
    "duration": 911,
    "start_time": "2021-09-17T10:51:42.244Z"
   },
   {
    "duration": 1801,
    "start_time": "2021-09-17T10:51:43.157Z"
   },
   {
    "duration": 40,
    "start_time": "2021-09-17T10:51:44.967Z"
   },
   {
    "duration": 57,
    "start_time": "2021-09-17T10:51:45.010Z"
   },
   {
    "duration": 33,
    "start_time": "2021-09-17T10:51:45.069Z"
   },
   {
    "duration": 8,
    "start_time": "2021-09-17T10:51:45.104Z"
   },
   {
    "duration": 58,
    "start_time": "2021-09-17T10:51:45.114Z"
   },
   {
    "duration": 25,
    "start_time": "2021-09-17T10:51:45.175Z"
   },
   {
    "duration": 24038,
    "start_time": "2021-09-17T10:51:45.202Z"
   },
   {
    "duration": 8,
    "start_time": "2021-09-17T10:52:09.242Z"
   },
   {
    "duration": 19,
    "start_time": "2021-09-17T10:52:09.267Z"
   },
   {
    "duration": 36,
    "start_time": "2021-09-17T10:52:09.291Z"
   },
   {
    "duration": 15261,
    "start_time": "2021-09-17T10:58:44.930Z"
   },
   {
    "duration": 247621,
    "start_time": "2021-09-17T11:03:17.173Z"
   },
   {
    "duration": 9,
    "start_time": "2021-09-17T11:08:47.807Z"
   },
   {
    "duration": 352,
    "start_time": "2021-09-17T11:10:39.016Z"
   },
   {
    "duration": 159612,
    "start_time": "2021-09-17T11:11:31.075Z"
   },
   {
    "duration": 3520,
    "start_time": "2021-09-17T11:16:36.436Z"
   },
   {
    "duration": 1786,
    "start_time": "2021-09-17T11:16:39.960Z"
   },
   {
    "duration": 18,
    "start_time": "2021-09-17T11:16:41.749Z"
   },
   {
    "duration": 69,
    "start_time": "2021-09-17T11:16:41.771Z"
   },
   {
    "duration": 25,
    "start_time": "2021-09-17T11:16:41.842Z"
   },
   {
    "duration": 349,
    "start_time": "2021-09-17T11:16:41.869Z"
   },
   {
    "duration": 19,
    "start_time": "2021-09-17T11:16:42.220Z"
   },
   {
    "duration": 29,
    "start_time": "2021-09-17T11:16:42.242Z"
   },
   {
    "duration": 1235,
    "start_time": "2021-09-17T11:16:42.276Z"
   },
   {
    "duration": 1338,
    "start_time": "2021-09-17T11:16:43.514Z"
   },
   {
    "duration": 3622,
    "start_time": "2021-09-17T11:16:44.855Z"
   },
   {
    "duration": 824,
    "start_time": "2021-09-17T11:16:48.480Z"
   },
   {
    "duration": 1391,
    "start_time": "2021-09-17T11:16:49.307Z"
   },
   {
    "duration": 31,
    "start_time": "2021-09-17T11:16:50.701Z"
   },
   {
    "duration": 56,
    "start_time": "2021-09-17T11:16:50.735Z"
   },
   {
    "duration": 31,
    "start_time": "2021-09-17T11:16:50.794Z"
   },
   {
    "duration": 10,
    "start_time": "2021-09-17T11:16:50.828Z"
   },
   {
    "duration": 20,
    "start_time": "2021-09-17T11:16:50.869Z"
   },
   {
    "duration": 17,
    "start_time": "2021-09-17T11:16:50.891Z"
   },
   {
    "duration": 23481,
    "start_time": "2021-09-17T11:16:50.969Z"
   },
   {
    "duration": 14,
    "start_time": "2021-09-17T11:17:14.453Z"
   },
   {
    "duration": 24,
    "start_time": "2021-09-17T11:17:14.470Z"
   },
   {
    "duration": 67,
    "start_time": "2021-09-17T11:17:14.501Z"
   },
   {
    "duration": 10800,
    "start_time": "2021-09-17T11:17:14.572Z"
   },
   {
    "duration": 326120,
    "start_time": "2021-09-17T11:17:25.378Z"
   },
   {
    "duration": 67,
    "start_time": "2021-09-17T11:22:51.501Z"
   },
   {
    "duration": 158063,
    "start_time": "2021-09-17T11:22:51.572Z"
   },
   {
    "duration": 37,
    "start_time": "2021-09-17T11:25:29.638Z"
   },
   {
    "duration": 7,
    "start_time": "2021-09-17T11:25:29.678Z"
   },
   {
    "duration": 10,
    "start_time": "2021-09-17T14:28:54.849Z"
   },
   {
    "duration": 3648,
    "start_time": "2021-09-18T15:42:40.357Z"
   },
   {
    "duration": 1205,
    "start_time": "2021-09-18T15:42:44.007Z"
   },
   {
    "duration": 6,
    "start_time": "2021-09-18T15:42:45.216Z"
   },
   {
    "duration": 51,
    "start_time": "2021-09-18T15:42:45.225Z"
   },
   {
    "duration": 12,
    "start_time": "2021-09-18T15:42:45.278Z"
   },
   {
    "duration": 214,
    "start_time": "2021-09-18T15:42:45.300Z"
   },
   {
    "duration": 13,
    "start_time": "2021-09-18T15:42:45.515Z"
   },
   {
    "duration": 5,
    "start_time": "2021-09-18T15:42:45.530Z"
   },
   {
    "duration": 697,
    "start_time": "2021-09-18T15:42:45.537Z"
   },
   {
    "duration": 748,
    "start_time": "2021-09-18T15:42:46.236Z"
   },
   {
    "duration": 1968,
    "start_time": "2021-09-18T15:42:46.986Z"
   },
   {
    "duration": 266,
    "start_time": "2021-09-18T15:42:48.956Z"
   },
   {
    "duration": 416,
    "start_time": "2021-09-18T15:42:48.808Z"
   },
   {
    "duration": 414,
    "start_time": "2021-09-18T15:42:48.811Z"
   },
   {
    "duration": 413,
    "start_time": "2021-09-18T15:42:48.814Z"
   },
   {
    "duration": 407,
    "start_time": "2021-09-18T15:42:48.821Z"
   },
   {
    "duration": 405,
    "start_time": "2021-09-18T15:42:48.824Z"
   },
   {
    "duration": 402,
    "start_time": "2021-09-18T15:42:48.829Z"
   },
   {
    "duration": 398,
    "start_time": "2021-09-18T15:42:48.834Z"
   },
   {
    "duration": 396,
    "start_time": "2021-09-18T15:42:48.838Z"
   },
   {
    "duration": 393,
    "start_time": "2021-09-18T15:42:48.842Z"
   },
   {
    "duration": 391,
    "start_time": "2021-09-18T15:42:48.845Z"
   },
   {
    "duration": 390,
    "start_time": "2021-09-18T15:42:48.848Z"
   },
   {
    "duration": 387,
    "start_time": "2021-09-18T15:42:48.852Z"
   },
   {
    "duration": 385,
    "start_time": "2021-09-18T15:42:48.855Z"
   },
   {
    "duration": 384,
    "start_time": "2021-09-18T15:42:48.858Z"
   },
   {
    "duration": 382,
    "start_time": "2021-09-18T15:42:48.861Z"
   },
   {
    "duration": 374,
    "start_time": "2021-09-18T15:42:48.871Z"
   },
   {
    "duration": 372,
    "start_time": "2021-09-18T15:42:48.874Z"
   },
   {
    "duration": 371,
    "start_time": "2021-09-18T15:42:48.877Z"
   },
   {
    "duration": 132,
    "start_time": "2021-09-18T15:55:25.990Z"
   },
   {
    "duration": 2008,
    "start_time": "2021-09-18T15:55:36.626Z"
   },
   {
    "duration": 1153,
    "start_time": "2021-09-18T15:55:38.636Z"
   },
   {
    "duration": 9,
    "start_time": "2021-09-18T15:55:39.791Z"
   },
   {
    "duration": 52,
    "start_time": "2021-09-18T15:55:39.802Z"
   },
   {
    "duration": 8,
    "start_time": "2021-09-18T15:55:39.856Z"
   },
   {
    "duration": 184,
    "start_time": "2021-09-18T15:55:39.865Z"
   },
   {
    "duration": 12,
    "start_time": "2021-09-18T15:55:40.050Z"
   },
   {
    "duration": 4,
    "start_time": "2021-09-18T15:55:40.065Z"
   },
   {
    "duration": 667,
    "start_time": "2021-09-18T15:55:40.071Z"
   },
   {
    "duration": 723,
    "start_time": "2021-09-18T15:55:40.739Z"
   },
   {
    "duration": 1887,
    "start_time": "2021-09-18T15:55:41.464Z"
   },
   {
    "duration": 426,
    "start_time": "2021-09-18T15:55:43.353Z"
   },
   {
    "duration": 771,
    "start_time": "2021-09-18T15:55:43.780Z"
   },
   {
    "duration": 19,
    "start_time": "2021-09-18T15:55:44.553Z"
   },
   {
    "duration": 35,
    "start_time": "2021-09-18T15:55:44.574Z"
   },
   {
    "duration": 18,
    "start_time": "2021-09-18T15:55:44.610Z"
   },
   {
    "duration": 6,
    "start_time": "2021-09-18T15:55:44.629Z"
   },
   {
    "duration": 214,
    "start_time": "2021-09-18T15:55:44.637Z"
   },
   {
    "duration": 13,
    "start_time": "2021-09-18T15:55:44.854Z"
   },
   {
    "duration": 15395,
    "start_time": "2021-09-18T15:55:44.869Z"
   },
   {
    "duration": 5,
    "start_time": "2021-09-18T15:56:00.266Z"
   },
   {
    "duration": 28,
    "start_time": "2021-09-18T15:56:00.273Z"
   },
   {
    "duration": 19,
    "start_time": "2021-09-18T15:56:00.304Z"
   },
   {
    "duration": 1090,
    "start_time": "2021-09-18T15:56:00.325Z"
   },
   {
    "duration": 22495,
    "start_time": "2021-09-18T15:56:01.417Z"
   },
   {
    "duration": 5,
    "start_time": "2021-09-18T15:56:23.913Z"
   },
   {
    "duration": 2008,
    "start_time": "2021-09-18T15:56:31.663Z"
   },
   {
    "duration": 1318,
    "start_time": "2021-09-18T15:56:33.673Z"
   },
   {
    "duration": 9,
    "start_time": "2021-09-18T15:56:34.993Z"
   },
   {
    "duration": 52,
    "start_time": "2021-09-18T15:56:35.005Z"
   },
   {
    "duration": 10,
    "start_time": "2021-09-18T15:56:35.059Z"
   },
   {
    "duration": 193,
    "start_time": "2021-09-18T15:56:35.070Z"
   },
   {
    "duration": 12,
    "start_time": "2021-09-18T15:56:35.264Z"
   },
   {
    "duration": 5,
    "start_time": "2021-09-18T15:56:35.279Z"
   },
   {
    "duration": 645,
    "start_time": "2021-09-18T15:56:35.285Z"
   },
   {
    "duration": 713,
    "start_time": "2021-09-18T15:56:35.931Z"
   },
   {
    "duration": 1891,
    "start_time": "2021-09-18T15:56:36.646Z"
   },
   {
    "duration": 428,
    "start_time": "2021-09-18T15:56:38.539Z"
   },
   {
    "duration": 734,
    "start_time": "2021-09-18T15:56:38.968Z"
   },
   {
    "duration": 18,
    "start_time": "2021-09-18T15:56:39.704Z"
   },
   {
    "duration": 17,
    "start_time": "2021-09-18T15:56:39.724Z"
   },
   {
    "duration": 17,
    "start_time": "2021-09-18T15:56:39.742Z"
   },
   {
    "duration": 6,
    "start_time": "2021-09-18T15:56:39.761Z"
   },
   {
    "duration": 38,
    "start_time": "2021-09-18T15:56:39.768Z"
   },
   {
    "duration": 31,
    "start_time": "2021-09-18T15:56:39.807Z"
   },
   {
    "duration": 15283,
    "start_time": "2021-09-18T15:56:39.840Z"
   },
   {
    "duration": 5,
    "start_time": "2021-09-18T15:56:55.124Z"
   },
   {
    "duration": 13,
    "start_time": "2021-09-18T15:56:55.131Z"
   },
   {
    "duration": 18,
    "start_time": "2021-09-18T15:56:55.147Z"
   },
   {
    "duration": 1241,
    "start_time": "2021-09-18T15:56:55.166Z"
   },
   {
    "duration": 22606,
    "start_time": "2021-09-18T15:56:56.409Z"
   },
   {
    "duration": 4,
    "start_time": "2021-09-18T15:57:19.017Z"
   },
   {
    "duration": 112158,
    "start_time": "2021-09-18T15:57:19.023Z"
   },
   {
    "duration": 19,
    "start_time": "2021-09-18T15:59:11.183Z"
   },
   {
    "duration": 5,
    "start_time": "2021-09-18T15:59:11.203Z"
   },
   {
    "duration": 11,
    "start_time": "2021-09-18T15:59:11.210Z"
   },
   {
    "duration": 2007,
    "start_time": "2021-09-18T16:18:11.405Z"
   },
   {
    "duration": 1147,
    "start_time": "2021-09-18T16:18:13.414Z"
   },
   {
    "duration": 7,
    "start_time": "2021-09-18T16:18:14.563Z"
   },
   {
    "duration": 62,
    "start_time": "2021-09-18T16:18:14.572Z"
   },
   {
    "duration": 8,
    "start_time": "2021-09-18T16:18:14.636Z"
   },
   {
    "duration": 188,
    "start_time": "2021-09-18T16:18:14.646Z"
   },
   {
    "duration": 13,
    "start_time": "2021-09-18T16:18:14.837Z"
   },
   {
    "duration": 21,
    "start_time": "2021-09-18T16:18:14.854Z"
   },
   {
    "duration": 631,
    "start_time": "2021-09-18T16:18:14.877Z"
   },
   {
    "duration": 721,
    "start_time": "2021-09-18T16:18:15.510Z"
   },
   {
    "duration": 1950,
    "start_time": "2021-09-18T16:18:16.232Z"
   },
   {
    "duration": 433,
    "start_time": "2021-09-18T16:18:18.183Z"
   },
   {
    "duration": 737,
    "start_time": "2021-09-18T16:18:18.617Z"
   },
   {
    "duration": 19,
    "start_time": "2021-09-18T16:18:19.355Z"
   },
   {
    "duration": 34,
    "start_time": "2021-09-18T16:18:19.375Z"
   },
   {
    "duration": 17,
    "start_time": "2021-09-18T16:18:19.410Z"
   },
   {
    "duration": 6,
    "start_time": "2021-09-18T16:18:19.428Z"
   },
   {
    "duration": 10,
    "start_time": "2021-09-18T16:18:19.435Z"
   },
   {
    "duration": 55,
    "start_time": "2021-09-18T16:18:19.447Z"
   },
   {
    "duration": 15201,
    "start_time": "2021-09-18T16:18:19.505Z"
   },
   {
    "duration": 4,
    "start_time": "2021-09-18T16:18:34.708Z"
   },
   {
    "duration": 14,
    "start_time": "2021-09-18T16:18:34.714Z"
   },
   {
    "duration": 18,
    "start_time": "2021-09-18T16:18:34.730Z"
   },
   {
    "duration": 1251,
    "start_time": "2021-09-18T16:18:34.750Z"
   },
   {
    "duration": 22113,
    "start_time": "2021-09-18T16:18:36.003Z"
   },
   {
    "duration": 5,
    "start_time": "2021-09-18T16:18:58.117Z"
   },
   {
    "duration": 113404,
    "start_time": "2021-09-18T16:18:58.124Z"
   },
   {
    "duration": 12,
    "start_time": "2021-09-18T16:20:51.530Z"
   },
   {
    "duration": 5,
    "start_time": "2021-09-18T16:20:51.544Z"
   },
   {
    "duration": 9,
    "start_time": "2021-09-18T16:20:51.551Z"
   },
   {
    "duration": 2050,
    "start_time": "2021-09-18T16:57:14.534Z"
   },
   {
    "duration": 1300,
    "start_time": "2021-09-18T16:57:16.587Z"
   },
   {
    "duration": 6,
    "start_time": "2021-09-18T16:57:17.889Z"
   },
   {
    "duration": 50,
    "start_time": "2021-09-18T16:57:17.899Z"
   },
   {
    "duration": 8,
    "start_time": "2021-09-18T16:57:17.950Z"
   },
   {
    "duration": 178,
    "start_time": "2021-09-18T16:57:17.960Z"
   },
   {
    "duration": 12,
    "start_time": "2021-09-18T16:57:18.139Z"
   },
   {
    "duration": 5,
    "start_time": "2021-09-18T16:57:18.153Z"
   },
   {
    "duration": 670,
    "start_time": "2021-09-18T16:57:18.160Z"
   },
   {
    "duration": 719,
    "start_time": "2021-09-18T16:57:18.831Z"
   },
   {
    "duration": 1890,
    "start_time": "2021-09-18T16:57:19.552Z"
   },
   {
    "duration": 434,
    "start_time": "2021-09-18T16:57:21.444Z"
   },
   {
    "duration": 748,
    "start_time": "2021-09-18T16:57:21.880Z"
   },
   {
    "duration": 19,
    "start_time": "2021-09-18T16:57:22.630Z"
   },
   {
    "duration": 18,
    "start_time": "2021-09-18T16:57:22.650Z"
   },
   {
    "duration": 41,
    "start_time": "2021-09-18T16:57:22.669Z"
   },
   {
    "duration": 7,
    "start_time": "2021-09-18T16:57:22.712Z"
   },
   {
    "duration": 15,
    "start_time": "2021-09-18T16:57:22.720Z"
   },
   {
    "duration": 16,
    "start_time": "2021-09-18T16:57:22.736Z"
   },
   {
    "duration": 252,
    "start_time": "2021-09-18T16:57:22.801Z"
   },
   {
    "duration": 5,
    "start_time": "2021-09-18T16:57:23.054Z"
   },
   {
    "duration": 14,
    "start_time": "2021-09-18T16:57:23.061Z"
   },
   {
    "duration": 20,
    "start_time": "2021-09-18T16:57:23.078Z"
   },
   {
    "duration": 1201,
    "start_time": "2021-09-18T16:57:23.100Z"
   },
   {
    "duration": 127,
    "start_time": "2021-09-18T16:57:24.303Z"
   },
   {
    "duration": 6,
    "start_time": "2021-09-18T16:57:24.431Z"
   },
   {
    "duration": 113387,
    "start_time": "2021-09-18T16:57:24.439Z"
   },
   {
    "duration": 13,
    "start_time": "2021-09-18T16:59:17.828Z"
   },
   {
    "duration": 5,
    "start_time": "2021-09-18T16:59:17.842Z"
   },
   {
    "duration": 9,
    "start_time": "2021-09-18T16:59:17.849Z"
   },
   {
    "duration": 2079,
    "start_time": "2021-09-18T17:11:26.274Z"
   },
   {
    "duration": 1139,
    "start_time": "2021-09-18T17:11:28.355Z"
   },
   {
    "duration": 10,
    "start_time": "2021-09-18T17:11:29.497Z"
   },
   {
    "duration": 50,
    "start_time": "2021-09-18T17:11:29.513Z"
   },
   {
    "duration": 8,
    "start_time": "2021-09-18T17:11:29.565Z"
   },
   {
    "duration": 204,
    "start_time": "2021-09-18T17:11:29.574Z"
   },
   {
    "duration": 34,
    "start_time": "2021-09-18T17:11:29.779Z"
   },
   {
    "duration": 6,
    "start_time": "2021-09-18T17:11:29.815Z"
   },
   {
    "duration": 697,
    "start_time": "2021-09-18T17:11:29.822Z"
   },
   {
    "duration": 771,
    "start_time": "2021-09-18T17:11:30.521Z"
   },
   {
    "duration": 2119,
    "start_time": "2021-09-18T17:11:31.293Z"
   },
   {
    "duration": 458,
    "start_time": "2021-09-18T17:11:33.414Z"
   },
   {
    "duration": 779,
    "start_time": "2021-09-18T17:11:33.874Z"
   },
   {
    "duration": 19,
    "start_time": "2021-09-18T17:11:34.655Z"
   },
   {
    "duration": 38,
    "start_time": "2021-09-18T17:11:34.675Z"
   },
   {
    "duration": 17,
    "start_time": "2021-09-18T17:11:34.715Z"
   },
   {
    "duration": 6,
    "start_time": "2021-09-18T17:11:34.733Z"
   },
   {
    "duration": 11,
    "start_time": "2021-09-18T17:11:34.741Z"
   },
   {
    "duration": 54,
    "start_time": "2021-09-18T17:11:34.754Z"
   },
   {
    "duration": 11011,
    "start_time": "2021-09-18T17:11:34.809Z"
   },
   {
    "duration": 6,
    "start_time": "2021-09-18T17:11:45.821Z"
   },
   {
    "duration": 16,
    "start_time": "2021-09-18T17:11:45.828Z"
   },
   {
    "duration": 18,
    "start_time": "2021-09-18T17:11:45.847Z"
   },
   {
    "duration": 8646,
    "start_time": "2021-09-18T17:11:45.867Z"
   },
   {
    "duration": 106611,
    "start_time": "2021-09-18T17:11:54.515Z"
   },
   {
    "duration": 12,
    "start_time": "2021-09-18T17:13:41.200Z"
   },
   {
    "duration": 113975,
    "start_time": "2021-09-18T17:13:41.214Z"
   },
   {
    "duration": 17,
    "start_time": "2021-09-18T17:15:35.191Z"
   },
   {
    "duration": 6,
    "start_time": "2021-09-18T17:15:35.210Z"
   },
   {
    "duration": 8,
    "start_time": "2021-09-18T17:15:35.218Z"
   },
   {
    "duration": 1982,
    "start_time": "2021-09-18T17:53:28.705Z"
   },
   {
    "duration": 1169,
    "start_time": "2021-09-18T17:53:30.690Z"
   },
   {
    "duration": 7,
    "start_time": "2021-09-18T17:53:31.861Z"
   },
   {
    "duration": 55,
    "start_time": "2021-09-18T17:53:31.869Z"
   },
   {
    "duration": 8,
    "start_time": "2021-09-18T17:53:31.926Z"
   },
   {
    "duration": 193,
    "start_time": "2021-09-18T17:53:31.935Z"
   },
   {
    "duration": 12,
    "start_time": "2021-09-18T17:53:32.130Z"
   },
   {
    "duration": 7,
    "start_time": "2021-09-18T17:53:32.144Z"
   },
   {
    "duration": 654,
    "start_time": "2021-09-18T17:53:32.153Z"
   },
   {
    "duration": 765,
    "start_time": "2021-09-18T17:53:32.808Z"
   },
   {
    "duration": 1917,
    "start_time": "2021-09-18T17:53:33.575Z"
   },
   {
    "duration": 440,
    "start_time": "2021-09-18T17:53:35.494Z"
   },
   {
    "duration": 761,
    "start_time": "2021-09-18T17:53:35.935Z"
   },
   {
    "duration": 21,
    "start_time": "2021-09-18T17:53:36.698Z"
   },
   {
    "duration": 19,
    "start_time": "2021-09-18T17:53:36.720Z"
   },
   {
    "duration": 17,
    "start_time": "2021-09-18T17:53:36.741Z"
   },
   {
    "duration": 6,
    "start_time": "2021-09-18T17:53:36.759Z"
   },
   {
    "duration": 51,
    "start_time": "2021-09-18T17:53:36.766Z"
   },
   {
    "duration": 80,
    "start_time": "2021-09-18T17:53:36.821Z"
   },
   {
    "duration": 10428,
    "start_time": "2021-09-18T17:53:36.904Z"
   },
   {
    "duration": 6,
    "start_time": "2021-09-18T17:53:47.334Z"
   },
   {
    "duration": 13,
    "start_time": "2021-09-18T17:53:47.342Z"
   },
   {
    "duration": 41,
    "start_time": "2021-09-18T17:53:47.358Z"
   },
   {
    "duration": 1310,
    "start_time": "2021-09-18T17:53:47.402Z"
   },
   {
    "duration": 20691,
    "start_time": "2021-09-18T17:53:48.713Z"
   },
   {
    "duration": 5,
    "start_time": "2021-09-18T17:54:09.406Z"
   },
   {
    "duration": 115509,
    "start_time": "2021-09-18T17:54:09.412Z"
   },
   {
    "duration": 13,
    "start_time": "2021-09-18T17:56:04.923Z"
   },
   {
    "duration": 5,
    "start_time": "2021-09-18T17:56:04.937Z"
   },
   {
    "duration": 9,
    "start_time": "2021-09-18T17:56:04.944Z"
   },
   {
    "duration": 6198,
    "start_time": "2021-09-18T19:03:47.801Z"
   },
   {
    "duration": 1691,
    "start_time": "2021-09-18T19:04:15.518Z"
   },
   {
    "duration": 10,
    "start_time": "2021-09-18T19:04:22.003Z"
   },
   {
    "duration": 63,
    "start_time": "2021-09-18T19:04:23.143Z"
   },
   {
    "duration": 14,
    "start_time": "2021-09-18T19:04:23.993Z"
   },
   {
    "duration": 304,
    "start_time": "2021-09-18T19:04:24.593Z"
   },
   {
    "duration": 18,
    "start_time": "2021-09-18T19:04:25.186Z"
   },
   {
    "duration": 8,
    "start_time": "2021-09-18T19:04:26.654Z"
   },
   {
    "duration": 1144,
    "start_time": "2021-09-18T19:04:28.127Z"
   },
   {
    "duration": 1223,
    "start_time": "2021-09-18T19:04:30.525Z"
   },
   {
    "duration": 3274,
    "start_time": "2021-09-18T19:04:31.751Z"
   },
   {
    "duration": 744,
    "start_time": "2021-09-18T19:04:35.027Z"
   },
   {
    "duration": 498,
    "start_time": "2021-09-18T19:05:12.336Z"
   },
   {
    "duration": 14,
    "start_time": "2021-09-18T19:05:20.539Z"
   },
   {
    "duration": 715,
    "start_time": "2021-09-18T19:06:05.899Z"
   },
   {
    "duration": 3305,
    "start_time": "2021-09-18T19:09:24.677Z"
   },
   {
    "duration": 824,
    "start_time": "2021-09-18T19:09:34.777Z"
   },
   {
    "duration": 669,
    "start_time": "2021-09-18T19:10:05.496Z"
   }
  ],
  "hide_input": false,
  "kernelspec": {
   "display_name": "Python 3 (ipykernel)",
   "language": "python",
   "name": "python3"
  },
  "language_info": {
   "codemirror_mode": {
    "name": "ipython",
    "version": 3
   },
   "file_extension": ".py",
   "mimetype": "text/x-python",
   "name": "python",
   "nbconvert_exporter": "python",
   "pygments_lexer": "ipython3",
   "version": "3.8.5"
  },
  "toc": {
   "base_numbering": 1,
   "nav_menu": {},
   "number_sections": true,
   "sideBar": true,
   "skip_h1_title": true,
   "title_cell": "Содержание",
   "title_sidebar": "Contents",
   "toc_cell": true,
   "toc_position": {},
   "toc_section_display": true,
   "toc_window_display": false
  },
  "varInspector": {
   "cols": {
    "lenName": 16,
    "lenType": 16,
    "lenVar": 40
   },
   "kernels_config": {
    "python": {
     "delete_cmd_postfix": "",
     "delete_cmd_prefix": "del ",
     "library": "var_list.py",
     "varRefreshCmd": "print(var_dic_list())"
    },
    "r": {
     "delete_cmd_postfix": ") ",
     "delete_cmd_prefix": "rm(",
     "library": "var_list.r",
     "varRefreshCmd": "cat(var_dic_list()) "
    }
   },
   "types_to_exclude": [
    "module",
    "function",
    "builtin_function_or_method",
    "instance",
    "_Feature"
   ],
   "window_display": false
  }
 },
 "nbformat": 4,
 "nbformat_minor": 2
}
