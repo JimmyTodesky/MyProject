{
 "cells": [
  {
   "cell_type": "markdown",
   "metadata": {},
   "source": [
    "# Прогнозирование подходящего тарифа"
   ]
  },
  {
   "cell_type": "markdown",
   "metadata": {
    "toc": true
   },
   "source": [
    "<h1>Содержание<span class=\"tocSkip\"></span></h1>\n",
    "<div class=\"toc\"><ul class=\"toc-item\"><li><span><a href=\"#Откройте-и-изучите-файл\" data-toc-modified-id=\"Откройте-и-изучите-файл-1\"><span class=\"toc-item-num\">1&nbsp;&nbsp;</span>Откройте и изучите файл</a></span><ul class=\"toc-item\"><li><span><a href=\"#Вывод:\" data-toc-modified-id=\"Вывод:-1.1\"><span class=\"toc-item-num\">1.1&nbsp;&nbsp;</span>Вывод:</a></span></li></ul></li><li><span><a href=\"#Разбейте-данные-на-выборки\" data-toc-modified-id=\"Разбейте-данные-на-выборки-2\"><span class=\"toc-item-num\">2&nbsp;&nbsp;</span>Разбейте данные на выборки</a></span><ul class=\"toc-item\"><li><span><a href=\"#Вывод:\" data-toc-modified-id=\"Вывод:-2.1\"><span class=\"toc-item-num\">2.1&nbsp;&nbsp;</span>Вывод:</a></span></li></ul></li><li><span><a href=\"#Исследуйте-модели\" data-toc-modified-id=\"Исследуйте-модели-3\"><span class=\"toc-item-num\">3&nbsp;&nbsp;</span>Исследуйте модели</a></span><ul class=\"toc-item\"><li><span><a href=\"#Дерево-решений\" data-toc-modified-id=\"Дерево-решений-3.1\"><span class=\"toc-item-num\">3.1&nbsp;&nbsp;</span>Дерево решений</a></span><ul class=\"toc-item\"><li><span><a href=\"#Вывод:\" data-toc-modified-id=\"Вывод:-3.1.1\"><span class=\"toc-item-num\">3.1.1&nbsp;&nbsp;</span>Вывод:</a></span></li></ul></li><li><span><a href=\"#Модель-случайного-леса\" data-toc-modified-id=\"Модель-случайного-леса-3.2\"><span class=\"toc-item-num\">3.2&nbsp;&nbsp;</span>Модель случайного леса</a></span><ul class=\"toc-item\"><li><span><a href=\"#Вывод:\" data-toc-modified-id=\"Вывод:-3.2.1\"><span class=\"toc-item-num\">3.2.1&nbsp;&nbsp;</span>Вывод:</a></span></li></ul></li><li><span><a href=\"#Логистическая-регрессия\" data-toc-modified-id=\"Логистическая-регрессия-3.3\"><span class=\"toc-item-num\">3.3&nbsp;&nbsp;</span>Логистическая регрессия</a></span><ul class=\"toc-item\"><li><span><a href=\"#Вывод:\" data-toc-modified-id=\"Вывод:-3.3.1\"><span class=\"toc-item-num\">3.3.1&nbsp;&nbsp;</span>Вывод:</a></span></li></ul></li><li><span><a href=\"#Вывод:\" data-toc-modified-id=\"Вывод:-3.4\"><span class=\"toc-item-num\">3.4&nbsp;&nbsp;</span>Вывод:</a></span></li></ul></li><li><span><a href=\"#Проверьте-модель-на-тестовой-выборке\" data-toc-modified-id=\"Проверьте-модель-на-тестовой-выборке-4\"><span class=\"toc-item-num\">4&nbsp;&nbsp;</span>Проверьте модель на тестовой выборке</a></span><ul class=\"toc-item\"><li><span><a href=\"#Модель-дерева-решений\" data-toc-modified-id=\"Модель-дерева-решений-4.1\"><span class=\"toc-item-num\">4.1&nbsp;&nbsp;</span>Модель дерева решений</a></span><ul class=\"toc-item\"><li><span><a href=\"#Вывод:\" data-toc-modified-id=\"Вывод:-4.1.1\"><span class=\"toc-item-num\">4.1.1&nbsp;&nbsp;</span>Вывод:</a></span></li></ul></li><li><span><a href=\"#Модель-случайного-леса\" data-toc-modified-id=\"Модель-случайного-леса-4.2\"><span class=\"toc-item-num\">4.2&nbsp;&nbsp;</span>Модель случайного леса</a></span><ul class=\"toc-item\"><li><span><a href=\"#Вывод:\" data-toc-modified-id=\"Вывод:-4.2.1\"><span class=\"toc-item-num\">4.2.1&nbsp;&nbsp;</span>Вывод:</a></span></li></ul></li><li><span><a href=\"#Логистическая-регрессия\" data-toc-modified-id=\"Логистическая-регрессия-4.3\"><span class=\"toc-item-num\">4.3&nbsp;&nbsp;</span>Логистическая регрессия</a></span><ul class=\"toc-item\"><li><span><a href=\"#Вывод:\" data-toc-modified-id=\"Вывод:-4.3.1\"><span class=\"toc-item-num\">4.3.1&nbsp;&nbsp;</span>Вывод:</a></span></li></ul></li><li><span><a href=\"#Вывод:\" data-toc-modified-id=\"Вывод:-4.4\"><span class=\"toc-item-num\">4.4&nbsp;&nbsp;</span>Вывод:</a></span></li></ul></li><li><span><a href=\"#Вывод:\" data-toc-modified-id=\"Вывод:-5\"><span class=\"toc-item-num\">5&nbsp;&nbsp;</span>Вывод:</a></span></li></ul></div>"
   ]
  },
  {
   "cell_type": "markdown",
   "metadata": {},
   "source": [
    "## Откройте и изучите файл\n",
    "\n",
    "Для начала добавим все необходимые нам в работе бибилиотеки и модули:"
   ]
  },
  {
   "cell_type": "code",
   "execution_count": 25,
   "metadata": {},
   "outputs": [],
   "source": [
    "import pandas as pd\n",
    "from sklearn.model_selection import  train_test_split\n",
    "from sklearn.tree import DecisionTreeClassifier\n",
    "from sklearn.ensemble import RandomForestClassifier\n",
    "from sklearn.linear_model import LogisticRegression\n",
    "from sklearn.metrics import accuracy_score\n",
    "\n"
   ]
  },
  {
   "cell_type": "markdown",
   "metadata": {},
   "source": [
    "Теперь загрузим исходный датасет для его изучения:"
   ]
  },
  {
   "cell_type": "code",
   "execution_count": 2,
   "metadata": {},
   "outputs": [
    {
     "name": "stdout",
     "output_type": "stream",
     "text": [
      "<class 'pandas.core.frame.DataFrame'>\n",
      "RangeIndex: 3214 entries, 0 to 3213\n",
      "Data columns (total 5 columns):\n",
      "calls       3214 non-null float64\n",
      "minutes     3214 non-null float64\n",
      "messages    3214 non-null float64\n",
      "mb_used     3214 non-null float64\n",
      "is_ultra    3214 non-null int64\n",
      "dtypes: float64(4), int64(1)\n",
      "memory usage: 125.7 KB\n"
     ]
    },
    {
     "data": {
      "text/html": [
       "<div>\n",
       "<style scoped>\n",
       "    .dataframe tbody tr th:only-of-type {\n",
       "        vertical-align: middle;\n",
       "    }\n",
       "\n",
       "    .dataframe tbody tr th {\n",
       "        vertical-align: top;\n",
       "    }\n",
       "\n",
       "    .dataframe thead th {\n",
       "        text-align: right;\n",
       "    }\n",
       "</style>\n",
       "<table border=\"1\" class=\"dataframe\">\n",
       "  <thead>\n",
       "    <tr style=\"text-align: right;\">\n",
       "      <th></th>\n",
       "      <th>calls</th>\n",
       "      <th>minutes</th>\n",
       "      <th>messages</th>\n",
       "      <th>mb_used</th>\n",
       "      <th>is_ultra</th>\n",
       "    </tr>\n",
       "  </thead>\n",
       "  <tbody>\n",
       "    <tr>\n",
       "      <td>1415</td>\n",
       "      <td>82.0</td>\n",
       "      <td>507.89</td>\n",
       "      <td>88.0</td>\n",
       "      <td>17543.37</td>\n",
       "      <td>1</td>\n",
       "    </tr>\n",
       "    <tr>\n",
       "      <td>916</td>\n",
       "      <td>50.0</td>\n",
       "      <td>375.91</td>\n",
       "      <td>35.0</td>\n",
       "      <td>12388.40</td>\n",
       "      <td>0</td>\n",
       "    </tr>\n",
       "    <tr>\n",
       "      <td>1670</td>\n",
       "      <td>83.0</td>\n",
       "      <td>540.49</td>\n",
       "      <td>41.0</td>\n",
       "      <td>9127.74</td>\n",
       "      <td>0</td>\n",
       "    </tr>\n",
       "    <tr>\n",
       "      <td>686</td>\n",
       "      <td>79.0</td>\n",
       "      <td>562.99</td>\n",
       "      <td>19.0</td>\n",
       "      <td>25508.19</td>\n",
       "      <td>1</td>\n",
       "    </tr>\n",
       "    <tr>\n",
       "      <td>2951</td>\n",
       "      <td>78.0</td>\n",
       "      <td>531.29</td>\n",
       "      <td>20.0</td>\n",
       "      <td>9217.25</td>\n",
       "      <td>0</td>\n",
       "    </tr>\n",
       "    <tr>\n",
       "      <td>654</td>\n",
       "      <td>53.0</td>\n",
       "      <td>478.18</td>\n",
       "      <td>78.0</td>\n",
       "      <td>20152.53</td>\n",
       "      <td>0</td>\n",
       "    </tr>\n",
       "    <tr>\n",
       "      <td>2827</td>\n",
       "      <td>73.0</td>\n",
       "      <td>582.47</td>\n",
       "      <td>33.0</td>\n",
       "      <td>12095.91</td>\n",
       "      <td>0</td>\n",
       "    </tr>\n",
       "    <tr>\n",
       "      <td>1466</td>\n",
       "      <td>31.0</td>\n",
       "      <td>172.10</td>\n",
       "      <td>25.0</td>\n",
       "      <td>31077.59</td>\n",
       "      <td>0</td>\n",
       "    </tr>\n",
       "    <tr>\n",
       "      <td>2223</td>\n",
       "      <td>28.0</td>\n",
       "      <td>222.21</td>\n",
       "      <td>30.0</td>\n",
       "      <td>22986.30</td>\n",
       "      <td>0</td>\n",
       "    </tr>\n",
       "    <tr>\n",
       "      <td>2639</td>\n",
       "      <td>68.0</td>\n",
       "      <td>523.56</td>\n",
       "      <td>14.0</td>\n",
       "      <td>18910.66</td>\n",
       "      <td>0</td>\n",
       "    </tr>\n",
       "  </tbody>\n",
       "</table>\n",
       "</div>"
      ],
      "text/plain": [
       "      calls  minutes  messages   mb_used  is_ultra\n",
       "1415   82.0   507.89      88.0  17543.37         1\n",
       "916    50.0   375.91      35.0  12388.40         0\n",
       "1670   83.0   540.49      41.0   9127.74         0\n",
       "686    79.0   562.99      19.0  25508.19         1\n",
       "2951   78.0   531.29      20.0   9217.25         0\n",
       "654    53.0   478.18      78.0  20152.53         0\n",
       "2827   73.0   582.47      33.0  12095.91         0\n",
       "1466   31.0   172.10      25.0  31077.59         0\n",
       "2223   28.0   222.21      30.0  22986.30         0\n",
       "2639   68.0   523.56      14.0  18910.66         0"
      ]
     },
     "execution_count": 2,
     "metadata": {},
     "output_type": "execute_result"
    }
   ],
   "source": [
    "df = pd.read_csv('/datasets/users_behavior.csv')\n",
    "df.info()\n",
    "df.sample(10, random_state = 12345)"
   ]
  },
  {
   "cell_type": "markdown",
   "metadata": {},
   "source": [
    "### Вывод: \n",
    "\n",
    "В данном пункте мы загрузили датасет и изучили его общую информацию и визуально оценили по случайной выборке его данные. Также, загрузили необходимые для работы библиотеки и модули. Данные готовы к началу обработки для построения модели машинного обучения. "
   ]
  },
  {
   "cell_type": "markdown",
   "metadata": {},
   "source": [
    "## Разбейте данные на выборки\n",
    "\n",
    "Для разбиения датасета на выборки воспользуемся пропроциями 3:1:1 - три части оставим на обучающую выборку, одну часть на валидационную и одну часть на тестовую выборку. "
   ]
  },
  {
   "cell_type": "code",
   "execution_count": 15,
   "metadata": {},
   "outputs": [
    {
     "name": "stdout",
     "output_type": "stream",
     "text": [
      "<class 'pandas.core.frame.DataFrame'>\n",
      "RangeIndex: 3214 entries, 0 to 3213\n",
      "Data columns (total 4 columns):\n",
      "calls       3214 non-null float64\n",
      "minutes     3214 non-null float64\n",
      "messages    3214 non-null float64\n",
      "mb_used     3214 non-null float64\n",
      "dtypes: float64(4)\n",
      "memory usage: 100.6 KB\n",
      "\n",
      "<class 'pandas.core.frame.DataFrame'>\n",
      "Int64Index: 643 entries, 1386 to 3197\n",
      "Data columns (total 4 columns):\n",
      "calls       643 non-null float64\n",
      "minutes     643 non-null float64\n",
      "messages    643 non-null float64\n",
      "mb_used     643 non-null float64\n",
      "dtypes: float64(4)\n",
      "memory usage: 25.1 KB\n",
      "\n",
      "<class 'pandas.core.frame.DataFrame'>\n",
      "Int64Index: 643 entries, 160 to 2313\n",
      "Data columns (total 4 columns):\n",
      "calls       643 non-null float64\n",
      "minutes     643 non-null float64\n",
      "messages    643 non-null float64\n",
      "mb_used     643 non-null float64\n",
      "dtypes: float64(4)\n",
      "memory usage: 25.1 KB\n"
     ]
    }
   ],
   "source": [
    "features = df.drop('is_ultra', axis = 1)\n",
    "target = df['is_ultra']\n",
    "\n",
    "features_train, features_pie, target_train, target_pie = train_test_split(\n",
    "    features, target, test_size = 0.4, random_state = 12345)\n",
    "\n",
    "features_valid, features_test, target_valid, target_test = train_test_split(\n",
    "    features_pie, target_pie, test_size = 0.5, random_state = 12345)\n",
    "\n",
    "features.info()\n",
    "print()\n",
    "features_valid.info()\n",
    "print()\n",
    "features_test.info()"
   ]
  },
  {
   "cell_type": "markdown",
   "metadata": {},
   "source": [
    "### Вывод: \n",
    "Мы разбили наш датасет на три выборки следующим образом: для начала разбили исходный датасет на признаки, затем разбили признаки на три выборки - обучающую, валидационную и тестовую. Сделали это в два этапа, сначала разбили features и target в пропорции 60:40, 40 процентов сохранили в переменные features_pie и target_pie, а затем разбили их еще на 4 переменные, равные 20 процентов от начального датасета. "
   ]
  },
  {
   "cell_type": "markdown",
   "metadata": {},
   "source": [
    "## Исследуйте модели\n",
    "\n",
    "Исследуем модели для определения лучшей. Рассмотрим три модели - модель дерева, модель случайного леса, логистическую регрессию Попробуем определить для них оптимальные гиперпараметры.\n",
    "\n",
    "### Дерево решений\n",
    "\n",
    "Начнем с модели дерева решений:"
   ]
  },
  {
   "cell_type": "code",
   "execution_count": 50,
   "metadata": {
    "scrolled": true
   },
   "outputs": [
    {
     "name": "stdout",
     "output_type": "stream",
     "text": [
      "1 :  0.7542768273716952\n",
      "2 :  0.7822706065318819\n",
      "3 :  0.7853810264385692\n",
      "4 :  0.7791601866251944\n",
      "5 :  0.7791601866251944\n",
      "6 :  0.7838258164852255\n",
      "7 :  0.7822706065318819\n",
      "8 :  0.7791601866251944\n",
      "9 :  0.7822706065318819\n",
      "10 :  0.7744945567651633\n",
      "Accuracy наилучшей модели дерева решений на валидационной выборке: 0.7853810264385692\n"
     ]
    }
   ],
   "source": [
    "best_model_tree = None\n",
    "best_result_tree = 0\n",
    "for depth in range(1, 11):\n",
    "    model_tree = DecisionTreeClassifier(random_state=12345, max_depth = depth)\n",
    "    model_tree.fit(features_train, target_train)\n",
    "    predictions_valid = model_tree.predict(features_valid)\n",
    "    result_tree = accuracy_score(target_valid, predictions_valid)\n",
    "    print(depth,\": \", result_tree)\n",
    "    if result_tree > best_result_tree:\n",
    "        best_model_tree = model_tree\n",
    "        best_result_tree = result_tree\n",
    "        \n",
    "print(\"Accuracy наилучшей модели дерева решений на валидационной выборке:\", best_result_tree)"
   ]
  },
  {
   "cell_type": "markdown",
   "metadata": {},
   "source": [
    "#### Вывод:\n",
    "Проверим полученную модель с наилучшим параметром глубины равное 6 на тестовой выборке в следующем шаге. Для этого мы сохранили наилучшую модель в переменной best_model_tree"
   ]
  },
  {
   "cell_type": "markdown",
   "metadata": {},
   "source": [
    "### Модель случайного леса\n",
    "\n",
    "Сначала определим оптимальные гиперпараметры для получения качественной модели: \n"
   ]
  },
  {
   "cell_type": "code",
   "execution_count": null,
   "metadata": {
    "scrolled": true
   },
   "outputs": [],
   "source": [
    "best_model_for = None\n",
    "best_result_for = 0\n",
    "for est in range(1, 11):\n",
    "    model_for = RandomForestClassifier(random_state=12345, n_estimators = est) # обучите модель с заданным количеством деревьев\n",
    "    model_for.fit(features_train, target_train) # обучите модель на тренировочной выборке\n",
    "    result_for = model_for.score(features_valid, target_valid) # посчитайте качество модели на валидационной выборке\n",
    "    print(est,':', result_for)\n",
    "    if result_for > best_result_for:\n",
    "        best_model_for = model_for # сохраните наилучшую модель\n",
    "        best_result_for = result_for #  сохраните наилучшее значение метрики accuracy на валидационных данных\n",
    "        \n",
    "\n",
    "print(\"Accuracy наилучшей модели случайного леса на валидационной выборке:\", best_result_for)"
   ]
  },
  {
   "cell_type": "markdown",
   "metadata": {},
   "source": [
    "#### Вывод:\n",
    "Как видно из приведенных выше данных, наилучшее качество модели получается при значении глубины дерева 10. Мы сохранили наилучшую модель в переменной best_model_for, теперь ее можно проверить на тестовой выборке. Проделаем это уже в следующем пункте.\n",
    "\n",
    "### Логистическая регрессия\n",
    "\n",
    "Для начала обучим модель логистической регрессии на обучающей выборке и проверим на валидационной выборке: "
   ]
  },
  {
   "cell_type": "code",
   "execution_count": 49,
   "metadata": {
    "scrolled": true
   },
   "outputs": [
    {
     "name": "stdout",
     "output_type": "stream",
     "text": [
      "Accuracy модели логистической регрессии на валидационной выборке: 0.7589424572317263\n"
     ]
    },
    {
     "name": "stderr",
     "output_type": "stream",
     "text": [
      "/opt/conda/lib/python3.7/site-packages/sklearn/linear_model/logistic.py:432: FutureWarning: Default solver will be changed to 'lbfgs' in 0.22. Specify a solver to silence this warning.\n",
      "  FutureWarning)\n"
     ]
    }
   ],
   "source": [
    "model_log = LogisticRegression(random_state = 12345)\n",
    "model_log.fit(features_train, target_train) # обучите модель на тренировочной выборке\n",
    "result_log = model_log.score(features_valid, target_valid ) # получите метрику качества модели на валидационной выборке\n",
    "\n",
    "print(\"Accuracy модели логистической регрессии на валидационной выборке:\", result_log)"
   ]
  },
  {
   "cell_type": "markdown",
   "metadata": {},
   "source": [
    "#### Вывод: \n",
    "Мы обучили модель логистической регрессии и проверили ее на валидатационной выборке, в следующем пункте мы протестируем модели на тестовой выборке.\n",
    "\n",
    "### Вывод: \n",
    "\n",
    "Мы обучили модели дерева решений, случайного леса и логистической регрессии на тренировочных выборках. В следующем пункте мы произведем проверку моделей на тестовой выборке и проверим значения их качества."
   ]
  },
  {
   "cell_type": "markdown",
   "metadata": {},
   "source": [
    "## Проверьте модель на тестовой выборке\n",
    "\n",
    "Для проверки моделей на тестовой выборке поочередно посчитаем показатель качества моделей accuracy:"
   ]
  },
  {
   "cell_type": "markdown",
   "metadata": {},
   "source": [
    "### Модель дерева решений\n",
    "\n",
    " Для выбора лучшей модели получим показатель качества методом accuracy_score:"
   ]
  },
  {
   "cell_type": "code",
   "execution_count": 58,
   "metadata": {},
   "outputs": [
    {
     "name": "stdout",
     "output_type": "stream",
     "text": [
      "Accuracy модели дерева решений на тестовой выборке равна: 0.7791601866251944\n"
     ]
    }
   ],
   "source": [
    "predictions_test = best_model_tree.predict(features_test)\n",
    "accuracy_tree = accuracy_score(target_test, predictions_test)\n",
    "print('Accuracy модели дерева решений на тестовой выборке равна:', accuracy_tree)"
   ]
  },
  {
   "cell_type": "markdown",
   "metadata": {},
   "source": [
    "#### Вывод:\n",
    "Модель дерева решений на тестовой выборке показала результат выше целевого(который равен 0,75). Данная модель нам подходит\n",
    "\n",
    "### Модель случайного леса\n",
    "\n",
    "Проверим качество модели случайного леса на тестовой выборке:"
   ]
  },
  {
   "cell_type": "code",
   "execution_count": 59,
   "metadata": {
    "scrolled": true
   },
   "outputs": [
    {
     "name": "stdout",
     "output_type": "stream",
     "text": [
      "Accuracy модели случайного леса равна: 0.7807153965785381\n"
     ]
    }
   ],
   "source": [
    "accuracy_for = best_model_for.score(features_test, target_test)\n",
    "print('Accuracy модели случайного леса равна:',accuracy_for)"
   ]
  },
  {
   "cell_type": "markdown",
   "metadata": {},
   "source": [
    "#### Вывод:\n",
    "Модель случайного леса на тестовой выборке показывает результат, который выше целевого, а именно доля правильных ответов = 0,78\n",
    "\n",
    "### Логистическая регрессия\n",
    "\n",
    "Проверим модель логистической регрессии на тестовой выборке:"
   ]
  },
  {
   "cell_type": "code",
   "execution_count": 57,
   "metadata": {},
   "outputs": [
    {
     "name": "stdout",
     "output_type": "stream",
     "text": [
      "Accuracy модели логистической регрессии на валидационной выборке: 0.7402799377916018\n"
     ]
    }
   ],
   "source": [
    "result_log = model_log.score(features_test, target_test) # получите метрику качества модели на валидационной выборке\n",
    "\n",
    "print(\"Accuracy модели логистической регрессии на валидационной выборке:\", result_log)"
   ]
  },
  {
   "cell_type": "markdown",
   "metadata": {},
   "source": [
    "#### Вывод:\n",
    "Модель логистической регрессии нам не подходит, потому что ее accuracy ниже целевого параметра.\n",
    "\n",
    "### Вывод:\n",
    "Мы отвергли модель логистической регресси - это вызвано тем, что в дереве решений и случайном лесе у нас есть возможность менять гиперпараметры и выбирать лучший перед тем, как обучать модель. В логистической регрессии столь гибкая настройка не предусмотрена. Таким образом мы выбрали две наиболее достоверные модели. \n",
    "\n"
   ]
  },
  {
   "cell_type": "markdown",
   "metadata": {},
   "source": [
    "## Вывод: \n",
    "\n",
    "В данном проекте мы провели исследование для выявления наилушей модели для прогнозирования тарифа сотовой компании. В своем исследовании мы построили и обучили все три изученных в спринте модели классификации: \n",
    "1. Дерево решений\n",
    "2. Случайный лес\n",
    "3. Логистическую регрессию\n",
    "\n",
    "В результате выбора наилучшей модели за счет изменения гиперпараметров до ее изучения, мы отобрали две - дерево решений и случайный лес. \n",
    "\n",
    "Логистическая регрессия показала неудовлетворительный результат ввиду того, что у нее нет гиперпараметров, которые возможно изменить. \n",
    "\n",
    "Все модели мы обучали на обучающих выборках, проверяли показатели их качества на валидационных, а уже затем запускали их на тестовую выборку. Сама методика стала более понятна и легкоповторяема.\n"
   ]
  },
  {
   "cell_type": "code",
   "execution_count": null,
   "metadata": {},
   "outputs": [],
   "source": []
  }
 ],
 "metadata": {
  "hide_input": false,
  "kernelspec": {
   "display_name": "Python 3 (ipykernel)",
   "language": "python",
   "name": "python3"
  },
  "language_info": {
   "codemirror_mode": {
    "name": "ipython",
    "version": 3
   },
   "file_extension": ".py",
   "mimetype": "text/x-python",
   "name": "python",
   "nbconvert_exporter": "python",
   "pygments_lexer": "ipython3",
   "version": "3.8.5"
  },
  "toc": {
   "base_numbering": 1,
   "nav_menu": {},
   "number_sections": true,
   "sideBar": true,
   "skip_h1_title": true,
   "title_cell": "Содержание",
   "title_sidebar": "Контент",
   "toc_cell": true,
   "toc_position": {},
   "toc_section_display": true,
   "toc_window_display": true
  },
  "varInspector": {
   "cols": {
    "lenName": 16,
    "lenType": 16,
    "lenVar": 40
   },
   "kernels_config": {
    "python": {
     "delete_cmd_postfix": "",
     "delete_cmd_prefix": "del ",
     "library": "var_list.py",
     "varRefreshCmd": "print(var_dic_list())"
    },
    "r": {
     "delete_cmd_postfix": ") ",
     "delete_cmd_prefix": "rm(",
     "library": "var_list.r",
     "varRefreshCmd": "cat(var_dic_list()) "
    }
   },
   "types_to_exclude": [
    "module",
    "function",
    "builtin_function_or_method",
    "instance",
    "_Feature"
   ],
   "window_display": false
  }
 },
 "nbformat": 4,
 "nbformat_minor": 2
}
