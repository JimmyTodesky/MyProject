{
 "cells": [
  {
   "cell_type": "markdown",
   "metadata": {
    "toc": true
   },
   "source": [
    "<h1>Содержание<span class=\"tocSkip\"></span></h1>\n",
    "<div class=\"toc\"><ul class=\"toc-item\"><li><span><a href=\"#Загрузка-данных\" data-toc-modified-id=\"Загрузка-данных-1\"><span class=\"toc-item-num\">1&nbsp;&nbsp;</span>Загрузка данных</a></span><ul class=\"toc-item\"><li><span><a href=\"#Загрузка-исходных-данных\" data-toc-modified-id=\"Загрузка-исходных-данных-1.1\"><span class=\"toc-item-num\">1.1&nbsp;&nbsp;</span>Загрузка исходных данных</a></span><ul class=\"toc-item\"><li><span><a href=\"#Вывод:\" data-toc-modified-id=\"Вывод:-1.1.1\"><span class=\"toc-item-num\">1.1.1&nbsp;&nbsp;</span>Вывод:</a></span></li></ul></li><li><span><a href=\"#Создание-датасетов-с-признаками-и-целевым-признаком\" data-toc-modified-id=\"Создание-датасетов-с-признаками-и-целевым-признаком-1.2\"><span class=\"toc-item-num\">1.2&nbsp;&nbsp;</span>Создание датасетов с признаками и целевым признаком</a></span><ul class=\"toc-item\"><li><span><a href=\"#Вывод:\" data-toc-modified-id=\"Вывод:-1.2.1\"><span class=\"toc-item-num\">1.2.1&nbsp;&nbsp;</span>Вывод:</a></span></li></ul></li></ul></li><li><span><a href=\"#Умножение-матриц\" data-toc-modified-id=\"Умножение-матриц-2\"><span class=\"toc-item-num\">2&nbsp;&nbsp;</span>Умножение матриц</a></span><ul class=\"toc-item\"><li><span><a href=\"#Определение-исходных-данных\" data-toc-modified-id=\"Определение-исходных-данных-2.1\"><span class=\"toc-item-num\">2.1&nbsp;&nbsp;</span>Определение исходных данных</a></span></li><li><span><a href=\"#Математиеская-проверка-влияния-умножения-матрицы-признаков-на-обратимую-матрицу\" data-toc-modified-id=\"Математиеская-проверка-влияния-умножения-матрицы-признаков-на-обратимую-матрицу-2.2\"><span class=\"toc-item-num\">2.2&nbsp;&nbsp;</span>Математиеская проверка влияния умножения матрицы признаков на обратимую матрицу</a></span></li><li><span><a href=\"#Вывод-:\" data-toc-modified-id=\"Вывод-:-2.3\"><span class=\"toc-item-num\">2.3&nbsp;&nbsp;</span>Вывод :</a></span></li></ul></li><li><span><a href=\"#Алгоритм-преобразования\" data-toc-modified-id=\"Алгоритм-преобразования-3\"><span class=\"toc-item-num\">3&nbsp;&nbsp;</span>Алгоритм преобразования</a></span></li><li><span><a href=\"#Проверка-алгоритма\" data-toc-modified-id=\"Проверка-алгоритма-4\"><span class=\"toc-item-num\">4&nbsp;&nbsp;</span>Проверка алгоритма</a></span></li><li><span><a href=\"#Вывод:\" data-toc-modified-id=\"Вывод:-5\"><span class=\"toc-item-num\">5&nbsp;&nbsp;</span>Вывод:</a></span></li><li><span><a href=\"#Чек-лист-проверки\" data-toc-modified-id=\"Чек-лист-проверки-6\"><span class=\"toc-item-num\">6&nbsp;&nbsp;</span>Чек-лист проверки</a></span></li></ul></div>"
   ]
  },
  {
   "cell_type": "markdown",
   "metadata": {},
   "source": [
    "## Загрузка данных\n",
    "\n",
    "### Загрузка исходных данных\n",
    "\n",
    "Для удобства работы в первой ячейке имеет смысл загрузить все используемые нами при работе бибилиотеки:\n"
   ]
  },
  {
   "cell_type": "code",
   "execution_count": 1,
   "metadata": {},
   "outputs": [],
   "source": [
    "import pandas as pd\n",
    "import numpy as np\n",
    "from sklearn.linear_model import LinearRegression\n",
    "from sklearn.metrics import r2_score\n",
    "import warnings\n",
    "warnings.filterwarnings('ignore')"
   ]
  },
  {
   "cell_type": "markdown",
   "metadata": {},
   "source": [
    "Загрузим основной датасет и сохраним его в переменной data: \n"
   ]
  },
  {
   "cell_type": "code",
   "execution_count": 2,
   "metadata": {},
   "outputs": [],
   "source": [
    "data = pd.read_csv('/datasets/insurance.csv')"
   ]
  },
  {
   "cell_type": "markdown",
   "metadata": {},
   "source": [
    "Посмотрим на загруженные данные, оценим наличие и количество пропусков, соответствие типов данных столбцов данным которые в них размещены: "
   ]
  },
  {
   "cell_type": "code",
   "execution_count": 3,
   "metadata": {
    "scrolled": false
   },
   "outputs": [
    {
     "name": "stdout",
     "output_type": "stream",
     "text": [
      "<class 'pandas.core.frame.DataFrame'>\n",
      "RangeIndex: 5000 entries, 0 to 4999\n",
      "Data columns (total 5 columns):\n",
      "Пол                  5000 non-null int64\n",
      "Возраст              5000 non-null float64\n",
      "Зарплата             5000 non-null float64\n",
      "Члены семьи          5000 non-null int64\n",
      "Страховые выплаты    5000 non-null int64\n",
      "dtypes: float64(2), int64(3)\n",
      "memory usage: 195.4 KB\n"
     ]
    },
    {
     "data": {
      "text/html": [
       "<div>\n",
       "<style scoped>\n",
       "    .dataframe tbody tr th:only-of-type {\n",
       "        vertical-align: middle;\n",
       "    }\n",
       "\n",
       "    .dataframe tbody tr th {\n",
       "        vertical-align: top;\n",
       "    }\n",
       "\n",
       "    .dataframe thead th {\n",
       "        text-align: right;\n",
       "    }\n",
       "</style>\n",
       "<table border=\"1\" class=\"dataframe\">\n",
       "  <thead>\n",
       "    <tr style=\"text-align: right;\">\n",
       "      <th></th>\n",
       "      <th>Пол</th>\n",
       "      <th>Возраст</th>\n",
       "      <th>Зарплата</th>\n",
       "      <th>Члены семьи</th>\n",
       "      <th>Страховые выплаты</th>\n",
       "    </tr>\n",
       "  </thead>\n",
       "  <tbody>\n",
       "    <tr>\n",
       "      <td>0</td>\n",
       "      <td>1</td>\n",
       "      <td>41.0</td>\n",
       "      <td>49600.0</td>\n",
       "      <td>1</td>\n",
       "      <td>0</td>\n",
       "    </tr>\n",
       "    <tr>\n",
       "      <td>1</td>\n",
       "      <td>0</td>\n",
       "      <td>46.0</td>\n",
       "      <td>38000.0</td>\n",
       "      <td>1</td>\n",
       "      <td>1</td>\n",
       "    </tr>\n",
       "    <tr>\n",
       "      <td>2</td>\n",
       "      <td>0</td>\n",
       "      <td>29.0</td>\n",
       "      <td>21000.0</td>\n",
       "      <td>0</td>\n",
       "      <td>0</td>\n",
       "    </tr>\n",
       "    <tr>\n",
       "      <td>3</td>\n",
       "      <td>0</td>\n",
       "      <td>21.0</td>\n",
       "      <td>41700.0</td>\n",
       "      <td>2</td>\n",
       "      <td>0</td>\n",
       "    </tr>\n",
       "    <tr>\n",
       "      <td>4</td>\n",
       "      <td>1</td>\n",
       "      <td>28.0</td>\n",
       "      <td>26100.0</td>\n",
       "      <td>0</td>\n",
       "      <td>0</td>\n",
       "    </tr>\n",
       "    <tr>\n",
       "      <td>5</td>\n",
       "      <td>1</td>\n",
       "      <td>43.0</td>\n",
       "      <td>41000.0</td>\n",
       "      <td>2</td>\n",
       "      <td>1</td>\n",
       "    </tr>\n",
       "    <tr>\n",
       "      <td>6</td>\n",
       "      <td>1</td>\n",
       "      <td>39.0</td>\n",
       "      <td>39700.0</td>\n",
       "      <td>2</td>\n",
       "      <td>0</td>\n",
       "    </tr>\n",
       "    <tr>\n",
       "      <td>7</td>\n",
       "      <td>1</td>\n",
       "      <td>25.0</td>\n",
       "      <td>38600.0</td>\n",
       "      <td>4</td>\n",
       "      <td>0</td>\n",
       "    </tr>\n",
       "    <tr>\n",
       "      <td>8</td>\n",
       "      <td>1</td>\n",
       "      <td>36.0</td>\n",
       "      <td>49700.0</td>\n",
       "      <td>1</td>\n",
       "      <td>0</td>\n",
       "    </tr>\n",
       "    <tr>\n",
       "      <td>9</td>\n",
       "      <td>1</td>\n",
       "      <td>32.0</td>\n",
       "      <td>51700.0</td>\n",
       "      <td>1</td>\n",
       "      <td>0</td>\n",
       "    </tr>\n",
       "  </tbody>\n",
       "</table>\n",
       "</div>"
      ],
      "text/plain": [
       "   Пол  Возраст  Зарплата  Члены семьи  Страховые выплаты\n",
       "0    1     41.0   49600.0            1                  0\n",
       "1    0     46.0   38000.0            1                  1\n",
       "2    0     29.0   21000.0            0                  0\n",
       "3    0     21.0   41700.0            2                  0\n",
       "4    1     28.0   26100.0            0                  0\n",
       "5    1     43.0   41000.0            2                  1\n",
       "6    1     39.0   39700.0            2                  0\n",
       "7    1     25.0   38600.0            4                  0\n",
       "8    1     36.0   49700.0            1                  0\n",
       "9    1     32.0   51700.0            1                  0"
      ]
     },
     "execution_count": 3,
     "metadata": {},
     "output_type": "execute_result"
    }
   ],
   "source": [
    "data.info()\n",
    "data.head(10)"
   ]
  },
  {
   "cell_type": "markdown",
   "metadata": {},
   "source": [
    "Для удобства работы переведем название столбцов в нижний регистр:"
   ]
  },
  {
   "cell_type": "code",
   "execution_count": 4,
   "metadata": {},
   "outputs": [
    {
     "name": "stdout",
     "output_type": "stream",
     "text": [
      "<class 'pandas.core.frame.DataFrame'>\n",
      "RangeIndex: 5000 entries, 0 to 4999\n",
      "Data columns (total 5 columns):\n",
      "пол                  5000 non-null int64\n",
      "возраст              5000 non-null float64\n",
      "зарплата             5000 non-null float64\n",
      "члены семьи          5000 non-null int64\n",
      "страховые выплаты    5000 non-null int64\n",
      "dtypes: float64(2), int64(3)\n",
      "memory usage: 195.4 KB\n"
     ]
    }
   ],
   "source": [
    "data.columns = map(str.lower, data.columns)\n",
    "data.info()"
   ]
  },
  {
   "cell_type": "markdown",
   "metadata": {},
   "source": [
    "#### Вывод:\n",
    "Как видно из загруженных данных, пропуски в датасете отсутствуют, все столбцы имеют необходимый формат данных, ошибок нет. Данные пригодны к дальнейшей обработке и работе с ними. \n",
    "\n",
    "### Создание датасетов с признаками и целевым признаком"
   ]
  },
  {
   "cell_type": "code",
   "execution_count": 5,
   "metadata": {},
   "outputs": [
    {
     "data": {
      "text/html": [
       "<div>\n",
       "<style scoped>\n",
       "    .dataframe tbody tr th:only-of-type {\n",
       "        vertical-align: middle;\n",
       "    }\n",
       "\n",
       "    .dataframe tbody tr th {\n",
       "        vertical-align: top;\n",
       "    }\n",
       "\n",
       "    .dataframe thead th {\n",
       "        text-align: right;\n",
       "    }\n",
       "</style>\n",
       "<table border=\"1\" class=\"dataframe\">\n",
       "  <thead>\n",
       "    <tr style=\"text-align: right;\">\n",
       "      <th></th>\n",
       "      <th>пол</th>\n",
       "      <th>возраст</th>\n",
       "      <th>зарплата</th>\n",
       "      <th>члены семьи</th>\n",
       "    </tr>\n",
       "  </thead>\n",
       "  <tbody>\n",
       "    <tr>\n",
       "      <td>0</td>\n",
       "      <td>1</td>\n",
       "      <td>41.0</td>\n",
       "      <td>49600.0</td>\n",
       "      <td>1</td>\n",
       "    </tr>\n",
       "    <tr>\n",
       "      <td>1</td>\n",
       "      <td>0</td>\n",
       "      <td>46.0</td>\n",
       "      <td>38000.0</td>\n",
       "      <td>1</td>\n",
       "    </tr>\n",
       "    <tr>\n",
       "      <td>2</td>\n",
       "      <td>0</td>\n",
       "      <td>29.0</td>\n",
       "      <td>21000.0</td>\n",
       "      <td>0</td>\n",
       "    </tr>\n",
       "    <tr>\n",
       "      <td>3</td>\n",
       "      <td>0</td>\n",
       "      <td>21.0</td>\n",
       "      <td>41700.0</td>\n",
       "      <td>2</td>\n",
       "    </tr>\n",
       "    <tr>\n",
       "      <td>4</td>\n",
       "      <td>1</td>\n",
       "      <td>28.0</td>\n",
       "      <td>26100.0</td>\n",
       "      <td>0</td>\n",
       "    </tr>\n",
       "  </tbody>\n",
       "</table>\n",
       "</div>"
      ],
      "text/plain": [
       "   пол  возраст  зарплата  члены семьи\n",
       "0    1     41.0   49600.0            1\n",
       "1    0     46.0   38000.0            1\n",
       "2    0     29.0   21000.0            0\n",
       "3    0     21.0   41700.0            2\n",
       "4    1     28.0   26100.0            0"
      ]
     },
     "execution_count": 5,
     "metadata": {},
     "output_type": "execute_result"
    }
   ],
   "source": [
    "features = data.drop('страховые выплаты', axis = 1)\n",
    "target = data['страховые выплаты']\n",
    "features.head()\n"
   ]
  },
  {
   "cell_type": "code",
   "execution_count": 6,
   "metadata": {
    "scrolled": true
   },
   "outputs": [
    {
     "data": {
      "text/plain": [
       "0    0\n",
       "1    1\n",
       "2    0\n",
       "3    0\n",
       "4    0\n",
       "Name: страховые выплаты, dtype: int64"
      ]
     },
     "execution_count": 6,
     "metadata": {},
     "output_type": "execute_result"
    }
   ],
   "source": [
    "target.head()"
   ]
  },
  {
   "cell_type": "markdown",
   "metadata": {},
   "source": [
    "#### Вывод: \n",
    "Мы создали два датасета с признаками и целевым признаком. Теперь данные готовы для использования их в задачах машинного обучения.  "
   ]
  },
  {
   "cell_type": "markdown",
   "metadata": {},
   "source": [
    "## Умножение матриц\n",
    "\n",
    "### Определение исходных данных"
   ]
  },
  {
   "cell_type": "markdown",
   "metadata": {},
   "source": [
    "Обозначения:\n",
    "\n",
    "- $X$ — матрица признаков (нулевой столбец состоит из единиц)\n",
    "\n",
    "- $y$ — вектор целевого признака\n",
    "\n",
    "- $P$ — матрица, на которую умножаются признаки\n",
    "\n",
    "- $w$ — вектор весов линейной регрессии (нулевой элемент равен сдвигу)"
   ]
  },
  {
   "cell_type": "markdown",
   "metadata": {},
   "source": [
    "Предсказания:\n",
    "\n",
    "$$\n",
    "a = Xw\n",
    "$$\n",
    "\n",
    "Задача обучения:\n",
    "\n",
    "$$\n",
    "w = \\arg\\min_w MSE(Xw, y)\n",
    "$$\n",
    "\n",
    "Формула обучения:\n",
    "\n",
    "$$\n",
    "w = (X^T X)^{-1} X^T y\n",
    "$$\n",
    "\n",
    "### Математиеская проверка влияния умножения матрицы признаков на обратимую матрицу\n",
    "\n",
    "Как понятно из условия задачи - нам необходимо умножить матрицу признаков на обратимую матрицу P, которая является квалратной размерности 4x4, так как у нас таблица имеет размерность 5000x4. А для умножения матриц необходимо, чтобы смежные размерности совпадали, ведь если разные смежные размерности - умножение матриц невозможно. \n",
    "\n",
    "Итак, примем новое условие: \n",
    "\n",
    "$$\n",
    "X = XP\n",
    "$$\n",
    "\n",
    "Для начала подставим формулу обучения $w$  в основную формулу предсказания $a$  для наглядности:\n",
    "\n",
    "$$\n",
    "a = Xw = X(X^T X)^{-1} X^T y\n",
    "$$\n",
    "\n",
    "Теперь подставим наше значение матрицы $X$ в данную формулу, пометим $a'$, для наглядности: \n",
    "\n",
    "$$\n",
    "a' = XPw = XP((XP)^T XP)^{-1} (XP)^T y\n",
    "$$\n",
    "\n",
    "Раскроем скобки с траспонированием матриц, ведь $(AB)^T = B^T A^T$, исходя из этого получим: \n",
    "\n",
    "$$\n",
    "a' = XP(P^T X^T XP)^{-1} P^T X^T y\n",
    "$$\n",
    "\n",
    "Так как для матричных операций справедливо выражение $(AB)С = A(BC)$, вынесем за скобки $P^T$ и $P$, получим:\n",
    "\n",
    "$$\n",
    "a' = XP(P^T(X^T XP) P)^{-1} P^T X^T y\n",
    "$$\n",
    "\n",
    "Так как,  матрица признаков $X$ является прямоугольной, то получить ее обратную матрицу невозможно, так как она является необратимой, но произведение матрицы $XX^T$ вполне может дать квадратную матрицу, значит мы не сможем раскрыть данные скобки при обращении. Теперь применим к нашей формуле правило $(AB)^{-1} = B^{-1} A^{-1}$:\n",
    "\n",
    "$$\n",
    "a' = X P P^{-1} (X^T XP)^{-1} (P^T)^{-1} P^T X^T y\n",
    "$$\n",
    "\n",
    "У нас получилось две единичные матрицы, так как $A A^{-1} = E$, а $AE = A$, таким образом можно сократить выражения $P P^{-1}$ и $(P^T)^{-1} P^T$: \n",
    "\n",
    "$$\n",
    "a' = X (X^T XP)^{-1}X^T y = Xw\n",
    "$$\n",
    "\n",
    "Как видно выше мы получили стандартную формулу предсказания, которая совпадает с исходной формулой, соответственно верно утверждение:\n",
    "\n",
    "$$\n",
    "a = a'\n",
    "$$\n"
   ]
  },
  {
   "cell_type": "markdown",
   "metadata": {},
   "source": [
    "**Ответ:** Качество линейной регрессии не изменится.\n",
    "\n",
    "**Обоснование:** Утверждение приведенное выше справедливо, так как умножение матрицы признаков на обратимую матрицу в конечном итоге дает изначальную формулу расчета предсказания. И соответственно умножение никак не влияет на качество модели линейной регресси, так как она остается в изначальном состоянии. \n",
    "\n",
    "### Вывод :\n",
    "\n",
    "Путем математических преобразований мы выяснили, что умножение матрицы признаков на обратимую матрицу не влияет на качество модели линейной регрессии. Соответственно в следующем пункте, нам можно с увернностью использовать данное свойство формулы расчета предсказаний. \n"
   ]
  },
  {
   "cell_type": "markdown",
   "metadata": {},
   "source": [
    "## Алгоритм преобразования"
   ]
  },
  {
   "cell_type": "markdown",
   "metadata": {},
   "source": [
    "**Алгоритм**\n",
    "Так как мы выяснили, что умножение матрицы на обратимую матрицу не влияет на качество линейной регрессии, то для кодирования данных мы умножим матрицу признаков на рандомную обратимую матрицу(квадртатную) размерностью 4x4   "
   ]
  },
  {
   "cell_type": "markdown",
   "metadata": {},
   "source": [
    "**Обоснование**\n",
    "\n",
    "Исходя из полученной нами формулы в пункте 2, умножение обратимой матрицы на матрицу признаков не оказывает влияние на качество линейной регрессии, поэтому есть смысл зашифровать данные с помощью умножения на матрицу. \n",
    "\n",
    "** При таком подходе, обратная к нашей рандомной обратимой матрице, матрица будет являться ключом к расшифровке данных:**\n",
    "\n",
    "$$\n",
    "AA^{-1} = E\n",
    "$$\n",
    "\n",
    "Соответственно умножение на обратимую и обратную матрицу даст в итоге умножение на еденичную мтарицу, а это в свою очередь даст нам искомую матрицу: \n",
    "\n",
    "$$\n",
    "BAA^{-1} = BE = B\n",
    "$$"
   ]
  },
  {
   "cell_type": "markdown",
   "metadata": {},
   "source": [
    "## Проверка алгоритма\n",
    "\n",
    "Для проверки алгоритма нам необходимо(как указано выше) создать случайную обратимую матрицу размерности 4* 4, умножить ее на матрицу признаков, после чего обучить на ней модель линейной регрессии из sklearn, найти метрику качества R2, затем сравнить результат с метрикой модели обученной на исходной матрице признаков.\n",
    "\n",
    "Итак, приступим. Для начала преобразуем в матрицу датафрейм признаков: "
   ]
  },
  {
   "cell_type": "code",
   "execution_count": 7,
   "metadata": {
    "scrolled": true
   },
   "outputs": [
    {
     "name": "stdout",
     "output_type": "stream",
     "text": [
      "[[1.00e+00 4.10e+01 4.96e+04 1.00e+00]\n",
      " [0.00e+00 4.60e+01 3.80e+04 1.00e+00]\n",
      " [0.00e+00 2.90e+01 2.10e+04 0.00e+00]\n",
      " ...\n",
      " [0.00e+00 2.00e+01 3.39e+04 2.00e+00]\n",
      " [1.00e+00 2.20e+01 3.27e+04 3.00e+00]\n",
      " [1.00e+00 2.80e+01 4.06e+04 1.00e+00]]\n"
     ]
    }
   ],
   "source": [
    "features_matrix = features.values\n",
    "print(features_matrix)"
   ]
  },
  {
   "cell_type": "markdown",
   "metadata": {},
   "source": [
    "Теперь обучим и протестируем модель на исходных данных: "
   ]
  },
  {
   "cell_type": "code",
   "execution_count": 8,
   "metadata": {
    "scrolled": true
   },
   "outputs": [
    {
     "name": "stdout",
     "output_type": "stream",
     "text": [
      "Метрика R2 для модели линейной регрессии: 0.42494550286668\n"
     ]
    }
   ],
   "source": [
    "model = LinearRegression()\n",
    "model.fit(features_matrix, target)\n",
    "predictions = model.predict(features_matrix)\n",
    "print('Метрика R2 для модели линейной регрессии:', r2_score(target, predictions))"
   ]
  },
  {
   "cell_type": "markdown",
   "metadata": {},
   "source": [
    "Как видно мы получили отрицательную метрику R2, равную 0,42, что не плохо, но у нас и не стоит задачи получить идеальную модель, а проверить работу алгоритма и чтобы значение метрики не ухудшилось, после зашифровки исходных данных. Первым делом создадим матрицу: "
   ]
  },
  {
   "cell_type": "code",
   "execution_count": 9,
   "metadata": {},
   "outputs": [
    {
     "name": "stdout",
     "output_type": "stream",
     "text": [
      "[[1 4 2 1]\n",
      " [1 3 5 7]\n",
      " [2 5 4 6]\n",
      " [4 5 6 9]]\n"
     ]
    }
   ],
   "source": [
    "matrix_key = np.array([\n",
    "    [1,4,2,1],\n",
    "    [1,3,5,7],\n",
    "    [2,5,4,6],\n",
    "    [4,5,6,9]\n",
    "]\n",
    ")\n",
    "print(matrix_key)"
   ]
  },
  {
   "cell_type": "markdown",
   "metadata": {},
   "source": [
    "Умножим матрицу признаков на нашу обратимую, квадратную матрицу: "
   ]
  },
  {
   "cell_type": "code",
   "execution_count": 10,
   "metadata": {
    "scrolled": true
   },
   "outputs": [
    {
     "name": "stdout",
     "output_type": "stream",
     "text": [
      "       пол   возраст  зарплата  члены семьи\n",
      "0  99246.0  248132.0  198613.0     297897.0\n",
      "1  76050.0  190143.0  152236.0     228331.0\n",
      "2  42029.0  105087.0   84145.0     126203.0\n",
      "3  83429.0  208573.0  166917.0     250365.0\n",
      "4  52229.0  130588.0  104542.0     156797.0\n"
     ]
    }
   ],
   "source": [
    "features_matrix_key = features_matrix @ matrix_key\n",
    "print(pd.DataFrame(features_matrix_key, columns = features.columns).head())"
   ]
  },
  {
   "cell_type": "markdown",
   "metadata": {},
   "source": [
    "Как видно из полученного результата - расшифровать данные без ключа становится крайне затруднительно. В расшифровке данных нам должна помочь обратная нашей матрица. Формула ее нахождения выглядит следующим образом: \n",
    "\n",
    "$$\n",
    "A^{-1} = \\frac{1}{|A|} A^T\n",
    "$$\n",
    "где : \n",
    "\n",
    "$|A|$ - определитель матрицы\n",
    "\n",
    "$A^T$ - транспонирванная исходная матрица \n",
    "\n",
    "Найти ее мы можем применив метод библиотеки NumPy:"
   ]
  },
  {
   "cell_type": "code",
   "execution_count": 11,
   "metadata": {
    "scrolled": false
   },
   "outputs": [
    {
     "name": "stdout",
     "output_type": "stream",
     "text": [
      "[[ 0.08474576 -0.33898305 -0.3559322   0.49152542]\n",
      " [ 0.03389831 -0.13559322  0.45762712 -0.20338983]\n",
      " [ 0.62711864  0.49152542 -1.03389831  0.23728814]\n",
      " [-0.47457627 -0.10169492  0.59322034 -0.15254237]]\n"
     ]
    }
   ],
   "source": [
    "matrix_key_inv = np.linalg.inv(matrix_key)\n",
    "print(matrix_key_inv)"
   ]
  },
  {
   "cell_type": "markdown",
   "metadata": {},
   "source": [
    "Теперь проверим, что данные действительно рашифруются при умножении на обратную матрицу: "
   ]
  },
  {
   "cell_type": "code",
   "execution_count": 12,
   "metadata": {},
   "outputs": [
    {
     "name": "stdout",
     "output_type": "stream",
     "text": [
      "            пол  возраст  зарплата   члены семьи\n",
      "0  1.000000e+00     41.0   49600.0  1.000000e+00\n",
      "1 -6.492418e-12     46.0   38000.0  1.000000e+00\n",
      "2 -1.666944e-12     29.0   21000.0 -6.419865e-13\n",
      "3 -4.788780e-12     21.0   41700.0  2.000000e+00\n",
      "4  1.000000e+00     28.0   26100.0  8.298362e-13\n",
      "   пол  возраст  зарплата  члены семьи\n",
      "0    1     41.0   49600.0            1\n",
      "1    0     46.0   38000.0            1\n",
      "2    0     29.0   21000.0            0\n",
      "3    0     21.0   41700.0            2\n",
      "4    1     28.0   26100.0            0\n"
     ]
    }
   ],
   "source": [
    "features_matrix_no_key = features_matrix_key @ matrix_key_inv\n",
    "print(pd.DataFrame(features_matrix_no_key, columns = features.columns).head())\n",
    "print(features.head())"
   ]
  },
  {
   "cell_type": "markdown",
   "metadata": {},
   "source": [
    "Как видно из приведенных выше таблиц, зашифровка и расшифровка данных проходит корректно, данные в расшифрованном виде отличаются от исходный на величину математической погрешности.\n",
    "\n",
    "**Мы допустили небольшое лирическое отступление, которое позволило нам воочию увидеть, как проходит зашифровка и расшифровка данных нашим алгоритмом.**\n",
    "\n",
    "Теперь же, пришло время проверить, что метрики моделей обуxенных на исходных и зашифрованных данных не отличаются.\n",
    "\n",
    "Обучим модель на зашифрованных данных и сравним ее метрику R2 с метрикой модели обученной на исходных данных:"
   ]
  },
  {
   "cell_type": "code",
   "execution_count": 13,
   "metadata": {
    "scrolled": true
   },
   "outputs": [
    {
     "name": "stdout",
     "output_type": "stream",
     "text": [
      "Метрика R2 для модели линейной регрессии с исходными данными: 0.42494550286668\n",
      "Метрика R2 для модели линейной регрессии с зашифрованными данными: 0.4249455028666702\n"
     ]
    }
   ],
   "source": [
    "model_key = LinearRegression()\n",
    "model_key.fit(features_matrix_key, target)\n",
    "predictions_key = model_key.predict(features_matrix_key)\n",
    "print('Метрика R2 для модели линейной регрессии с исходными данными:', r2_score(target, predictions))\n",
    "print('Метрика R2 для модели линейной регрессии с зашифрованными данными:', r2_score(target, predictions_key))"
   ]
  },
  {
   "cell_type": "markdown",
   "metadata": {},
   "source": [
    "## Вывод: \n",
    "\n",
    "В данном проекте, мы математически, с помощью матричных операций,  доказали, что умножение на обратимую матрицу матрицы признаков не вносит изменений в качество модели линейной регрессии, на практике проверили работу алгоритма, также обучили модели на исходных данных и зашифрованных.\n",
    "\n",
    "В итоге метрика R2 осталась неизменной. Также мы убедились в том, как с помощью обратной матрицы можно расшифровать зашифрованные данные. \n",
    "\n",
    "Соответственно все поставленные в проекте задачи мы решили. \n",
    "\n"
   ]
  },
  {
   "cell_type": "code",
   "execution_count": null,
   "metadata": {},
   "outputs": [],
   "source": []
  }
 ],
 "metadata": {
  "ExecuteTimeLog": [
   {
    "duration": 581,
    "start_time": "2021-08-14T12:44:23.470Z"
   },
   {
    "duration": 324,
    "start_time": "2021-08-14T12:50:05.024Z"
   },
   {
    "duration": 4,
    "start_time": "2021-08-14T12:50:08.174Z"
   },
   {
    "duration": 17,
    "start_time": "2021-08-14T12:50:11.193Z"
   },
   {
    "duration": 18,
    "start_time": "2021-08-14T12:50:13.309Z"
   },
   {
    "duration": 12,
    "start_time": "2021-08-14T12:52:03.903Z"
   },
   {
    "duration": 4,
    "start_time": "2021-08-14T13:05:00.170Z"
   },
   {
    "duration": 2,
    "start_time": "2021-08-14T13:09:24.287Z"
   },
   {
    "duration": 4,
    "start_time": "2021-08-14T13:09:29.024Z"
   },
   {
    "duration": 7,
    "start_time": "2021-08-14T13:09:48.815Z"
   },
   {
    "duration": 252,
    "start_time": "2021-08-14T13:10:47.635Z"
   },
   {
    "duration": 6,
    "start_time": "2021-08-14T13:11:10.979Z"
   },
   {
    "duration": 9,
    "start_time": "2021-08-14T13:11:22.723Z"
   },
   {
    "duration": 4,
    "start_time": "2021-08-14T13:11:49.987Z"
   },
   {
    "duration": 757,
    "start_time": "2021-08-15T10:58:12.930Z"
   },
   {
    "duration": 23,
    "start_time": "2021-08-15T10:58:13.691Z"
   },
   {
    "duration": 32,
    "start_time": "2021-08-15T10:58:13.718Z"
   },
   {
    "duration": 35,
    "start_time": "2021-08-15T10:58:13.753Z"
   },
   {
    "duration": 16,
    "start_time": "2021-08-15T10:58:13.791Z"
   },
   {
    "duration": 9,
    "start_time": "2021-08-15T10:58:13.810Z"
   },
   {
    "duration": 487,
    "start_time": "2021-08-15T11:19:57.344Z"
   },
   {
    "duration": 761,
    "start_time": "2021-08-15T11:20:08.667Z"
   },
   {
    "duration": 298,
    "start_time": "2021-08-15T11:20:37.783Z"
   },
   {
    "duration": 4,
    "start_time": "2021-08-15T11:21:37.677Z"
   },
   {
    "duration": 384,
    "start_time": "2021-08-16T10:11:39.478Z"
   },
   {
    "duration": 1332,
    "start_time": "2021-08-16T10:11:50.437Z"
   },
   {
    "duration": 23,
    "start_time": "2021-08-16T10:11:51.772Z"
   },
   {
    "duration": 30,
    "start_time": "2021-08-16T10:11:51.803Z"
   },
   {
    "duration": 26,
    "start_time": "2021-08-16T10:11:51.836Z"
   },
   {
    "duration": 18,
    "start_time": "2021-08-16T10:11:51.865Z"
   },
   {
    "duration": 22,
    "start_time": "2021-08-16T10:11:51.885Z"
   },
   {
    "duration": 7,
    "start_time": "2021-08-16T10:11:51.910Z"
   },
   {
    "duration": 494,
    "start_time": "2021-08-16T10:12:23.952Z"
   },
   {
    "duration": 6,
    "start_time": "2021-08-16T10:12:38.506Z"
   },
   {
    "duration": 443,
    "start_time": "2021-08-16T10:18:09.872Z"
   },
   {
    "duration": 114,
    "start_time": "2021-08-16T10:18:39.916Z"
   },
   {
    "duration": 116,
    "start_time": "2021-08-16T10:22:26.666Z"
   },
   {
    "duration": 1787,
    "start_time": "2021-08-16T10:22:41.376Z"
   },
   {
    "duration": 23,
    "start_time": "2021-08-16T10:22:43.167Z"
   },
   {
    "duration": 42,
    "start_time": "2021-08-16T10:22:43.194Z"
   },
   {
    "duration": 21,
    "start_time": "2021-08-16T10:22:43.239Z"
   },
   {
    "duration": 16,
    "start_time": "2021-08-16T10:22:43.262Z"
   },
   {
    "duration": 16,
    "start_time": "2021-08-16T10:22:43.281Z"
   },
   {
    "duration": 10,
    "start_time": "2021-08-16T10:22:43.300Z"
   },
   {
    "duration": 143,
    "start_time": "2021-08-16T10:22:43.313Z"
   },
   {
    "duration": 986,
    "start_time": "2021-08-16T10:42:14.664Z"
   },
   {
    "duration": 382,
    "start_time": "2021-08-16T10:42:42.217Z"
   },
   {
    "duration": 8,
    "start_time": "2021-08-16T10:43:07.403Z"
   },
   {
    "duration": 5,
    "start_time": "2021-08-16T10:43:42.375Z"
   },
   {
    "duration": 7,
    "start_time": "2021-08-16T10:43:51.031Z"
   },
   {
    "duration": 1356,
    "start_time": "2021-08-16T10:46:55.267Z"
   },
   {
    "duration": 1250,
    "start_time": "2021-08-16T10:47:03.207Z"
   },
   {
    "duration": 335,
    "start_time": "2021-08-16T10:47:08.417Z"
   },
   {
    "duration": 17,
    "start_time": "2021-08-16T10:47:29.854Z"
   },
   {
    "duration": 9,
    "start_time": "2021-08-16T11:22:31.960Z"
   },
   {
    "duration": 337,
    "start_time": "2021-08-16T11:26:06.368Z"
   },
   {
    "duration": 588,
    "start_time": "2021-08-16T11:26:18.154Z"
   },
   {
    "duration": 6,
    "start_time": "2021-08-16T11:27:52.688Z"
   },
   {
    "duration": 9,
    "start_time": "2021-08-16T11:27:59.531Z"
   },
   {
    "duration": 9,
    "start_time": "2021-08-16T11:28:03.444Z"
   },
   {
    "duration": 5,
    "start_time": "2021-08-16T11:28:34.838Z"
   },
   {
    "duration": 8,
    "start_time": "2021-08-16T11:28:38.531Z"
   },
   {
    "duration": 13,
    "start_time": "2021-08-16T11:28:41.292Z"
   },
   {
    "duration": 5,
    "start_time": "2021-08-16T11:29:06.528Z"
   },
   {
    "duration": 10,
    "start_time": "2021-08-16T11:29:09.297Z"
   },
   {
    "duration": 13,
    "start_time": "2021-08-16T11:29:16.438Z"
   },
   {
    "duration": 10,
    "start_time": "2021-08-16T11:30:13.872Z"
   },
   {
    "duration": 8,
    "start_time": "2021-08-16T11:30:29.802Z"
   },
   {
    "duration": 6,
    "start_time": "2021-08-16T11:31:18.471Z"
   },
   {
    "duration": 9,
    "start_time": "2021-08-16T11:31:23.818Z"
   },
   {
    "duration": 6,
    "start_time": "2021-08-16T11:31:27.963Z"
   },
   {
    "duration": 8,
    "start_time": "2021-08-16T11:31:32.633Z"
   },
   {
    "duration": 11,
    "start_time": "2021-08-16T11:32:08.132Z"
   },
   {
    "duration": 93,
    "start_time": "2021-08-16T11:52:12.383Z"
   },
   {
    "duration": 94,
    "start_time": "2021-08-16T11:52:22.607Z"
   },
   {
    "duration": 94,
    "start_time": "2021-08-16T11:52:42.229Z"
   },
   {
    "duration": 93,
    "start_time": "2021-08-16T11:52:51.592Z"
   },
   {
    "duration": 1356,
    "start_time": "2021-08-16T11:53:56.689Z"
   },
   {
    "duration": 21,
    "start_time": "2021-08-16T11:53:58.048Z"
   },
   {
    "duration": 30,
    "start_time": "2021-08-16T11:53:58.072Z"
   },
   {
    "duration": 10,
    "start_time": "2021-08-16T11:53:58.106Z"
   },
   {
    "duration": 44,
    "start_time": "2021-08-16T11:53:58.119Z"
   },
   {
    "duration": 10,
    "start_time": "2021-08-16T11:53:58.166Z"
   },
   {
    "duration": 7,
    "start_time": "2021-08-16T11:53:58.179Z"
   },
   {
    "duration": 137,
    "start_time": "2021-08-16T11:53:58.190Z"
   },
   {
    "duration": 6,
    "start_time": "2021-08-16T11:53:58.329Z"
   },
   {
    "duration": 26,
    "start_time": "2021-08-16T11:53:58.338Z"
   },
   {
    "duration": 10,
    "start_time": "2021-08-16T11:53:58.366Z"
   },
   {
    "duration": 83,
    "start_time": "2021-08-16T11:53:58.380Z"
   },
   {
    "duration": 91,
    "start_time": "2021-08-16T11:53:58.466Z"
   },
   {
    "duration": 104,
    "start_time": "2021-08-16T11:53:58.560Z"
   },
   {
    "duration": 8,
    "start_time": "2021-08-16T11:54:52.035Z"
   },
   {
    "duration": 1289,
    "start_time": "2021-08-16T11:55:01.779Z"
   },
   {
    "duration": 20,
    "start_time": "2021-08-16T11:55:03.071Z"
   },
   {
    "duration": 38,
    "start_time": "2021-08-16T11:55:03.094Z"
   },
   {
    "duration": 8,
    "start_time": "2021-08-16T11:55:03.135Z"
   },
   {
    "duration": 23,
    "start_time": "2021-08-16T11:55:03.146Z"
   },
   {
    "duration": 18,
    "start_time": "2021-08-16T11:55:03.172Z"
   },
   {
    "duration": 19,
    "start_time": "2021-08-16T11:55:03.192Z"
   },
   {
    "duration": 118,
    "start_time": "2021-08-16T11:55:03.215Z"
   },
   {
    "duration": 6,
    "start_time": "2021-08-16T11:55:03.336Z"
   },
   {
    "duration": 27,
    "start_time": "2021-08-16T11:55:03.356Z"
   },
   {
    "duration": 15,
    "start_time": "2021-08-16T11:55:03.385Z"
   },
   {
    "duration": 61,
    "start_time": "2021-08-16T11:55:03.404Z"
   },
   {
    "duration": 95,
    "start_time": "2021-08-16T11:55:03.468Z"
   },
   {
    "duration": 17,
    "start_time": "2021-08-16T11:55:03.565Z"
   },
   {
    "duration": 1335,
    "start_time": "2021-08-16T12:10:01.406Z"
   },
   {
    "duration": 20,
    "start_time": "2021-08-16T12:10:02.744Z"
   },
   {
    "duration": 43,
    "start_time": "2021-08-16T12:10:02.767Z"
   },
   {
    "duration": 9,
    "start_time": "2021-08-16T12:10:02.813Z"
   },
   {
    "duration": 27,
    "start_time": "2021-08-16T12:10:02.824Z"
   },
   {
    "duration": 43,
    "start_time": "2021-08-16T12:10:02.853Z"
   },
   {
    "duration": 30,
    "start_time": "2021-08-16T12:10:02.898Z"
   },
   {
    "duration": 126,
    "start_time": "2021-08-16T12:10:02.932Z"
   },
   {
    "duration": 6,
    "start_time": "2021-08-16T12:10:03.061Z"
   },
   {
    "duration": 33,
    "start_time": "2021-08-16T12:10:03.069Z"
   },
   {
    "duration": 14,
    "start_time": "2021-08-16T12:10:03.105Z"
   },
   {
    "duration": 52,
    "start_time": "2021-08-16T12:10:03.122Z"
   },
   {
    "duration": 85,
    "start_time": "2021-08-16T12:10:03.177Z"
   },
   {
    "duration": 13,
    "start_time": "2021-08-16T12:10:03.265Z"
   },
   {
    "duration": 5,
    "start_time": "2021-08-16T12:36:23.968Z"
   },
   {
    "duration": 9,
    "start_time": "2021-08-16T12:36:47.871Z"
   },
   {
    "duration": 1353,
    "start_time": "2021-08-16T12:36:56.082Z"
   },
   {
    "duration": 20,
    "start_time": "2021-08-16T12:36:57.437Z"
   },
   {
    "duration": 30,
    "start_time": "2021-08-16T12:36:57.460Z"
   },
   {
    "duration": 8,
    "start_time": "2021-08-16T12:36:57.493Z"
   },
   {
    "duration": 19,
    "start_time": "2021-08-16T12:36:57.503Z"
   },
   {
    "duration": 34,
    "start_time": "2021-08-16T12:36:57.525Z"
   },
   {
    "duration": 9,
    "start_time": "2021-08-16T12:36:57.562Z"
   },
   {
    "duration": 82,
    "start_time": "2021-08-16T12:36:57.575Z"
   },
   {
    "duration": 94,
    "start_time": "2021-08-16T12:36:57.662Z"
   },
   {
    "duration": 18,
    "start_time": "2021-08-16T12:36:57.759Z"
   },
   {
    "duration": 8,
    "start_time": "2021-08-16T12:36:57.780Z"
   },
   {
    "duration": 70,
    "start_time": "2021-08-16T12:36:57.792Z"
   },
   {
    "duration": 14,
    "start_time": "2021-08-16T12:36:57.866Z"
   },
   {
    "duration": 113,
    "start_time": "2021-08-16T12:36:57.957Z"
   },
   {
    "duration": 11,
    "start_time": "2021-08-16T12:39:31.625Z"
   },
   {
    "duration": 1262,
    "start_time": "2021-08-16T12:39:58.294Z"
   },
   {
    "duration": 20,
    "start_time": "2021-08-16T12:39:59.558Z"
   },
   {
    "duration": 28,
    "start_time": "2021-08-16T12:39:59.581Z"
   },
   {
    "duration": 12,
    "start_time": "2021-08-16T12:39:59.612Z"
   },
   {
    "duration": 34,
    "start_time": "2021-08-16T12:39:59.626Z"
   },
   {
    "duration": 15,
    "start_time": "2021-08-16T12:39:59.662Z"
   },
   {
    "duration": 8,
    "start_time": "2021-08-16T12:39:59.679Z"
   },
   {
    "duration": 70,
    "start_time": "2021-08-16T12:39:59.691Z"
   },
   {
    "duration": 94,
    "start_time": "2021-08-16T12:39:59.765Z"
   },
   {
    "duration": 21,
    "start_time": "2021-08-16T12:39:59.861Z"
   },
   {
    "duration": 10,
    "start_time": "2021-08-16T12:39:59.884Z"
   },
   {
    "duration": 62,
    "start_time": "2021-08-16T12:39:59.897Z"
   },
   {
    "duration": 99,
    "start_time": "2021-08-16T12:39:59.963Z"
   },
   {
    "duration": 92,
    "start_time": "2021-08-16T12:40:00.064Z"
   },
   {
    "duration": 6,
    "start_time": "2021-08-16T12:42:42.343Z"
   },
   {
    "duration": 457,
    "start_time": "2021-08-16T12:43:09.292Z"
   },
   {
    "duration": 7,
    "start_time": "2021-08-16T12:43:15.669Z"
   },
   {
    "duration": 1258,
    "start_time": "2021-08-16T12:43:21.801Z"
   },
   {
    "duration": 21,
    "start_time": "2021-08-16T12:43:23.062Z"
   },
   {
    "duration": 34,
    "start_time": "2021-08-16T12:43:23.087Z"
   },
   {
    "duration": 8,
    "start_time": "2021-08-16T12:43:23.124Z"
   },
   {
    "duration": 28,
    "start_time": "2021-08-16T12:43:23.134Z"
   },
   {
    "duration": 23,
    "start_time": "2021-08-16T12:43:23.164Z"
   },
   {
    "duration": 8,
    "start_time": "2021-08-16T12:43:23.189Z"
   },
   {
    "duration": 57,
    "start_time": "2021-08-16T12:43:23.201Z"
   },
   {
    "duration": 102,
    "start_time": "2021-08-16T12:43:23.261Z"
   },
   {
    "duration": 11,
    "start_time": "2021-08-16T12:43:23.365Z"
   },
   {
    "duration": 17,
    "start_time": "2021-08-16T12:43:23.378Z"
   },
   {
    "duration": 67,
    "start_time": "2021-08-16T12:43:23.397Z"
   },
   {
    "duration": 99,
    "start_time": "2021-08-16T12:43:23.466Z"
   },
   {
    "duration": 90,
    "start_time": "2021-08-16T12:43:23.567Z"
   },
   {
    "duration": 43,
    "start_time": "2021-08-16T12:44:44.813Z"
   },
   {
    "duration": 13,
    "start_time": "2021-08-16T12:46:01.536Z"
   },
   {
    "duration": 13,
    "start_time": "2021-08-16T12:46:26.841Z"
   },
   {
    "duration": 16,
    "start_time": "2021-08-16T12:48:50.923Z"
   },
   {
    "duration": 12,
    "start_time": "2021-08-16T12:50:43.123Z"
   },
   {
    "duration": 9,
    "start_time": "2021-08-16T12:51:00.172Z"
   },
   {
    "duration": 1379,
    "start_time": "2021-08-16T12:51:06.770Z"
   },
   {
    "duration": 20,
    "start_time": "2021-08-16T12:51:08.151Z"
   },
   {
    "duration": 27,
    "start_time": "2021-08-16T12:51:08.174Z"
   },
   {
    "duration": 9,
    "start_time": "2021-08-16T12:51:08.203Z"
   },
   {
    "duration": 15,
    "start_time": "2021-08-16T12:51:08.214Z"
   },
   {
    "duration": 7,
    "start_time": "2021-08-16T12:51:08.255Z"
   },
   {
    "duration": 6,
    "start_time": "2021-08-16T12:51:08.265Z"
   },
   {
    "duration": 89,
    "start_time": "2021-08-16T12:51:08.273Z"
   },
   {
    "duration": 91,
    "start_time": "2021-08-16T12:51:08.366Z"
   },
   {
    "duration": 11,
    "start_time": "2021-08-16T12:51:08.461Z"
   },
   {
    "duration": 7,
    "start_time": "2021-08-16T12:51:08.474Z"
   },
   {
    "duration": 83,
    "start_time": "2021-08-16T12:51:08.484Z"
   },
   {
    "duration": 95,
    "start_time": "2021-08-16T12:51:08.569Z"
   },
   {
    "duration": 90,
    "start_time": "2021-08-16T12:51:08.667Z"
   },
   {
    "duration": 9,
    "start_time": "2021-08-16T13:07:52.032Z"
   },
   {
    "duration": 11,
    "start_time": "2021-08-16T13:10:43.637Z"
   },
   {
    "duration": 1324,
    "start_time": "2021-08-16T13:13:20.732Z"
   },
   {
    "duration": 19,
    "start_time": "2021-08-16T13:13:22.059Z"
   },
   {
    "duration": 30,
    "start_time": "2021-08-16T13:13:22.082Z"
   },
   {
    "duration": 11,
    "start_time": "2021-08-16T13:13:22.115Z"
   },
   {
    "duration": 15,
    "start_time": "2021-08-16T13:13:22.158Z"
   },
   {
    "duration": 7,
    "start_time": "2021-08-16T13:13:22.175Z"
   },
   {
    "duration": 12,
    "start_time": "2021-08-16T13:13:22.187Z"
   },
   {
    "duration": 63,
    "start_time": "2021-08-16T13:13:22.202Z"
   },
   {
    "duration": 103,
    "start_time": "2021-08-16T13:13:22.271Z"
   },
   {
    "duration": 15,
    "start_time": "2021-08-16T13:13:22.376Z"
   },
   {
    "duration": 8,
    "start_time": "2021-08-16T13:13:22.394Z"
   },
   {
    "duration": 61,
    "start_time": "2021-08-16T13:13:22.405Z"
   },
   {
    "duration": 186,
    "start_time": "2021-08-16T13:13:22.469Z"
   }
  ],
  "kernelspec": {
   "display_name": "Python 3 (ipykernel)",
   "language": "python",
   "name": "python3"
  },
  "language_info": {
   "codemirror_mode": {
    "name": "ipython",
    "version": 3
   },
   "file_extension": ".py",
   "mimetype": "text/x-python",
   "name": "python",
   "nbconvert_exporter": "python",
   "pygments_lexer": "ipython3",
   "version": "3.8.5"
  },
  "toc": {
   "base_numbering": 1,
   "nav_menu": {},
   "number_sections": true,
   "sideBar": true,
   "skip_h1_title": true,
   "title_cell": "Содержание",
   "title_sidebar": "Contents",
   "toc_cell": true,
   "toc_position": {},
   "toc_section_display": true,
   "toc_window_display": false
  }
 },
 "nbformat": 4,
 "nbformat_minor": 2
}
