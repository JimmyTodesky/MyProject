{
 "cells": [
  {
   "cell_type": "markdown",
   "metadata": {},
   "source": [
    "## Исследование надёжности заёмщиков\n"
   ]
  },
  {
   "cell_type": "markdown",
   "metadata": {},
   "source": [
    "### Шаг 1. Загрузка и оценка исходных данных"
   ]
  },
  {
   "cell_type": "code",
   "execution_count": 1,
   "metadata": {},
   "outputs": [
    {
     "name": "stdout",
     "output_type": "stream",
     "text": [
      "   children  days_employed  dob_years education  education_id  \\\n",
      "0         1   -8437.673028         42    высшее             0   \n",
      "1         1   -4024.803754         36   среднее             1   \n",
      "2         0   -5623.422610         33   Среднее             1   \n",
      "3         3   -4124.747207         32   среднее             1   \n",
      "4         0  340266.072047         53   среднее             1   \n",
      "5         0    -926.185831         27    высшее             0   \n",
      "6         0   -2879.202052         43    высшее             0   \n",
      "7         0    -152.779569         50   СРЕДНЕЕ             1   \n",
      "8         2   -6929.865299         35    ВЫСШЕЕ             0   \n",
      "9         0   -2188.756445         41   среднее             1   \n",
      "\n",
      "      family_status  family_status_id gender income_type  debt   total_income  \\\n",
      "0   женат / замужем                 0      F   сотрудник     0  253875.639453   \n",
      "1   женат / замужем                 0      F   сотрудник     0  112080.014102   \n",
      "2   женат / замужем                 0      M   сотрудник     0  145885.952297   \n",
      "3   женат / замужем                 0      M   сотрудник     0  267628.550329   \n",
      "4  гражданский брак                 1      F   пенсионер     0  158616.077870   \n",
      "5  гражданский брак                 1      M   компаньон     0  255763.565419   \n",
      "6   женат / замужем                 0      F   компаньон     0  240525.971920   \n",
      "7   женат / замужем                 0      M   сотрудник     0  135823.934197   \n",
      "8  гражданский брак                 1      F   сотрудник     0   95856.832424   \n",
      "9   женат / замужем                 0      M   сотрудник     0  144425.938277   \n",
      "\n",
      "                      purpose  \n",
      "0               покупка жилья  \n",
      "1     приобретение автомобиля  \n",
      "2               покупка жилья  \n",
      "3  дополнительное образование  \n",
      "4             сыграть свадьбу  \n",
      "5               покупка жилья  \n",
      "6           операции с жильем  \n",
      "7                 образование  \n",
      "8       на проведение свадьбы  \n",
      "9     покупка жилья для семьи  \n",
      "\n",
      "<class 'pandas.core.frame.DataFrame'>\n",
      "RangeIndex: 21525 entries, 0 to 21524\n",
      "Data columns (total 12 columns):\n",
      "children            21525 non-null int64\n",
      "days_employed       19351 non-null float64\n",
      "dob_years           21525 non-null int64\n",
      "education           21525 non-null object\n",
      "education_id        21525 non-null int64\n",
      "family_status       21525 non-null object\n",
      "family_status_id    21525 non-null int64\n",
      "gender              21525 non-null object\n",
      "income_type         21525 non-null object\n",
      "debt                21525 non-null int64\n",
      "total_income        19351 non-null float64\n",
      "purpose             21525 non-null object\n",
      "dtypes: float64(2), int64(5), object(5)\n",
      "memory usage: 2.0+ MB\n",
      "None\n"
     ]
    }
   ],
   "source": [
    "import pandas as pd\n",
    "stat_payment = pd.read_csv('/datasets/data.csv')\n",
    "print(stat_payment.head(10))\n",
    "print()\n",
    "print(stat_payment.info())"
   ]
  },
  {
   "cell_type": "markdown",
   "metadata": {},
   "source": [
    "### Вывод"
   ]
  },
  {
   "cell_type": "markdown",
   "metadata": {},
   "source": [
    "Данные в исходном виде не подготовлены к анализу, необходимо произвести их проверку на наличие пропусков, удалить дубликаты, перевести данные в формат удобный для обработки. Основные пропуски находятся в двух столбцах days_employed(общий трудовой стаж) и total_income(ежемесячный доход). Столбец days_employed(общий трудовой стаж) имеет формат данных float64(число с плавающей запятой, что для дней не характерно). Также в этом столбце встречаются отрицательные значения, которые не могут "
   ]
  },
  {
   "cell_type": "markdown",
   "metadata": {},
   "source": [
    "### Шаг 2. Предобработка данных"
   ]
  },
  {
   "cell_type": "markdown",
   "metadata": {},
   "source": [
    "### Обработка пропусков"
   ]
  },
  {
   "cell_type": "code",
   "execution_count": 2,
   "metadata": {
    "scrolled": true
   },
   "outputs": [
    {
     "name": "stdout",
     "output_type": "stream",
     "text": [
      "<class 'pandas.core.frame.DataFrame'>\n",
      "RangeIndex: 21525 entries, 0 to 21524\n",
      "Data columns (total 12 columns):\n",
      "children            21525 non-null int64\n",
      "days_employed       21525 non-null float64\n",
      "dob_years           21525 non-null int64\n",
      "education           21525 non-null object\n",
      "education_id        21525 non-null int64\n",
      "family_status       21525 non-null object\n",
      "family_status_id    21525 non-null int64\n",
      "gender              21525 non-null object\n",
      "income_type         21525 non-null object\n",
      "debt                21525 non-null int64\n",
      "total_income        21525 non-null float64\n",
      "purpose             21525 non-null object\n",
      "dtypes: float64(2), int64(5), object(5)\n",
      "memory usage: 2.0+ MB\n"
     ]
    }
   ],
   "source": [
    "stat_payment['days_employed'] = stat_payment['days_employed'].fillna(0)\n",
    "stat_payment['total_income'] = stat_payment['total_income'].fillna(12130)\n",
    "stat_payment.info()"
   ]
  },
  {
   "cell_type": "markdown",
   "metadata": {},
   "source": [
    "### Вывод"
   ]
  },
  {
   "cell_type": "markdown",
   "metadata": {},
   "source": [
    "Мы заменили в столбцах days_employed, total_income отсутствующие значения на 0, так как  пропущеные значения являются технически не заполненными из-за того, что у человека может не быть трудового стажа или же не быть ежемесячного дохода. "
   ]
  },
  {
   "cell_type": "markdown",
   "metadata": {},
   "source": [
    "### Замена типа данных"
   ]
  },
  {
   "cell_type": "code",
   "execution_count": 3,
   "metadata": {},
   "outputs": [
    {
     "name": "stdout",
     "output_type": "stream",
     "text": [
      "<class 'pandas.core.frame.DataFrame'>\n",
      "RangeIndex: 21525 entries, 0 to 21524\n",
      "Data columns (total 12 columns):\n",
      "children            21525 non-null int64\n",
      "days_employed       21525 non-null int64\n",
      "dob_years           21525 non-null int64\n",
      "education           21525 non-null object\n",
      "education_id        21525 non-null int64\n",
      "family_status       21525 non-null object\n",
      "family_status_id    21525 non-null int64\n",
      "gender              21525 non-null object\n",
      "income_type         21525 non-null object\n",
      "debt                21525 non-null int64\n",
      "total_income        21525 non-null float64\n",
      "purpose             21525 non-null object\n",
      "dtypes: float64(1), int64(6), object(5)\n",
      "memory usage: 2.0+ MB\n",
      "\n",
      "0      8437\n",
      "1      4024\n",
      "2      5623\n",
      "3      4124\n",
      "4    340266\n",
      "5       926\n",
      "6      2879\n",
      "7       152\n",
      "8      6929\n",
      "9      2188\n",
      "Name: days_employed, dtype: int64\n",
      "\n",
      "0    253875.64\n",
      "1    112080.01\n",
      "2    145885.95\n",
      "3    267628.55\n",
      "4    158616.08\n",
      "5    255763.57\n",
      "6    240525.97\n",
      "7    135823.93\n",
      "8     95856.83\n",
      "9    144425.94\n",
      "Name: total_income, dtype: float64\n",
      "\n",
      "[1 0 3 2 4 5]\n"
     ]
    }
   ],
   "source": [
    "stat_payment['days_employed'] = stat_payment['days_employed'].fillna(0)\n",
    "stat_payment['total_income'] = stat_payment['total_income'].fillna(0)\n",
    "stat_payment['days_employed'] = stat_payment['days_employed'].astype('int')\n",
    "stat_payment['days_employed'] = abs(stat_payment['days_employed'])\n",
    "stat_payment['children'] = abs(stat_payment['children'])  #переводим в положительные значения количество детей(оператор по ошибке добавил -)\n",
    "stat_payment.loc[stat_payment['children'] == 20, 'children'] = 2 #заменяем значение 20 в столбце children на 2(оператор по ошибке добавил 0)\n",
    "stat_payment.info() \n",
    "stat_payment['total_income'] =  stat_payment['total_income'].round(2) #Округляем доход до двух знаков после запятой       \n",
    "print()\n",
    "print(stat_payment['days_employed'].head(10))\n",
    "print()\n",
    "print(stat_payment['total_income'].head(10))\n",
    "print()\n",
    "print(stat_payment['children'].unique())"
   ]
  },
  {
   "cell_type": "markdown",
   "metadata": {},
   "source": [
    "### Вывод"
   ]
  },
  {
   "cell_type": "markdown",
   "metadata": {},
   "source": [
    "Выбор метода astype() был обоснован тем, что нам необходимо было заменить вещественные значение столбца days_employed  на целочисленные для нормализации данных. Так как в дальнейшем для нашего исследования данный столбец не нужен, его предобработку мы на этом моменте остановим. Также округлим столбец total_income до двух знаков после запятой, для получения более наглядных значений дохода. Также переведем количество детей в столбце children в положительное значение, уберем артефакт 20 - переведем, его в 2, так как оператор при введении количества детей по ошибке нажал 0. "
   ]
  },
  {
   "cell_type": "markdown",
   "metadata": {},
   "source": [
    "### Обработка дубликатов"
   ]
  },
  {
   "cell_type": "code",
   "execution_count": 4,
   "metadata": {},
   "outputs": [
    {
     "name": "stdout",
     "output_type": "stream",
     "text": [
      "['высшее' 'среднее' 'неоконченное высшее' 'начальное' 'ученая степень']\n"
     ]
    }
   ],
   "source": [
    "stat_payment_education = stat_payment['education'] \n",
    "stat_payment_education.value_counts()\n",
    "stat_payment_education = stat_payment_education.str.lower()\n",
    "stat_payment['education'] = stat_payment_education\n",
    "print(stat_payment['education'].unique())"
   ]
  },
  {
   "cell_type": "markdown",
   "metadata": {},
   "source": [
    "Обработаем столбец days_employed"
   ]
  },
  {
   "cell_type": "code",
   "execution_count": 5,
   "metadata": {},
   "outputs": [],
   "source": [
    "stat_payment['days_employed'] = stat_payment['days_employed'].drop_duplicates() #Удаляем дубликаты в столбце days_employed\n",
    "stat_payment = stat_payment.dropna().reset_index(drop = True)\n",
    "stat_payment['days_employed'].duplicated().sum() #проверяем что дубликатов не осталось"
   ]
  },
  {
   "cell_type": "markdown",
   "metadata": {},
   "source": [
    "Обработаем столбец total_income"
   ]
  },
  {
   "cell_type": "code",
   "execution_count": 6,
   "metadata": {},
   "outputs": [],
   "source": [
    "#Удаляем дубликаты в столбце total_income\n",
    "stat_payment['total_income'] = stat_payment['total_income'].drop_duplicates() \n",
    "stat_payment = stat_payment.dropna().reset_index(drop = True)\n",
    "#проверяем что дубликатов не осталось\n",
    "stat_payment['total_income'].duplicated().sum() "
   ]
  },
  {
   "cell_type": "markdown",
   "metadata": {},
   "source": [
    "Проверяем общее количество строк оставшееся в датафрейме stat_payment после удаления дубликатов "
   ]
  },
  {
   "cell_type": "code",
   "execution_count": 7,
   "metadata": {},
   "outputs": [
    {
     "name": "stdout",
     "output_type": "stream",
     "text": [
      "<class 'pandas.core.frame.DataFrame'>\n",
      "RangeIndex: 21525 entries, 0 to 21524\n",
      "Data columns (total 12 columns):\n",
      "children            21525 non-null int64\n",
      "days_employed       21525 non-null int64\n",
      "dob_years           21525 non-null int64\n",
      "education           21525 non-null object\n",
      "education_id        21525 non-null int64\n",
      "family_status       21525 non-null object\n",
      "family_status_id    21525 non-null int64\n",
      "gender              21525 non-null object\n",
      "income_type         21525 non-null object\n",
      "debt                21525 non-null int64\n",
      "total_income        21525 non-null float64\n",
      "purpose             21525 non-null object\n",
      "dtypes: float64(1), int64(6), object(5)\n",
      "memory usage: 2.0+ MB\n"
     ]
    }
   ],
   "source": [
    "stat_payment.info()"
   ]
  },
  {
   "cell_type": "markdown",
   "metadata": {},
   "source": [
    "### Вывод"
   ]
  },
  {
   "cell_type": "markdown",
   "metadata": {},
   "source": [
    "В столбце education(образование) встречались дубликаты вида(среднее, высшее, СРЕДНЕЕ, Среднее, неоконченное высшее, ВЫСШЕЕ, Высшее, начальное, Неоконченное высшее, НЕОКОНЧЕННОЕ ВЫСШЕЕ, НАЧАЛЬНОЕ, Начальное, ученая степень, Ученая степень, УЧЕНАЯ СТЕПЕНЬ) Так как различный регистр одних и тех же значений язык python считает уникальными, было принято решение создать переменную stat_payment_education в которую сохранить значение столбца stat_payment['education'] для получения объекта Siries и сначала подсчитать уникальные значения для подтверждения своей гипотезы, затем преобразовать все значения в нижний регистр методом str.lower()/ После этого присвоим значение переменной stat_payment_education столбцу stat_payment['education'] и проверим удаление дубликатов с разным регистром.\n",
    "В столбцах days_employed  и total_income в учебных целях(так как в реальной жизни количество трудодней и доход у разных людей могут совпадать) найдем дубликаты и удалим их. После чего оценим датафрейм, его размер уменьшился более чем в два раза. \n"
   ]
  },
  {
   "cell_type": "markdown",
   "metadata": {},
   "source": [
    "### Лемматизация"
   ]
  },
  {
   "cell_type": "markdown",
   "metadata": {},
   "source": [
    "Получаем список уникальных значений столбца purpose и выводим ее на экран для того чтобы оценить обьем и провести лемматизацию."
   ]
  },
  {
   "cell_type": "code",
   "execution_count": 8,
   "metadata": {},
   "outputs": [
    {
     "name": "stdout",
     "output_type": "stream",
     "text": [
      "свадьба                                   797\n",
      "на проведение свадьбы                     777\n",
      "сыграть свадьбу                           774\n",
      "операции с недвижимостью                  676\n",
      "покупка коммерческой недвижимости         664\n",
      "операции с жильем                         653\n",
      "покупка жилья для сдачи                   653\n",
      "операции с коммерческой недвижимостью     651\n",
      "жилье                                     647\n",
      "покупка жилья                             647\n",
      "покупка жилья для семьи                   641\n",
      "строительство собственной недвижимости    635\n",
      "недвижимость                              634\n",
      "операции со своей недвижимостью           630\n",
      "строительство жилой недвижимости          626\n",
      "покупка недвижимости                      624\n",
      "покупка своего жилья                      620\n",
      "строительство недвижимости                620\n",
      "ремонт жилью                              612\n",
      "покупка жилой недвижимости                607\n",
      "на покупку своего автомобиля              505\n",
      "заняться высшим образованием              496\n",
      "автомобиль                                495\n",
      "сделка с подержанным автомобилем          489\n",
      "свой автомобиль                           480\n",
      "на покупку подержанного автомобиля        479\n",
      "автомобили                                478\n",
      "на покупку автомобиля                     472\n",
      "дополнительное образование                462\n",
      "приобретение автомобиля                   462\n",
      "сделка с автомобилем                      455\n",
      "высшее образование                        453\n",
      "получение дополнительного образования     447\n",
      "образование                               447\n",
      "получение образования                     443\n",
      "профильное образование                    436\n",
      "получение высшего образования             426\n",
      "заняться образованием                     412\n",
      "Name: purpose, dtype: int64\n"
     ]
    }
   ],
   "source": [
    "print(stat_payment['purpose'].value_counts())"
   ]
  },
  {
   "cell_type": "markdown",
   "metadata": {},
   "source": [
    "Проведем лемматизацию столбца  purpose с помощью библиотеки pymystem3 и функции, получим новые значения "
   ]
  },
  {
   "cell_type": "code",
   "execution_count": 9,
   "metadata": {},
   "outputs": [
    {
     "name": "stdout",
     "output_type": "stream",
     "text": [
      "<class 'pandas.core.frame.DataFrame'>\n",
      "RangeIndex: 21525 entries, 0 to 21524\n",
      "Data columns (total 12 columns):\n",
      "children            21525 non-null int64\n",
      "days_employed       21525 non-null int64\n",
      "dob_years           21525 non-null int64\n",
      "education           21525 non-null object\n",
      "education_id        21525 non-null int64\n",
      "family_status       21525 non-null object\n",
      "family_status_id    21525 non-null int64\n",
      "gender              21525 non-null object\n",
      "income_type         21525 non-null object\n",
      "debt                21525 non-null int64\n",
      "total_income        21525 non-null float64\n",
      "purpose             21525 non-null object\n",
      "dtypes: float64(1), int64(6), object(5)\n",
      "memory usage: 2.0+ MB\n"
     ]
    },
    {
     "data": {
      "text/plain": [
       "0     недвижимость\n",
       "1       автомобиль\n",
       "2     недвижимость\n",
       "3      образование\n",
       "4          свадьба\n",
       "5     недвижимость\n",
       "6     недвижимость\n",
       "7      образование\n",
       "8          свадьба\n",
       "9     недвижимость\n",
       "10    недвижимость\n",
       "11    недвижимость\n",
       "12         свадьба\n",
       "13      автомобиль\n",
       "14    недвижимость\n",
       "Name: purpose, dtype: object"
      ]
     },
     "execution_count": 9,
     "metadata": {},
     "output_type": "execute_result"
    }
   ],
   "source": [
    "purpose_category = stat_payment['purpose'].unique()\n",
    "from pymystem3 import Mystem\n",
    "m = Mystem()\n",
    "def purpose_new(unique):\n",
    "    lemmas_row = m.lemmatize(unique)\n",
    "    if  'свадьба' in lemmas_row:\n",
    "        return 'свадьба'\n",
    "    if 'жилье' in lemmas_row or 'недвижимость' in lemmas_row:\n",
    "        return 'недвижимость'\n",
    "    if 'автомобиль' in lemmas_row:\n",
    "        return 'автомобиль'\n",
    "    if 'образование' in lemmas_row:\n",
    "        return 'образование'\n",
    "stat_payment['purpose_new'] = stat_payment['purpose'].apply(purpose_new) #Применение функции к столбцу purpose и запись новых значений в столбец purpose_new \n",
    "stat_payment['purpose'] = stat_payment['purpose_new'] #Присвоение значений столбца purpose_new столбцу purpose\n",
    "stat_payment.drop(['purpose_new'], axis='columns', inplace=True) #Удаление ненужного столбца purpose_new\n",
    "stat_payment.info()\n",
    "stat_payment['purpose'].head(15)\n"
   ]
  },
  {
   "cell_type": "markdown",
   "metadata": {},
   "source": [
    "### Вывод"
   ]
  },
  {
   "cell_type": "markdown",
   "metadata": {},
   "source": [
    "После проведения лемматизации столбца purpose(цель кредита) удалось оставить 4 основные цели на которые люди берут кредиты, а именно - свадьба, недвижимость, автомобиль, образование. Лематизация проводилась с помощью функции, которая проверяла наличие ключевых слов в исходном значении строки. После этого возвращала заданное значение в новый столбец. В последствии значения нового столбца были присвоены столбцу purpose. А столбец purpose_new был удален за ненадобностью  "
   ]
  },
  {
   "cell_type": "markdown",
   "metadata": {},
   "source": [
    "### Категоризация данных"
   ]
  },
  {
   "cell_type": "markdown",
   "metadata": {},
   "source": [
    "#### Влияние наличия детей на возврат кредита в срок"
   ]
  },
  {
   "cell_type": "code",
   "execution_count": 10,
   "metadata": {},
   "outputs": [
    {
     "name": "stdout",
     "output_type": "stream",
     "text": [
      "Общее количество заемщиков 21525\n",
      "Общее количество должников 1741\n",
      "Количество должников с детьми: 678\n",
      "Количество должников без детей: 1063\n",
      "Общий процент должников от количества заемщиков: 8.09%\n",
      "Процент должников с детьми от общего количества заемщиков: 3.15%\n",
      "Процент должников без детей от общего количества заемщиков: 4.94%\n",
      "Процент должников с детьми от общего количества должников: 38.94%\n",
      "Процент должников без детей от общего количества должников: 61.06%\n",
      "\n",
      "Вывод в табличном виде результатов исследования\n"
     ]
    },
    {
     "data": {
      "text/html": [
       "<div>\n",
       "<style scoped>\n",
       "    .dataframe tbody tr th:only-of-type {\n",
       "        vertical-align: middle;\n",
       "    }\n",
       "\n",
       "    .dataframe tbody tr th {\n",
       "        vertical-align: top;\n",
       "    }\n",
       "\n",
       "    .dataframe thead th {\n",
       "        text-align: right;\n",
       "    }\n",
       "</style>\n",
       "<table border=\"1\" class=\"dataframe\">\n",
       "  <thead>\n",
       "    <tr style=\"text-align: right;\">\n",
       "      <th>debt</th>\n",
       "      <th>0</th>\n",
       "      <th>1</th>\n",
       "      <th>share_of_debtors</th>\n",
       "      <th>percent_all_debt</th>\n",
       "    </tr>\n",
       "    <tr>\n",
       "      <th>children</th>\n",
       "      <th></th>\n",
       "      <th></th>\n",
       "      <th></th>\n",
       "      <th></th>\n",
       "    </tr>\n",
       "  </thead>\n",
       "  <tbody>\n",
       "    <tr>\n",
       "      <td>0</td>\n",
       "      <td>13086</td>\n",
       "      <td>1063</td>\n",
       "      <td>0.610569</td>\n",
       "      <td>61.06</td>\n",
       "    </tr>\n",
       "    <tr>\n",
       "      <td>1</td>\n",
       "      <td>4420</td>\n",
       "      <td>445</td>\n",
       "      <td>0.255600</td>\n",
       "      <td>25.56</td>\n",
       "    </tr>\n",
       "    <tr>\n",
       "      <td>2</td>\n",
       "      <td>1929</td>\n",
       "      <td>202</td>\n",
       "      <td>0.116025</td>\n",
       "      <td>11.60</td>\n",
       "    </tr>\n",
       "    <tr>\n",
       "      <td>3</td>\n",
       "      <td>303</td>\n",
       "      <td>27</td>\n",
       "      <td>0.015508</td>\n",
       "      <td>1.55</td>\n",
       "    </tr>\n",
       "    <tr>\n",
       "      <td>4</td>\n",
       "      <td>37</td>\n",
       "      <td>4</td>\n",
       "      <td>0.002298</td>\n",
       "      <td>0.23</td>\n",
       "    </tr>\n",
       "    <tr>\n",
       "      <td>5</td>\n",
       "      <td>9</td>\n",
       "      <td>0</td>\n",
       "      <td>0.000000</td>\n",
       "      <td>0.00</td>\n",
       "    </tr>\n",
       "  </tbody>\n",
       "</table>\n",
       "</div>"
      ],
      "text/plain": [
       "debt          0     1  share_of_debtors  percent_all_debt\n",
       "children                                                 \n",
       "0         13086  1063          0.610569             61.06\n",
       "1          4420   445          0.255600             25.56\n",
       "2          1929   202          0.116025             11.60\n",
       "3           303    27          0.015508              1.55\n",
       "4            37     4          0.002298              0.23\n",
       "5             9     0          0.000000              0.00"
      ]
     },
     "execution_count": 10,
     "metadata": {},
     "output_type": "execute_result"
    }
   ],
   "source": [
    "stat_payment_children = stat_payment[['children', 'debt','purpose']]\n",
    "\n",
    "debtor_with_children = stat_payment_children.loc[\n",
    "    (stat_payment_children['children'] != 0)&(\n",
    "        stat_payment_children['debt'] == 1)]['debt'].count()\n",
    "\n",
    "debtor_without_children = stat_payment_children.loc[\n",
    "    (stat_payment_children['children'] == 0)&(\n",
    "        stat_payment_children['debt'] == 1)]['debt'].count()\n",
    "\n",
    "all_debtor = debtor_with_children + debtor_without_children\n",
    "all_borrower = len(stat_payment_children)\n",
    "all_debtor_percent = all_debtor / all_borrower\n",
    "\n",
    "debtor_with_children_percent = debtor_with_children / all_borrower\n",
    "debtor_without_children_percent = debtor_without_children / all_borrower\n",
    "debtor_with_child_perc_all_debt = debtor_with_children  / all_debtor\n",
    "debtor_without_child_perc_all_debt = debtor_without_children / all_debtor\n",
    "\n",
    "#Ниже добавил вывод результатов в таблице, там можно оценить влияние количества детей на возврат кредита в срок\n",
    "stat_payment_children_pivot = stat_payment_children.pivot_table(index = 'children', columns = 'debt', values = 'purpose', aggfunc = 'count')\n",
    "stat_payment_children_pivot[1] = stat_payment_children_pivot[1].fillna(0)\n",
    "stat_payment_children_pivot[0] = stat_payment_children_pivot[0].astype(int)\n",
    "stat_payment_children_pivot[1] = stat_payment_children_pivot[1].astype(int)\n",
    "stat_payment_children_pivot['share_of_debtors'] = stat_payment_children_pivot[1]/stat_payment_children_pivot[1].sum()\n",
    "\n",
    "def compute_percentage(x):\n",
    "      pct = float(x/stat_payment_children_pivot['share_of_debtors'].sum()) * 100\n",
    "      return round(pct, 2)\n",
    "\n",
    "\n",
    "stat_payment_children_pivot['percent_all_debt'] = stat_payment_children_pivot['share_of_debtors'].apply(compute_percentage)\n",
    "\n",
    "\n",
    "\n",
    "print('Общее количество заемщиков', all_borrower)\n",
    "print('Общее количество должников',all_debtor)\n",
    "print('Количество должников с детьми:',debtor_with_children)\n",
    "print('Количество должников без детей:',debtor_without_children) \n",
    "print('Общий процент должников от количества заемщиков: {:.2%}'.format(all_debtor_percent))\n",
    "print('Процент должников с детьми от общего количества заемщиков: {:.2%}'.format(debtor_with_children_percent))\n",
    "print('Процент должников без детей от общего количества заемщиков: {:.2%}'.format(debtor_without_children_percent))\n",
    "print('Процент должников с детьми от общего количества должников: {:.2%}'.format(debtor_with_child_perc_all_debt))\n",
    "print('Процент должников без детей от общего количества должников: {:.2%}'.format(debtor_without_child_perc_all_debt))\n",
    "print()\n",
    "print('Вывод в табличном виде результатов исследования')\n",
    "stat_payment_children_pivot"
   ]
  },
  {
   "cell_type": "markdown",
   "metadata": {},
   "source": [
    "#### Влияние семейного положения на возврат кредита в срок(дополнительно исследовано влияние пола заемщика на возврат кредита в срок"
   ]
  },
  {
   "cell_type": "code",
   "execution_count": 19,
   "metadata": {},
   "outputs": [
    {
     "name": "stdout",
     "output_type": "stream",
     "text": [
      "Общее количество заемщиков 21525\n",
      "Общее количество должников 1741\n",
      "Количество семейных заемщиков: 16557\n",
      "Количество несемейных заемщиков: 4968\n",
      "Количество семейных должников: 1319\n",
      "Количество несемейных должников: 422\n",
      "Процент семейных должников от общего количества заемщиков: 6.13%\n",
      "Процент несемейных должников от общего количества заемщиков: 1.96%\n",
      "Процент семейных должников от общего количества должников: 75.76%\n",
      "Процент несемейных должников от общего количества должников: 24.24%\n",
      "Количество заемщиков женщин: 14236\n",
      "Количество заемщиков мужчин: 7288\n",
      "Количество должников женщин: 994\n",
      "Количество должников мужчин: 747\n",
      "Процент должников женщин от общего количества заемщиков: 4.62%\n",
      "Процент должников мужчин от общего количества заемщиков: 3.47%\n",
      "Процент должников женщин от общего количества должников: 57.09%\n",
      "Процент должников мужчин от общего количества должников: 42.91%\n",
      "\n",
      "Вывод в табличном виде результатов исследования влияния семейного положения\n",
      "debt                       0    1  share_of_debtors  percent_all_debt\n",
      "family_status                                                        \n",
      "Не женат / не замужем   2539  274          0.157381             15.74\n",
      "в разводе               1110   85          0.048823              4.88\n",
      "вдовец / вдова           897   63          0.036186              3.62\n",
      "гражданский брак        3789  388          0.222860             22.29\n",
      "женат / замужем        11449  931          0.534750             53.48\n",
      "\n",
      "Вывод в табличном виде результатов исследования влияния пола заемщика\n"
     ]
    },
    {
     "data": {
      "text/html": [
       "<div>\n",
       "<style scoped>\n",
       "    .dataframe tbody tr th:only-of-type {\n",
       "        vertical-align: middle;\n",
       "    }\n",
       "\n",
       "    .dataframe tbody tr th {\n",
       "        vertical-align: top;\n",
       "    }\n",
       "\n",
       "    .dataframe thead th {\n",
       "        text-align: right;\n",
       "    }\n",
       "</style>\n",
       "<table border=\"1\" class=\"dataframe\">\n",
       "  <thead>\n",
       "    <tr style=\"text-align: right;\">\n",
       "      <th>debt</th>\n",
       "      <th>0</th>\n",
       "      <th>1</th>\n",
       "      <th>share_of_debtors</th>\n",
       "      <th>percent_all_debt</th>\n",
       "    </tr>\n",
       "    <tr>\n",
       "      <th>gender</th>\n",
       "      <th></th>\n",
       "      <th></th>\n",
       "      <th></th>\n",
       "      <th></th>\n",
       "    </tr>\n",
       "  </thead>\n",
       "  <tbody>\n",
       "    <tr>\n",
       "      <td>F</td>\n",
       "      <td>13242.0</td>\n",
       "      <td>994.0</td>\n",
       "      <td>0.570936</td>\n",
       "      <td>57.09</td>\n",
       "    </tr>\n",
       "    <tr>\n",
       "      <td>M</td>\n",
       "      <td>6541.0</td>\n",
       "      <td>747.0</td>\n",
       "      <td>0.429064</td>\n",
       "      <td>42.91</td>\n",
       "    </tr>\n",
       "    <tr>\n",
       "      <td>XNA</td>\n",
       "      <td>1.0</td>\n",
       "      <td>NaN</td>\n",
       "      <td>NaN</td>\n",
       "      <td>NaN</td>\n",
       "    </tr>\n",
       "  </tbody>\n",
       "</table>\n",
       "</div>"
      ],
      "text/plain": [
       "debt          0      1  share_of_debtors  percent_all_debt\n",
       "gender                                                    \n",
       "F       13242.0  994.0          0.570936             57.09\n",
       "M        6541.0  747.0          0.429064             42.91\n",
       "XNA         1.0    NaN               NaN               NaN"
      ]
     },
     "execution_count": 19,
     "metadata": {},
     "output_type": "execute_result"
    }
   ],
   "source": [
    "stat_payment_family = stat_payment[['family_status', 'family_status_id', 'gender', 'debt']]\n",
    "\n",
    "payment_married = stat_payment_family.loc[(stat_payment_family['family_status_id'] != 2)&(stat_payment_family['family_status_id'] != 3)&(stat_payment_family['family_status_id'] != 4)]\n",
    "payment_single = stat_payment_family.loc[(stat_payment_family['family_status_id'] != 0)&(stat_payment_family['family_status_id'] != 1)]\n",
    "debtor_married = payment_married.loc[payment_married['debt'] == 1]['debt'].count()\n",
    "debtor_single = payment_single.loc[payment_single['debt'] == 1]['debt'].count()\n",
    "\n",
    "debtor_married_all_percent = debtor_married / all_borrower\n",
    "debtor_single_all_percent = debtor_single / all_borrower\n",
    "debtor_married_debt_percent = debtor_married / all_debtor\n",
    "debtor_single_debt_percent = debtor_single / all_debtor\n",
    "\n",
    "\n",
    "gender_payment_women = stat_payment_family.loc[stat_payment_family['gender'] == 'F']\n",
    "gender_payment_men = stat_payment_family.loc[stat_payment_family['gender'] == 'M']\n",
    "gender_debt_women = gender_payment_women.loc[gender_payment_women['debt'] == 1]['debt'].count()\n",
    "gender_debt_men = gender_payment_men.loc[gender_payment_men['debt'] == 1]['debt'].count()\n",
    "gender_debt_women_all_perc = gender_debt_women / all_borrower\n",
    "gender_debt_men_all_perc = gender_debt_men / all_borrower\n",
    "gender_debt_women_debt_perc = gender_debt_women / all_debtor\n",
    "gender_debt_men_debt_perc = gender_debt_men / all_debtor\n",
    "\n",
    "#Добавление табличного вывода влияния семейного положения\n",
    "stat_payment_family_pivot = stat_payment_family.pivot_table(index = 'family_status', columns = 'debt', values = 'gender', aggfunc = 'count')\n",
    "stat_payment_family_pivot['share_of_debtors'] = stat_payment_family_pivot[1]/stat_payment_family_pivot[1].sum()\n",
    "\n",
    "def compute_percentage(x):\n",
    "      pct = float(x/stat_payment_family_pivot['share_of_debtors'].sum()) * 100\n",
    "      return round(pct, 2)\n",
    "\n",
    "\n",
    "stat_payment_family_pivot['percent_all_debt'] = stat_payment_family_pivot['share_of_debtors'].apply(compute_percentage)\n",
    "\n",
    "#Добавление табличного вывода исследования влияния пола заемщика\n",
    "stat_payment_gender_pivot = stat_payment_family.pivot_table(index = 'gender', columns = 'debt', values = 'family_status', aggfunc = 'count')\n",
    "stat_payment_gender_pivot['share_of_debtors'] = stat_payment_gender_pivot[1]/stat_payment_gender_pivot[1].sum()\n",
    "\n",
    "def compute_percentage(x):\n",
    "      pct = float(x/stat_payment_gender_pivot['share_of_debtors'].sum()) * 100\n",
    "      return round(pct, 2)\n",
    "\n",
    "\n",
    "stat_payment_gender_pivot['percent_all_debt'] = stat_payment_gender_pivot['share_of_debtors'].apply(compute_percentage)\n",
    "\n",
    "\n",
    "print('Общее количество заемщиков', all_borrower)\n",
    "print('Общее количество должников',all_debtor)\n",
    "print('Количество семейных заемщиков:',len(payment_married))\n",
    "print('Количество несемейных заемщиков:',len(payment_single))\n",
    "print('Количество семейных должников:',debtor_married)\n",
    "print('Количество несемейных должников:',debtor_single)\n",
    "print('Процент семейных должников от общего количества заемщиков: {:.2%}'.format(debtor_married_all_percent))\n",
    "print('Процент несемейных должников от общего количества заемщиков: {:.2%}'.format(debtor_single_all_percent))\n",
    "print('Процент семейных должников от общего количества должников: {:.2%}'.format(debtor_married_debt_percent ))\n",
    "print('Процент несемейных должников от общего количества должников: {:.2%}'.format(debtor_single_debt_percent))\n",
    "print('Количество заемщиков женщин:',len(gender_payment_women))\n",
    "print('Количество заемщиков мужчин:',len(gender_payment_men))\n",
    "print('Количество должников женщин:',gender_debt_women)\n",
    "print('Количество должников мужчин:',gender_debt_men)\n",
    "print('Процент должников женщин от общего количества заемщиков: {:.2%}'.format(gender_debt_women_all_perc))\n",
    "print('Процент должников мужчин от общего количества заемщиков: {:.2%}'.format(gender_debt_men_all_perc))\n",
    "print('Процент должников женщин от общего количества должников: {:.2%}'.format(gender_debt_women_debt_perc))\n",
    "print('Процент должников мужчин от общего количества должников: {:.2%}'.format(gender_debt_men_debt_perc))\n",
    "print()\n",
    "print('Вывод в табличном виде результатов исследования влияния семейного положения')\n",
    "print(stat_payment_family_pivot)\n",
    "print()\n",
    "print('Вывод в табличном виде результатов исследования влияния пола заемщика')\n",
    "stat_payment_gender_pivot"
   ]
  },
  {
   "cell_type": "markdown",
   "metadata": {},
   "source": [
    "<span style=\"color:green\">\n",
    "В исследовании про детей добавил табличный выод результатов, получилось, что 21 процент заемщиков имеющих просрочку, имеет 1 ребенка, а почти 70 процентов заемщиков вовсе не имеют детей не имеют.  \n",
    "\n",
    "По семейному положению и полу, каких-то новых параметров в результате табличного вывода не добавилось\n",
    "    \n",
    "</span>"
   ]
  },
  {
   "cell_type": "markdown",
   "metadata": {},
   "source": [
    "#### Влияние уровня дохода  на возврат кредита в срок"
   ]
  },
  {
   "cell_type": "code",
   "execution_count": 12,
   "metadata": {},
   "outputs": [
    {
     "data": {
      "text/html": [
       "<div>\n",
       "<style scoped>\n",
       "    .dataframe tbody tr th:only-of-type {\n",
       "        vertical-align: middle;\n",
       "    }\n",
       "\n",
       "    .dataframe tbody tr th {\n",
       "        vertical-align: top;\n",
       "    }\n",
       "\n",
       "    .dataframe thead th {\n",
       "        text-align: right;\n",
       "    }\n",
       "</style>\n",
       "<table border=\"1\" class=\"dataframe\">\n",
       "  <thead>\n",
       "    <tr style=\"text-align: right;\">\n",
       "      <th>debt</th>\n",
       "      <th>0</th>\n",
       "      <th>1</th>\n",
       "      <th>share_of_debtors</th>\n",
       "      <th>percent_all_debt</th>\n",
       "    </tr>\n",
       "    <tr>\n",
       "      <th>income_level</th>\n",
       "      <th></th>\n",
       "      <th></th>\n",
       "      <th></th>\n",
       "      <th></th>\n",
       "    </tr>\n",
       "  </thead>\n",
       "  <tbody>\n",
       "    <tr>\n",
       "      <td>высокий доход</td>\n",
       "      <td>4894</td>\n",
       "      <td>486</td>\n",
       "      <td>0.279150</td>\n",
       "      <td>27.91</td>\n",
       "    </tr>\n",
       "    <tr>\n",
       "      <td>низкий доход</td>\n",
       "      <td>4965</td>\n",
       "      <td>417</td>\n",
       "      <td>0.239518</td>\n",
       "      <td>23.95</td>\n",
       "    </tr>\n",
       "    <tr>\n",
       "      <td>сверхвысокий доход</td>\n",
       "      <td>4997</td>\n",
       "      <td>386</td>\n",
       "      <td>0.221712</td>\n",
       "      <td>22.17</td>\n",
       "    </tr>\n",
       "    <tr>\n",
       "      <td>средний доход</td>\n",
       "      <td>4928</td>\n",
       "      <td>452</td>\n",
       "      <td>0.259621</td>\n",
       "      <td>25.96</td>\n",
       "    </tr>\n",
       "  </tbody>\n",
       "</table>\n",
       "</div>"
      ],
      "text/plain": [
       "debt                   0    1  share_of_debtors  percent_all_debt\n",
       "income_level                                                     \n",
       "высокий доход       4894  486          0.279150             27.91\n",
       "низкий доход        4965  417          0.239518             23.95\n",
       "сверхвысокий доход  4997  386          0.221712             22.17\n",
       "средний доход       4928  452          0.259621             25.96"
      ]
     },
     "execution_count": 12,
     "metadata": {},
     "output_type": "execute_result"
    }
   ],
   "source": [
    "stat_payment_income = stat_payment[['total_income','debt']].copy() \n",
    "#Добавил метод .copy() по совету однокрусника, ругань пандас ушла.\n",
    "stat_payment_income['income_level'] = ''\n",
    "border_income = stat_payment_income['total_income'].quantile([.25, 0.5, .75]) \n",
    "\n",
    "#Алина, допилил категоризацию. Определяем границы для категорий дохода с помощью квантили,\n",
    "#действительно крутая функция упрощающая работу\n",
    "\n",
    "def income_group(income): \n",
    "    if income <= border_income[0.25]:\n",
    "        return 'низкий доход'\n",
    "    if  border_income[0.25]  <  income < border_income[0.5]:\n",
    "        return 'средний доход'\n",
    "    if  border_income[0.5]  <  income < border_income[0.75]:\n",
    "        return 'высокий доход'\n",
    "    return 'сверхвысокий доход'\n",
    "\n",
    "#Применяем в качесте условия функции Series полученные методом квантили. Разбил людей по доходу на 4 категории. \n",
    "\n",
    "\n",
    "stat_payment_income['income_level'] = stat_payment_income['total_income'].apply(income_group)\n",
    "stat_payment_income_pivot = stat_payment_income.pivot_table(index = 'income_level', columns = 'debt', values = 'total_income', aggfunc = 'count')\n",
    "stat_payment_income_pivot['share_of_debtors'] = (stat_payment_income_pivot[1]/stat_payment_income_pivot[1].sum()) # Место где я изменил код\n",
    "\n",
    "'''\n",
    "Алина, вот тут я немного изменил функцию, раньше она считала процент должников как \n",
    "отношение должников к общему количеству заемщиков с определенным доходом, \n",
    "а надо считать отношение должников с конкретным доходом к общему количеству должников. \n",
    "\n",
    "Теперь то мы видим правильную процентовку в таблице    \n",
    "'''\n",
    "\n",
    "def compute_percentage(x):\n",
    "      pct = float(x/stat_payment_income_pivot['share_of_debtors'].sum()) * 100\n",
    "      return round(pct, 2)\n",
    "\n",
    "\n",
    "stat_payment_income_pivot['percent_all_debt'] = stat_payment_income_pivot['share_of_debtors'].apply(compute_percentage)\n",
    "stat_payment_income_pivot.head() \n",
    "#И, о да - она вертится!!! Но если быть честным, процентовка не сильно изменилась,\n",
    "#как и раньше уровень дохода не влияет на возврат кредита в срок"
   ]
  },
  {
   "cell_type": "markdown",
   "metadata": {},
   "source": [
    "#### Влияние целей кредитования  на возврат кредита в срок"
   ]
  },
  {
   "cell_type": "code",
   "execution_count": 13,
   "metadata": {},
   "outputs": [
    {
     "data": {
      "text/html": [
       "<div>\n",
       "<style scoped>\n",
       "    .dataframe tbody tr th:only-of-type {\n",
       "        vertical-align: middle;\n",
       "    }\n",
       "\n",
       "    .dataframe tbody tr th {\n",
       "        vertical-align: top;\n",
       "    }\n",
       "\n",
       "    .dataframe thead th {\n",
       "        text-align: right;\n",
       "    }\n",
       "</style>\n",
       "<table border=\"1\" class=\"dataframe\">\n",
       "  <thead>\n",
       "    <tr style=\"text-align: right;\">\n",
       "      <th>debt</th>\n",
       "      <th>0</th>\n",
       "      <th>1</th>\n",
       "      <th>share_of_debtors</th>\n",
       "      <th>percent_all_debt</th>\n",
       "    </tr>\n",
       "    <tr>\n",
       "      <th>purpose</th>\n",
       "      <th></th>\n",
       "      <th></th>\n",
       "      <th></th>\n",
       "      <th></th>\n",
       "    </tr>\n",
       "  </thead>\n",
       "  <tbody>\n",
       "    <tr>\n",
       "      <td>автомобиль</td>\n",
       "      <td>3912</td>\n",
       "      <td>403</td>\n",
       "      <td>0.231476</td>\n",
       "      <td>23.15</td>\n",
       "    </tr>\n",
       "    <tr>\n",
       "      <td>недвижимость</td>\n",
       "      <td>10058</td>\n",
       "      <td>782</td>\n",
       "      <td>0.449167</td>\n",
       "      <td>44.92</td>\n",
       "    </tr>\n",
       "    <tr>\n",
       "      <td>образование</td>\n",
       "      <td>3652</td>\n",
       "      <td>370</td>\n",
       "      <td>0.212522</td>\n",
       "      <td>21.25</td>\n",
       "    </tr>\n",
       "    <tr>\n",
       "      <td>свадьба</td>\n",
       "      <td>2162</td>\n",
       "      <td>186</td>\n",
       "      <td>0.106835</td>\n",
       "      <td>10.68</td>\n",
       "    </tr>\n",
       "  </tbody>\n",
       "</table>\n",
       "</div>"
      ],
      "text/plain": [
       "debt              0    1  share_of_debtors  percent_all_debt\n",
       "purpose                                                     \n",
       "автомобиль     3912  403          0.231476             23.15\n",
       "недвижимость  10058  782          0.449167             44.92\n",
       "образование    3652  370          0.212522             21.25\n",
       "свадьба        2162  186          0.106835             10.68"
      ]
     },
     "execution_count": 13,
     "metadata": {},
     "output_type": "execute_result"
    }
   ],
   "source": [
    "stat_payment_target = stat_payment[['purpose','debt', 'total_income' ]]\n",
    "stat_payment_target_pivot = stat_payment_target.pivot_table(index = 'purpose', columns = 'debt', values = 'total_income', aggfunc = 'count')\n",
    "stat_payment_target_pivot['share_of_debtors'] = (stat_payment_target_pivot[1]/stat_payment_target_pivot[1].sum())\n",
    "\n",
    "def compute_percentage(x): #Функция переводит в проценты от числа должников столбец доли должников в десятичном виде\n",
    "      pct = float(x/stat_payment_target_pivot['share_of_debtors'].sum()) * 100\n",
    "      return round(pct, 2)\n",
    "\n",
    "stat_payment_target_pivot['percent_all_debt'] = stat_payment_target_pivot['share_of_debtors'].apply(compute_percentage)\n",
    "stat_payment_target_pivot.head(10)"
   ]
  },
  {
   "cell_type": "markdown",
   "metadata": {},
   "source": [
    "### Вывод"
   ]
  },
  {
   "cell_type": "markdown",
   "metadata": {},
   "source": [
    "Категоризация была проведена различными методами это метод выделения значений из датафрейма .loc для определения влияния на возврат кредита в срок наличия детей и семейного положения и применения функции в случае с влиянием уровня дохода, в задании с влиянием цели кредита использовалась сводная таблица  с использованием .pivot_table.\n",
    "\n",
    "В задаче с наличием детей использовался словарь stat_payment[['children', 'debt']] - включающий столбец с количеством детей и столбцом наличия задолженности, для примененея к ним последовательно условий .loc. \n",
    "\n",
    "В задаче с семейным положением использовался словарь stat_payment[['family_status', 'family_status_id', 'gender', 'debt']] включающий: столбец с семейным положением, столбец идентификатор семейного положения, столбец пола(для доп ислледования), столбец наличия просроченных задолженностей для примененея к ним последовательно условий .loc. \n",
    "\n",
    "В задаче с влиянием уровня дохода использовался словарь stat_payment_income = stat_payment[['total_income','debt']], включающий столбец с доходом заемщиков для использования значений столбца в качестве аргумента функции, а также столбец наличия просроченных задолженностей, для вывода в сводной таблице.\n",
    "\n",
    "В последней задаче с влиянием цели кредита на просрочку использовался словарь stat_payment_target = stat_payment[['purpose','debt', 'total_income' ]] включающий столбцы: Цель кредита, наличие просрочки, доход заемщика(использовался в качестве аргумента метода .pivot_table для подсчета значений.Столбцы использовались для вывода в сводной таблице "
   ]
  },
  {
   "cell_type": "markdown",
   "metadata": {},
   "source": [
    "### Шаг 3. Ответьте на вопросы"
   ]
  },
  {
   "cell_type": "markdown",
   "metadata": {},
   "source": [
    "- Есть ли зависимость между наличием детей и возвратом кредита в срок?"
   ]
  },
  {
   "cell_type": "code",
   "execution_count": 14,
   "metadata": {},
   "outputs": [
    {
     "name": "stdout",
     "output_type": "stream",
     "text": [
      "Общее количество заемщиков 21525\n",
      "Общее количество должников 1741\n",
      "Количество должников с детьми: 678\n",
      "Количество должников без детей: 1063\n",
      "Общий процент должников от количества заемщиков: 8.09%\n",
      "Процент должников с детьми от общего количества заемщиков: 3.15%\n",
      "Процент должников без детей от общего количества заемщиков: 4.94%\n",
      "Процент должников с детьми от общего количества должников: 38.94%\n",
      "Процент должников без детей от общего количества должников: 61.06%\n",
      "\n",
      "Вывод в табличном виде результатов исследования\n",
      "debt          0     1  share_of_debtors  percent_all_debt\n",
      "children                                                 \n",
      "0         13086  1063          0.610569             61.06\n",
      "1          4420   445          0.255600             25.56\n",
      "2          1929   202          0.116025             11.60\n",
      "3           303    27          0.015508              1.55\n",
      "4            37     4          0.002298              0.23\n",
      "5             9     0          0.000000              0.00\n"
     ]
    }
   ],
   "source": [
    "print('Общее количество заемщиков', all_borrower)\n",
    "print('Общее количество должников',all_debtor)\n",
    "print('Количество должников с детьми:',debtor_with_children)\n",
    "print('Количество должников без детей:',debtor_without_children) \n",
    "print('Общий процент должников от количества заемщиков: {:.2%}'.format(all_debtor_percent))\n",
    "print('Процент должников с детьми от общего количества заемщиков: {:.2%}'.format(debtor_with_children_percent))\n",
    "print('Процент должников без детей от общего количества заемщиков: {:.2%}'.format(debtor_without_children_percent))\n",
    "print('Процент должников с детьми от общего количества должников: {:.2%}'.format(debtor_with_child_perc_all_debt))\n",
    "print('Процент должников без детей от общего количества должников: {:.2%}'.format(debtor_without_child_perc_all_debt))\n",
    "# Алина, ниже доработанный код вывода\n",
    "print()\n",
    "print('Вывод в табличном виде результатов исследования')\n",
    "print(stat_payment_children_pivot)"
   ]
  },
  {
   "cell_type": "markdown",
   "metadata": {},
   "source": [
    "### Вывод"
   ]
  },
  {
   "cell_type": "markdown",
   "metadata": {},
   "source": [
    "Наличие детей у заемщиков не оказывает существенного влияния на возврат кредита в срок, а вот отсутствие детей наоборот, так как 2/3 должников - люди не имеющие детей \n",
    "<span style=\"color:green\">\n",
    "В результате доработки и табличного вывода результатов дополнительно выяснилось, что 21 процент заемщиков с просрочкой, люди имеющие 1 ребенка. Таким образом, люди у которых более 1 ребенка более ответственно относятся к возврату кредитов в срок. \n",
    "</span>"
   ]
  },
  {
   "cell_type": "markdown",
   "metadata": {},
   "source": [
    "<span style=\"color:red\">\n",
    "\n",
    "Алина, 70 процентов людей с просрочками - люди без детей. А 21 процент имеет лишь одного ребенка. \n",
    "Получается люди с 2 и более детей, как раз ответственные, а вот без детей более легкомысленно относятся к возврату кредита\n",
    "    \n",
    "</span>"
   ]
  },
  {
   "cell_type": "markdown",
   "metadata": {},
   "source": [
    "- Есть ли зависимость между семейным положением и возвратом кредита в срок?"
   ]
  },
  {
   "cell_type": "code",
   "execution_count": 15,
   "metadata": {},
   "outputs": [
    {
     "name": "stdout",
     "output_type": "stream",
     "text": [
      "Общее количество заемщиков 21525\n",
      "Общее количество должников 1741\n",
      "Количество семейных заемщиков: 16557\n",
      "Количество несемейных заемщиков: 4968\n",
      "Количество семейных должников: 1319\n",
      "Количество несемейных должников: 422\n",
      "Процент семейных должников от общего количества заемщиков: 6.13%\n",
      "Процент несемейных должников от общего количества заемщиков: 1.96%\n",
      "Процент семейных должников от общего количества должников: 75.76%\n",
      "Процент несемейных должников от общего количества должников: 24.24%\n",
      "Количество заемщиков женщин: 14236\n",
      "Количество заемщиков мужчин: 7288\n",
      "Количество должников женщин: 994\n",
      "Количество должников мужчин: 747\n",
      "Процент должников женщин от общего количества заемщиков: 4.62%\n",
      "Процент должников мужчин от общего количества заемщиков: 3.47%\n",
      "Процент должников женщин от общего количества должников: 57.09%\n",
      "Процент должников мужчин от общего количества должников: 42.91%\n",
      "\n",
      "Вывод в табличном виде результатов исследования влияния пола заемщика\n"
     ]
    },
    {
     "data": {
      "text/html": [
       "<div>\n",
       "<style scoped>\n",
       "    .dataframe tbody tr th:only-of-type {\n",
       "        vertical-align: middle;\n",
       "    }\n",
       "\n",
       "    .dataframe tbody tr th {\n",
       "        vertical-align: top;\n",
       "    }\n",
       "\n",
       "    .dataframe thead th {\n",
       "        text-align: right;\n",
       "    }\n",
       "</style>\n",
       "<table border=\"1\" class=\"dataframe\">\n",
       "  <thead>\n",
       "    <tr style=\"text-align: right;\">\n",
       "      <th>debt</th>\n",
       "      <th>0</th>\n",
       "      <th>1</th>\n",
       "      <th>share_of_debtors</th>\n",
       "      <th>percent_all_debt</th>\n",
       "    </tr>\n",
       "    <tr>\n",
       "      <th>gender</th>\n",
       "      <th></th>\n",
       "      <th></th>\n",
       "      <th></th>\n",
       "      <th></th>\n",
       "    </tr>\n",
       "  </thead>\n",
       "  <tbody>\n",
       "    <tr>\n",
       "      <td>F</td>\n",
       "      <td>13242.0</td>\n",
       "      <td>994.0</td>\n",
       "      <td>0.570936</td>\n",
       "      <td>57.09</td>\n",
       "    </tr>\n",
       "    <tr>\n",
       "      <td>M</td>\n",
       "      <td>6541.0</td>\n",
       "      <td>747.0</td>\n",
       "      <td>0.429064</td>\n",
       "      <td>42.91</td>\n",
       "    </tr>\n",
       "    <tr>\n",
       "      <td>XNA</td>\n",
       "      <td>1.0</td>\n",
       "      <td>NaN</td>\n",
       "      <td>NaN</td>\n",
       "      <td>NaN</td>\n",
       "    </tr>\n",
       "  </tbody>\n",
       "</table>\n",
       "</div>"
      ],
      "text/plain": [
       "debt          0      1  share_of_debtors  percent_all_debt\n",
       "gender                                                    \n",
       "F       13242.0  994.0          0.570936             57.09\n",
       "M        6541.0  747.0          0.429064             42.91\n",
       "XNA         1.0    NaN               NaN               NaN"
      ]
     },
     "execution_count": 15,
     "metadata": {},
     "output_type": "execute_result"
    }
   ],
   "source": [
    "print('Общее количество заемщиков', all_borrower)\n",
    "print('Общее количество должников',all_debtor)\n",
    "print('Количество семейных заемщиков:',len(payment_married))\n",
    "print('Количество несемейных заемщиков:',len(payment_single))\n",
    "print('Количество семейных должников:',debtor_married)\n",
    "print('Количество несемейных должников:',debtor_single)\n",
    "print('Процент семейных должников от общего количества заемщиков: {:.2%}'.format(debtor_married_all_percent))\n",
    "print('Процент несемейных должников от общего количества заемщиков: {:.2%}'.format(debtor_single_all_percent))\n",
    "print('Процент семейных должников от общего количества должников: {:.2%}'.format(debtor_married_debt_percent ))\n",
    "print('Процент несемейных должников от общего количества должников: {:.2%}'.format(debtor_single_debt_percent))\n",
    "print('Количество заемщиков женщин:',len(gender_payment_women))\n",
    "print('Количество заемщиков мужчин:',len(gender_payment_men))\n",
    "print('Количество должников женщин:',gender_debt_women)\n",
    "print('Количество должников мужчин:',gender_debt_men)\n",
    "print('Процент должников женщин от общего количества заемщиков: {:.2%}'.format(gender_debt_women_all_perc))\n",
    "print('Процент должников мужчин от общего количества заемщиков: {:.2%}'.format(gender_debt_men_all_perc))\n",
    "print('Процент должников женщин от общего количества должников: {:.2%}'.format(gender_debt_women_debt_perc))\n",
    "print('Процент должников мужчин от общего количества должников: {:.2%}'.format(gender_debt_men_debt_perc))\n",
    "# Добавил табличный вывод результатов возврата кредита в срок в зависимости от семейного положения и пола\n",
    "print()\n",
    "print('Вывод в табличном виде результатов исследования влияния пола заемщика')\n",
    "stat_payment_gender_pivot"
   ]
  },
  {
   "cell_type": "markdown",
   "metadata": {},
   "source": [
    "### Вывод"
   ]
  },
  {
   "cell_type": "markdown",
   "metadata": {},
   "source": [
    "Наличие семьи негативно сказывается на возврате кредита в срок, почти 80 процентов людей имеющ их просрочку платежей - семейные люди. Также, стоит добавить, что в результате дополнительного исследования выявлено, что женщины составляют 60% от общего количества должников. То есть пол тоже оказывает влияние на возврат кредита в срок. "
   ]
  },
  {
   "cell_type": "markdown",
   "metadata": {},
   "source": [
    "- Есть ли зависимость между уровнем дохода и возвратом кредита в срок?"
   ]
  },
  {
   "cell_type": "code",
   "execution_count": 16,
   "metadata": {},
   "outputs": [
    {
     "data": {
      "text/html": [
       "<div>\n",
       "<style scoped>\n",
       "    .dataframe tbody tr th:only-of-type {\n",
       "        vertical-align: middle;\n",
       "    }\n",
       "\n",
       "    .dataframe tbody tr th {\n",
       "        vertical-align: top;\n",
       "    }\n",
       "\n",
       "    .dataframe thead th {\n",
       "        text-align: right;\n",
       "    }\n",
       "</style>\n",
       "<table border=\"1\" class=\"dataframe\">\n",
       "  <thead>\n",
       "    <tr style=\"text-align: right;\">\n",
       "      <th>debt</th>\n",
       "      <th>0</th>\n",
       "      <th>1</th>\n",
       "      <th>share_of_debtors</th>\n",
       "      <th>percent_all_debt</th>\n",
       "    </tr>\n",
       "    <tr>\n",
       "      <th>income_level</th>\n",
       "      <th></th>\n",
       "      <th></th>\n",
       "      <th></th>\n",
       "      <th></th>\n",
       "    </tr>\n",
       "  </thead>\n",
       "  <tbody>\n",
       "    <tr>\n",
       "      <td>высокий доход</td>\n",
       "      <td>4894</td>\n",
       "      <td>486</td>\n",
       "      <td>0.279150</td>\n",
       "      <td>27.91</td>\n",
       "    </tr>\n",
       "    <tr>\n",
       "      <td>низкий доход</td>\n",
       "      <td>4965</td>\n",
       "      <td>417</td>\n",
       "      <td>0.239518</td>\n",
       "      <td>23.95</td>\n",
       "    </tr>\n",
       "    <tr>\n",
       "      <td>сверхвысокий доход</td>\n",
       "      <td>4997</td>\n",
       "      <td>386</td>\n",
       "      <td>0.221712</td>\n",
       "      <td>22.17</td>\n",
       "    </tr>\n",
       "    <tr>\n",
       "      <td>средний доход</td>\n",
       "      <td>4928</td>\n",
       "      <td>452</td>\n",
       "      <td>0.259621</td>\n",
       "      <td>25.96</td>\n",
       "    </tr>\n",
       "  </tbody>\n",
       "</table>\n",
       "</div>"
      ],
      "text/plain": [
       "debt                   0    1  share_of_debtors  percent_all_debt\n",
       "income_level                                                     \n",
       "высокий доход       4894  486          0.279150             27.91\n",
       "низкий доход        4965  417          0.239518             23.95\n",
       "сверхвысокий доход  4997  386          0.221712             22.17\n",
       "средний доход       4928  452          0.259621             25.96"
      ]
     },
     "execution_count": 16,
     "metadata": {},
     "output_type": "execute_result"
    }
   ],
   "source": [
    "stat_payment_income_pivot.head(10)"
   ]
  },
  {
   "cell_type": "markdown",
   "metadata": {},
   "source": [
    "### Вывод"
   ]
  },
  {
   "cell_type": "markdown",
   "metadata": {},
   "source": [
    "Уровень дохода не оказывает существенного влияния на возврат кредита в срок, как видно из таблицы, процентное соотношение людей имеющих разный уровень дохода и имеющих просрочку примерно одинаково"
   ]
  },
  {
   "cell_type": "markdown",
   "metadata": {},
   "source": [
    "- Как разные цели кредита влияют на его возврат в срок?"
   ]
  },
  {
   "cell_type": "code",
   "execution_count": 17,
   "metadata": {},
   "outputs": [
    {
     "data": {
      "text/html": [
       "<div>\n",
       "<style scoped>\n",
       "    .dataframe tbody tr th:only-of-type {\n",
       "        vertical-align: middle;\n",
       "    }\n",
       "\n",
       "    .dataframe tbody tr th {\n",
       "        vertical-align: top;\n",
       "    }\n",
       "\n",
       "    .dataframe thead th {\n",
       "        text-align: right;\n",
       "    }\n",
       "</style>\n",
       "<table border=\"1\" class=\"dataframe\">\n",
       "  <thead>\n",
       "    <tr style=\"text-align: right;\">\n",
       "      <th>debt</th>\n",
       "      <th>0</th>\n",
       "      <th>1</th>\n",
       "      <th>share_of_debtors</th>\n",
       "      <th>percent_all_debt</th>\n",
       "    </tr>\n",
       "    <tr>\n",
       "      <th>purpose</th>\n",
       "      <th></th>\n",
       "      <th></th>\n",
       "      <th></th>\n",
       "      <th></th>\n",
       "    </tr>\n",
       "  </thead>\n",
       "  <tbody>\n",
       "    <tr>\n",
       "      <td>автомобиль</td>\n",
       "      <td>3912</td>\n",
       "      <td>403</td>\n",
       "      <td>0.231476</td>\n",
       "      <td>23.15</td>\n",
       "    </tr>\n",
       "    <tr>\n",
       "      <td>недвижимость</td>\n",
       "      <td>10058</td>\n",
       "      <td>782</td>\n",
       "      <td>0.449167</td>\n",
       "      <td>44.92</td>\n",
       "    </tr>\n",
       "    <tr>\n",
       "      <td>образование</td>\n",
       "      <td>3652</td>\n",
       "      <td>370</td>\n",
       "      <td>0.212522</td>\n",
       "      <td>21.25</td>\n",
       "    </tr>\n",
       "    <tr>\n",
       "      <td>свадьба</td>\n",
       "      <td>2162</td>\n",
       "      <td>186</td>\n",
       "      <td>0.106835</td>\n",
       "      <td>10.68</td>\n",
       "    </tr>\n",
       "  </tbody>\n",
       "</table>\n",
       "</div>"
      ],
      "text/plain": [
       "debt              0    1  share_of_debtors  percent_all_debt\n",
       "purpose                                                     \n",
       "автомобиль     3912  403          0.231476             23.15\n",
       "недвижимость  10058  782          0.449167             44.92\n",
       "образование    3652  370          0.212522             21.25\n",
       "свадьба        2162  186          0.106835             10.68"
      ]
     },
     "execution_count": 17,
     "metadata": {},
     "output_type": "execute_result"
    }
   ],
   "source": [
    "stat_payment_target_pivot.head(10)"
   ]
  },
  {
   "cell_type": "markdown",
   "metadata": {},
   "source": [
    "### Вывод"
   ]
  },
  {
   "cell_type": "markdown",
   "metadata": {},
   "source": [
    "Цели кредита тоже влияют на возврат кредита в срок в примерно равной степени, единственное, должников немного меньше в категории \"недвижимость\". \n",
    "<span style=\"color:red\">\n",
    "Ввиду исправления подсчета процентов по категориям от общего количества должников, оказалось что цель кредита влияет на возврат кредита в срок. Так 45 процентов людей имеющих просрочки берут кредит на недвижимость.  \n",
    "</span>\n",
    "\n",
    " \n"
   ]
  },
  {
   "cell_type": "markdown",
   "metadata": {},
   "source": [
    "### Шаг 4. Общий вывод"
   ]
  },
  {
   "cell_type": "markdown",
   "metadata": {},
   "source": [
    "В результате проведенного иссследования, выявлено что: \n",
    "1. Наличие детей не влияет на возврат кредита в срок, а их отсутствие наоборот (70% должников не имеют детей)<span style=\"color:green\">21 процент имеет лишь одного ребенка. Получается люди с 2 и более детей, как раз ответственные, а вот без детей более легкомысленно относятся к возврату кредита</span> \n",
    "\n",
    "2. Семейное положение оказывает существенное влияние на возврат кредита в срок (почти 80% должников - женатые/замужние люди или люди проживающие в гражданском браке, также выяснилось, что 60 процентов должников - женского пола)\n",
    "\n",
    "3. Размер дохода не оказывает существенного влияния на возврат кредита в срок.(Доли людей имеющих просрочку распределены равномерно \n",
    "\n",
    "4. Цели кредитования влияют на возврат кредита примерно в равной степени.<span style=\"color:red\">Ввиду исправления расчета  процентов от общего количества должников - оказалось, что цель кредита влияет на его возврат в срок, так 45 процентов людей имеющих просрочку по кредиту взяли его на недвижимость.</span> \n",
    "\n",
    "Таким образом, факторы влияющие на возврат кредита в срок: семейное положение и отсутствие детей. Согласно выводам исследования в группу риска по кредитам попадают: \n",
    "\n",
    "**Замужние(проживающие в гражданском браке) женщины не имеющие детей <span style=\"color:green\">или имеющие 1 ребенка, которые взяли кредит на недвижимость</span>**\n"
   ]
  }
 ],
 "metadata": {
  "kernelspec": {
   "display_name": "Python 3 (ipykernel)",
   "language": "python",
   "name": "python3"
  },
  "language_info": {
   "codemirror_mode": {
    "name": "ipython",
    "version": 3
   },
   "file_extension": ".py",
   "mimetype": "text/x-python",
   "name": "python",
   "nbconvert_exporter": "python",
   "pygments_lexer": "ipython3",
   "version": "3.8.5"
  },
  "toc": {
   "base_numbering": 1,
   "nav_menu": {},
   "number_sections": true,
   "sideBar": true,
   "skip_h1_title": true,
   "title_cell": "Table of Contents",
   "title_sidebar": "Contents",
   "toc_cell": false,
   "toc_position": {},
   "toc_section_display": true,
   "toc_window_display": false
  }
 },
 "nbformat": 4,
 "nbformat_minor": 2
}
