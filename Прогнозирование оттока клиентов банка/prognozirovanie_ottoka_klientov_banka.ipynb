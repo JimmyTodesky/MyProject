{
 "cells": [
  {
   "cell_type": "markdown",
   "metadata": {},
   "source": [
    "# Прогнозирование оттока клиентов банка"
   ]
  },
  {
   "cell_type": "markdown",
   "metadata": {
    "toc": true
   },
   "source": [
    "<h1>Содержание<span class=\"tocSkip\"></span></h1>\n",
    "<div class=\"toc\"><ul class=\"toc-item\"><li><span><a href=\"#Подготовка-данных\" data-toc-modified-id=\"Подготовка-данных-1\"><span class=\"toc-item-num\">1&nbsp;&nbsp;</span>Подготовка данных</a></span><ul class=\"toc-item\"><li><span><a href=\"#Загрузка-и-изучение-данных\" data-toc-modified-id=\"Загрузка-и-изучение-данных-1.1\"><span class=\"toc-item-num\">1.1&nbsp;&nbsp;</span>Загрузка и изучение данных</a></span><ul class=\"toc-item\"><li><span><a href=\"#Вывод\" data-toc-modified-id=\"Вывод-1.1.1\"><span class=\"toc-item-num\">1.1.1&nbsp;&nbsp;</span>Вывод</a></span></li></ul></li><li><span><a href=\"#Подготовка-данных\" data-toc-modified-id=\"Подготовка-данных-1.2\"><span class=\"toc-item-num\">1.2&nbsp;&nbsp;</span>Подготовка данных</a></span><ul class=\"toc-item\"><li><span><a href=\"#Вывод:\" data-toc-modified-id=\"Вывод:-1.2.1\"><span class=\"toc-item-num\">1.2.1&nbsp;&nbsp;</span>Вывод:</a></span></li></ul></li></ul></li><li><span><a href=\"#Исследование-задачи\" data-toc-modified-id=\"Исследование-задачи-2\"><span class=\"toc-item-num\">2&nbsp;&nbsp;</span>Исследование задачи</a></span><ul class=\"toc-item\"><li><span><a href=\"#Изучим-баланс-классов:\" data-toc-modified-id=\"Изучим-баланс-классов:-2.1\"><span class=\"toc-item-num\">2.1&nbsp;&nbsp;</span>Изучим баланс классов:</a></span></li><li><span><a href=\"#Попробуем-обучить-модель-логистической-регрессии-без-учета-дисбаланса-классов\" data-toc-modified-id=\"Попробуем-обучить-модель-логистической-регрессии-без-учета-дисбаланса-классов-2.2\"><span class=\"toc-item-num\">2.2&nbsp;&nbsp;</span>Попробуем обучить модель логистической регрессии без учета дисбаланса классов</a></span><ul class=\"toc-item\"><li><span><a href=\"#Вывод:\" data-toc-modified-id=\"Вывод:-2.2.1\"><span class=\"toc-item-num\">2.2.1&nbsp;&nbsp;</span>Вывод:</a></span></li></ul></li><li><span><a href=\"#Попробуем-обучить-модель-без-учета-баланса-классов-на-примере-случайного-леса.\" data-toc-modified-id=\"Попробуем-обучить-модель-без-учета-баланса-классов-на-примере-случайного-леса.-2.3\"><span class=\"toc-item-num\">2.3&nbsp;&nbsp;</span>Попробуем обучить модель без учета баланса классов на примере случайного леса.</a></span><ul class=\"toc-item\"><li><span><a href=\"#Вывод\" data-toc-modified-id=\"Вывод-2.3.1\"><span class=\"toc-item-num\">2.3.1&nbsp;&nbsp;</span>Вывод</a></span></li></ul></li><li><span><a href=\"#Попробуем-обучить-модель-решающего-дерева-без-учета-баланса-классов-и-подберем-для-нее-оптимальные-гиперпараметры:\" data-toc-modified-id=\"Попробуем-обучить-модель-решающего-дерева-без-учета-баланса-классов-и-подберем-для-нее-оптимальные-гиперпараметры:-2.4\"><span class=\"toc-item-num\">2.4&nbsp;&nbsp;</span>Попробуем обучить модель решающего дерева без учета баланса классов и подберем для нее оптимальные гиперпараметры:</a></span></li><li><span><a href=\"#Вывод\" data-toc-modified-id=\"Вывод-2.5\"><span class=\"toc-item-num\">2.5&nbsp;&nbsp;</span>Вывод</a></span></li><li><span><a href=\"#Сравним-модели-с-учетом-баланса-классов-и-посмотрим-на-итоговые-значения-F1-меры-и-матрицы-ошибок:\" data-toc-modified-id=\"Сравним-модели-с-учетом-баланса-классов-и-посмотрим-на-итоговые-значения-F1-меры-и-матрицы-ошибок:-2.6\"><span class=\"toc-item-num\">2.6&nbsp;&nbsp;</span>Сравним модели с учетом баланса классов и посмотрим на итоговые значения F1-меры и матрицы ошибок:</a></span><ul class=\"toc-item\"><li><span><a href=\"#Вывод:\" data-toc-modified-id=\"Вывод:-2.6.1\"><span class=\"toc-item-num\">2.6.1&nbsp;&nbsp;</span>Вывод:</a></span></li></ul></li></ul></li><li><span><a href=\"#Борьба-с-дисбалансом\" data-toc-modified-id=\"Борьба-с-дисбалансом-3\"><span class=\"toc-item-num\">3&nbsp;&nbsp;</span>Борьба с дисбалансом</a></span><ul class=\"toc-item\"><li><span><a href=\"#Upsampling\" data-toc-modified-id=\"Upsampling-3.1\"><span class=\"toc-item-num\">3.1&nbsp;&nbsp;</span>Upsampling</a></span><ul class=\"toc-item\"><li><span><a href=\"#Вывод\" data-toc-modified-id=\"Вывод-3.1.1\"><span class=\"toc-item-num\">3.1.1&nbsp;&nbsp;</span>Вывод</a></span></li><li><span><a href=\"#Вывод:\" data-toc-modified-id=\"Вывод:-3.1.2\"><span class=\"toc-item-num\">3.1.2&nbsp;&nbsp;</span>Вывод:</a></span></li></ul></li><li><span><a href=\"#Downsampling\" data-toc-modified-id=\"Downsampling-3.2\"><span class=\"toc-item-num\">3.2&nbsp;&nbsp;</span>Downsampling</a></span><ul class=\"toc-item\"><li><span><a href=\"#Вывод:\" data-toc-modified-id=\"Вывод:-3.2.1\"><span class=\"toc-item-num\">3.2.1&nbsp;&nbsp;</span>Вывод:</a></span></li></ul></li></ul></li><li><span><a href=\"#Вывод\" data-toc-modified-id=\"Вывод-4\"><span class=\"toc-item-num\">4&nbsp;&nbsp;</span>Вывод</a></span></li><li><span><a href=\"#Тестирование-модели\" data-toc-modified-id=\"Тестирование-модели-5\"><span class=\"toc-item-num\">5&nbsp;&nbsp;</span>Тестирование модели</a></span><ul class=\"toc-item\"><li><span><a href=\"#Вывод\" data-toc-modified-id=\"Вывод-5.1\"><span class=\"toc-item-num\">5.1&nbsp;&nbsp;</span>Вывод</a></span></li></ul></li><li><span><a href=\"#Общий-вывод:\" data-toc-modified-id=\"Общий-вывод:-6\"><span class=\"toc-item-num\">6&nbsp;&nbsp;</span>Общий вывод:</a></span></li></ul></div>"
   ]
  },
  {
   "cell_type": "markdown",
   "metadata": {},
   "source": [
    "##  Подготовка данных\n",
    "\n",
    "### Загрузка и изучение данных\n",
    "\n",
    "Подключим все необходимые нам в работе библиотеки и методы: "
   ]
  },
  {
   "cell_type": "code",
   "execution_count": 1,
   "metadata": {},
   "outputs": [],
   "source": [
    "import pandas as pd\n",
    "import numpy as np\n",
    "import seaborn as sns\n",
    "import matplotlib.pyplot as plt\n",
    "from scipy.stats import randint\n",
    "import warnings\n",
    "from scipy.stats import uniform\n",
    "from sklearn.metrics import f1_score\n",
    "from sklearn.preprocessing import OrdinalEncoder\n",
    "from sklearn.preprocessing import StandardScaler\n",
    "from sklearn.model_selection import train_test_split\n",
    "from sklearn.linear_model import LogisticRegression\n",
    "from sklearn.tree import DecisionTreeClassifier\n",
    "from sklearn.metrics import confusion_matrix\n",
    "from sklearn.ensemble import RandomForestClassifier\n",
    "from sklearn.utils import shuffle\n",
    "from sklearn.model_selection import RandomizedSearchCV\n",
    "from sklearn.model_selection import GridSearchCV\n",
    "from sklearn.metrics import roc_auc_score\n",
    "from sklearn.metrics import roc_curve\n",
    "from sklearn.dummy import DummyClassifier"
   ]
  },
  {
   "cell_type": "code",
   "execution_count": 2,
   "metadata": {
    "scrolled": false
   },
   "outputs": [
    {
     "name": "stdout",
     "output_type": "stream",
     "text": [
      "<class 'pandas.core.frame.DataFrame'>\n",
      "RangeIndex: 10000 entries, 0 to 9999\n",
      "Data columns (total 14 columns):\n",
      "RowNumber          10000 non-null int64\n",
      "CustomerId         10000 non-null int64\n",
      "Surname            10000 non-null object\n",
      "CreditScore        10000 non-null int64\n",
      "Geography          10000 non-null object\n",
      "Gender             10000 non-null object\n",
      "Age                10000 non-null int64\n",
      "Tenure             9091 non-null float64\n",
      "Balance            10000 non-null float64\n",
      "NumOfProducts      10000 non-null int64\n",
      "HasCrCard          10000 non-null int64\n",
      "IsActiveMember     10000 non-null int64\n",
      "EstimatedSalary    10000 non-null float64\n",
      "Exited             10000 non-null int64\n",
      "dtypes: float64(3), int64(8), object(3)\n",
      "memory usage: 1.1+ MB\n",
      "None\n"
     ]
    },
    {
     "data": {
      "text/html": [
       "<div>\n",
       "<style scoped>\n",
       "    .dataframe tbody tr th:only-of-type {\n",
       "        vertical-align: middle;\n",
       "    }\n",
       "\n",
       "    .dataframe tbody tr th {\n",
       "        vertical-align: top;\n",
       "    }\n",
       "\n",
       "    .dataframe thead th {\n",
       "        text-align: right;\n",
       "    }\n",
       "</style>\n",
       "<table border=\"1\" class=\"dataframe\">\n",
       "  <thead>\n",
       "    <tr style=\"text-align: right;\">\n",
       "      <th></th>\n",
       "      <th>RowNumber</th>\n",
       "      <th>CustomerId</th>\n",
       "      <th>Surname</th>\n",
       "      <th>CreditScore</th>\n",
       "      <th>Geography</th>\n",
       "      <th>Gender</th>\n",
       "      <th>Age</th>\n",
       "      <th>Tenure</th>\n",
       "      <th>Balance</th>\n",
       "      <th>NumOfProducts</th>\n",
       "      <th>HasCrCard</th>\n",
       "      <th>IsActiveMember</th>\n",
       "      <th>EstimatedSalary</th>\n",
       "      <th>Exited</th>\n",
       "    </tr>\n",
       "  </thead>\n",
       "  <tbody>\n",
       "    <tr>\n",
       "      <td>0</td>\n",
       "      <td>1</td>\n",
       "      <td>15634602</td>\n",
       "      <td>Hargrave</td>\n",
       "      <td>619</td>\n",
       "      <td>France</td>\n",
       "      <td>Female</td>\n",
       "      <td>42</td>\n",
       "      <td>2.0</td>\n",
       "      <td>0.00</td>\n",
       "      <td>1</td>\n",
       "      <td>1</td>\n",
       "      <td>1</td>\n",
       "      <td>101348.88</td>\n",
       "      <td>1</td>\n",
       "    </tr>\n",
       "    <tr>\n",
       "      <td>1</td>\n",
       "      <td>2</td>\n",
       "      <td>15647311</td>\n",
       "      <td>Hill</td>\n",
       "      <td>608</td>\n",
       "      <td>Spain</td>\n",
       "      <td>Female</td>\n",
       "      <td>41</td>\n",
       "      <td>1.0</td>\n",
       "      <td>83807.86</td>\n",
       "      <td>1</td>\n",
       "      <td>0</td>\n",
       "      <td>1</td>\n",
       "      <td>112542.58</td>\n",
       "      <td>0</td>\n",
       "    </tr>\n",
       "    <tr>\n",
       "      <td>2</td>\n",
       "      <td>3</td>\n",
       "      <td>15619304</td>\n",
       "      <td>Onio</td>\n",
       "      <td>502</td>\n",
       "      <td>France</td>\n",
       "      <td>Female</td>\n",
       "      <td>42</td>\n",
       "      <td>8.0</td>\n",
       "      <td>159660.80</td>\n",
       "      <td>3</td>\n",
       "      <td>1</td>\n",
       "      <td>0</td>\n",
       "      <td>113931.57</td>\n",
       "      <td>1</td>\n",
       "    </tr>\n",
       "    <tr>\n",
       "      <td>3</td>\n",
       "      <td>4</td>\n",
       "      <td>15701354</td>\n",
       "      <td>Boni</td>\n",
       "      <td>699</td>\n",
       "      <td>France</td>\n",
       "      <td>Female</td>\n",
       "      <td>39</td>\n",
       "      <td>1.0</td>\n",
       "      <td>0.00</td>\n",
       "      <td>2</td>\n",
       "      <td>0</td>\n",
       "      <td>0</td>\n",
       "      <td>93826.63</td>\n",
       "      <td>0</td>\n",
       "    </tr>\n",
       "    <tr>\n",
       "      <td>4</td>\n",
       "      <td>5</td>\n",
       "      <td>15737888</td>\n",
       "      <td>Mitchell</td>\n",
       "      <td>850</td>\n",
       "      <td>Spain</td>\n",
       "      <td>Female</td>\n",
       "      <td>43</td>\n",
       "      <td>2.0</td>\n",
       "      <td>125510.82</td>\n",
       "      <td>1</td>\n",
       "      <td>1</td>\n",
       "      <td>1</td>\n",
       "      <td>79084.10</td>\n",
       "      <td>0</td>\n",
       "    </tr>\n",
       "  </tbody>\n",
       "</table>\n",
       "</div>"
      ],
      "text/plain": [
       "   RowNumber  CustomerId   Surname  CreditScore Geography  Gender  Age  \\\n",
       "0          1    15634602  Hargrave          619    France  Female   42   \n",
       "1          2    15647311      Hill          608     Spain  Female   41   \n",
       "2          3    15619304      Onio          502    France  Female   42   \n",
       "3          4    15701354      Boni          699    France  Female   39   \n",
       "4          5    15737888  Mitchell          850     Spain  Female   43   \n",
       "\n",
       "   Tenure    Balance  NumOfProducts  HasCrCard  IsActiveMember  \\\n",
       "0     2.0       0.00              1          1               1   \n",
       "1     1.0   83807.86              1          0               1   \n",
       "2     8.0  159660.80              3          1               0   \n",
       "3     1.0       0.00              2          0               0   \n",
       "4     2.0  125510.82              1          1               1   \n",
       "\n",
       "   EstimatedSalary  Exited  \n",
       "0        101348.88       1  \n",
       "1        112542.58       0  \n",
       "2        113931.57       1  \n",
       "3         93826.63       0  \n",
       "4         79084.10       0  "
      ]
     },
     "execution_count": 2,
     "metadata": {},
     "output_type": "execute_result"
    }
   ],
   "source": [
    "warnings.filterwarnings(\"ignore\")\n",
    "\n",
    "try:\n",
    "  data = pd.read_csv('/datasets/Churn.csv')\n",
    "\n",
    "except:\n",
    "  data = pd.read_csv('/content/drive/MyDrive/Colab Notebooks/5sprint/Churn.csv')\n",
    "\n",
    "print(data.info())\n",
    "data.head(5)"
   ]
  },
  {
   "cell_type": "markdown",
   "metadata": {},
   "source": [
    "#### Вывод \n",
    "\n",
    "После загрузки и изучения данных, в глаза бросаются следующие факты: \n",
    "\n",
    "    1. Столбец фамилия не важен в задаче моделирования, так как в данных есть столбец с уникальным id клиента, можно удалить его.\n",
    "    2. В данных столбец отражающий наличие недвижимости имеет 900 пустых значений, которые возникли в следствии того, что оператор? скорее всего не забил нулевое значение при отсутствии недвижимости\n",
    "    3. Необходимо привести названия столбцов в нижний регистр для удобства дальнейшей обработки. \n",
    "    4. Необходимо привести значения столбца о наличии недвижимости к целочисленному типу.\n",
    "    5. Переведем значения столбцов в нижний регистр\n",
    "    5. Также столбец с номером строки не нужен в итоговом датасете, так как строки индексируются в пандас автоматически. Удалим его. \n",
    "    \n",
    "### Подготовка данных\n",
    "\n",
    "Проведем необходимые операции для подготовки данных к дальнейшей обработке. \n",
    "Переведем названия столбцов в нижний регистр:   "
   ]
  },
  {
   "cell_type": "code",
   "execution_count": 3,
   "metadata": {},
   "outputs": [
    {
     "data": {
      "text/html": [
       "<div>\n",
       "<style scoped>\n",
       "    .dataframe tbody tr th:only-of-type {\n",
       "        vertical-align: middle;\n",
       "    }\n",
       "\n",
       "    .dataframe tbody tr th {\n",
       "        vertical-align: top;\n",
       "    }\n",
       "\n",
       "    .dataframe thead th {\n",
       "        text-align: right;\n",
       "    }\n",
       "</style>\n",
       "<table border=\"1\" class=\"dataframe\">\n",
       "  <thead>\n",
       "    <tr style=\"text-align: right;\">\n",
       "      <th></th>\n",
       "      <th>rownumber</th>\n",
       "      <th>customerid</th>\n",
       "      <th>surname</th>\n",
       "      <th>creditscore</th>\n",
       "      <th>geography</th>\n",
       "      <th>gender</th>\n",
       "      <th>age</th>\n",
       "      <th>tenure</th>\n",
       "      <th>balance</th>\n",
       "      <th>numofproducts</th>\n",
       "      <th>hascrcard</th>\n",
       "      <th>isactivemember</th>\n",
       "      <th>estimatedsalary</th>\n",
       "      <th>exited</th>\n",
       "    </tr>\n",
       "  </thead>\n",
       "  <tbody>\n",
       "    <tr>\n",
       "      <td>0</td>\n",
       "      <td>1</td>\n",
       "      <td>15634602</td>\n",
       "      <td>hargrave</td>\n",
       "      <td>619</td>\n",
       "      <td>france</td>\n",
       "      <td>female</td>\n",
       "      <td>42</td>\n",
       "      <td>2.0</td>\n",
       "      <td>0.00</td>\n",
       "      <td>1</td>\n",
       "      <td>1</td>\n",
       "      <td>1</td>\n",
       "      <td>101348.88</td>\n",
       "      <td>1</td>\n",
       "    </tr>\n",
       "    <tr>\n",
       "      <td>1</td>\n",
       "      <td>2</td>\n",
       "      <td>15647311</td>\n",
       "      <td>hill</td>\n",
       "      <td>608</td>\n",
       "      <td>spain</td>\n",
       "      <td>female</td>\n",
       "      <td>41</td>\n",
       "      <td>1.0</td>\n",
       "      <td>83807.86</td>\n",
       "      <td>1</td>\n",
       "      <td>0</td>\n",
       "      <td>1</td>\n",
       "      <td>112542.58</td>\n",
       "      <td>0</td>\n",
       "    </tr>\n",
       "    <tr>\n",
       "      <td>2</td>\n",
       "      <td>3</td>\n",
       "      <td>15619304</td>\n",
       "      <td>onio</td>\n",
       "      <td>502</td>\n",
       "      <td>france</td>\n",
       "      <td>female</td>\n",
       "      <td>42</td>\n",
       "      <td>8.0</td>\n",
       "      <td>159660.80</td>\n",
       "      <td>3</td>\n",
       "      <td>1</td>\n",
       "      <td>0</td>\n",
       "      <td>113931.57</td>\n",
       "      <td>1</td>\n",
       "    </tr>\n",
       "    <tr>\n",
       "      <td>3</td>\n",
       "      <td>4</td>\n",
       "      <td>15701354</td>\n",
       "      <td>boni</td>\n",
       "      <td>699</td>\n",
       "      <td>france</td>\n",
       "      <td>female</td>\n",
       "      <td>39</td>\n",
       "      <td>1.0</td>\n",
       "      <td>0.00</td>\n",
       "      <td>2</td>\n",
       "      <td>0</td>\n",
       "      <td>0</td>\n",
       "      <td>93826.63</td>\n",
       "      <td>0</td>\n",
       "    </tr>\n",
       "    <tr>\n",
       "      <td>4</td>\n",
       "      <td>5</td>\n",
       "      <td>15737888</td>\n",
       "      <td>mitchell</td>\n",
       "      <td>850</td>\n",
       "      <td>spain</td>\n",
       "      <td>female</td>\n",
       "      <td>43</td>\n",
       "      <td>2.0</td>\n",
       "      <td>125510.82</td>\n",
       "      <td>1</td>\n",
       "      <td>1</td>\n",
       "      <td>1</td>\n",
       "      <td>79084.10</td>\n",
       "      <td>0</td>\n",
       "    </tr>\n",
       "  </tbody>\n",
       "</table>\n",
       "</div>"
      ],
      "text/plain": [
       "   rownumber  customerid   surname  creditscore geography  gender  age  \\\n",
       "0          1    15634602  hargrave          619    france  female   42   \n",
       "1          2    15647311      hill          608     spain  female   41   \n",
       "2          3    15619304      onio          502    france  female   42   \n",
       "3          4    15701354      boni          699    france  female   39   \n",
       "4          5    15737888  mitchell          850     spain  female   43   \n",
       "\n",
       "   tenure    balance  numofproducts  hascrcard  isactivemember  \\\n",
       "0     2.0       0.00              1          1               1   \n",
       "1     1.0   83807.86              1          0               1   \n",
       "2     8.0  159660.80              3          1               0   \n",
       "3     1.0       0.00              2          0               0   \n",
       "4     2.0  125510.82              1          1               1   \n",
       "\n",
       "   estimatedsalary  exited  \n",
       "0        101348.88       1  \n",
       "1        112542.58       0  \n",
       "2        113931.57       1  \n",
       "3         93826.63       0  \n",
       "4         79084.10       0  "
      ]
     },
     "execution_count": 3,
     "metadata": {},
     "output_type": "execute_result"
    }
   ],
   "source": [
    "data.columns = map(str.lower, data.columns)\n",
    "data = data.apply(lambda x: x.str.lower() \n",
    "                  if(x.dtype == 'object') else x)\n",
    "data.head()"
   ]
  },
  {
   "cell_type": "markdown",
   "metadata": {},
   "source": [
    "Заполним нулями Nan в столбце с признакими наличия недвижимости. Затем переведем его в целочисленный тип. "
   ]
  },
  {
   "cell_type": "code",
   "execution_count": 4,
   "metadata": {},
   "outputs": [],
   "source": [
    "data['tenure'] = data['tenure'].fillna(0)\n",
    "data['tenure'] = data['tenure'].astype('int')"
   ]
  },
  {
   "cell_type": "markdown",
   "metadata": {},
   "source": [
    "Удалим лишний столбец с индексом строки: "
   ]
  },
  {
   "cell_type": "code",
   "execution_count": 5,
   "metadata": {},
   "outputs": [],
   "source": [
    "data = data.drop('rownumber', axis = 1)"
   ]
  },
  {
   "cell_type": "markdown",
   "metadata": {},
   "source": [
    "Проверим, что все преобразования прошли успешно: \n"
   ]
  },
  {
   "cell_type": "code",
   "execution_count": 6,
   "metadata": {
    "scrolled": false
   },
   "outputs": [
    {
     "name": "stdout",
     "output_type": "stream",
     "text": [
      "<class 'pandas.core.frame.DataFrame'>\n",
      "RangeIndex: 10000 entries, 0 to 9999\n",
      "Data columns (total 13 columns):\n",
      "customerid         10000 non-null int64\n",
      "surname            10000 non-null object\n",
      "creditscore        10000 non-null int64\n",
      "geography          10000 non-null object\n",
      "gender             10000 non-null object\n",
      "age                10000 non-null int64\n",
      "tenure             10000 non-null int64\n",
      "balance            10000 non-null float64\n",
      "numofproducts      10000 non-null int64\n",
      "hascrcard          10000 non-null int64\n",
      "isactivemember     10000 non-null int64\n",
      "estimatedsalary    10000 non-null float64\n",
      "exited             10000 non-null int64\n",
      "dtypes: float64(2), int64(8), object(3)\n",
      "memory usage: 1015.8+ KB\n",
      "None\n"
     ]
    },
    {
     "data": {
      "text/html": [
       "<div>\n",
       "<style scoped>\n",
       "    .dataframe tbody tr th:only-of-type {\n",
       "        vertical-align: middle;\n",
       "    }\n",
       "\n",
       "    .dataframe tbody tr th {\n",
       "        vertical-align: top;\n",
       "    }\n",
       "\n",
       "    .dataframe thead th {\n",
       "        text-align: right;\n",
       "    }\n",
       "</style>\n",
       "<table border=\"1\" class=\"dataframe\">\n",
       "  <thead>\n",
       "    <tr style=\"text-align: right;\">\n",
       "      <th></th>\n",
       "      <th>customerid</th>\n",
       "      <th>surname</th>\n",
       "      <th>creditscore</th>\n",
       "      <th>geography</th>\n",
       "      <th>gender</th>\n",
       "      <th>age</th>\n",
       "      <th>tenure</th>\n",
       "      <th>balance</th>\n",
       "      <th>numofproducts</th>\n",
       "      <th>hascrcard</th>\n",
       "      <th>isactivemember</th>\n",
       "      <th>estimatedsalary</th>\n",
       "      <th>exited</th>\n",
       "    </tr>\n",
       "  </thead>\n",
       "  <tbody>\n",
       "    <tr>\n",
       "      <td>0</td>\n",
       "      <td>15634602</td>\n",
       "      <td>hargrave</td>\n",
       "      <td>619</td>\n",
       "      <td>france</td>\n",
       "      <td>female</td>\n",
       "      <td>42</td>\n",
       "      <td>2</td>\n",
       "      <td>0.00</td>\n",
       "      <td>1</td>\n",
       "      <td>1</td>\n",
       "      <td>1</td>\n",
       "      <td>101348.88</td>\n",
       "      <td>1</td>\n",
       "    </tr>\n",
       "    <tr>\n",
       "      <td>1</td>\n",
       "      <td>15647311</td>\n",
       "      <td>hill</td>\n",
       "      <td>608</td>\n",
       "      <td>spain</td>\n",
       "      <td>female</td>\n",
       "      <td>41</td>\n",
       "      <td>1</td>\n",
       "      <td>83807.86</td>\n",
       "      <td>1</td>\n",
       "      <td>0</td>\n",
       "      <td>1</td>\n",
       "      <td>112542.58</td>\n",
       "      <td>0</td>\n",
       "    </tr>\n",
       "    <tr>\n",
       "      <td>2</td>\n",
       "      <td>15619304</td>\n",
       "      <td>onio</td>\n",
       "      <td>502</td>\n",
       "      <td>france</td>\n",
       "      <td>female</td>\n",
       "      <td>42</td>\n",
       "      <td>8</td>\n",
       "      <td>159660.80</td>\n",
       "      <td>3</td>\n",
       "      <td>1</td>\n",
       "      <td>0</td>\n",
       "      <td>113931.57</td>\n",
       "      <td>1</td>\n",
       "    </tr>\n",
       "    <tr>\n",
       "      <td>3</td>\n",
       "      <td>15701354</td>\n",
       "      <td>boni</td>\n",
       "      <td>699</td>\n",
       "      <td>france</td>\n",
       "      <td>female</td>\n",
       "      <td>39</td>\n",
       "      <td>1</td>\n",
       "      <td>0.00</td>\n",
       "      <td>2</td>\n",
       "      <td>0</td>\n",
       "      <td>0</td>\n",
       "      <td>93826.63</td>\n",
       "      <td>0</td>\n",
       "    </tr>\n",
       "    <tr>\n",
       "      <td>4</td>\n",
       "      <td>15737888</td>\n",
       "      <td>mitchell</td>\n",
       "      <td>850</td>\n",
       "      <td>spain</td>\n",
       "      <td>female</td>\n",
       "      <td>43</td>\n",
       "      <td>2</td>\n",
       "      <td>125510.82</td>\n",
       "      <td>1</td>\n",
       "      <td>1</td>\n",
       "      <td>1</td>\n",
       "      <td>79084.10</td>\n",
       "      <td>0</td>\n",
       "    </tr>\n",
       "  </tbody>\n",
       "</table>\n",
       "</div>"
      ],
      "text/plain": [
       "   customerid   surname  creditscore geography  gender  age  tenure  \\\n",
       "0    15634602  hargrave          619    france  female   42       2   \n",
       "1    15647311      hill          608     spain  female   41       1   \n",
       "2    15619304      onio          502    france  female   42       8   \n",
       "3    15701354      boni          699    france  female   39       1   \n",
       "4    15737888  mitchell          850     spain  female   43       2   \n",
       "\n",
       "     balance  numofproducts  hascrcard  isactivemember  estimatedsalary  \\\n",
       "0       0.00              1          1               1        101348.88   \n",
       "1   83807.86              1          0               1        112542.58   \n",
       "2  159660.80              3          1               0        113931.57   \n",
       "3       0.00              2          0               0         93826.63   \n",
       "4  125510.82              1          1               1         79084.10   \n",
       "\n",
       "   exited  \n",
       "0       1  \n",
       "1       0  \n",
       "2       1  \n",
       "3       0  \n",
       "4       0  "
      ]
     },
     "execution_count": 6,
     "metadata": {},
     "output_type": "execute_result"
    }
   ],
   "source": [
    "print(data.info())\n",
    "data.head(5)"
   ]
  },
  {
   "cell_type": "markdown",
   "metadata": {},
   "source": [
    "Преобразуем категориальные признаки в цифировой вид с помощью прямого кодирования и порядкого кодирования, у нас это столбцы 'geography' и 'gender'. Удалим первые столбцы для того чтобы исключить появления дамии ошибки. "
   ]
  },
  {
   "cell_type": "code",
   "execution_count": 7,
   "metadata": {
    "scrolled": true
   },
   "outputs": [
    {
     "data": {
      "text/html": [
       "<div>\n",
       "<style scoped>\n",
       "    .dataframe tbody tr th:only-of-type {\n",
       "        vertical-align: middle;\n",
       "    }\n",
       "\n",
       "    .dataframe tbody tr th {\n",
       "        vertical-align: top;\n",
       "    }\n",
       "\n",
       "    .dataframe thead th {\n",
       "        text-align: right;\n",
       "    }\n",
       "</style>\n",
       "<table border=\"1\" class=\"dataframe\">\n",
       "  <thead>\n",
       "    <tr style=\"text-align: right;\">\n",
       "      <th></th>\n",
       "      <th>customerid</th>\n",
       "      <th>surname</th>\n",
       "      <th>creditscore</th>\n",
       "      <th>age</th>\n",
       "      <th>tenure</th>\n",
       "      <th>balance</th>\n",
       "      <th>numofproducts</th>\n",
       "      <th>hascrcard</th>\n",
       "      <th>isactivemember</th>\n",
       "      <th>estimatedsalary</th>\n",
       "      <th>exited</th>\n",
       "      <th>geography_germany</th>\n",
       "      <th>geography_spain</th>\n",
       "      <th>gender_male</th>\n",
       "    </tr>\n",
       "  </thead>\n",
       "  <tbody>\n",
       "    <tr>\n",
       "      <td>0</td>\n",
       "      <td>15634602</td>\n",
       "      <td>hargrave</td>\n",
       "      <td>619</td>\n",
       "      <td>42</td>\n",
       "      <td>2</td>\n",
       "      <td>0.00</td>\n",
       "      <td>1</td>\n",
       "      <td>1</td>\n",
       "      <td>1</td>\n",
       "      <td>101348.88</td>\n",
       "      <td>1</td>\n",
       "      <td>0</td>\n",
       "      <td>0</td>\n",
       "      <td>0</td>\n",
       "    </tr>\n",
       "    <tr>\n",
       "      <td>1</td>\n",
       "      <td>15647311</td>\n",
       "      <td>hill</td>\n",
       "      <td>608</td>\n",
       "      <td>41</td>\n",
       "      <td>1</td>\n",
       "      <td>83807.86</td>\n",
       "      <td>1</td>\n",
       "      <td>0</td>\n",
       "      <td>1</td>\n",
       "      <td>112542.58</td>\n",
       "      <td>0</td>\n",
       "      <td>0</td>\n",
       "      <td>1</td>\n",
       "      <td>0</td>\n",
       "    </tr>\n",
       "    <tr>\n",
       "      <td>2</td>\n",
       "      <td>15619304</td>\n",
       "      <td>onio</td>\n",
       "      <td>502</td>\n",
       "      <td>42</td>\n",
       "      <td>8</td>\n",
       "      <td>159660.80</td>\n",
       "      <td>3</td>\n",
       "      <td>1</td>\n",
       "      <td>0</td>\n",
       "      <td>113931.57</td>\n",
       "      <td>1</td>\n",
       "      <td>0</td>\n",
       "      <td>0</td>\n",
       "      <td>0</td>\n",
       "    </tr>\n",
       "    <tr>\n",
       "      <td>3</td>\n",
       "      <td>15701354</td>\n",
       "      <td>boni</td>\n",
       "      <td>699</td>\n",
       "      <td>39</td>\n",
       "      <td>1</td>\n",
       "      <td>0.00</td>\n",
       "      <td>2</td>\n",
       "      <td>0</td>\n",
       "      <td>0</td>\n",
       "      <td>93826.63</td>\n",
       "      <td>0</td>\n",
       "      <td>0</td>\n",
       "      <td>0</td>\n",
       "      <td>0</td>\n",
       "    </tr>\n",
       "    <tr>\n",
       "      <td>4</td>\n",
       "      <td>15737888</td>\n",
       "      <td>mitchell</td>\n",
       "      <td>850</td>\n",
       "      <td>43</td>\n",
       "      <td>2</td>\n",
       "      <td>125510.82</td>\n",
       "      <td>1</td>\n",
       "      <td>1</td>\n",
       "      <td>1</td>\n",
       "      <td>79084.10</td>\n",
       "      <td>0</td>\n",
       "      <td>0</td>\n",
       "      <td>1</td>\n",
       "      <td>0</td>\n",
       "    </tr>\n",
       "    <tr>\n",
       "      <td>5</td>\n",
       "      <td>15574012</td>\n",
       "      <td>chu</td>\n",
       "      <td>645</td>\n",
       "      <td>44</td>\n",
       "      <td>8</td>\n",
       "      <td>113755.78</td>\n",
       "      <td>2</td>\n",
       "      <td>1</td>\n",
       "      <td>0</td>\n",
       "      <td>149756.71</td>\n",
       "      <td>1</td>\n",
       "      <td>0</td>\n",
       "      <td>1</td>\n",
       "      <td>1</td>\n",
       "    </tr>\n",
       "    <tr>\n",
       "      <td>6</td>\n",
       "      <td>15592531</td>\n",
       "      <td>bartlett</td>\n",
       "      <td>822</td>\n",
       "      <td>50</td>\n",
       "      <td>7</td>\n",
       "      <td>0.00</td>\n",
       "      <td>2</td>\n",
       "      <td>1</td>\n",
       "      <td>1</td>\n",
       "      <td>10062.80</td>\n",
       "      <td>0</td>\n",
       "      <td>0</td>\n",
       "      <td>0</td>\n",
       "      <td>1</td>\n",
       "    </tr>\n",
       "    <tr>\n",
       "      <td>7</td>\n",
       "      <td>15656148</td>\n",
       "      <td>obinna</td>\n",
       "      <td>376</td>\n",
       "      <td>29</td>\n",
       "      <td>4</td>\n",
       "      <td>115046.74</td>\n",
       "      <td>4</td>\n",
       "      <td>1</td>\n",
       "      <td>0</td>\n",
       "      <td>119346.88</td>\n",
       "      <td>1</td>\n",
       "      <td>1</td>\n",
       "      <td>0</td>\n",
       "      <td>0</td>\n",
       "    </tr>\n",
       "    <tr>\n",
       "      <td>8</td>\n",
       "      <td>15792365</td>\n",
       "      <td>he</td>\n",
       "      <td>501</td>\n",
       "      <td>44</td>\n",
       "      <td>4</td>\n",
       "      <td>142051.07</td>\n",
       "      <td>2</td>\n",
       "      <td>0</td>\n",
       "      <td>1</td>\n",
       "      <td>74940.50</td>\n",
       "      <td>0</td>\n",
       "      <td>0</td>\n",
       "      <td>0</td>\n",
       "      <td>1</td>\n",
       "    </tr>\n",
       "    <tr>\n",
       "      <td>9</td>\n",
       "      <td>15592389</td>\n",
       "      <td>h?</td>\n",
       "      <td>684</td>\n",
       "      <td>27</td>\n",
       "      <td>2</td>\n",
       "      <td>134603.88</td>\n",
       "      <td>1</td>\n",
       "      <td>1</td>\n",
       "      <td>1</td>\n",
       "      <td>71725.73</td>\n",
       "      <td>0</td>\n",
       "      <td>0</td>\n",
       "      <td>0</td>\n",
       "      <td>1</td>\n",
       "    </tr>\n",
       "  </tbody>\n",
       "</table>\n",
       "</div>"
      ],
      "text/plain": [
       "   customerid   surname  creditscore  age  tenure    balance  numofproducts  \\\n",
       "0    15634602  hargrave          619   42       2       0.00              1   \n",
       "1    15647311      hill          608   41       1   83807.86              1   \n",
       "2    15619304      onio          502   42       8  159660.80              3   \n",
       "3    15701354      boni          699   39       1       0.00              2   \n",
       "4    15737888  mitchell          850   43       2  125510.82              1   \n",
       "5    15574012       chu          645   44       8  113755.78              2   \n",
       "6    15592531  bartlett          822   50       7       0.00              2   \n",
       "7    15656148    obinna          376   29       4  115046.74              4   \n",
       "8    15792365        he          501   44       4  142051.07              2   \n",
       "9    15592389        h?          684   27       2  134603.88              1   \n",
       "\n",
       "   hascrcard  isactivemember  estimatedsalary  exited  geography_germany  \\\n",
       "0          1               1        101348.88       1                  0   \n",
       "1          0               1        112542.58       0                  0   \n",
       "2          1               0        113931.57       1                  0   \n",
       "3          0               0         93826.63       0                  0   \n",
       "4          1               1         79084.10       0                  0   \n",
       "5          1               0        149756.71       1                  0   \n",
       "6          1               1         10062.80       0                  0   \n",
       "7          1               0        119346.88       1                  1   \n",
       "8          0               1         74940.50       0                  0   \n",
       "9          1               1         71725.73       0                  0   \n",
       "\n",
       "   geography_spain  gender_male  \n",
       "0                0            0  \n",
       "1                1            0  \n",
       "2                0            0  \n",
       "3                0            0  \n",
       "4                1            0  \n",
       "5                1            1  \n",
       "6                0            1  \n",
       "7                0            0  \n",
       "8                0            1  \n",
       "9                0            1  "
      ]
     },
     "execution_count": 7,
     "metadata": {},
     "output_type": "execute_result"
    }
   ],
   "source": [
    "data_ohe = pd.get_dummies(data, columns = ['geography', 'gender'], drop_first=True)\n",
    "data_ohe.head(10)"
   ]
  },
  {
   "cell_type": "markdown",
   "metadata": {},
   "source": [
    "Разобьем данные на обучающую, валидационную и тестовую выборки в соотношении 60:20:20 соответственно. Разбивать будем в три этапа, сначала выделим целевой признак и нецелевые признаки, удалим столбцы мешающие нормальной обработке: "
   ]
  },
  {
   "cell_type": "code",
   "execution_count": 8,
   "metadata": {},
   "outputs": [],
   "source": [
    "target = data_ohe['exited']\n",
    "features = data_ohe.drop(['exited', 'surname', 'customerid'], axis=1)"
   ]
  },
  {
   "cell_type": "markdown",
   "metadata": {},
   "source": [
    "Поделим сначала исходные данные на обучающую выборку и промежуточную (таким образом мы получим нужное соотношение обучающей выборки к остальным данным). Затем промежуточные данные поделим в пропорции 50:50, тем самым получим необходимое соотношение валидационной и тестовой выборки: "
   ]
  },
  {
   "cell_type": "code",
   "execution_count": 9,
   "metadata": {},
   "outputs": [
    {
     "data": {
      "text/html": [
       "<div>\n",
       "<style scoped>\n",
       "    .dataframe tbody tr th:only-of-type {\n",
       "        vertical-align: middle;\n",
       "    }\n",
       "\n",
       "    .dataframe tbody tr th {\n",
       "        vertical-align: top;\n",
       "    }\n",
       "\n",
       "    .dataframe thead th {\n",
       "        text-align: right;\n",
       "    }\n",
       "</style>\n",
       "<table border=\"1\" class=\"dataframe\">\n",
       "  <thead>\n",
       "    <tr style=\"text-align: right;\">\n",
       "      <th></th>\n",
       "      <th>creditscore</th>\n",
       "      <th>age</th>\n",
       "      <th>tenure</th>\n",
       "      <th>balance</th>\n",
       "      <th>numofproducts</th>\n",
       "      <th>hascrcard</th>\n",
       "      <th>isactivemember</th>\n",
       "      <th>estimatedsalary</th>\n",
       "      <th>geography_germany</th>\n",
       "      <th>geography_spain</th>\n",
       "      <th>gender_male</th>\n",
       "    </tr>\n",
       "  </thead>\n",
       "  <tbody>\n",
       "    <tr>\n",
       "      <td>5303</td>\n",
       "      <td>634</td>\n",
       "      <td>25</td>\n",
       "      <td>9</td>\n",
       "      <td>0.00</td>\n",
       "      <td>2</td>\n",
       "      <td>1</td>\n",
       "      <td>1</td>\n",
       "      <td>8227.91</td>\n",
       "      <td>0</td>\n",
       "      <td>1</td>\n",
       "      <td>1</td>\n",
       "    </tr>\n",
       "    <tr>\n",
       "      <td>2235</td>\n",
       "      <td>648</td>\n",
       "      <td>56</td>\n",
       "      <td>6</td>\n",
       "      <td>157559.59</td>\n",
       "      <td>2</td>\n",
       "      <td>1</td>\n",
       "      <td>0</td>\n",
       "      <td>140991.23</td>\n",
       "      <td>0</td>\n",
       "      <td>1</td>\n",
       "      <td>0</td>\n",
       "    </tr>\n",
       "    <tr>\n",
       "      <td>519</td>\n",
       "      <td>707</td>\n",
       "      <td>58</td>\n",
       "      <td>6</td>\n",
       "      <td>89685.92</td>\n",
       "      <td>1</td>\n",
       "      <td>0</td>\n",
       "      <td>1</td>\n",
       "      <td>126471.13</td>\n",
       "      <td>0</td>\n",
       "      <td>0</td>\n",
       "      <td>1</td>\n",
       "    </tr>\n",
       "    <tr>\n",
       "      <td>9778</td>\n",
       "      <td>732</td>\n",
       "      <td>43</td>\n",
       "      <td>9</td>\n",
       "      <td>0.00</td>\n",
       "      <td>2</td>\n",
       "      <td>1</td>\n",
       "      <td>0</td>\n",
       "      <td>183147.17</td>\n",
       "      <td>0</td>\n",
       "      <td>0</td>\n",
       "      <td>0</td>\n",
       "    </tr>\n",
       "    <tr>\n",
       "      <td>3007</td>\n",
       "      <td>602</td>\n",
       "      <td>33</td>\n",
       "      <td>5</td>\n",
       "      <td>164704.38</td>\n",
       "      <td>1</td>\n",
       "      <td>0</td>\n",
       "      <td>1</td>\n",
       "      <td>180716.10</td>\n",
       "      <td>0</td>\n",
       "      <td>0</td>\n",
       "      <td>1</td>\n",
       "    </tr>\n",
       "  </tbody>\n",
       "</table>\n",
       "</div>"
      ],
      "text/plain": [
       "      creditscore  age  tenure    balance  numofproducts  hascrcard  \\\n",
       "5303          634   25       9       0.00              2          1   \n",
       "2235          648   56       6  157559.59              2          1   \n",
       "519           707   58       6   89685.92              1          0   \n",
       "9778          732   43       9       0.00              2          1   \n",
       "3007          602   33       5  164704.38              1          0   \n",
       "\n",
       "      isactivemember  estimatedsalary  geography_germany  geography_spain  \\\n",
       "5303               1          8227.91                  0                1   \n",
       "2235               0        140991.23                  0                1   \n",
       "519                1        126471.13                  0                0   \n",
       "9778               0        183147.17                  0                0   \n",
       "3007               1        180716.10                  0                0   \n",
       "\n",
       "      gender_male  \n",
       "5303            1  \n",
       "2235            0  \n",
       "519             1  \n",
       "9778            0  \n",
       "3007            1  "
      ]
     },
     "execution_count": 9,
     "metadata": {},
     "output_type": "execute_result"
    }
   ],
   "source": [
    "features_train, features_step, target_train, target_step = train_test_split(\n",
    "    features, target, test_size=0.4, \n",
    "    random_state=1234, stratify=target)\n",
    "\n",
    "features_valid, features_test, target_valid, target_test = train_test_split(\n",
    "    features_step, target_step, test_size=0.5,\n",
    "    random_state=12345, stratify=target_step)\n",
    "\n",
    "features_train.head()"
   ]
  },
  {
   "cell_type": "markdown",
   "metadata": {},
   "source": [
    "Проведем масштабирование обучающей, валидационной и тестовых выборок: "
   ]
  },
  {
   "cell_type": "code",
   "execution_count": 10,
   "metadata": {},
   "outputs": [
    {
     "data": {
      "text/html": [
       "<div>\n",
       "<style scoped>\n",
       "    .dataframe tbody tr th:only-of-type {\n",
       "        vertical-align: middle;\n",
       "    }\n",
       "\n",
       "    .dataframe tbody tr th {\n",
       "        vertical-align: top;\n",
       "    }\n",
       "\n",
       "    .dataframe thead th {\n",
       "        text-align: right;\n",
       "    }\n",
       "</style>\n",
       "<table border=\"1\" class=\"dataframe\">\n",
       "  <thead>\n",
       "    <tr style=\"text-align: right;\">\n",
       "      <th></th>\n",
       "      <th>creditscore</th>\n",
       "      <th>age</th>\n",
       "      <th>tenure</th>\n",
       "      <th>balance</th>\n",
       "      <th>numofproducts</th>\n",
       "      <th>hascrcard</th>\n",
       "      <th>isactivemember</th>\n",
       "      <th>estimatedsalary</th>\n",
       "      <th>geography_germany</th>\n",
       "      <th>geography_spain</th>\n",
       "      <th>gender_male</th>\n",
       "    </tr>\n",
       "  </thead>\n",
       "  <tbody>\n",
       "    <tr>\n",
       "      <td>5811</td>\n",
       "      <td>-1.172084</td>\n",
       "      <td>-0.089134</td>\n",
       "      <td>0.460614</td>\n",
       "      <td>1.048424</td>\n",
       "      <td>-0.909701</td>\n",
       "      <td>0</td>\n",
       "      <td>1</td>\n",
       "      <td>0.846465</td>\n",
       "      <td>0</td>\n",
       "      <td>1</td>\n",
       "      <td>0</td>\n",
       "    </tr>\n",
       "    <tr>\n",
       "      <td>8704</td>\n",
       "      <td>1.389365</td>\n",
       "      <td>0.293277</td>\n",
       "      <td>-0.822881</td>\n",
       "      <td>0.521648</td>\n",
       "      <td>0.806716</td>\n",
       "      <td>1</td>\n",
       "      <td>0</td>\n",
       "      <td>-1.621031</td>\n",
       "      <td>0</td>\n",
       "      <td>1</td>\n",
       "      <td>0</td>\n",
       "    </tr>\n",
       "    <tr>\n",
       "      <td>9376</td>\n",
       "      <td>-0.860977</td>\n",
       "      <td>0.771290</td>\n",
       "      <td>-0.822881</td>\n",
       "      <td>-1.233248</td>\n",
       "      <td>-0.909701</td>\n",
       "      <td>0</td>\n",
       "      <td>0</td>\n",
       "      <td>0.202539</td>\n",
       "      <td>0</td>\n",
       "      <td>0</td>\n",
       "      <td>0</td>\n",
       "    </tr>\n",
       "    <tr>\n",
       "      <td>2537</td>\n",
       "      <td>-0.798756</td>\n",
       "      <td>-0.567147</td>\n",
       "      <td>-1.464629</td>\n",
       "      <td>0.217063</td>\n",
       "      <td>-0.909701</td>\n",
       "      <td>1</td>\n",
       "      <td>0</td>\n",
       "      <td>0.666347</td>\n",
       "      <td>0</td>\n",
       "      <td>0</td>\n",
       "      <td>0</td>\n",
       "    </tr>\n",
       "    <tr>\n",
       "      <td>9153</td>\n",
       "      <td>-1.483192</td>\n",
       "      <td>-0.280339</td>\n",
       "      <td>1.423236</td>\n",
       "      <td>0.669090</td>\n",
       "      <td>2.523133</td>\n",
       "      <td>1</td>\n",
       "      <td>0</td>\n",
       "      <td>0.345812</td>\n",
       "      <td>1</td>\n",
       "      <td>0</td>\n",
       "      <td>1</td>\n",
       "    </tr>\n",
       "  </tbody>\n",
       "</table>\n",
       "</div>"
      ],
      "text/plain": [
       "      creditscore       age    tenure   balance  numofproducts  hascrcard  \\\n",
       "5811    -1.172084 -0.089134  0.460614  1.048424      -0.909701          0   \n",
       "8704     1.389365  0.293277 -0.822881  0.521648       0.806716          1   \n",
       "9376    -0.860977  0.771290 -0.822881 -1.233248      -0.909701          0   \n",
       "2537    -0.798756 -0.567147 -1.464629  0.217063      -0.909701          1   \n",
       "9153    -1.483192 -0.280339  1.423236  0.669090       2.523133          1   \n",
       "\n",
       "      isactivemember  estimatedsalary  geography_germany  geography_spain  \\\n",
       "5811               1         0.846465                  0                1   \n",
       "8704               0        -1.621031                  0                1   \n",
       "9376               0         0.202539                  0                0   \n",
       "2537               0         0.666347                  0                0   \n",
       "9153               0         0.345812                  1                0   \n",
       "\n",
       "      gender_male  \n",
       "5811            0  \n",
       "8704            0  \n",
       "9376            0  \n",
       "2537            0  \n",
       "9153            1  "
      ]
     },
     "execution_count": 10,
     "metadata": {},
     "output_type": "execute_result"
    }
   ],
   "source": [
    "numeric = ['creditscore', 'age', 'tenure', 'balance', 'estimatedsalary','numofproducts']\n",
    "\n",
    "scaler = StandardScaler()\n",
    "scaler.fit(features_train[numeric])\n",
    "\n",
    "features_train[numeric] = scaler.transform(features_train[numeric])\n",
    "features_valid[numeric] = scaler.transform(features_valid[numeric])\n",
    "features_test[numeric] = scaler.transform(features_test[numeric])\n",
    "features_test.head()"
   ]
  },
  {
   "cell_type": "markdown",
   "metadata": {},
   "source": [
    "#### Вывод: \n",
    "\n",
    "Мы подготовили данные к дальнейшей удобной обработке, избавились от ненужных столбцов, заполнили пропуски исходя из сложившейся ситуации. Перевели в нужный тип данных значения столбца характеризующего наличие или отсутствие недвижимости. Также перевели все значения датасета в нижний регистр. Провели преобразование категориальных признаков в числовой вид способом прямого кодирования. Разбили данные на нецелевые признаки и целевой признак. Выделили обучающую, валидационную и тестовую выборки. Теперь данные готовы к дальнейшей обработке и иссследованию.\n",
    "\n"
   ]
  },
  {
   "cell_type": "markdown",
   "metadata": {},
   "source": [
    "## Исследование задачи\n",
    "\n",
    "### Изучим баланс классов: \n",
    "Посмотрим на отношение положительных значений к отрицательным в нашей обучающей выборке: "
   ]
  },
  {
   "cell_type": "code",
   "execution_count": 11,
   "metadata": {
    "scrolled": true
   },
   "outputs": [
    {
     "data": {
      "text/plain": [
       "Text(0, 0.5, 'значения класса')"
      ]
     },
     "execution_count": 11,
     "metadata": {},
     "output_type": "execute_result"
    },
    {
     "data": {
      "image/png": "[encoded data removed]",
      "text/plain": [
       "<Figure size 432x288 with 1 Axes>"
      ]
     },
     "metadata": {
      "needs_background": "light"
     },
     "output_type": "display_data"
    }
   ],
   "source": [
    "balance = pd.DataFrame(target_train.value_counts())\n",
    "balance.head()\n",
    "sns.countplot(x = target_train)\n",
    "plt.title('Баланс классов')\n",
    "plt.xlabel('Количество значений')\n",
    "plt.ylabel('значения класса')"
   ]
  },
  {
   "cell_type": "markdown",
   "metadata": {},
   "source": [
    "### Попробуем обучить модель логистической регрессии без учета дисбаланса классов\n",
    "\n",
    "Сначала проверим метрику и матрицу ошибок без подбора оптимальных гиперпараметров"
   ]
  },
  {
   "cell_type": "code",
   "execution_count": 12,
   "metadata": {
    "scrolled": false
   },
   "outputs": [
    {
     "name": "stdout",
     "output_type": "stream",
     "text": [
      "F1: 0.31150442477876106\n"
     ]
    },
    {
     "data": {
      "text/plain": [
       "<matplotlib.axes._subplots.AxesSubplot at 0x7fc1ad0ef750>"
      ]
     },
     "execution_count": 12,
     "metadata": {},
     "output_type": "execute_result"
    },
    {
     "data": {
      "image/png": "[encoded data removed]",
      "text/plain": [
       "<Figure size 432x288 with 2 Axes>"
      ]
     },
     "metadata": {
      "needs_background": "light"
     },
     "output_type": "display_data"
    }
   ],
   "source": [
    "model = LogisticRegression(\n",
    "    random_state=12345, solver='liblinear')\n",
    "model.fit(features_train, target_train)\n",
    "predicted_valid = model.predict(features_valid)\n",
    "\n",
    "f1_lr_nonopt_unb = f1_score(target_valid, predicted_valid)\n",
    "print(\"F1:\", f1_score(target_valid, predicted_valid))\n",
    "sns.heatmap(\n",
    "    confusion_matrix(target_valid, predicted_valid),fmt='.4g', \n",
    "    annot = True, linewidths=1, linecolor='black')"
   ]
  },
  {
   "cell_type": "markdown",
   "metadata": {},
   "source": [
    "Подберем оптимальные гиперпараметры для модели логистической регрессии: "
   ]
  },
  {
   "cell_type": "code",
   "execution_count": 13,
   "metadata": {},
   "outputs": [
    {
     "name": "stdout",
     "output_type": "stream",
     "text": [
      "Лучшая модель model_Rs_regress - параметр prnalty l1, пераметр С 3.2486749151019727\n",
      "CPU times: user 1min 36s, sys: 39.8 s, total: 2min 16s\n",
      "Wall time: 2min 30s\n"
     ]
    },
    {
     "data": {
      "text/plain": [
       "LogisticRegression(C=3.2486749151019727, class_weight=None, dual=False,\n",
       "                   fit_intercept=True, intercept_scaling=1, l1_ratio=None,\n",
       "                   max_iter=100, multi_class='warn', n_jobs=None, penalty='l1',\n",
       "                   random_state=12345, solver='liblinear', tol=0.0001,\n",
       "                   verbose=0, warm_start=False)"
      ]
     },
     "execution_count": 13,
     "metadata": {},
     "output_type": "execute_result"
    }
   ],
   "source": [
    "%%time\n",
    "\n",
    "\n",
    "def best_param_regress(features, target):\n",
    "  model_regress = LogisticRegression(solver='liblinear', random_state=12345)\n",
    "\n",
    "  param_random = {\n",
    "  'penalty' : ['l1', 'l2'],\n",
    "  'C' : uniform(loc=0, scale=4)\n",
    "  }\n",
    "  \n",
    "  rs_regress = RandomizedSearchCV(estimator = model_regress, \n",
    "                        param_distributions=param_random, \n",
    "                        n_iter = 100, \n",
    "                        cv = 5, \n",
    "                        verbose = 0, \n",
    "                        n_jobs=1,\n",
    "                        random_state=0,\n",
    "                        scoring='f1')\n",
    "  rs_regress.fit(features, target)\n",
    "  penalty = rs_regress.best_params_['penalty']\n",
    "  C = rs_regress.best_params_['C']\n",
    "  print(f'Лучшая модель model_Rs_regress - параметр prnalty {penalty}, пераметр С {C}')\n",
    "  return rs_regress.best_estimator_\n",
    "\n",
    "best_param_regress(features, target)  "
   ]
  },
  {
   "cell_type": "markdown",
   "metadata": {},
   "source": [
    "Проверим значение метрики на оптимальных гиперпараметрах: "
   ]
  },
  {
   "cell_type": "code",
   "execution_count": 14,
   "metadata": {},
   "outputs": [
    {
     "name": "stdout",
     "output_type": "stream",
     "text": [
      "F1: 0.31095406360424027\n"
     ]
    },
    {
     "data": {
      "text/plain": [
       "<matplotlib.axes._subplots.AxesSubplot at 0x7fc1a4a15cd0>"
      ]
     },
     "execution_count": 14,
     "metadata": {},
     "output_type": "execute_result"
    },
    {
     "data": {
      "image/png": "[encoded data removed]",
      "text/plain": [
       "<Figure size 432x288 with 2 Axes>"
      ]
     },
     "metadata": {
      "needs_background": "light"
     },
     "output_type": "display_data"
    }
   ],
   "source": [
    "model = LogisticRegression(C=3.2486749151019727, class_weight=None, dual=False,\n",
    "                   fit_intercept=True, intercept_scaling=1, l1_ratio=None,\n",
    "                   max_iter=100, multi_class='warn', n_jobs=None, penalty='l1',\n",
    "                   random_state=12345, solver='liblinear', tol=0.0001,\n",
    "                   verbose=0, warm_start=False)\n",
    "\n",
    "model.fit(features_train, target_train)\n",
    "predicted_valid = model.predict(features_valid)\n",
    "f1_lr_opt_unb =  f1_score(target_valid, predicted_valid)\n",
    "print(\"F1:\", f1_score(target_valid, predicted_valid))\n",
    "sns.heatmap(\n",
    "    confusion_matrix(target_valid, predicted_valid),fmt='.4g', \n",
    "    annot = True, linewidths=1, linecolor='black')"
   ]
  },
  {
   "cell_type": "markdown",
   "metadata": {},
   "source": [
    "Посмотрим на значения метрики: "
   ]
  },
  {
   "cell_type": "code",
   "execution_count": 15,
   "metadata": {},
   "outputs": [
    {
     "data": {
      "text/html": [
       "<div>\n",
       "<style scoped>\n",
       "    .dataframe tbody tr th:only-of-type {\n",
       "        vertical-align: middle;\n",
       "    }\n",
       "\n",
       "    .dataframe tbody tr th {\n",
       "        vertical-align: top;\n",
       "    }\n",
       "\n",
       "    .dataframe thead th {\n",
       "        text-align: right;\n",
       "    }\n",
       "</style>\n",
       "<table border=\"1\" class=\"dataframe\">\n",
       "  <thead>\n",
       "    <tr style=\"text-align: right;\">\n",
       "      <th></th>\n",
       "      <th>Модель</th>\n",
       "      <th>F1 на неоптимальной модели</th>\n",
       "      <th>F1 с оптимальными гиперпараметрами</th>\n",
       "    </tr>\n",
       "  </thead>\n",
       "  <tbody>\n",
       "    <tr>\n",
       "      <td>0</td>\n",
       "      <td>Логистическая регрессия</td>\n",
       "      <td>0.311504</td>\n",
       "      <td>0.310954</td>\n",
       "    </tr>\n",
       "  </tbody>\n",
       "</table>\n",
       "</div>"
      ],
      "text/plain": [
       "                    Модель  F1 на неоптимальной модели  \\\n",
       "0  Логистическая регрессия                    0.311504   \n",
       "\n",
       "   F1 с оптимальными гиперпараметрами  \n",
       "0                            0.310954  "
      ]
     },
     "execution_count": 15,
     "metadata": {},
     "output_type": "execute_result"
    }
   ],
   "source": [
    "f1_dict = {\"Модель\":['Логистическая регрессия'],\n",
    "           \"F1 на неоптимальной модели\":[f1_lr_nonopt_unb],\n",
    "           \"F1 с оптимальными гиперпараметрами\":[f1_lr_opt_unb],\n",
    "           }\n",
    "pd.DataFrame(f1_dict)"
   ]
  },
  {
   "cell_type": "markdown",
   "metadata": {},
   "source": [
    "#### Вывод: \n",
    "Без учете баланса классов, F1 мера равна 0,31, модель показывает низкие результаты. Также мы подобрали оптимальные параметры для модели логистической регрессии, однако же прироста качества не произошло. \n",
    "Необходимо попробовать включить параметр class_weight, который учитывает вес классов. \n",
    "Но об этом немного ниже. А для начала попробуем обучить еще одну модель для более наглядных результатов.\n",
    "\n",
    "После обучения модели с оптимальными параметрами мы получили ухудшение метрики, нежели без настройки гиперпраметров.\n",
    "\n",
    "\n",
    "### Попробуем обучить модель без учета баланса классов на примере случайного леса.\n",
    "\n",
    "Проверим качество модели без оптимизации гиперпараметров и вычислим F1-меру на валидационной выборке: "
   ]
  },
  {
   "cell_type": "code",
   "execution_count": 16,
   "metadata": {},
   "outputs": [
    {
     "name": "stdout",
     "output_type": "stream",
     "text": [
      "F1-мера модели будет равна: 0.5614035087719297\n"
     ]
    }
   ],
   "source": [
    "model = RandomForestClassifier(\n",
    "    random_state=12345) \n",
    "model.fit(features_train, target_train) # обучите модель на тренировочной выборке\n",
    "predicted_valid = model.predict(features_valid)\n",
    "f1_rfc_nonopt_unb = f1_score(target_valid, predicted_valid)                           \n",
    "                                 \n",
    "print(\"F1-мера модели будет равна:\", f1_score(target_valid, predicted_valid))        "
   ]
  },
  {
   "cell_type": "markdown",
   "metadata": {},
   "source": [
    "Определим наилучшую модель по количеству деревьев и глубине, так как нам часто придется ее использовать создадим функцию:"
   ]
  },
  {
   "cell_type": "code",
   "execution_count": 17,
   "metadata": {},
   "outputs": [
    {
     "name": "stdout",
     "output_type": "stream",
     "text": [
      "Лучшая модель model_RFC - с количеством деревьев 130, глубиной 9 \\ n\n",
      "CPU times: user 3min 30s, sys: 0 ns, total: 3min 30s\n",
      "Wall time: 3min 31s\n"
     ]
    },
    {
     "data": {
      "text/plain": [
       "RandomForestClassifier(bootstrap=True, class_weight=None, criterion='gini',\n",
       "                       max_depth=9, max_features='auto', max_leaf_nodes=None,\n",
       "                       min_impurity_decrease=0.0, min_impurity_split=None,\n",
       "                       min_samples_leaf=1, min_samples_split=2,\n",
       "                       min_weight_fraction_leaf=0.0, n_estimators=130,\n",
       "                       n_jobs=None, oob_score=False, random_state=12345,\n",
       "                       verbose=0, warm_start=False)"
      ]
     },
     "execution_count": 17,
     "metadata": {},
     "output_type": "execute_result"
    }
   ],
   "source": [
    "%%time\n",
    "\n",
    "def best_param_rfc(features, target):\n",
    "  model = RandomForestClassifier(random_state=12345)\n",
    "  param_grid = {\n",
    "      'n_estimators': list(range(10, 150, 10)),\n",
    "      'max_depth':list(range(1,15))\n",
    "  }\n",
    "  gs = GridSearchCV(estimator=model, \n",
    "                    param_grid=param_grid, cv=3)\n",
    "  gs.fit(features, target)\n",
    "  n_est = gs.best_params_['n_estimators']\n",
    "  max_depth = gs.best_params_['max_depth']\n",
    "  print(f'Лучшая модель model_RFC - с количеством деревьев {n_est}, глубиной {max_depth} \\ n')\n",
    "  return gs.best_estimator_\n",
    "\n",
    "best_param_rfc(features_train, target_train)"
   ]
  },
  {
   "cell_type": "code",
   "execution_count": 18,
   "metadata": {
    "scrolled": false
   },
   "outputs": [
    {
     "name": "stdout",
     "output_type": "stream",
     "text": [
      "Модель случайного леса без учета баланса классов\n",
      "F1: 0.5753846153846154\n"
     ]
    },
    {
     "data": {
      "text/plain": [
       "<matplotlib.axes._subplots.AxesSubplot at 0x7fc1a4999dd0>"
      ]
     },
     "execution_count": 18,
     "metadata": {},
     "output_type": "execute_result"
    },
    {
     "data": {
      "image/png": "[encoded data removed]",
      "text/plain": [
       "<Figure size 432x288 with 2 Axes>"
      ]
     },
     "metadata": {
      "needs_background": "light"
     },
     "output_type": "display_data"
    }
   ],
   "source": [
    "model = RandomForestClassifier(\n",
    "    random_state=12345, \n",
    "    n_estimators = 90,\n",
    "    max_depth=10)\n",
    "model.fit(features_train, target_train) \n",
    "predicted_valid = model.predict(features_valid)\n",
    "f1_rfc_opt_unb = f1_score(target_valid, predicted_valid)\n",
    "print(\"Модель случайного леса без учета баланса классов\")\n",
    "print(\"F1:\", f1_score(target_valid, predicted_valid))\n",
    "sns.heatmap(\n",
    "    confusion_matrix(target_valid, predicted_valid),fmt='.4g', \n",
    "    annot = True, linewidths=1, linecolor='black')\n",
    "\n"
   ]
  },
  {
   "cell_type": "code",
   "execution_count": 19,
   "metadata": {},
   "outputs": [
    {
     "data": {
      "text/html": [
       "<div>\n",
       "<style scoped>\n",
       "    .dataframe tbody tr th:only-of-type {\n",
       "        vertical-align: middle;\n",
       "    }\n",
       "\n",
       "    .dataframe tbody tr th {\n",
       "        vertical-align: top;\n",
       "    }\n",
       "\n",
       "    .dataframe thead th {\n",
       "        text-align: right;\n",
       "    }\n",
       "</style>\n",
       "<table border=\"1\" class=\"dataframe\">\n",
       "  <thead>\n",
       "    <tr style=\"text-align: right;\">\n",
       "      <th></th>\n",
       "      <th>Модель</th>\n",
       "      <th>F1 на неоптимальной модели</th>\n",
       "      <th>F1 с оптимальными гиперпараметрами</th>\n",
       "    </tr>\n",
       "  </thead>\n",
       "  <tbody>\n",
       "    <tr>\n",
       "      <td>0</td>\n",
       "      <td>Случайный лес</td>\n",
       "      <td>0.561404</td>\n",
       "      <td>0.575385</td>\n",
       "    </tr>\n",
       "  </tbody>\n",
       "</table>\n",
       "</div>"
      ],
      "text/plain": [
       "          Модель  F1 на неоптимальной модели  \\\n",
       "0  Случайный лес                    0.561404   \n",
       "\n",
       "   F1 с оптимальными гиперпараметрами  \n",
       "0                            0.575385  "
      ]
     },
     "execution_count": 19,
     "metadata": {},
     "output_type": "execute_result"
    }
   ],
   "source": [
    "f1_dict = {\"Модель\":['Случайный лес'],\n",
    "           \"F1 на неоптимальной модели\":[f1_rfc_nonopt_unb ],\n",
    "           \"F1 с оптимальными гиперпараметрами\":[f1_rfc_opt_unb],\n",
    "           }\n",
    "pd.DataFrame(f1_dict)"
   ]
  },
  {
   "cell_type": "markdown",
   "metadata": {},
   "source": [
    "#### Вывод \n",
    "\n",
    "При сипользовании модели с оптимальными гиперпараметрами, качество модели выросло"
   ]
  },
  {
   "cell_type": "markdown",
   "metadata": {},
   "source": [
    "\n",
    "### Попробуем обучить модель решающего дерева без учета баланса классов и подберем для нее оптимальные гиперпараметры: \n",
    "\n",
    "Сначала проверим модель без подбора гиперпараметров: "
   ]
  },
  {
   "cell_type": "code",
   "execution_count": 20,
   "metadata": {},
   "outputs": [
    {
     "name": "stdout",
     "output_type": "stream",
     "text": [
      "Модель решающего дерева без учета баланса классов\n",
      "F1: 0.4816132858837485\n"
     ]
    },
    {
     "data": {
      "text/plain": [
       "<matplotlib.axes._subplots.AxesSubplot at 0x7fc1a49f9810>"
      ]
     },
     "execution_count": 20,
     "metadata": {},
     "output_type": "execute_result"
    },
    {
     "data": {
      "image/png": "[encoded data removed]",
      "text/plain": [
       "<Figure size 432x288 with 2 Axes>"
      ]
     },
     "metadata": {
      "needs_background": "light"
     },
     "output_type": "display_data"
    }
   ],
   "source": [
    "model = DecisionTreeClassifier(random_state=12345) \n",
    "model.fit(features_train, target_train) \n",
    "predicted_valid = model.predict(features_valid)\n",
    "f1_tree_nonopt_unb = f1_score(target_valid, predicted_valid)\n",
    "\n",
    "print(\"Модель решающего дерева без учета баланса классов\")\n",
    "print(\"F1:\", f1_score(target_valid, predicted_valid))\n",
    "sns.heatmap(\n",
    "    confusion_matrix(target_valid, predicted_valid),fmt='.4g', \n",
    "    annot = True, linewidths=1, linecolor='black')\n"
   ]
  },
  {
   "cell_type": "code",
   "execution_count": 21,
   "metadata": {},
   "outputs": [
    {
     "name": "stdout",
     "output_type": "stream",
     "text": [
      "Лучшая модель Дерева решений - максимальная глубина 8, пераметр max_features 6\n",
      "параметр min_samples_leaf 2, параметр criterionentropy\n",
      "CPU times: user 591 ms, sys: 0 ns, total: 591 ms\n",
      "Wall time: 601 ms\n"
     ]
    },
    {
     "data": {
      "text/plain": [
       "DecisionTreeClassifier(class_weight=None, criterion='entropy', max_depth=8,\n",
       "                       max_features=6, max_leaf_nodes=None,\n",
       "                       min_impurity_decrease=0.0, min_impurity_split=None,\n",
       "                       min_samples_leaf=2, min_samples_split=2,\n",
       "                       min_weight_fraction_leaf=0.0, presort=False,\n",
       "                       random_state=None, splitter='best')"
      ]
     },
     "execution_count": 21,
     "metadata": {},
     "output_type": "execute_result"
    }
   ],
   "source": [
    "%%time\n",
    "\n",
    "\n",
    "def best_param_tree(features, target):\n",
    "  param_dist = {'max_depth': randint(1, 9),\n",
    "              'max_features': randint(1, 9),\n",
    "              'min_samples_leaf': randint(1, 9),\n",
    "              'criterion': [\"gini\", \"entropy\"]}\n",
    "  \n",
    "  tree = DecisionTreeClassifier()\n",
    "  tree_cv = RandomizedSearchCV(estimator=tree,\n",
    "                               param_distributions=param_dist, cv = 5)\n",
    "  tree_cv.fit(features, target)\n",
    "  max_depth = tree_cv.best_params_['max_depth']\n",
    "  max_features = tree_cv.best_params_['max_features']\n",
    "  min_samples_leaf = tree_cv.best_params_['min_samples_leaf']\n",
    "  criterion = tree_cv.best_params_['criterion']\n",
    "  print(f'Лучшая модель Дерева решений - максимальная глубина {max_depth}, пераметр max_features {max_features}') \n",
    "  print(f'параметр min_samples_leaf {min_samples_leaf}, параметр criterion{criterion}')\n",
    "  return tree_cv.best_estimator_\n",
    "\n",
    "best_param_tree(features_train, target_train)"
   ]
  },
  {
   "cell_type": "markdown",
   "metadata": {},
   "source": [
    "Проверим модель с оптимальными гиперпараметрами и посмотрим насколько изменилась F1 мера и матрица ошибок: "
   ]
  },
  {
   "cell_type": "code",
   "execution_count": 22,
   "metadata": {
    "scrolled": true
   },
   "outputs": [
    {
     "name": "stdout",
     "output_type": "stream",
     "text": [
      "Оптимальная модель решающего дерева без учета баланса классов\n",
      "F1: 0.5381165919282511\n"
     ]
    },
    {
     "data": {
      "text/plain": [
       "<matplotlib.axes._subplots.AxesSubplot at 0x7fc1a4851310>"
      ]
     },
     "execution_count": 22,
     "metadata": {},
     "output_type": "execute_result"
    },
    {
     "data": {
      "image/png": "[encoded data removed]",
      "text/plain": [
       "<Figure size 432x288 with 2 Axes>"
      ]
     },
     "metadata": {
      "needs_background": "light"
     },
     "output_type": "display_data"
    }
   ],
   "source": [
    "model = DecisionTreeClassifier(class_weight=None, criterion='gini', max_depth=6,\n",
    "                       max_features=6, max_leaf_nodes=None,\n",
    "                       min_impurity_decrease=0.0, min_impurity_split=None,\n",
    "                       min_samples_leaf=1, min_samples_split=2,\n",
    "                       min_weight_fraction_leaf=0.0, presort=False,\n",
    "                       random_state=None, splitter='best')\n",
    "model.fit(features_train, target_train) \n",
    "predicted_valid = model.predict(features_valid)\n",
    "f1_tree_opt_unb = f1_score(target_valid, predicted_valid)\n",
    "print(\"Оптимальная модель решающего дерева без учета баланса классов\")\n",
    "print(\"F1:\", f1_score(target_valid, predicted_valid))\n",
    "sns.heatmap(\n",
    "    confusion_matrix(target_valid, predicted_valid),fmt='.4g', \n",
    "    annot = True, linewidths=1, linecolor='black')"
   ]
  },
  {
   "cell_type": "code",
   "execution_count": 23,
   "metadata": {},
   "outputs": [
    {
     "data": {
      "text/html": [
       "<div>\n",
       "<style scoped>\n",
       "    .dataframe tbody tr th:only-of-type {\n",
       "        vertical-align: middle;\n",
       "    }\n",
       "\n",
       "    .dataframe tbody tr th {\n",
       "        vertical-align: top;\n",
       "    }\n",
       "\n",
       "    .dataframe thead th {\n",
       "        text-align: right;\n",
       "    }\n",
       "</style>\n",
       "<table border=\"1\" class=\"dataframe\">\n",
       "  <thead>\n",
       "    <tr style=\"text-align: right;\">\n",
       "      <th></th>\n",
       "      <th>Модель</th>\n",
       "      <th>F1 на неоптимальной модели</th>\n",
       "      <th>F1 с оптимальными гиперпараметрами</th>\n",
       "    </tr>\n",
       "  </thead>\n",
       "  <tbody>\n",
       "    <tr>\n",
       "      <td>0</td>\n",
       "      <td>Решающее дерево</td>\n",
       "      <td>0.481613</td>\n",
       "      <td>0.538117</td>\n",
       "    </tr>\n",
       "  </tbody>\n",
       "</table>\n",
       "</div>"
      ],
      "text/plain": [
       "            Модель  F1 на неоптимальной модели  \\\n",
       "0  Решающее дерево                    0.481613   \n",
       "\n",
       "   F1 с оптимальными гиперпараметрами  \n",
       "0                            0.538117  "
      ]
     },
     "execution_count": 23,
     "metadata": {},
     "output_type": "execute_result"
    }
   ],
   "source": [
    "f1_dict = {\"Модель\":['Решающее дерево'],\n",
    "           \"F1 на неоптимальной модели\":[f1_tree_nonopt_unb],\n",
    "           \"F1 с оптимальными гиперпараметрами\":[f1_tree_opt_unb],\n",
    "           }\n",
    "pd.DataFrame(f1_dict)"
   ]
  },
  {
   "cell_type": "markdown",
   "metadata": {},
   "source": [
    "### Вывод \n",
    "Модель решающеого дерева на дефолтных настройках выдала метрику F1 равную 0,48 и количество правильно предсказанных результатов 203, при подборе оптимальных гиперпараметров мы получили F1 равную 0,5, а вот количество правильных предсказаний уменьшилось до 162."
   ]
  },
  {
   "cell_type": "markdown",
   "metadata": {},
   "source": [
    "### Сравним модели с учетом баланса классов и посмотрим на итоговые значения F1-меры и матрицы ошибок: "
   ]
  },
  {
   "cell_type": "code",
   "execution_count": 24,
   "metadata": {},
   "outputs": [
    {
     "name": "stdout",
     "output_type": "stream",
     "text": [
      "Модель случайного леса c учетом баланса классов\n",
      "F1: 0.6155606407322654\n"
     ]
    },
    {
     "data": {
      "text/plain": [
       "<matplotlib.axes._subplots.AxesSubplot at 0x7fc1a47e0410>"
      ]
     },
     "execution_count": 24,
     "metadata": {},
     "output_type": "execute_result"
    },
    {
     "data": {
      "image/png": "[encoded data removed]",
      "text/plain": [
       "<Figure size 432x288 with 2 Axes>"
      ]
     },
     "metadata": {
      "needs_background": "light"
     },
     "output_type": "display_data"
    }
   ],
   "source": [
    "model = RandomForestClassifier(\n",
    "    random_state=12345, \n",
    "    n_estimators = 90,\n",
    "    max_depth=10, \n",
    "    class_weight='balanced')\n",
    "model.fit(features_train, target_train) \n",
    "predicted_valid = model.predict(features_valid)\n",
    "print(\"Модель случайного леса c учетом баланса классов\")\n",
    "print(\"F1:\", f1_score(target_valid, predicted_valid))\n",
    "sns.heatmap(\n",
    "    confusion_matrix(target_valid, predicted_valid),fmt='.4g', \n",
    "    annot = True, linewidths=1, linecolor='black')\n",
    "\n"
   ]
  },
  {
   "cell_type": "code",
   "execution_count": 25,
   "metadata": {
    "scrolled": true
   },
   "outputs": [
    {
     "name": "stdout",
     "output_type": "stream",
     "text": [
      "Модель логистической регрессии с учетом баланса классов\n",
      "F1: 0.49233390119250425\n"
     ]
    },
    {
     "data": {
      "text/plain": [
       "<matplotlib.axes._subplots.AxesSubplot at 0x7fc1a4854f10>"
      ]
     },
     "execution_count": 25,
     "metadata": {},
     "output_type": "execute_result"
    },
    {
     "data": {
      "image/png": "[encoded data removed]",
      "text/plain": [
       "<Figure size 432x288 with 2 Axes>"
      ]
     },
     "metadata": {
      "needs_background": "light"
     },
     "output_type": "display_data"
    }
   ],
   "source": [
    "model = LogisticRegression(C=3.2486749151019727, class_weight='balanced', dual=False,\n",
    "                   fit_intercept=True, intercept_scaling=1, l1_ratio=None,\n",
    "                   max_iter=100, multi_class='warn', n_jobs=None, penalty='l1',\n",
    "                   random_state=12345, solver='liblinear', tol=0.0001,\n",
    "                   verbose=0, warm_start=False)\n",
    "model.fit(features_train, target_train)\n",
    "predicted_valid = model.predict(features_valid)\n",
    "print(\"Модель логистической регрессии с учетом баланса классов\")\n",
    "print(\"F1:\", f1_score(target_valid, predicted_valid))\n",
    "sns.heatmap(\n",
    "    confusion_matrix(target_valid, predicted_valid),fmt='.4g', \n",
    "    annot = True, linewidths=1, linecolor='black')"
   ]
  },
  {
   "cell_type": "code",
   "execution_count": 26,
   "metadata": {},
   "outputs": [
    {
     "name": "stdout",
     "output_type": "stream",
     "text": [
      "Оптимальная модель решающего дерева c учетом баланса классов\n",
      "F1: 0.5779036827195468\n"
     ]
    },
    {
     "data": {
      "text/plain": [
       "<matplotlib.axes._subplots.AxesSubplot at 0x7fc1a4693790>"
      ]
     },
     "execution_count": 26,
     "metadata": {},
     "output_type": "execute_result"
    },
    {
     "data": {
      "image/png": "[encoded data removed]",
      "text/plain": [
       "<Figure size 432x288 with 2 Axes>"
      ]
     },
     "metadata": {
      "needs_background": "light"
     },
     "output_type": "display_data"
    }
   ],
   "source": [
    "model = DecisionTreeClassifier(class_weight='balanced', criterion='gini', max_depth=6,\n",
    "                       max_features=6, max_leaf_nodes=None,\n",
    "                       min_impurity_decrease=0.0, min_impurity_split=None,\n",
    "                       min_samples_leaf=1, min_samples_split=2,\n",
    "                       min_weight_fraction_leaf=0.0, presort=False,\n",
    "                       random_state=None, splitter='best')\n",
    "model.fit(features_train, target_train) \n",
    "predicted_valid = model.predict(features_valid)\n",
    "print(\"Оптимальная модель решающего дерева c учетом баланса классов\")\n",
    "print(\"F1:\", f1_score(target_valid, predicted_valid))\n",
    "sns.heatmap(\n",
    "    confusion_matrix(target_valid, predicted_valid),fmt='.4g', \n",
    "    annot = True, linewidths=1, linecolor='black')"
   ]
  },
  {
   "cell_type": "markdown",
   "metadata": {},
   "source": [
    "#### Вывод: \n",
    "Как видно из сравнения F1 мера случайного леса с учетом баланса классов = 0,62, против 0,49 у логистической регрессии 0, 52 у решающего дерева. Правильно предсказанных значений получилось 269, против 289, у решающего же дерева 330 правильных ответов. Однако у логистической регрессии и решающего дерева очень много ложно положительных ответов, что делает эти модели неудобными для предсказания. Пришло время для борьбы с дисбалансом классов.   "
   ]
  },
  {
   "cell_type": "markdown",
   "metadata": {},
   "source": [
    "## Борьба с дисбалансом\n",
    "\n",
    "Для того чтобы оценить какая из техник( upsampling или downsampling) улучшает или ухудшает модели сделаем их почередно, после чего обучим на них модель и проверим насколько лучше стало качество модели.  \n",
    "\n",
    "### Upsampling\n",
    "\n",
    "Для начала, как мы уже делали выше, определим насколько у нас выражен дисбаланс классов в обучающей выборке, это необходимо для того, чтобы выбрать параметры repeat в upsampling, а также fraction в downsampling: "
   ]
  },
  {
   "cell_type": "code",
   "execution_count": 27,
   "metadata": {
    "scrolled": true
   },
   "outputs": [
    {
     "data": {
      "text/plain": [
       "Text(0, 0.5, 'значения класса')"
      ]
     },
     "execution_count": 27,
     "metadata": {},
     "output_type": "execute_result"
    },
    {
     "data": {
      "image/png": "[encoded data removed]",
      "text/plain": [
       "<Figure size 432x288 with 1 Axes>"
      ]
     },
     "metadata": {
      "needs_background": "light"
     },
     "output_type": "display_data"
    }
   ],
   "source": [
    "sns.countplot(x = target_train)\n",
    "plt.title('Баланс классов')\n",
    "plt.xlabel('Количество значений')\n",
    "plt.ylabel('значения класса')"
   ]
  },
  {
   "cell_type": "markdown",
   "metadata": {},
   "source": [
    "Мы получили отношение положительных классов к отрицательным равное 1 к 4. Соответственно reapeat мы возьмем равным 4, а значение fraction равным 0.25.\n",
    "\n",
    "Для применения техники возьмем обучающие признаки классов и обучающий целевой признак и применим к ним функцию: \n"
   ]
  },
  {
   "cell_type": "code",
   "execution_count": 28,
   "metadata": {
    "scrolled": false
   },
   "outputs": [
    {
     "name": "stdout",
     "output_type": "stream",
     "text": [
      "(9666, 11)\n",
      "(9666,)\n"
     ]
    },
    {
     "data": {
      "text/plain": [
       "Text(0, 0.5, 'значения класса')"
      ]
     },
     "execution_count": 28,
     "metadata": {},
     "output_type": "execute_result"
    },
    {
     "data": {
      "image/png": "[encoded data removed]",
      "text/plain": [
       "<Figure size 432x288 with 1 Axes>"
      ]
     },
     "metadata": {
      "needs_background": "light"
     },
     "output_type": "display_data"
    }
   ],
   "source": [
    "def upsample(features, target, repeat):\n",
    "    features_zeros = features_train[target_train == 0]\n",
    "    features_ones = features_train[target_train == 1]\n",
    "    target_zeros = target_train[target_train == 0]\n",
    "    target_ones = target_train[target_train == 1]\n",
    "\n",
    "    features_upsampled = pd.concat([features_zeros] + [features_ones] * repeat)\n",
    "    target_upsampled = pd.concat([target_zeros] + [target_ones] * repeat)\n",
    "\n",
    "    features_upsampled, target_upsampled = shuffle(\n",
    "        features_upsampled, target_upsampled, random_state = 12345)\n",
    "  \n",
    "    return features_upsampled, target_upsampled\n",
    "\n",
    "features_upsampled, target_upsampled = upsample(features_train, target_train, 4)\n",
    "\n",
    "print(features_upsampled.shape)\n",
    "print(target_upsampled.shape)\n",
    "sns.countplot(x = target_upsampled)\n",
    "plt.title('Баланс классов')\n",
    "plt.xlabel('Количество значений')\n",
    "plt.ylabel('значения класса')"
   ]
  },
  {
   "cell_type": "markdown",
   "metadata": {},
   "source": [
    "#### Вывод \n",
    "Классы стали примерно равны. "
   ]
  },
  {
   "cell_type": "markdown",
   "metadata": {},
   "source": [
    "Пришло время подобрать оптимальные параметры для наших моделей с учетом новой выборке подвергунутой апсемплингу:"
   ]
  },
  {
   "cell_type": "code",
   "execution_count": 29,
   "metadata": {},
   "outputs": [
    {
     "name": "stdout",
     "output_type": "stream",
     "text": [
      "Лучшая модель model_Rs_regress - параметр prnalty l2, пераметр С 0.018781904770188262\n",
      "CPU times: user 55.6 s, sys: 44.3 s, total: 1min 39s\n",
      "Wall time: 1min 39s\n"
     ]
    },
    {
     "data": {
      "text/plain": [
       "LogisticRegression(C=0.018781904770188262, class_weight=None, dual=False,\n",
       "                   fit_intercept=True, intercept_scaling=1, l1_ratio=None,\n",
       "                   max_iter=100, multi_class='warn', n_jobs=None, penalty='l2',\n",
       "                   random_state=12345, solver='liblinear', tol=0.0001,\n",
       "                   verbose=0, warm_start=False)"
      ]
     },
     "execution_count": 29,
     "metadata": {},
     "output_type": "execute_result"
    }
   ],
   "source": [
    "%%time\n",
    "\n",
    "best_param_regress(features_upsampled, target_upsampled)  "
   ]
  },
  {
   "cell_type": "code",
   "execution_count": 30,
   "metadata": {
    "scrolled": true
   },
   "outputs": [
    {
     "name": "stdout",
     "output_type": "stream",
     "text": [
      "Лучшая модель model_RFC - с количеством деревьев 140, глубиной 14 \\ n\n",
      "CPU times: user 4min 59s, sys: 0 ns, total: 4min 59s\n",
      "Wall time: 5min 1s\n"
     ]
    },
    {
     "data": {
      "text/plain": [
       "RandomForestClassifier(bootstrap=True, class_weight=None, criterion='gini',\n",
       "                       max_depth=14, max_features='auto', max_leaf_nodes=None,\n",
       "                       min_impurity_decrease=0.0, min_impurity_split=None,\n",
       "                       min_samples_leaf=1, min_samples_split=2,\n",
       "                       min_weight_fraction_leaf=0.0, n_estimators=140,\n",
       "                       n_jobs=None, oob_score=False, random_state=12345,\n",
       "                       verbose=0, warm_start=False)"
      ]
     },
     "execution_count": 30,
     "metadata": {},
     "output_type": "execute_result"
    }
   ],
   "source": [
    "%%time\n",
    "\n",
    "best_param_rfc(features_upsampled, target_upsampled)"
   ]
  },
  {
   "cell_type": "code",
   "execution_count": 31,
   "metadata": {},
   "outputs": [
    {
     "name": "stdout",
     "output_type": "stream",
     "text": [
      "Лучшая модель Дерева решений - максимальная глубина 8, пераметр max_features 4\n",
      "параметр min_samples_leaf 8, параметр criteriongini\n",
      "CPU times: user 681 ms, sys: 0 ns, total: 681 ms\n",
      "Wall time: 693 ms\n"
     ]
    },
    {
     "data": {
      "text/plain": [
       "DecisionTreeClassifier(class_weight=None, criterion='gini', max_depth=8,\n",
       "                       max_features=4, max_leaf_nodes=None,\n",
       "                       min_impurity_decrease=0.0, min_impurity_split=None,\n",
       "                       min_samples_leaf=8, min_samples_split=2,\n",
       "                       min_weight_fraction_leaf=0.0, presort=False,\n",
       "                       random_state=None, splitter='best')"
      ]
     },
     "execution_count": 31,
     "metadata": {},
     "output_type": "execute_result"
    }
   ],
   "source": [
    "%%time\n",
    "\n",
    "best_param_tree(features_upsampled, target_upsampled)"
   ]
  },
  {
   "cell_type": "markdown",
   "metadata": {},
   "source": [
    "Оценим значения меры F1 при использовании техники upsampling на наших моделях обученных на новых данных:"
   ]
  },
  {
   "cell_type": "code",
   "execution_count": 32,
   "metadata": {},
   "outputs": [
    {
     "name": "stdout",
     "output_type": "stream",
     "text": [
      "Метрики моделей при использовании техники upsampling\n"
     ]
    },
    {
     "data": {
      "text/html": [
       "<div>\n",
       "<style scoped>\n",
       "    .dataframe tbody tr th:only-of-type {\n",
       "        vertical-align: middle;\n",
       "    }\n",
       "\n",
       "    .dataframe tbody tr th {\n",
       "        vertical-align: top;\n",
       "    }\n",
       "\n",
       "    .dataframe thead th {\n",
       "        text-align: right;\n",
       "    }\n",
       "</style>\n",
       "<table border=\"1\" class=\"dataframe\">\n",
       "  <thead>\n",
       "    <tr style=\"text-align: right;\">\n",
       "      <th></th>\n",
       "      <th>Модель</th>\n",
       "      <th>F1 без учета баланса классов</th>\n",
       "      <th>F1 с учетом баланса</th>\n",
       "    </tr>\n",
       "  </thead>\n",
       "  <tbody>\n",
       "    <tr>\n",
       "      <td>0</td>\n",
       "      <td>Случайный лес</td>\n",
       "      <td>0.598063</td>\n",
       "      <td>0.610374</td>\n",
       "    </tr>\n",
       "    <tr>\n",
       "      <td>1</td>\n",
       "      <td>Логистическая регрессия</td>\n",
       "      <td>0.493220</td>\n",
       "      <td>0.493127</td>\n",
       "    </tr>\n",
       "    <tr>\n",
       "      <td>2</td>\n",
       "      <td>Решающее дерево</td>\n",
       "      <td>0.494942</td>\n",
       "      <td>0.570888</td>\n",
       "    </tr>\n",
       "  </tbody>\n",
       "</table>\n",
       "</div>"
      ],
      "text/plain": [
       "                    Модель  F1 без учета баланса классов  F1 с учетом баланса\n",
       "0            Случайный лес                      0.598063             0.610374\n",
       "1  Логистическая регрессия                      0.493220             0.493127\n",
       "2          Решающее дерево                      0.494942             0.570888"
      ]
     },
     "execution_count": 32,
     "metadata": {},
     "output_type": "execute_result"
    }
   ],
   "source": [
    "model = RandomForestClassifier(bootstrap=True, class_weight='balanced', criterion='gini',\n",
    "                       max_depth=14, max_features='auto', max_leaf_nodes=None,\n",
    "                       min_impurity_decrease=0.0, min_impurity_split=None,\n",
    "                       min_samples_leaf=1, min_samples_split=2,\n",
    "                       min_weight_fraction_leaf=0.0, n_estimators=140,\n",
    "                       n_jobs=None, oob_score=False, random_state=12345,\n",
    "                       verbose=0, warm_start=False)\n",
    "model.fit(features_upsampled, target_upsampled) \n",
    "predicted_valid = model.predict(features_valid)\n",
    "f1_rfc_bal_u = f1_score(target_valid, predicted_valid)\n",
    "\n",
    "\n",
    "\n",
    "model = LogisticRegression(C=0.018781904770188262, class_weight='balanced', dual=False,\n",
    "                   fit_intercept=True, intercept_scaling=1, l1_ratio=None,\n",
    "                   max_iter=100, multi_class='warn', n_jobs=None, penalty='l2',\n",
    "                   random_state=12345, solver='liblinear', tol=0.0001,\n",
    "                   verbose=0, warm_start=False) \n",
    "model.fit(features_upsampled, target_upsampled)\n",
    "predicted_valid = model.predict(features_valid)\n",
    "f1_lr_bal_u = f1_score(target_valid, predicted_valid)\n",
    "\n",
    "model = DecisionTreeClassifier(class_weight='balanced', criterion='entropy', max_depth=8,\n",
    "                       max_features=4, max_leaf_nodes=None,\n",
    "                       min_impurity_decrease=0.0, min_impurity_split=None,\n",
    "                       min_samples_leaf=3, min_samples_split=2,\n",
    "                       min_weight_fraction_leaf=0.0, presort=False,\n",
    "                       random_state=None, splitter='best') \n",
    "model.fit(features_upsampled, target_upsampled)\n",
    "predicted_valid = model.predict(features_valid)\n",
    "f1_tree_bal_u = f1_score(target_valid, predicted_valid)\n",
    "\n",
    "\n",
    "\n",
    "\n",
    "model = RandomForestClassifier(bootstrap=True, class_weight=None, criterion='gini',\n",
    "                       max_depth=14, max_features='auto', max_leaf_nodes=None,\n",
    "                       min_impurity_decrease=0.0, min_impurity_split=None,\n",
    "                       min_samples_leaf=1, min_samples_split=2,\n",
    "                       min_weight_fraction_leaf=0.0, n_estimators=140,\n",
    "                       n_jobs=None, oob_score=False, random_state=12345,\n",
    "                       verbose=0, warm_start=False)\n",
    "model.fit(features_upsampled, target_upsampled) \n",
    "predicted_valid = model.predict(features_valid)\n",
    "f1_rfc_unbal_u = f1_score(target_valid, predicted_valid)\n",
    "\n",
    "\n",
    "model = LogisticRegression(C=0.018781904770188262, class_weight=None, dual=False,\n",
    "                   fit_intercept=True, intercept_scaling=1, l1_ratio=None,\n",
    "                   max_iter=100, multi_class='warn', n_jobs=None, penalty='l2',\n",
    "                   random_state=12345, solver='liblinear', tol=0.0001,\n",
    "                   verbose=0, warm_start=False) \n",
    "model.fit(features_upsampled, target_upsampled)\n",
    "predicted_valid = model.predict(features_valid)\n",
    "f1_lr_unbal_u =f1_score(target_valid, predicted_valid)\n",
    "\n",
    "model = DecisionTreeClassifier(class_weight=None, criterion='entropy', max_depth=8,\n",
    "                       max_features=4, max_leaf_nodes=None,\n",
    "                       min_impurity_decrease=0.0, min_impurity_split=None,\n",
    "                       min_samples_leaf=3, min_samples_split=2,\n",
    "                       min_weight_fraction_leaf=0.0, presort=False,\n",
    "                       random_state=None, splitter='best') \n",
    "model.fit(features_upsampled, target_upsampled)\n",
    "predicted_valid = model.predict(features_valid)\n",
    "f1_tree_unbal_u =f1_score(target_valid, predicted_valid)\n",
    "\n",
    "f1_dict_u = {\"Модель\":['Случайный лес', 'Логистическая регрессия', 'Решающее дерево'],\n",
    "           \"F1 без учета баланса классов\":[f1_rfc_unbal_u, f1_lr_unbal_u, f1_tree_unbal_u],\n",
    "           \"F1 с учетом баланса\":[f1_rfc_bal_u, f1_lr_bal_u, f1_tree_bal_u],\n",
    "           }\n",
    "print('Метрики моделей при использовании техники upsampling')\n",
    "pd.DataFrame(f1_dict_u)"
   ]
  },
  {
   "cell_type": "markdown",
   "metadata": {},
   "source": [
    "#### Вывод: \n",
    "Мы провели обучение наших моделей на выборке подвергнутой техники upsempling. Из приведенных выше данных видно, что после проведения техники upsampling - если не учитывать параметр class_weight - метрика показывает худшие результаты, если же включить этот параметр, то показатель F1 для моделей показывают более высокие результаты ввиду того, что обучение происходит на большем объеме данных"
   ]
  },
  {
   "cell_type": "markdown",
   "metadata": {},
   "source": [
    "### Downsampling\n",
    "\n",
    "Используем функцию для техники: "
   ]
  },
  {
   "cell_type": "code",
   "execution_count": 33,
   "metadata": {},
   "outputs": [
    {
     "name": "stdout",
     "output_type": "stream",
     "text": [
      "(2416, 11)\n",
      "(2416,)\n"
     ]
    },
    {
     "data": {
      "text/plain": [
       "Text(0, 0.5, 'значения класса')"
      ]
     },
     "execution_count": 33,
     "metadata": {},
     "output_type": "execute_result"
    },
    {
     "data": {
      "image/png": "[encoded data removed]",
      "text/plain": [
       "<Figure size 432x288 with 1 Axes>"
      ]
     },
     "metadata": {
      "needs_background": "light"
     },
     "output_type": "display_data"
    }
   ],
   "source": [
    "def downsample(features, target, fraction):\n",
    "    features_zeros = features[target == 0]\n",
    "    features_ones = features[target == 1]\n",
    "    target_zeros = target[target == 0]\n",
    "    target_ones = target[target == 1]\n",
    "    features_downsampled = pd.concat([features_ones] +\n",
    "        [features_zeros.sample(frac = fraction, random_state = 12345)])\n",
    "    target_downsampled = pd.concat([target_ones] + [target_zeros\n",
    "    .sample(frac = fraction, random_state = 12345)])\n",
    "    features_downsampled, target_downsampled = shuffle(\n",
    "        features_downsampled, target_downsampled, random_state=12345)\n",
    "\n",
    "\n",
    "    return features_downsampled, target_downsampled\n",
    "\n",
    "features_downsampled, target_downsampled = downsample(features_train, target_train, 0.25)\n",
    "\n",
    "print(features_downsampled.shape)\n",
    "print(target_downsampled.shape)\n",
    "\n",
    "sns.countplot(x = target_downsampled)\n",
    "plt.title('Баланс классов')\n",
    "plt.xlabel('Количество значений')\n",
    "plt.ylabel('значения класса')"
   ]
  },
  {
   "cell_type": "markdown",
   "metadata": {},
   "source": [
    "Проведем подбор оптимальных параметров для моделей с учетом вновь полученных данных: "
   ]
  },
  {
   "cell_type": "code",
   "execution_count": 34,
   "metadata": {},
   "outputs": [
    {
     "name": "stdout",
     "output_type": "stream",
     "text": [
      "Лучшая модель model_RFC - с количеством деревьев 110, глубиной 8 \\ n\n",
      "CPU times: user 2min 8s, sys: 123 ms, total: 2min 8s\n",
      "Wall time: 2min 9s\n"
     ]
    },
    {
     "data": {
      "text/plain": [
       "RandomForestClassifier(bootstrap=True, class_weight=None, criterion='gini',\n",
       "                       max_depth=8, max_features='auto', max_leaf_nodes=None,\n",
       "                       min_impurity_decrease=0.0, min_impurity_split=None,\n",
       "                       min_samples_leaf=1, min_samples_split=2,\n",
       "                       min_weight_fraction_leaf=0.0, n_estimators=110,\n",
       "                       n_jobs=None, oob_score=False, random_state=12345,\n",
       "                       verbose=0, warm_start=False)"
      ]
     },
     "execution_count": 34,
     "metadata": {},
     "output_type": "execute_result"
    }
   ],
   "source": [
    "%%time\n",
    "\n",
    "best_param_rfc(features_downsampled, target_downsampled)"
   ]
  },
  {
   "cell_type": "code",
   "execution_count": 35,
   "metadata": {},
   "outputs": [
    {
     "name": "stdout",
     "output_type": "stream",
     "text": [
      "Лучшая модель model_Rs_regress - параметр prnalty l1, пераметр С 0.33244997052240954\n",
      "CPU times: user 6.18 s, sys: 0 ns, total: 6.18 s\n",
      "Wall time: 6.2 s\n"
     ]
    },
    {
     "data": {
      "text/plain": [
       "LogisticRegression(C=0.33244997052240954, class_weight=None, dual=False,\n",
       "                   fit_intercept=True, intercept_scaling=1, l1_ratio=None,\n",
       "                   max_iter=100, multi_class='warn', n_jobs=None, penalty='l1',\n",
       "                   random_state=12345, solver='liblinear', tol=0.0001,\n",
       "                   verbose=0, warm_start=False)"
      ]
     },
     "execution_count": 35,
     "metadata": {},
     "output_type": "execute_result"
    }
   ],
   "source": [
    "%%time\n",
    "\n",
    "best_param_regress(features_downsampled, target_downsampled) "
   ]
  },
  {
   "cell_type": "code",
   "execution_count": 36,
   "metadata": {},
   "outputs": [
    {
     "name": "stdout",
     "output_type": "stream",
     "text": [
      "Лучшая модель Дерева решений - максимальная глубина 7, пераметр max_features 7\n",
      "параметр min_samples_leaf 4, параметр criteriongini\n",
      "CPU times: user 373 ms, sys: 0 ns, total: 373 ms\n",
      "Wall time: 390 ms\n"
     ]
    },
    {
     "data": {
      "text/plain": [
       "DecisionTreeClassifier(class_weight=None, criterion='gini', max_depth=7,\n",
       "                       max_features=7, max_leaf_nodes=None,\n",
       "                       min_impurity_decrease=0.0, min_impurity_split=None,\n",
       "                       min_samples_leaf=4, min_samples_split=2,\n",
       "                       min_weight_fraction_leaf=0.0, presort=False,\n",
       "                       random_state=None, splitter='best')"
      ]
     },
     "execution_count": 36,
     "metadata": {},
     "output_type": "execute_result"
    }
   ],
   "source": [
    "%%time\n",
    "\n",
    "best_param_tree(features_downsampled, target_downsampled)"
   ]
  },
  {
   "cell_type": "markdown",
   "metadata": {},
   "source": [
    "Обучим модели на полученных выборках с учетом проведенной техники downsampling, снова посмотрим на результаты с учетом параметра class_weigt и без него. "
   ]
  },
  {
   "cell_type": "code",
   "execution_count": 37,
   "metadata": {
    "scrolled": true
   },
   "outputs": [
    {
     "name": "stdout",
     "output_type": "stream",
     "text": [
      "Метрики моделей при использовании техники downsampling\n"
     ]
    },
    {
     "data": {
      "text/html": [
       "<div>\n",
       "<style scoped>\n",
       "    .dataframe tbody tr th:only-of-type {\n",
       "        vertical-align: middle;\n",
       "    }\n",
       "\n",
       "    .dataframe tbody tr th {\n",
       "        vertical-align: top;\n",
       "    }\n",
       "\n",
       "    .dataframe thead th {\n",
       "        text-align: right;\n",
       "    }\n",
       "</style>\n",
       "<table border=\"1\" class=\"dataframe\">\n",
       "  <thead>\n",
       "    <tr style=\"text-align: right;\">\n",
       "      <th></th>\n",
       "      <th>Модель</th>\n",
       "      <th>F1 без учета баланса классов</th>\n",
       "      <th>F1 с учетом баланса</th>\n",
       "    </tr>\n",
       "  </thead>\n",
       "  <tbody>\n",
       "    <tr>\n",
       "      <td>0</td>\n",
       "      <td>Случайный лес</td>\n",
       "      <td>0.583723</td>\n",
       "      <td>0.493920</td>\n",
       "    </tr>\n",
       "    <tr>\n",
       "      <td>1</td>\n",
       "      <td>Логистическая регрессия</td>\n",
       "      <td>0.488927</td>\n",
       "      <td>0.490468</td>\n",
       "    </tr>\n",
       "    <tr>\n",
       "      <td>2</td>\n",
       "      <td>Решающее дерево</td>\n",
       "      <td>0.529022</td>\n",
       "      <td>0.547990</td>\n",
       "    </tr>\n",
       "  </tbody>\n",
       "</table>\n",
       "</div>"
      ],
      "text/plain": [
       "                    Модель  F1 без учета баланса классов  F1 с учетом баланса\n",
       "0            Случайный лес                      0.583723             0.493920\n",
       "1  Логистическая регрессия                      0.488927             0.490468\n",
       "2          Решающее дерево                      0.529022             0.547990"
      ]
     },
     "execution_count": 37,
     "metadata": {},
     "output_type": "execute_result"
    }
   ],
   "source": [
    "RFC_model = RandomForestClassifier(bootstrap=True, class_weight='balanced', criterion='gini',\n",
    "                       max_depth=8, max_features='auto', max_leaf_nodes=None,\n",
    "                       min_impurity_decrease=0.0, min_impurity_split=None,\n",
    "                       min_samples_leaf=1, min_samples_split=2,\n",
    "                       min_weight_fraction_leaf=0.0, n_estimators=110,\n",
    "                       n_jobs=None, oob_score=False, random_state=12345,\n",
    "                       verbose=0, warm_start=False)\n",
    "model.fit(features_downsampled, target_downsampled) \n",
    "predicted_valid = model.predict(features_valid)\n",
    "f1_rfc_bal_d = f1_score(target_valid, predicted_valid)\n",
    "\n",
    "\n",
    "\n",
    "model = LogisticRegression(C=0.33244997052240954, class_weight='balanced', dual=False,\n",
    "                   fit_intercept=True, intercept_scaling=1, l1_ratio=None,\n",
    "                   max_iter=100, multi_class='warn', n_jobs=None, penalty='l1',\n",
    "                   random_state=12345, solver='liblinear', tol=0.0001,\n",
    "                   verbose=0, warm_start=False) \n",
    "model.fit(features_downsampled, target_downsampled)\n",
    "predicted_valid = model.predict(features_valid)\n",
    "f1_lr_bal_d = f1_score(target_valid, predicted_valid)\n",
    "\n",
    "model = DecisionTreeClassifier(class_weight='balanced', criterion='entropy', max_depth=6,\n",
    "                       max_features=8, max_leaf_nodes=None,\n",
    "                       min_impurity_decrease=0.0, min_impurity_split=None,\n",
    "                       min_samples_leaf=4, min_samples_split=2,\n",
    "                       min_weight_fraction_leaf=0.0, presort=False,\n",
    "                       random_state=None, splitter='best') \n",
    "model.fit(features_downsampled, target_downsampled)\n",
    "predicted_valid = model.predict(features_valid)\n",
    "f1_tree_bal_d = f1_score(target_valid, predicted_valid)\n",
    "\n",
    "\n",
    "\n",
    "\n",
    "model = RandomForestClassifier(bootstrap=True, class_weight=None, criterion='gini',\n",
    "                       max_depth=8, max_features='auto', max_leaf_nodes=None,\n",
    "                       min_impurity_decrease=0.0, min_impurity_split=None,\n",
    "                       min_samples_leaf=1, min_samples_split=2,\n",
    "                       min_weight_fraction_leaf=0.0, n_estimators=110,\n",
    "                       n_jobs=None, oob_score=False, random_state=12345,\n",
    "                       verbose=0, warm_start=False)\n",
    "model.fit(features_downsampled, target_downsampled) \n",
    "predicted_valid = model.predict(features_valid)\n",
    "f1_rfc_unbal_d = f1_score(target_valid, predicted_valid)\n",
    "\n",
    "\n",
    "model = LogisticRegression(C=0.33244997052240954, class_weight=None, dual=False,\n",
    "                   fit_intercept=True, intercept_scaling=1, l1_ratio=None,\n",
    "                   max_iter=100, multi_class='warn', n_jobs=None, penalty='l1',\n",
    "                   random_state=12345, solver='liblinear', tol=0.0001,\n",
    "                   verbose=0, warm_start=False) \n",
    "model.fit(features_downsampled, target_downsampled)\n",
    "predicted_valid = model.predict(features_valid)\n",
    "f1_lr_unbal_d =f1_score(target_valid, predicted_valid)\n",
    "\n",
    "model = DecisionTreeClassifier(class_weight=None, criterion='entropy', max_depth=6,\n",
    "                       max_features=8, max_leaf_nodes=None,\n",
    "                       min_impurity_decrease=0.0, min_impurity_split=None,\n",
    "                       min_samples_leaf=4, min_samples_split=2,\n",
    "                       min_weight_fraction_leaf=0.0, presort=False,\n",
    "                       random_state=None, splitter='best')\n",
    "model.fit(features_downsampled, target_downsampled)\n",
    "predicted_valid = model.predict(features_valid)\n",
    "f1_tree_unbal_d =f1_score(target_valid, predicted_valid)\n",
    "\n",
    "f1_dict_d = {\"Модель\":['Случайный лес', 'Логистическая регрессия', 'Решающее дерево'],\n",
    "           \"F1 без учета баланса классов\":[f1_rfc_unbal_d, f1_lr_unbal_d, f1_tree_unbal_d],\n",
    "           \"F1 с учетом баланса\":[f1_rfc_bal_d, f1_lr_bal_d, f1_tree_bal_d],\n",
    "           }\n",
    "print('Метрики моделей при использовании техники downsampling')\n",
    "pd.DataFrame(f1_dict_d)"
   ]
  },
  {
   "cell_type": "markdown",
   "metadata": {},
   "source": [
    "#### Вывод: \n",
    "Как видно из полученных результатов, здесь ситуация не такая радужная. при использовании техники downsampling метрики F1 просели на всех моделях, при этом включение баланса классов у случайного леса привело к снижению значения f1 меры.\n",
    "Это стало возможным ввиду того, что модель обучается на меньшем количестве данных. \n",
    "\n",
    "## Вывод \n",
    "Настало выбрать лучшую модель - поможет нам в этом уже приведенные выше таблицы. \n",
    "\n",
    "Модели обученные на выборке подвергнутой технике upsampling:"
   ]
  },
  {
   "cell_type": "code",
   "execution_count": 38,
   "metadata": {},
   "outputs": [
    {
     "data": {
      "text/html": [
       "<div>\n",
       "<style scoped>\n",
       "    .dataframe tbody tr th:only-of-type {\n",
       "        vertical-align: middle;\n",
       "    }\n",
       "\n",
       "    .dataframe tbody tr th {\n",
       "        vertical-align: top;\n",
       "    }\n",
       "\n",
       "    .dataframe thead th {\n",
       "        text-align: right;\n",
       "    }\n",
       "</style>\n",
       "<table border=\"1\" class=\"dataframe\">\n",
       "  <thead>\n",
       "    <tr style=\"text-align: right;\">\n",
       "      <th></th>\n",
       "      <th>Модель</th>\n",
       "      <th>F1 без учета баланса классов</th>\n",
       "      <th>F1 с учетом баланса</th>\n",
       "    </tr>\n",
       "  </thead>\n",
       "  <tbody>\n",
       "    <tr>\n",
       "      <td>0</td>\n",
       "      <td>Случайный лес</td>\n",
       "      <td>0.598063</td>\n",
       "      <td>0.610374</td>\n",
       "    </tr>\n",
       "    <tr>\n",
       "      <td>1</td>\n",
       "      <td>Логистическая регрессия</td>\n",
       "      <td>0.493220</td>\n",
       "      <td>0.493127</td>\n",
       "    </tr>\n",
       "    <tr>\n",
       "      <td>2</td>\n",
       "      <td>Решающее дерево</td>\n",
       "      <td>0.494942</td>\n",
       "      <td>0.570888</td>\n",
       "    </tr>\n",
       "  </tbody>\n",
       "</table>\n",
       "</div>"
      ],
      "text/plain": [
       "                    Модель  F1 без учета баланса классов  F1 с учетом баланса\n",
       "0            Случайный лес                      0.598063             0.610374\n",
       "1  Логистическая регрессия                      0.493220             0.493127\n",
       "2          Решающее дерево                      0.494942             0.570888"
      ]
     },
     "execution_count": 38,
     "metadata": {},
     "output_type": "execute_result"
    }
   ],
   "source": [
    "pd.DataFrame(f1_dict_u)"
   ]
  },
  {
   "cell_type": "markdown",
   "metadata": {},
   "source": [
    "Модели обученные на выборке подвергнутой технике downsampling:"
   ]
  },
  {
   "cell_type": "code",
   "execution_count": 39,
   "metadata": {},
   "outputs": [
    {
     "data": {
      "text/html": [
       "<div>\n",
       "<style scoped>\n",
       "    .dataframe tbody tr th:only-of-type {\n",
       "        vertical-align: middle;\n",
       "    }\n",
       "\n",
       "    .dataframe tbody tr th {\n",
       "        vertical-align: top;\n",
       "    }\n",
       "\n",
       "    .dataframe thead th {\n",
       "        text-align: right;\n",
       "    }\n",
       "</style>\n",
       "<table border=\"1\" class=\"dataframe\">\n",
       "  <thead>\n",
       "    <tr style=\"text-align: right;\">\n",
       "      <th></th>\n",
       "      <th>Модель</th>\n",
       "      <th>F1 без учета баланса классов</th>\n",
       "      <th>F1 с учетом баланса</th>\n",
       "    </tr>\n",
       "  </thead>\n",
       "  <tbody>\n",
       "    <tr>\n",
       "      <td>0</td>\n",
       "      <td>Случайный лес</td>\n",
       "      <td>0.583723</td>\n",
       "      <td>0.493920</td>\n",
       "    </tr>\n",
       "    <tr>\n",
       "      <td>1</td>\n",
       "      <td>Логистическая регрессия</td>\n",
       "      <td>0.488927</td>\n",
       "      <td>0.490468</td>\n",
       "    </tr>\n",
       "    <tr>\n",
       "      <td>2</td>\n",
       "      <td>Решающее дерево</td>\n",
       "      <td>0.529022</td>\n",
       "      <td>0.547990</td>\n",
       "    </tr>\n",
       "  </tbody>\n",
       "</table>\n",
       "</div>"
      ],
      "text/plain": [
       "                    Модель  F1 без учета баланса классов  F1 с учетом баланса\n",
       "0            Случайный лес                      0.583723             0.493920\n",
       "1  Логистическая регрессия                      0.488927             0.490468\n",
       "2          Решающее дерево                      0.529022             0.547990"
      ]
     },
     "execution_count": 39,
     "metadata": {},
     "output_type": "execute_result"
    }
   ],
   "source": [
    "pd.DataFrame(f1_dict_d)"
   ]
  },
  {
   "cell_type": "code",
   "execution_count": 40,
   "metadata": {},
   "outputs": [
    {
     "data": {
      "image/png": "[encoded data removed]",
      "text/plain": [
       "<Figure size 720x720 with 1 Axes>"
      ]
     },
     "metadata": {
      "needs_background": "light"
     },
     "output_type": "display_data"
    }
   ],
   "source": [
    "rfc_model = RandomForestClassifier(bootstrap=True, class_weight='balanced', criterion='gini',\n",
    "                       max_depth=14, max_features='auto', max_leaf_nodes=None,\n",
    "                       min_impurity_decrease=0.0, min_impurity_split=None,\n",
    "                       min_samples_leaf=1, min_samples_split=2,\n",
    "                       min_weight_fraction_leaf=0.0, n_estimators=140,\n",
    "                       n_jobs=None, oob_score=False, random_state=12345,\n",
    "                       verbose=0, warm_start=False)\n",
    "\n",
    "rfc_model.fit(features_upsampled, target_upsampled) \n",
    "\n",
    "rfc_probabilities_valid = rfc_model.predict_proba(features_valid)\n",
    "rfc_probabilities_one_valid = rfc_probabilities_valid[:, 1]\n",
    "\n",
    "rfc_fpr, rfc_tpr, rfc_thresholds = roc_curve(target_valid, rfc_probabilities_one_valid)\n",
    "\n",
    "lr_model = LogisticRegression(C=0.018781904770188262, class_weight='balanced', dual=False,\n",
    "                   fit_intercept=True, intercept_scaling=1, l1_ratio=None,\n",
    "                   max_iter=100, multi_class='warn', n_jobs=None, penalty='l2',\n",
    "                   random_state=12345, solver='liblinear', tol=0.0001,\n",
    "                   verbose=0, warm_start=False) \n",
    "\n",
    "lr_model.fit(features_upsampled, target_upsampled)\n",
    "\n",
    "lr_probabilities_valid = lr_model.predict_proba(features_valid)\n",
    "lr_probabilities_one_valid = lr_probabilities_valid[:, 1]\n",
    "\n",
    "lr_fpr, lr_tpr, lr_thresholds = roc_curve(target_valid, lr_probabilities_one_valid)\n",
    "\n",
    "tree_model = DecisionTreeClassifier(class_weight=None, criterion='entropy', max_depth=6,\n",
    "                       max_features=8, max_leaf_nodes=None,\n",
    "                       min_impurity_decrease=0.0, min_impurity_split=None,\n",
    "                       min_samples_leaf=4, min_samples_split=2,\n",
    "                       min_weight_fraction_leaf=0.0, presort=False,\n",
    "                       random_state=None, splitter='best')\n",
    "tree_model.fit(features_downsampled, target_downsampled)\n",
    "\n",
    "tree_probabilities_valid = tree_model.predict_proba(features_valid)\n",
    "tree_probabilities_one_valid = tree_probabilities_valid[:, 1]\n",
    "\n",
    "tree_fpr, tree_tpr, tree_thresholds = roc_curve(target_valid, tree_probabilities_one_valid)\n",
    "\n",
    "plt.figure(figsize = (10,10))\n",
    "\n",
    "plt.plot(rfc_fpr, rfc_tpr, label='Случайный лес') # < постройте график >\n",
    "plt.plot(lr_fpr, lr_tpr, label='Логистическая регрессия')\n",
    "plt.plot(tree_fpr, tree_tpr, label='Решающее дерево')\n",
    "\n",
    "plt.legend()\n",
    "# ROC-кривая случайной модели (выглядит как прямая)\n",
    "plt.plot([0, 1], [0, 1], linestyle='--')\n",
    "\n",
    "plt.xlim([0.0,1.0]) # < примените функции plt.xlim() и plt.ylim(), чтобы\n",
    "plt.ylim([0.0,1.0]) #   установить границы осей от 0 до 1 >\n",
    "\n",
    "plt.xlabel('False Positive Rate')\n",
    "plt.ylabel('True Positive Rate') \n",
    "\n",
    "plt.title('ROC-кривая') \n",
    "\n",
    "plt.show()"
   ]
  },
  {
   "cell_type": "markdown",
   "metadata": {},
   "source": [
    "Подтверждает наши выводы и приведенный выше график ROC кривых для кажой модели с наилучшими гиперпараметрами. Однако же, на графике видно, что ближе к нашему лидеру модели случайного леса подобралась модель решающего дерева, а не логистической регрессии, как это можно было бы предположить. \n",
    "\n",
    "Теперь мы сможем остановить свой выбор на лучшей модели - модели случайного леса. "
   ]
  },
  {
   "cell_type": "markdown",
   "metadata": {},
   "source": [
    "## Тестирование модели\n",
    "\n",
    "После выбора наилучшей модели, для ее тестирования соединим учебную и валидационные выборки, затем проверим баланс классовов и применим технику upsampling, после чего подберем оптимальные гиперпараметры для модели и протестируем ее на тестовой выборке: "
   ]
  },
  {
   "cell_type": "code",
   "execution_count": 41,
   "metadata": {},
   "outputs": [
    {
     "name": "stdout",
     "output_type": "stream",
     "text": [
      "(8000, 11)\n",
      "(8000,)\n"
     ]
    }
   ],
   "source": [
    "features_train_valid = pd.concat(\n",
    "    [features_train, features_valid])\n",
    "target_train_valid = pd.concat(\n",
    "    [target_train, target_valid])\n",
    "print(features_train_valid.shape)\n",
    "print(target_train_valid.shape)"
   ]
  },
  {
   "cell_type": "markdown",
   "metadata": {},
   "source": [
    "Посмотрим на баланс классов в итоговой выборке:"
   ]
  },
  {
   "cell_type": "code",
   "execution_count": 42,
   "metadata": {},
   "outputs": [
    {
     "data": {
      "text/plain": [
       "Text(0, 0.5, 'значения класса')"
      ]
     },
     "execution_count": 42,
     "metadata": {},
     "output_type": "execute_result"
    },
    {
     "data": {
      "image/png": "[encoded data removed]",
      "text/plain": [
       "<Figure size 432x288 with 1 Axes>"
      ]
     },
     "metadata": {
      "needs_background": "light"
     },
     "output_type": "display_data"
    }
   ],
   "source": [
    "sns.countplot(x = target_train_valid)\n",
    "plt.title('Баланс классов')\n",
    "plt.xlabel('Количество значений')\n",
    "plt.ylabel('значения класса')"
   ]
  },
  {
   "cell_type": "markdown",
   "metadata": {},
   "source": [
    "Применим технику upsampling и посмотрим на итоговый баланс классов: "
   ]
  },
  {
   "cell_type": "code",
   "execution_count": 43,
   "metadata": {
    "scrolled": true
   },
   "outputs": [
    {
     "data": {
      "text/plain": [
       "Text(0, 0.5, 'значения класса')"
      ]
     },
     "execution_count": 43,
     "metadata": {},
     "output_type": "execute_result"
    },
    {
     "data": {
      "image/png": "[encoded data removed]",
      "text/plain": [
       "<Figure size 432x288 with 1 Axes>"
      ]
     },
     "metadata": {
      "needs_background": "light"
     },
     "output_type": "display_data"
    }
   ],
   "source": [
    "features_upsampled, target_upsampled = upsample(features_train_valid, target_train_valid, 4)\n",
    "sns.countplot(x = target_upsampled)\n",
    "plt.title('Баланс классов')\n",
    "plt.xlabel('Количество значений')\n",
    "plt.ylabel('значения класса')"
   ]
  },
  {
   "cell_type": "markdown",
   "metadata": {},
   "source": [
    "Подберем оптимальные параметры для модели слуайного леса:"
   ]
  },
  {
   "cell_type": "code",
   "execution_count": null,
   "metadata": {},
   "outputs": [],
   "source": [
    "%%time\n",
    "\n",
    "best_param_rfc(features_upsampled, target_upsampled)"
   ]
  },
  {
   "cell_type": "markdown",
   "metadata": {},
   "source": [
    "Обучим полученную модель на полученной выборке и проверим на тестовых данных, вычислим итоговые метрики F1 меру и AUC- ROC"
   ]
  },
  {
   "cell_type": "code",
   "execution_count": null,
   "metadata": {
    "scrolled": true
   },
   "outputs": [],
   "source": [
    "rfc_model = RandomForestClassifier(bootstrap=True, class_weight='balanced', criterion='gini',\n",
    "                       max_depth=14, max_features='auto', max_leaf_nodes=None,\n",
    "                       min_impurity_decrease=0.0, min_impurity_split=None,\n",
    "                       min_samples_leaf=1, min_samples_split=2,\n",
    "                       min_weight_fraction_leaf=0.0, n_estimators=140,\n",
    "                       n_jobs=None, oob_score=False, random_state=12345,\n",
    "                       verbose=0, warm_start=False) \n",
    "\n",
    "rfc_model.fit(features_upsampled, target_upsampled)  \n",
    "predicted_test = rfc_model.predict(features_test)\n",
    "probabilities_test = rfc_model.predict_proba(features_test)\n",
    "probabilities_one_test = probabilities_test[:, 1]\n",
    "print(\"Оптимальная модель случайного леса c учетом upsampling на тестовой выборке\")\n",
    "print(\"F1 модели на тестовой выборке:\", f1_score(target_test, predicted_test))\n",
    "print(\"AUC-ROC модели на тестовой выборке:\", roc_auc_score(target_test, probabilities_one_test))"
   ]
  },
  {
   "cell_type": "markdown",
   "metadata": {},
   "source": [
    "Построим ROC-кривую наилучшей модели на тестовой выборке: "
   ]
  },
  {
   "cell_type": "code",
   "execution_count": null,
   "metadata": {
    "scrolled": false
   },
   "outputs": [],
   "source": [
    "probabilities_test = rfc_model.predict_proba(features_test)\n",
    "probabilities_one_test = probabilities_test[:, 1]\n",
    "\n",
    "fpr, tpr, thresholds = roc_curve(target_test, probabilities_one_test)\n",
    "\n",
    "plt.figure(figsize = (6,6))\n",
    "\n",
    "plt.plot(fpr, tpr)# < постройте график >\n",
    "\n",
    "# ROC-кривая случайной модели (выглядит как прямая)\n",
    "plt.plot([0, 1], [0, 1], linestyle='--')\n",
    "\n",
    "plt.xlim([0.0,1.0]) # < примените функции plt.xlim() и plt.ylim(), чтобы\n",
    "plt.ylim([0.0,1.0]) #   установить границы осей от 0 до 1 >\n",
    "\n",
    "plt.xlabel('False Positive Rate')\n",
    "plt.ylabel('True Positive Rate') \n",
    "\n",
    "plt.title('ROC-кривая') \n",
    "\n",
    "plt.show()"
   ]
  },
  {
   "cell_type": "markdown",
   "metadata": {},
   "source": [
    "### Вывод\n",
    "Наилучшая метрика F1 мера равная 0,64 у модели случайного леса с подобранными оптимальными гиперпараметрами,  обученная на выборке состоящей из микса обучающей и валидационной выборки подвергнутой технике upsampling с указанием параметра class_weight. Метрика AUC- ROC у данной модели тоже  высокая и составляет 0,86. ROC кривая показывает высокое качество модели. "
   ]
  },
  {
   "cell_type": "code",
   "execution_count": null,
   "metadata": {},
   "outputs": [],
   "source": [
    "dummy_clf = DummyClassifier(strategy='stratified', random_state = 12345)\n",
    "dummy_clf.fit(features_upsampled, target_upsampled)\n",
    "predicted_test = dummy_clf.predict(features_test)\n",
    "probabilities_test = dummy_clf.predict_proba(features_test)\n",
    "probabilities_one_test = probabilities_test[:, 1]\n",
    "print(\"Константная модель c учетом upsampling на тестовой выборке\")\n",
    "print(\"F1 модели на тестовой выборке:\", f1_score(target_test, predicted_test))\n",
    "print(\"AUC-ROC модели на тестовой выборке:\", roc_auc_score(target_test, probabilities_one_test))"
   ]
  },
  {
   "cell_type": "code",
   "execution_count": null,
   "metadata": {},
   "outputs": [],
   "source": [
    "fpr, tpr, thresholds = roc_curve(target_test, probabilities_one_test)\n",
    "\n",
    "plt.figure(figsize = (6,6))\n",
    "\n",
    "plt.plot(fpr, tpr)# < постройте график >\n",
    "\n",
    "# ROC-кривая случайной модели (выглядит как прямая)\n",
    "plt.plot([0, 1], [0, 1], linestyle='--')\n",
    "\n",
    "plt.xlim([0.0,1.0]) # < примените функции plt.xlim() и plt.ylim(), чтобы\n",
    "plt.ylim([0.0,1.0]) #   установить границы осей от 0 до 1 >\n",
    "\n",
    "plt.xlabel('False Positive Rate')\n",
    "plt.ylabel('True Positive Rate') \n",
    "\n",
    "plt.title('ROC-кривая') \n",
    "\n",
    "plt.show()"
   ]
  },
  {
   "cell_type": "markdown",
   "metadata": {},
   "source": [
    "## Общий вывод: \n",
    "В данном исследовании мы:\n",
    "1. в очередной раз отработали порядок подготовки данных. \n",
    "2. С помощью различных методов подобрали наилучшие гиперпараметры для моделей.\n",
    "3. Провели проверку работы моделей на валидационной выборке и выбрали лучшиие. \n",
    "4. Устранили дисбаланс классов с помощью методов upsampling и downsampling, научились подбирать правильные параметры для функций\n",
    "5. Провели итоговое тестирование лучших моделей на тестовой выборке и узнали какие наилушие значения у F1 меры и вычислили площадь под кривой ROC. \n"
   ]
  },
  {
   "cell_type": "code",
   "execution_count": null,
   "metadata": {},
   "outputs": [],
   "source": []
  }
 ],
 "metadata": {
  "hide_input": false,
  "kernelspec": {
   "display_name": "Python 3 (ipykernel)",
   "language": "python",
   "name": "python3"
  },
  "language_info": {
   "codemirror_mode": {
    "name": "ipython",
    "version": 3
   },
   "file_extension": ".py",
   "mimetype": "text/x-python",
   "name": "python",
   "nbconvert_exporter": "python",
   "pygments_lexer": "ipython3",
   "version": "3.8.5"
  },
  "toc": {
   "base_numbering": 1,
   "nav_menu": {},
   "number_sections": true,
   "sideBar": true,
   "skip_h1_title": true,
   "title_cell": "Содержание",
   "title_sidebar": "Контент",
   "toc_cell": true,
   "toc_position": {},
   "toc_section_display": true,
   "toc_window_display": false
  },
  "varInspector": {
   "cols": {
    "lenName": 16,
    "lenType": 16,
    "lenVar": 40
   },
   "kernels_config": {
    "python": {
     "delete_cmd_postfix": "",
     "delete_cmd_prefix": "del ",
     "library": "var_list.py",
     "varRefreshCmd": "print(var_dic_list())"
    },
    "r": {
     "delete_cmd_postfix": ") ",
     "delete_cmd_prefix": "rm(",
     "library": "var_list.r",
     "varRefreshCmd": "cat(var_dic_list()) "
    }
   },
   "types_to_exclude": [
    "module",
    "function",
    "builtin_function_or_method",
    "instance",
    "_Feature"
   ],
   "window_display": false
  }
 },
 "nbformat": 4,
 "nbformat_minor": 2
}
