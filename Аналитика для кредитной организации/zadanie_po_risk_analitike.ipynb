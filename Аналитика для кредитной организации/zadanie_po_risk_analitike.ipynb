{
 "cells": [
  {
   "cell_type": "markdown",
   "id": "d5455fc0",
   "metadata": {},
   "source": [
    "# Тестовое задание по риск-аналитике\n",
    "\n",
    "## Задача 1\n",
    " - Сейчас порог отсечения для первичных клиентов (1 займ) по скорингу 200, при этом уровень просрочки 30+ (дней) составляет 22,3%. Какой порог отсечения необходимо поставить чтобы добиться уровня просрочки 30+ равным 14%.\n",
    " - Используйте шаг скорингового балла = 50\n",
    " - Поясните целесообразность этотого шага.\n",
    " -  Визуализируйте ответ\n",
    "## Задача 2\n",
    " - Найти способ снизить просрочку 90+ (дней) по всем категориям займов более чем на 70%\n",
    " - Визуализируйте ответ\"\n",
    "## Задача 3\n",
    " - Какие еще переменные из выгрузки, кроме скорингового балла, наиболее коррелируют с возвратностью первичных займов (1 займ). \n",
    " - Визуализируйте ответ\n",
    " \n",
    "\n",
    "\n",
    "## Загрузка и подготовка исходных данных\n",
    "\n",
    "\n",
    "\n",
    "### Подключение необходимых для работы библиотек\n"
   ]
  },
  {
   "cell_type": "code",
   "execution_count": 39,
   "id": "f213a453",
   "metadata": {},
   "outputs": [],
   "source": [
    "#Импортиуем библиотеки для работы с данными \n",
    "import pandas as pd\n",
    "import numpy as np\n",
    "#Импортируем бибилиотtrb для построения графиков\n",
    "import matplotlib.pyplot as plt \n",
    "import matplotlib.ticker as tck\n",
    "import seaborn as sns\n",
    "# Импортируем прочий функционал\n",
    "import timeit\n",
    "from IPython.core.display import HTML\n",
    "from IPython.core.interactiveshell import InteractiveShell\n",
    "\n",
    "# Задаем опцию отображения результатов расчетов в ячейках\n",
    "pd.options.mode.chained_assignment = None\n",
    "\n",
    "# Задаем формат отображения чисел с плавающей точкой в pandas\n",
    "pd.set_option('display.float_format', '{:,.2f}'.format) \n",
    "\n",
    "# Задаем стиль графиков seaborn\n",
    "sns.set_style('darkgrid')"
   ]
  },
  {
   "cell_type": "markdown",
   "id": "4da8daac",
   "metadata": {},
   "source": [
    "Импортируем прочий функционал: "
   ]
  },
  {
   "cell_type": "code",
   "execution_count": 3,
   "id": "cc4b7f99",
   "metadata": {},
   "outputs": [],
   "source": [
    "# Сброс ограничений на количество выводимых рядов\n",
    "pd.set_option('display.max_rows', None)\n",
    " \n",
    "# Сброс ограничений на число столбцов\n",
    "pd.set_option('display.max_columns', None)\n",
    " \n",
    "# Сброс ограничений на количество символов в записи\n",
    "pd.set_option('display.max_colwidth', None)"
   ]
  },
  {
   "cell_type": "markdown",
   "id": "88867360",
   "metadata": {},
   "source": [
    "### Создадим необходимые в работе функции: \n"
   ]
  },
  {
   "cell_type": "code",
   "execution_count": 4,
   "id": "3fed0a7a",
   "metadata": {},
   "outputs": [],
   "source": [
    "# Фунция для более удобного просмотра содержимого датафреймов:\n",
    "def df_preview(df,number_of_rows=-1):\n",
    "    if number_of_rows==-1:\n",
    "        display(HTML(df.to_html()))\n",
    "    else:    \n",
    "        display(HTML(df.head(number_of_rows).to_html()))\n",
    "        \n",
    "# Функция для удобного построения карты корреляции:        \n",
    "\n",
    "def cor_plot(df):\n",
    "    fig, ax = plt.subplots(figsize=(15,10))\n",
    "    sns.heatmap(df.corr(), cmap= sns.color_palette(palette=\"RdBu\"),linewidths=0.5,annot=True,ax=ax)\n",
    "\n",
    "# Функция для удобного построения графика(барплот):\n",
    "def bar_plot(df, x, y, title):\n",
    "        fig, ax = plt.subplots(figsize=(15,10))\n",
    "        sns.barplot(\n",
    "            data=df,\n",
    "            x=x,\n",
    "            y=y,\n",
    "            ax=ax\n",
    "        ).set_title(\n",
    "            title\n",
    "        )\n",
    "\n"
   ]
  },
  {
   "cell_type": "markdown",
   "id": "c7a360d0",
   "metadata": {},
   "source": [
    "### Загрузка и оценка исходных данных \n",
    "\n",
    "Загрузим исходные данные и произведем их качественную и визуальную оценку: \n"
   ]
  },
  {
   "cell_type": "code",
   "execution_count": 5,
   "id": "96826296",
   "metadata": {},
   "outputs": [
    {
     "name": "stdout",
     "output_type": "stream",
     "text": [
      "<class 'pandas.core.frame.DataFrame'>\n",
      "RangeIndex: 11787 entries, 0 to 11786\n",
      "Data columns (total 19 columns):\n",
      " #   Column                                               Non-Null Count  Dtype         \n",
      "---  ------                                               --------------  -----         \n",
      " 0   ID займа                                             11787 non-null  int64         \n",
      " 1   id верификатора                                      11787 non-null  int64         \n",
      " 2   Статус займа (4 - закрыт, 3 не выплачен)             11787 non-null  int64         \n",
      " 3   Дата выдачи займа                                    11787 non-null  datetime64[ns]\n",
      " 4   Дата закрытия                                        8989 non-null   datetime64[ns]\n",
      " 5   Какой по счету займ у клиента                        11787 non-null  int64         \n",
      " 6   Количество продлений срока погашения по этому займу  11787 non-null  int64         \n",
      " 7   Возраст                                              11787 non-null  float64       \n",
      " 8   Пол (0 - м, 1-ж)                                     11787 non-null  int64         \n",
      " 9   Количество детей                                     11787 non-null  int64         \n",
      " 10  Скоринговый балл Скиба                               11787 non-null  int64         \n",
      " 11  Регион проживания                                    11787 non-null  object        \n",
      " 12  Регион паспорт                                       11787 non-null  object        \n",
      " 13  Дата погашения                                       11787 non-null  datetime64[ns]\n",
      " 14  Итоговое дней просрочки                              11787 non-null  int64         \n",
      " 15  Наличие просрочки ЖКХ                                1758 non-null   float64       \n",
      " 16  Наличие просрочки по кредитным картам                5412 non-null   float64       \n",
      " 17  Наличие неоплаченных штрафов ГИБДД                   6576 non-null   float64       \n",
      " 18  Наличие производства в ФССП                          1305 non-null   float64       \n",
      "dtypes: datetime64[ns](3), float64(5), int64(9), object(2)\n",
      "memory usage: 1.7+ MB\n"
     ]
    },
    {
     "data": {
      "text/html": [
       "<table border=\"1\" class=\"dataframe\">\n",
       "  <thead>\n",
       "    <tr style=\"text-align: right;\">\n",
       "      <th></th>\n",
       "      <th>ID займа</th>\n",
       "      <th>id верификатора</th>\n",
       "      <th>Статус займа (4 - закрыт, 3 не выплачен)</th>\n",
       "      <th>Дата выдачи займа</th>\n",
       "      <th>Дата закрытия</th>\n",
       "      <th>Какой по счету займ у клиента</th>\n",
       "      <th>Количество продлений срока погашения по этому займу</th>\n",
       "      <th>Возраст</th>\n",
       "      <th>Пол (0 - м, 1-ж)</th>\n",
       "      <th>Количество детей</th>\n",
       "      <th>Скоринговый балл Скиба</th>\n",
       "      <th>Регион проживания</th>\n",
       "      <th>Регион паспорт</th>\n",
       "      <th>Дата погашения</th>\n",
       "      <th>Итоговое дней просрочки</th>\n",
       "      <th>Наличие просрочки ЖКХ</th>\n",
       "      <th>Наличие просрочки по кредитным картам</th>\n",
       "      <th>Наличие неоплаченных штрафов ГИБДД</th>\n",
       "      <th>Наличие производства в ФССП</th>\n",
       "    </tr>\n",
       "  </thead>\n",
       "  <tbody>\n",
       "    <tr>\n",
       "      <th>0</th>\n",
       "      <td>1</td>\n",
       "      <td>3</td>\n",
       "      <td>3</td>\n",
       "      <td>2019-09-24 14:37:56</td>\n",
       "      <td>NaT</td>\n",
       "      <td>3</td>\n",
       "      <td>1</td>\n",
       "      <td>32.42</td>\n",
       "      <td>0</td>\n",
       "      <td>1</td>\n",
       "      <td>183</td>\n",
       "      <td>Самарская обл.</td>\n",
       "      <td>Самарская обл.</td>\n",
       "      <td>2019-11-19</td>\n",
       "      <td>115</td>\n",
       "      <td>1.00</td>\n",
       "      <td>NaN</td>\n",
       "      <td>1.00</td>\n",
       "      <td>NaN</td>\n",
       "    </tr>\n",
       "    <tr>\n",
       "      <th>1</th>\n",
       "      <td>2</td>\n",
       "      <td>20</td>\n",
       "      <td>4</td>\n",
       "      <td>2019-09-24 15:08:01</td>\n",
       "      <td>2019-10-06 16:54:28</td>\n",
       "      <td>4</td>\n",
       "      <td>0</td>\n",
       "      <td>39.73</td>\n",
       "      <td>1</td>\n",
       "      <td>2</td>\n",
       "      <td>222</td>\n",
       "      <td>Московская обл.</td>\n",
       "      <td>Московская обл.</td>\n",
       "      <td>2019-10-06</td>\n",
       "      <td>0</td>\n",
       "      <td>NaN</td>\n",
       "      <td>NaN</td>\n",
       "      <td>NaN</td>\n",
       "      <td>1.00</td>\n",
       "    </tr>\n",
       "    <tr>\n",
       "      <th>2</th>\n",
       "      <td>3</td>\n",
       "      <td>3</td>\n",
       "      <td>4</td>\n",
       "      <td>2019-09-24 15:16:11</td>\n",
       "      <td>2019-11-13 19:16:09</td>\n",
       "      <td>10</td>\n",
       "      <td>0</td>\n",
       "      <td>43.51</td>\n",
       "      <td>1</td>\n",
       "      <td>1</td>\n",
       "      <td>422</td>\n",
       "      <td>Курская обл.</td>\n",
       "      <td>Курская обл.</td>\n",
       "      <td>2019-10-23</td>\n",
       "      <td>21</td>\n",
       "      <td>NaN</td>\n",
       "      <td>1.00</td>\n",
       "      <td>NaN</td>\n",
       "      <td>NaN</td>\n",
       "    </tr>\n",
       "    <tr>\n",
       "      <th>3</th>\n",
       "      <td>4</td>\n",
       "      <td>97</td>\n",
       "      <td>4</td>\n",
       "      <td>2019-09-24 15:25:08</td>\n",
       "      <td>2019-10-02 15:02:18</td>\n",
       "      <td>1</td>\n",
       "      <td>0</td>\n",
       "      <td>30.70</td>\n",
       "      <td>1</td>\n",
       "      <td>1</td>\n",
       "      <td>142</td>\n",
       "      <td>Мурманская обл.</td>\n",
       "      <td>Мурманская обл.</td>\n",
       "      <td>2019-10-02</td>\n",
       "      <td>0</td>\n",
       "      <td>NaN</td>\n",
       "      <td>1.00</td>\n",
       "      <td>NaN</td>\n",
       "      <td>1.00</td>\n",
       "    </tr>\n",
       "    <tr>\n",
       "      <th>4</th>\n",
       "      <td>5</td>\n",
       "      <td>97</td>\n",
       "      <td>4</td>\n",
       "      <td>2019-09-24 15:35:12</td>\n",
       "      <td>2019-10-29 10:44:37</td>\n",
       "      <td>1</td>\n",
       "      <td>0</td>\n",
       "      <td>37.00</td>\n",
       "      <td>0</td>\n",
       "      <td>2</td>\n",
       "      <td>441</td>\n",
       "      <td>Краснодарский край</td>\n",
       "      <td>Краснодарский край</td>\n",
       "      <td>2019-10-24</td>\n",
       "      <td>5</td>\n",
       "      <td>NaN</td>\n",
       "      <td>1.00</td>\n",
       "      <td>1.00</td>\n",
       "      <td>NaN</td>\n",
       "    </tr>\n",
       "    <tr>\n",
       "      <th>5</th>\n",
       "      <td>6</td>\n",
       "      <td>20</td>\n",
       "      <td>3</td>\n",
       "      <td>2019-09-24 15:40:37</td>\n",
       "      <td>NaT</td>\n",
       "      <td>2</td>\n",
       "      <td>0</td>\n",
       "      <td>22.92</td>\n",
       "      <td>1</td>\n",
       "      <td>0</td>\n",
       "      <td>181</td>\n",
       "      <td>Алтайский край</td>\n",
       "      <td>Алтайский край</td>\n",
       "      <td>2019-10-24</td>\n",
       "      <td>141</td>\n",
       "      <td>NaN</td>\n",
       "      <td>NaN</td>\n",
       "      <td>1.00</td>\n",
       "      <td>NaN</td>\n",
       "    </tr>\n",
       "    <tr>\n",
       "      <th>6</th>\n",
       "      <td>7</td>\n",
       "      <td>157</td>\n",
       "      <td>4</td>\n",
       "      <td>2019-09-24 15:45:14</td>\n",
       "      <td>2019-10-02 11:17:42</td>\n",
       "      <td>1</td>\n",
       "      <td>0</td>\n",
       "      <td>36.25</td>\n",
       "      <td>1</td>\n",
       "      <td>2</td>\n",
       "      <td>215</td>\n",
       "      <td>Пермский край</td>\n",
       "      <td>Пермский край</td>\n",
       "      <td>2019-10-08</td>\n",
       "      <td>0</td>\n",
       "      <td>NaN</td>\n",
       "      <td>NaN</td>\n",
       "      <td>NaN</td>\n",
       "      <td>NaN</td>\n",
       "    </tr>\n",
       "    <tr>\n",
       "      <th>7</th>\n",
       "      <td>8</td>\n",
       "      <td>20</td>\n",
       "      <td>4</td>\n",
       "      <td>2019-09-24 15:48:27</td>\n",
       "      <td>2019-09-26 09:24:52</td>\n",
       "      <td>3</td>\n",
       "      <td>0</td>\n",
       "      <td>29.04</td>\n",
       "      <td>1</td>\n",
       "      <td>1</td>\n",
       "      <td>142</td>\n",
       "      <td>Красноярский край</td>\n",
       "      <td>Красноярский край</td>\n",
       "      <td>2019-10-06</td>\n",
       "      <td>0</td>\n",
       "      <td>NaN</td>\n",
       "      <td>NaN</td>\n",
       "      <td>NaN</td>\n",
       "      <td>NaN</td>\n",
       "    </tr>\n",
       "    <tr>\n",
       "      <th>8</th>\n",
       "      <td>9</td>\n",
       "      <td>3</td>\n",
       "      <td>4</td>\n",
       "      <td>2019-09-24 15:57:25</td>\n",
       "      <td>2019-11-02 13:02:44</td>\n",
       "      <td>3</td>\n",
       "      <td>1</td>\n",
       "      <td>34.27</td>\n",
       "      <td>1</td>\n",
       "      <td>1</td>\n",
       "      <td>150</td>\n",
       "      <td>Кемеровская обл.</td>\n",
       "      <td>Кемеровская обл.</td>\n",
       "      <td>2019-10-27</td>\n",
       "      <td>0</td>\n",
       "      <td>NaN</td>\n",
       "      <td>1.00</td>\n",
       "      <td>NaN</td>\n",
       "      <td>NaN</td>\n",
       "    </tr>\n",
       "    <tr>\n",
       "      <th>9</th>\n",
       "      <td>10</td>\n",
       "      <td>20</td>\n",
       "      <td>4</td>\n",
       "      <td>2019-09-24 15:58:17</td>\n",
       "      <td>2019-10-21 16:16:22</td>\n",
       "      <td>2</td>\n",
       "      <td>1</td>\n",
       "      <td>46.00</td>\n",
       "      <td>1</td>\n",
       "      <td>0</td>\n",
       "      <td>156</td>\n",
       "      <td>Свердловская обл.</td>\n",
       "      <td>Свердловская обл.</td>\n",
       "      <td>2019-10-21</td>\n",
       "      <td>0</td>\n",
       "      <td>NaN</td>\n",
       "      <td>1.00</td>\n",
       "      <td>NaN</td>\n",
       "      <td>NaN</td>\n",
       "    </tr>\n",
       "  </tbody>\n",
       "</table>"
      ],
      "text/plain": [
       "<IPython.core.display.HTML object>"
      ]
     },
     "metadata": {},
     "output_type": "display_data"
    }
   ],
   "source": [
    "data = pd.read_excel(\n",
    "    r'H:\\Тестовые по поиску работы\\Риск-аналитик\\test_task.xlsx',\n",
    "    sheet_name='Займы')\n",
    "\n",
    "data.info()\n",
    "df_preview(data, 10)"
   ]
  },
  {
   "cell_type": "markdown",
   "id": "64ac71ab",
   "metadata": {},
   "source": [
    "При первом взгляде на данные, сразу бросается в глаза: \n",
    " - названия столбцов приведены на русском языке\n",
    " - названия столбцов приведены с большой буквы\n",
    " - названия столбцов приведены на русском языке\n",
    " - названия включают нежелательные знаки(скобки, тире, пробелы) \n",
    "\n",
    "Имеются несоответствующие типы данных для столбцов: \n",
    " - столбец \"Возраст\" имеет тип данных float64, его необходимо перевести в int64\n",
    "\n",
    "Имеются пропуски в категориальных признаках, а именно в столбцах: \n",
    " - Наличие просрочки ЖКХ\n",
    " - Наличие просрочки по кредитным картам\n",
    " - Наличие неоплаченных штрафов ГИБДД\n",
    " - Наличие производства в ФССП\n",
    "    \n",
    "Произведем обработку выявленных проблем в данных: \n",
    "\n",
    "###  Перобработка данных\n",
    "\n",
    "Для того, чтобы разом изправить все проблемы в названиях столбцов изменим их на правильные: \n"
   ]
  },
  {
   "cell_type": "code",
   "execution_count": 6,
   "id": "90765a5a",
   "metadata": {},
   "outputs": [
    {
     "data": {
      "text/html": [
       "<table border=\"1\" class=\"dataframe\">\n",
       "  <thead>\n",
       "    <tr style=\"text-align: right;\">\n",
       "      <th></th>\n",
       "      <th>id_credit</th>\n",
       "      <th>id_verificator</th>\n",
       "      <th>credit_status</th>\n",
       "      <th>date_open_credit</th>\n",
       "      <th>date_close_credit</th>\n",
       "      <th>number_of_credit</th>\n",
       "      <th>number_of_prolong</th>\n",
       "      <th>age</th>\n",
       "      <th>gender</th>\n",
       "      <th>number_of_children</th>\n",
       "      <th>scoring_point_skiba</th>\n",
       "      <th>region_of_live</th>\n",
       "      <th>passport_region</th>\n",
       "      <th>maturity_date</th>\n",
       "      <th>day_of_delay</th>\n",
       "      <th>delay_gkh</th>\n",
       "      <th>delay_credit_card</th>\n",
       "      <th>delay_gibdd</th>\n",
       "      <th>delay_fssp</th>\n",
       "    </tr>\n",
       "  </thead>\n",
       "  <tbody>\n",
       "    <tr>\n",
       "      <th>0</th>\n",
       "      <td>1</td>\n",
       "      <td>3</td>\n",
       "      <td>3</td>\n",
       "      <td>2019-09-24 14:37:56</td>\n",
       "      <td>NaT</td>\n",
       "      <td>3</td>\n",
       "      <td>1</td>\n",
       "      <td>32.42</td>\n",
       "      <td>0</td>\n",
       "      <td>1</td>\n",
       "      <td>183</td>\n",
       "      <td>Самарская обл.</td>\n",
       "      <td>Самарская обл.</td>\n",
       "      <td>2019-11-19</td>\n",
       "      <td>115</td>\n",
       "      <td>1.00</td>\n",
       "      <td>NaN</td>\n",
       "      <td>1.00</td>\n",
       "      <td>NaN</td>\n",
       "    </tr>\n",
       "    <tr>\n",
       "      <th>1</th>\n",
       "      <td>2</td>\n",
       "      <td>20</td>\n",
       "      <td>4</td>\n",
       "      <td>2019-09-24 15:08:01</td>\n",
       "      <td>2019-10-06 16:54:28</td>\n",
       "      <td>4</td>\n",
       "      <td>0</td>\n",
       "      <td>39.73</td>\n",
       "      <td>1</td>\n",
       "      <td>2</td>\n",
       "      <td>222</td>\n",
       "      <td>Московская обл.</td>\n",
       "      <td>Московская обл.</td>\n",
       "      <td>2019-10-06</td>\n",
       "      <td>0</td>\n",
       "      <td>NaN</td>\n",
       "      <td>NaN</td>\n",
       "      <td>NaN</td>\n",
       "      <td>1.00</td>\n",
       "    </tr>\n",
       "    <tr>\n",
       "      <th>2</th>\n",
       "      <td>3</td>\n",
       "      <td>3</td>\n",
       "      <td>4</td>\n",
       "      <td>2019-09-24 15:16:11</td>\n",
       "      <td>2019-11-13 19:16:09</td>\n",
       "      <td>10</td>\n",
       "      <td>0</td>\n",
       "      <td>43.51</td>\n",
       "      <td>1</td>\n",
       "      <td>1</td>\n",
       "      <td>422</td>\n",
       "      <td>Курская обл.</td>\n",
       "      <td>Курская обл.</td>\n",
       "      <td>2019-10-23</td>\n",
       "      <td>21</td>\n",
       "      <td>NaN</td>\n",
       "      <td>1.00</td>\n",
       "      <td>NaN</td>\n",
       "      <td>NaN</td>\n",
       "    </tr>\n",
       "  </tbody>\n",
       "</table>"
      ],
      "text/plain": [
       "<IPython.core.display.HTML object>"
      ]
     },
     "metadata": {},
     "output_type": "display_data"
    }
   ],
   "source": [
    "data = data.set_axis(\n",
    "    [\n",
    "        'id_credit',\n",
    "        'id_verificator',            \n",
    "        'credit_status',\n",
    "        'date_open_credit',\n",
    "        'date_close_credit',\n",
    "        'number_of_credit',\n",
    "        'number_of_prolong',\n",
    "        'age',\n",
    "        'gender',\n",
    "        'number_of_children',\n",
    "        'scoring_point_skiba',\n",
    "        'region_of_live',\n",
    "        'passport_region',\n",
    "        'maturity_date',\n",
    "        'day_of_delay',\n",
    "        'delay_gkh', \n",
    "        'delay_credit_card',\n",
    "        'delay_gibdd',\n",
    "        'delay_fssp' \n",
    "    ],\n",
    "    axis = 'columns'\n",
    "    )\n",
    "df_preview(data, 3)"
   ]
  },
  {
   "cell_type": "markdown",
   "id": "b8ba0a3f",
   "metadata": {},
   "source": [
    "Как видно из полученных данных, замена названий столбцов прошла успешно. \n",
    "\n",
    "### Замена типов данных столбца\n",
    "\n",
    "Пришло время изменить тип данных в столбце с возрастом."
   ]
  },
  {
   "cell_type": "code",
   "execution_count": 7,
   "id": "af3e9b34",
   "metadata": {},
   "outputs": [
    {
     "data": {
      "text/html": [
       "<table border=\"1\" class=\"dataframe\">\n",
       "  <thead>\n",
       "    <tr style=\"text-align: right;\">\n",
       "      <th></th>\n",
       "      <th>id_credit</th>\n",
       "      <th>id_verificator</th>\n",
       "      <th>credit_status</th>\n",
       "      <th>date_open_credit</th>\n",
       "      <th>date_close_credit</th>\n",
       "      <th>number_of_credit</th>\n",
       "      <th>number_of_prolong</th>\n",
       "      <th>age</th>\n",
       "      <th>gender</th>\n",
       "      <th>number_of_children</th>\n",
       "      <th>scoring_point_skiba</th>\n",
       "      <th>region_of_live</th>\n",
       "      <th>passport_region</th>\n",
       "      <th>maturity_date</th>\n",
       "      <th>day_of_delay</th>\n",
       "      <th>delay_gkh</th>\n",
       "      <th>delay_credit_card</th>\n",
       "      <th>delay_gibdd</th>\n",
       "      <th>delay_fssp</th>\n",
       "    </tr>\n",
       "  </thead>\n",
       "  <tbody>\n",
       "    <tr>\n",
       "      <th>0</th>\n",
       "      <td>1</td>\n",
       "      <td>3</td>\n",
       "      <td>3</td>\n",
       "      <td>2019-09-24 14:37:56</td>\n",
       "      <td>NaT</td>\n",
       "      <td>3</td>\n",
       "      <td>1</td>\n",
       "      <td>32</td>\n",
       "      <td>0</td>\n",
       "      <td>1</td>\n",
       "      <td>183</td>\n",
       "      <td>Самарская обл.</td>\n",
       "      <td>Самарская обл.</td>\n",
       "      <td>2019-11-19</td>\n",
       "      <td>115</td>\n",
       "      <td>1.00</td>\n",
       "      <td>NaN</td>\n",
       "      <td>1.00</td>\n",
       "      <td>NaN</td>\n",
       "    </tr>\n",
       "    <tr>\n",
       "      <th>1</th>\n",
       "      <td>2</td>\n",
       "      <td>20</td>\n",
       "      <td>4</td>\n",
       "      <td>2019-09-24 15:08:01</td>\n",
       "      <td>2019-10-06 16:54:28</td>\n",
       "      <td>4</td>\n",
       "      <td>0</td>\n",
       "      <td>39</td>\n",
       "      <td>1</td>\n",
       "      <td>2</td>\n",
       "      <td>222</td>\n",
       "      <td>Московская обл.</td>\n",
       "      <td>Московская обл.</td>\n",
       "      <td>2019-10-06</td>\n",
       "      <td>0</td>\n",
       "      <td>NaN</td>\n",
       "      <td>NaN</td>\n",
       "      <td>NaN</td>\n",
       "      <td>1.00</td>\n",
       "    </tr>\n",
       "    <tr>\n",
       "      <th>2</th>\n",
       "      <td>3</td>\n",
       "      <td>3</td>\n",
       "      <td>4</td>\n",
       "      <td>2019-09-24 15:16:11</td>\n",
       "      <td>2019-11-13 19:16:09</td>\n",
       "      <td>10</td>\n",
       "      <td>0</td>\n",
       "      <td>43</td>\n",
       "      <td>1</td>\n",
       "      <td>1</td>\n",
       "      <td>422</td>\n",
       "      <td>Курская обл.</td>\n",
       "      <td>Курская обл.</td>\n",
       "      <td>2019-10-23</td>\n",
       "      <td>21</td>\n",
       "      <td>NaN</td>\n",
       "      <td>1.00</td>\n",
       "      <td>NaN</td>\n",
       "      <td>NaN</td>\n",
       "    </tr>\n",
       "  </tbody>\n",
       "</table>"
      ],
      "text/plain": [
       "<IPython.core.display.HTML object>"
      ]
     },
     "metadata": {},
     "output_type": "display_data"
    }
   ],
   "source": [
    "data.age = data.age.astype(int)\n",
    "df_preview(data, 3)"
   ]
  },
  {
   "cell_type": "markdown",
   "id": "c686e897",
   "metadata": {},
   "source": [
    "Заполним недастающие данные в столбцах. Недостоющие значения в категориальных столбцах заменим на 0(ноль) так как, при их заполнении 1(единица) ставилась при наличии у заемщика условия. При отсутствии условия поле оставлялось пустым. Поэтому заполнение пропусков нулями - в данном случае предпочтительно. "
   ]
  },
  {
   "cell_type": "code",
   "execution_count": 8,
   "id": "bcea36c0",
   "metadata": {},
   "outputs": [
    {
     "name": "stdout",
     "output_type": "stream",
     "text": [
      "<class 'pandas.core.frame.DataFrame'>\n",
      "RangeIndex: 11787 entries, 0 to 11786\n",
      "Data columns (total 19 columns):\n",
      " #   Column               Non-Null Count  Dtype         \n",
      "---  ------               --------------  -----         \n",
      " 0   id_credit            11787 non-null  int64         \n",
      " 1   id_verificator       11787 non-null  int64         \n",
      " 2   credit_status        11787 non-null  int64         \n",
      " 3   date_open_credit     11787 non-null  datetime64[ns]\n",
      " 4   date_close_credit    11787 non-null  object        \n",
      " 5   number_of_credit     11787 non-null  int64         \n",
      " 6   number_of_prolong    11787 non-null  int64         \n",
      " 7   age                  11787 non-null  int32         \n",
      " 8   gender               11787 non-null  int64         \n",
      " 9   number_of_children   11787 non-null  int64         \n",
      " 10  scoring_point_skiba  11787 non-null  int64         \n",
      " 11  region_of_live       11787 non-null  object        \n",
      " 12  passport_region      11787 non-null  object        \n",
      " 13  maturity_date        11787 non-null  datetime64[ns]\n",
      " 14  day_of_delay         11787 non-null  int64         \n",
      " 15  delay_gkh            11787 non-null  float64       \n",
      " 16  delay_credit_card    11787 non-null  float64       \n",
      " 17  delay_gibdd          11787 non-null  float64       \n",
      " 18  delay_fssp           11787 non-null  float64       \n",
      "dtypes: datetime64[ns](2), float64(4), int32(1), int64(9), object(3)\n",
      "memory usage: 1.7+ MB\n"
     ]
    }
   ],
   "source": [
    "data = data.fillna(0)\n",
    "data.info(0)"
   ]
  },
  {
   "cell_type": "code",
   "execution_count": 9,
   "id": "551716e3",
   "metadata": {},
   "outputs": [
    {
     "data": {
      "text/html": [
       "<table border=\"1\" class=\"dataframe\">\n",
       "  <thead>\n",
       "    <tr style=\"text-align: right;\">\n",
       "      <th></th>\n",
       "      <th>id_credit</th>\n",
       "      <th>id_verificator</th>\n",
       "      <th>credit_status</th>\n",
       "      <th>date_open_credit</th>\n",
       "      <th>date_close_credit</th>\n",
       "      <th>number_of_credit</th>\n",
       "      <th>number_of_prolong</th>\n",
       "      <th>age</th>\n",
       "      <th>gender</th>\n",
       "      <th>number_of_children</th>\n",
       "      <th>scoring_point_skiba</th>\n",
       "      <th>region_of_live</th>\n",
       "      <th>passport_region</th>\n",
       "      <th>maturity_date</th>\n",
       "      <th>day_of_delay</th>\n",
       "      <th>delay_gkh</th>\n",
       "      <th>delay_credit_card</th>\n",
       "      <th>delay_gibdd</th>\n",
       "      <th>delay_fssp</th>\n",
       "    </tr>\n",
       "  </thead>\n",
       "  <tbody>\n",
       "    <tr>\n",
       "      <th>0</th>\n",
       "      <td>1</td>\n",
       "      <td>3</td>\n",
       "      <td>3</td>\n",
       "      <td>2019-09-24 14:37:56</td>\n",
       "      <td>0</td>\n",
       "      <td>3</td>\n",
       "      <td>1</td>\n",
       "      <td>32</td>\n",
       "      <td>0</td>\n",
       "      <td>1</td>\n",
       "      <td>183</td>\n",
       "      <td>Самарская обл.</td>\n",
       "      <td>Самарская обл.</td>\n",
       "      <td>2019-11-19</td>\n",
       "      <td>115</td>\n",
       "      <td>1.00</td>\n",
       "      <td>0.00</td>\n",
       "      <td>1.00</td>\n",
       "      <td>0.00</td>\n",
       "    </tr>\n",
       "    <tr>\n",
       "      <th>1</th>\n",
       "      <td>2</td>\n",
       "      <td>20</td>\n",
       "      <td>4</td>\n",
       "      <td>2019-09-24 15:08:01</td>\n",
       "      <td>2019-10-06 16:54:28</td>\n",
       "      <td>4</td>\n",
       "      <td>0</td>\n",
       "      <td>39</td>\n",
       "      <td>1</td>\n",
       "      <td>2</td>\n",
       "      <td>222</td>\n",
       "      <td>Московская обл.</td>\n",
       "      <td>Московская обл.</td>\n",
       "      <td>2019-10-06</td>\n",
       "      <td>0</td>\n",
       "      <td>0.00</td>\n",
       "      <td>0.00</td>\n",
       "      <td>0.00</td>\n",
       "      <td>1.00</td>\n",
       "    </tr>\n",
       "    <tr>\n",
       "      <th>2</th>\n",
       "      <td>3</td>\n",
       "      <td>3</td>\n",
       "      <td>4</td>\n",
       "      <td>2019-09-24 15:16:11</td>\n",
       "      <td>2019-11-13 19:16:09</td>\n",
       "      <td>10</td>\n",
       "      <td>0</td>\n",
       "      <td>43</td>\n",
       "      <td>1</td>\n",
       "      <td>1</td>\n",
       "      <td>422</td>\n",
       "      <td>Курская обл.</td>\n",
       "      <td>Курская обл.</td>\n",
       "      <td>2019-10-23</td>\n",
       "      <td>21</td>\n",
       "      <td>0.00</td>\n",
       "      <td>1.00</td>\n",
       "      <td>0.00</td>\n",
       "      <td>0.00</td>\n",
       "    </tr>\n",
       "  </tbody>\n",
       "</table>"
      ],
      "text/plain": [
       "<IPython.core.display.HTML object>"
      ]
     },
     "metadata": {},
     "output_type": "display_data"
    }
   ],
   "source": [
    "df_preview(data, 3)"
   ]
  },
  {
   "cell_type": "markdown",
   "id": "5f31cb9b",
   "metadata": {},
   "source": [
    "Как видно из приведенных данных - пропуски заполненны. Проверим данные на наличие неявных дублей. У нас два столбца в которых возможно их появление - регион проживания и регион прописки: \n"
   ]
  },
  {
   "cell_type": "code",
   "execution_count": 10,
   "id": "43a8ba16",
   "metadata": {
    "scrolled": true
   },
   "outputs": [
    {
     "data": {
      "text/plain": [
       "69                  Адыгея респ.\n",
       "32                   Алтай респ.\n",
       "5                 Алтайский край\n",
       "71                 Амурская обл.\n",
       "13            Архангельская обл.\n",
       "67             Астраханская обл.\n",
       "21            Башкортостан респ.\n",
       "37             Белгородская обл.\n",
       "39                 Брянская обл.\n",
       "40                 Бурятия респ.\n",
       "63             Владимирская обл.\n",
       "15            Волгоградская обл.\n",
       "66              Вологодская обл.\n",
       "31              Воронежская обл.\n",
       "78                Дагестан респ.\n",
       "80                Еврейская а.о.\n",
       "23            Забайкальский край\n",
       "60               Ивановская обл.\n",
       "24                Иркутская обл.\n",
       "79      Кабардино-Балкария респ.\n",
       "64          Калининградская обл.\n",
       "22                Калмыкия респ.\n",
       "27                Калужская обл.\n",
       "74               Камчатский край\n",
       "43    Карачаево-Черкесская респ.\n",
       "48                 Карелия респ.\n",
       "8               Кемеровская обл.\n",
       "61                Кировская обл.\n",
       "36                    Коми респ.\n",
       "76              Костромская обл.\n",
       "4             Краснодарский край\n",
       "7              Красноярский край\n",
       "19                    Крым респ.\n",
       "59               Курганская обл.\n",
       "2                   Курская обл.\n",
       "56            Ленинградская обл.\n",
       "28                 Липецкая обл.\n",
       "81              Магаданская обл.\n",
       "53                Марий Эл респ.\n",
       "20                Мордовия респ.\n",
       "14                        Москва\n",
       "1                Московская обл.\n",
       "3                Мурманская обл.\n",
       "82                     Не указан\n",
       "83                 Ненецкий а.о.\n",
       "17            Нижегородская обл.\n",
       "62             Новгородская обл.\n",
       "55            Новосибирская обл.\n",
       "25                   Омская обл.\n",
       "29             Оренбургская обл.\n",
       "68                Орловская обл.\n",
       "65               Пензенская обл.\n",
       "6                  Пермский край\n",
       "26               Приморский край\n",
       "49                Псковская обл.\n",
       "33               Ростовская обл.\n",
       "18                Рязанская обл.\n",
       "0                 Самарская обл.\n",
       "10               Санкт-Петербург\n",
       "38              Саратовская обл.\n",
       "45            Саха(Якутия) респ.\n",
       "57              Сахалинская обл.\n",
       "9              Свердловская обл.\n",
       "75                   Севастополь\n",
       "41               Смоленская обл.\n",
       "11           Ставропольский край\n",
       "72               Тамбовская обл.\n",
       "12               Татарстан респ.\n",
       "58                 Тверская обл.\n",
       "30                  Томская обл.\n",
       "52                 Тульская обл.\n",
       "73                    Тыва респ.\n",
       "42                Тюменская обл.\n",
       "44                Удмуртия респ.\n",
       "47              Ульяновская обл.\n",
       "54              Хабаровский край\n",
       "50                 Хакасия респ.\n",
       "46         Ханты-Мансийский а.о.\n",
       "16              Челябинская обл.\n",
       "34               Чеченская респ.\n",
       "51               Чувашская респ.\n",
       "77                Чукотский а.о.\n",
       "70           Ямало-Ненецкий а.о.\n",
       "35              Ярославская обл.\n",
       "dtype: object"
      ]
     },
     "execution_count": 10,
     "metadata": {},
     "output_type": "execute_result"
    }
   ],
   "source": [
    "pd.Series(data['region_of_live'].unique()).sort_values()"
   ]
  },
  {
   "cell_type": "markdown",
   "id": "ff337974",
   "metadata": {},
   "source": [
    "В столбце - с регионом проживания неявных дублей нет. Проверим столбец с регионом прописки таким же методом. \n"
   ]
  },
  {
   "cell_type": "code",
   "execution_count": 11,
   "id": "7ca8dcbe",
   "metadata": {
    "scrolled": true
   },
   "outputs": [
    {
     "data": {
      "text/plain": [
       "73                  Адыгея респ.\n",
       "35                   Алтай респ.\n",
       "5                 Алтайский край\n",
       "76                 Амурская обл.\n",
       "13            Архангельская обл.\n",
       "72             Астраханская обл.\n",
       "22            Башкортостан респ.\n",
       "40             Белгородская обл.\n",
       "41                 Брянская обл.\n",
       "42                 Бурятия респ.\n",
       "30             Владимирская обл.\n",
       "16            Волгоградская обл.\n",
       "69              Вологодская обл.\n",
       "34              Воронежская обл.\n",
       "79                Дагестан респ.\n",
       "26                Еврейская а.о.\n",
       "24            Забайкальский край\n",
       "64               Ивановская обл.\n",
       "25                Иркутская обл.\n",
       "50      Кабардино-Балкария респ.\n",
       "68          Калининградская обл.\n",
       "23                Калмыкия респ.\n",
       "29                Калужская обл.\n",
       "75               Камчатский край\n",
       "46    Карачаево-Черкесская респ.\n",
       "52                 Карелия респ.\n",
       "8               Кемеровская обл.\n",
       "65                Кировская обл.\n",
       "39                    Коми респ.\n",
       "78              Костромская обл.\n",
       "4             Краснодарский край\n",
       "7              Красноярский край\n",
       "20                    Крым респ.\n",
       "62               Курганская обл.\n",
       "2                   Курская обл.\n",
       "60            Ленинградская обл.\n",
       "31                 Липецкая обл.\n",
       "82              Магаданская обл.\n",
       "57                Марий Эл респ.\n",
       "21                Мордовия респ.\n",
       "15                        Москва\n",
       "1                Московская обл.\n",
       "3                Мурманская обл.\n",
       "80                     Не указан\n",
       "81                 Ненецкий а.о.\n",
       "18            Нижегородская обл.\n",
       "66             Новгородская обл.\n",
       "59            Новосибирская обл.\n",
       "27                   Омская обл.\n",
       "32             Оренбургская обл.\n",
       "49                Орловская обл.\n",
       "44               Пензенская обл.\n",
       "6                  Пермский край\n",
       "14               Приморский край\n",
       "53                Псковская обл.\n",
       "36               Ростовская обл.\n",
       "19                Рязанская обл.\n",
       "0                 Самарская обл.\n",
       "10               Санкт-Петербург\n",
       "28              Саратовская обл.\n",
       "48            Саха(Якутия) респ.\n",
       "67              Сахалинская обл.\n",
       "9              Свердловская обл.\n",
       "77                   Севастополь\n",
       "43               Смоленская обл.\n",
       "11           Ставропольский край\n",
       "70               Тамбовская обл.\n",
       "12               Татарстан респ.\n",
       "61                 Тверская обл.\n",
       "33                  Томская обл.\n",
       "56                 Тульская обл.\n",
       "74                    Тыва респ.\n",
       "45                Тюменская обл.\n",
       "47                Удмуртия респ.\n",
       "51              Ульяновская обл.\n",
       "58              Хабаровский край\n",
       "54                 Хакасия респ.\n",
       "63         Ханты-Мансийский а.о.\n",
       "17              Челябинская обл.\n",
       "37               Чеченская респ.\n",
       "55               Чувашская респ.\n",
       "83                Чукотский а.о.\n",
       "71           Ямало-Ненецкий а.о.\n",
       "38              Ярославская обл.\n",
       "dtype: object"
      ]
     },
     "execution_count": 11,
     "metadata": {},
     "output_type": "execute_result"
    }
   ],
   "source": [
    "pd.Series(data['passport_region'].unique()).sort_values()"
   ]
  },
  {
   "cell_type": "markdown",
   "id": "cc9efbd0",
   "metadata": {},
   "source": [
    "Как видно из приведенных выше данных - неявных дублей в столбцах нет. \n",
    "\n",
    "#### Вывод: \n",
    "Мы произвели предобработку данных в ходе которой: \n",
    "- изменили названия столбцов на более удобные для работы\n",
    "- изменили тип данных столбца на правильный\n",
    "- заполнили недастающие данные в столбцах\n",
    "- проверили данные на наличие неявных дублей.\n",
    "\n",
    "Пришло время изучить данные: \n",
    "\n",
    "## Анализ данных\n",
    "### Проверка корреляции данных в отдельных столбцах\n",
    "Построим график характеризующий корреляцию столбцов в нашем датафрейме: "
   ]
  },
  {
   "cell_type": "code",
   "execution_count": 12,
   "id": "e896defc",
   "metadata": {},
   "outputs": [
    {
     "data": {
      "image/png": "[encoded data removed]",
      "text/plain": [
       "<Figure size 1080x720 with 2 Axes>"
      ]
     },
     "metadata": {},
     "output_type": "display_data"
    }
   ],
   "source": [
    "cor_plot(data)"
   ]
  },
  {
   "cell_type": "markdown",
   "id": "d58e6fc6",
   "metadata": {},
   "source": [
    "Как видно из приведенного выше графика - все очень интересно, но не понятно.В сухом остатке: \n",
    "- Штрафы ГИБДД отрицательно коррелируют с полом - у нас два значения. То есть количество штрафов ожидаемо больше у мужской части населения. \n",
    "- отрицательная корреляция(то есть с увеличением одного признака - другой уменьшается) наблюдается у статуса предита(закрыт или нет) \n",
    "- также существует отрицательная корреляция со статусом кредита и долгами по ЖКХ(Потому как, человек в просрочке как правило отказывается от всех обязательных платежей) \n",
    "- Имется также корреляция между id кредита и просрочкой и долгами по ЖКХ, но смысловой нагрузки этот момент не несет. \n",
    "\n",
    "Теперь попробуем решить задачу № 1 \n",
    "\n",
    "## Задача 1\n",
    "- Сейчас порог отсечения для первичных клиентов (1 займ) по скорингу 200, при этом уровень просрочки 30+ (дней) составляет 22,3%. Какой порог отсечения необходимо поставить чтобы добиться уровня просрочки 30+ равным 14%.\n",
    "- Используйте шаг скорингового балла = 50\n",
    "- Поясните целесообразность этотого шага.\n",
    "- Визуализируйте ответ\n",
    "\n",
    "Сперва создадим срез данных для оценки первичных займов: \n"
   ]
  },
  {
   "cell_type": "code",
   "execution_count": 13,
   "id": "b4637232",
   "metadata": {},
   "outputs": [
    {
     "name": "stdout",
     "output_type": "stream",
     "text": [
      "<class 'pandas.core.frame.DataFrame'>\n",
      "Int64Index: 5030 entries, 3 to 11786\n",
      "Data columns (total 19 columns):\n",
      " #   Column               Non-Null Count  Dtype         \n",
      "---  ------               --------------  -----         \n",
      " 0   id_credit            5030 non-null   int64         \n",
      " 1   id_verificator       5030 non-null   int64         \n",
      " 2   credit_status        5030 non-null   int64         \n",
      " 3   date_open_credit     5030 non-null   datetime64[ns]\n",
      " 4   date_close_credit    5030 non-null   object        \n",
      " 5   number_of_credit     5030 non-null   int64         \n",
      " 6   number_of_prolong    5030 non-null   int64         \n",
      " 7   age                  5030 non-null   int32         \n",
      " 8   gender               5030 non-null   int64         \n",
      " 9   number_of_children   5030 non-null   int64         \n",
      " 10  scoring_point_skiba  5030 non-null   int64         \n",
      " 11  region_of_live       5030 non-null   object        \n",
      " 12  passport_region      5030 non-null   object        \n",
      " 13  maturity_date        5030 non-null   datetime64[ns]\n",
      " 14  day_of_delay         5030 non-null   int64         \n",
      " 15  delay_gkh            5030 non-null   float64       \n",
      " 16  delay_credit_card    5030 non-null   float64       \n",
      " 17  delay_gibdd          5030 non-null   float64       \n",
      " 18  delay_fssp           5030 non-null   float64       \n",
      "dtypes: datetime64[ns](2), float64(4), int32(1), int64(9), object(3)\n",
      "memory usage: 766.3+ KB\n"
     ]
    }
   ],
   "source": [
    "credit_first = data.query('number_of_credit == 1')\n",
    "credit_first.info()"
   ]
  },
  {
   "cell_type": "markdown",
   "id": "30c3ec05",
   "metadata": {},
   "source": [
    "Отлично - получился срез данных - как видно, количество первичных заявок составляет чуть менее половины от всех заявок.\n",
    "Напишем функцию для подсчета \n"
   ]
  },
  {
   "cell_type": "code",
   "execution_count": 14,
   "id": "44ff9b74",
   "metadata": {},
   "outputs": [],
   "source": [
    "def percent_dalay(df, day_dalay):\n",
    "    return  len(df.loc[df['day_of_delay'] > day_dalay]) / len(df)"
   ]
  },
  {
   "cell_type": "markdown",
   "id": "f8691f82",
   "metadata": {},
   "source": [
    "Теперь посчитаем количество просрочек 30+ от общего числа: "
   ]
  },
  {
   "cell_type": "code",
   "execution_count": 15,
   "id": "5f54cbef",
   "metadata": {},
   "outputs": [
    {
     "name": "stdout",
     "output_type": "stream",
     "text": [
      "Процент просрочки 30+ при первичном кредите 21.84%\n"
     ]
    }
   ],
   "source": [
    "credit_first_200_scr = credit_first.query('scoring_point_skiba >=200')\n",
    "\n",
    "percent_dalay_200_scr = percent_dalay(credit_first_200_scr,30)\n",
    "print('Процент просрочки 30+ при первичном кредите {:.2%}'.format(percent_dalay_200_scr))"
   ]
  },
  {
   "cell_type": "markdown",
   "id": "52b354b7",
   "metadata": {},
   "source": [
    "Результат немного удивляет, так как отличается от заданного в задании, там указано, что значение - 22,3. Но на то мы и аналитики, чтобы проверять исходные данные.\n",
    "\n",
    "Создадим итоговый датафрейм и добавим в него полученное значение: "
   ]
  },
  {
   "cell_type": "code",
   "execution_count": 16,
   "id": "f66126a1",
   "metadata": {},
   "outputs": [],
   "source": [
    "df_Result = pd.DataFrame(\n",
    "    {\n",
    "        'Порог скорринга,баллов':[], \n",
    "        'Процент просрочки 30+ дней,%':[]\n",
    "    }\n",
    ")"
   ]
  },
  {
   "cell_type": "markdown",
   "id": "868463ea",
   "metadata": {},
   "source": [
    "Добавим в конец полученное нами значение: "
   ]
  },
  {
   "cell_type": "code",
   "execution_count": 17,
   "id": "8956c4a9",
   "metadata": {},
   "outputs": [
    {
     "data": {
      "text/html": [
       "<div>\n",
       "<style scoped>\n",
       "    .dataframe tbody tr th:only-of-type {\n",
       "        vertical-align: middle;\n",
       "    }\n",
       "\n",
       "    .dataframe tbody tr th {\n",
       "        vertical-align: top;\n",
       "    }\n",
       "\n",
       "    .dataframe thead th {\n",
       "        text-align: right;\n",
       "    }\n",
       "</style>\n",
       "<table border=\"1\" class=\"dataframe\">\n",
       "  <thead>\n",
       "    <tr style=\"text-align: right;\">\n",
       "      <th></th>\n",
       "      <th>Порог скорринга,баллов</th>\n",
       "      <th>Процент просрочки 30+ дней,%</th>\n",
       "    </tr>\n",
       "  </thead>\n",
       "  <tbody>\n",
       "    <tr>\n",
       "      <th>0</th>\n",
       "      <td>200.00</td>\n",
       "      <td>21.84</td>\n",
       "    </tr>\n",
       "  </tbody>\n",
       "</table>\n",
       "</div>"
      ],
      "text/plain": [
       "   Порог скорринга,баллов  Процент просрочки 30+ дней,%\n",
       "0                  200.00                         21.84"
      ]
     },
     "execution_count": 17,
     "metadata": {},
     "output_type": "execute_result"
    }
   ],
   "source": [
    "df_Result = df_Result.append(\n",
    "    {\n",
    "        'Порог скорринга,баллов':200, \n",
    "        'Процент просрочки 30+ дней,%': percent_dalay_200_scr * 100 \n",
    "    }\n",
    "    , ignore_index=True\n",
    ")\n",
    "df_Result\n"
   ]
  },
  {
   "cell_type": "markdown",
   "id": "1470ac8a",
   "metadata": {},
   "source": [
    "Теперь согласно задания понизим порог скоринга на 50 единиц и посмотрим, как снизится процент просрочек. Для этого создадим срез: \n"
   ]
  },
  {
   "cell_type": "code",
   "execution_count": 18,
   "id": "95ba2f43",
   "metadata": {},
   "outputs": [
    {
     "name": "stdout",
     "output_type": "stream",
     "text": [
      "<class 'pandas.core.frame.DataFrame'>\n",
      "Int64Index: 1271 entries, 3 to 11784\n",
      "Data columns (total 19 columns):\n",
      " #   Column               Non-Null Count  Dtype         \n",
      "---  ------               --------------  -----         \n",
      " 0   id_credit            1271 non-null   int64         \n",
      " 1   id_verificator       1271 non-null   int64         \n",
      " 2   credit_status        1271 non-null   int64         \n",
      " 3   date_open_credit     1271 non-null   datetime64[ns]\n",
      " 4   date_close_credit    1271 non-null   object        \n",
      " 5   number_of_credit     1271 non-null   int64         \n",
      " 6   number_of_prolong    1271 non-null   int64         \n",
      " 7   age                  1271 non-null   int32         \n",
      " 8   gender               1271 non-null   int64         \n",
      " 9   number_of_children   1271 non-null   int64         \n",
      " 10  scoring_point_skiba  1271 non-null   int64         \n",
      " 11  region_of_live       1271 non-null   object        \n",
      " 12  passport_region      1271 non-null   object        \n",
      " 13  maturity_date        1271 non-null   datetime64[ns]\n",
      " 14  day_of_delay         1271 non-null   int64         \n",
      " 15  delay_gkh            1271 non-null   float64       \n",
      " 16  delay_credit_card    1271 non-null   float64       \n",
      " 17  delay_gibdd          1271 non-null   float64       \n",
      " 18  delay_fssp           1271 non-null   float64       \n",
      "dtypes: datetime64[ns](2), float64(4), int32(1), int64(9), object(3)\n",
      "memory usage: 193.6+ KB\n"
     ]
    }
   ],
   "source": [
    "credit_first_150_scr = credit_first.query('scoring_point_skiba <=150')\n",
    "credit_first_150_scr.info()"
   ]
  },
  {
   "cell_type": "markdown",
   "id": "093462ed",
   "metadata": {},
   "source": [
    "Получили датафрейм, который в 3,5 раза меньше исходного с первичными кредитами. Посчитаем процент просрочек 30+"
   ]
  },
  {
   "cell_type": "code",
   "execution_count": 19,
   "id": "73034f28",
   "metadata": {},
   "outputs": [
    {
     "name": "stdout",
     "output_type": "stream",
     "text": [
      "Процент просрочки 30+ при первичном кредите 28.17%\n"
     ]
    }
   ],
   "source": [
    "percent_dalay_150_scr = percent_dalay(credit_first_150_scr,30)\n",
    "print('Процент просрочки 30+ при первичном кредите {:.2%}'.format(percent_dalay_150_scr))"
   ]
  },
  {
   "cell_type": "markdown",
   "id": "ed4d3a72",
   "metadata": {},
   "source": [
    "Как видно из полученного результата, процент отказов при уменьшении скоринга на 50 единиц повысил количество просрочек на 4,5 процента. Запишем этот результат в нашу таблицу и попробуем увеличить исходную величину скоринга на 50 единиц. "
   ]
  },
  {
   "cell_type": "code",
   "execution_count": 20,
   "id": "284e17d1",
   "metadata": {},
   "outputs": [
    {
     "data": {
      "text/html": [
       "<div>\n",
       "<style scoped>\n",
       "    .dataframe tbody tr th:only-of-type {\n",
       "        vertical-align: middle;\n",
       "    }\n",
       "\n",
       "    .dataframe tbody tr th {\n",
       "        vertical-align: top;\n",
       "    }\n",
       "\n",
       "    .dataframe thead th {\n",
       "        text-align: right;\n",
       "    }\n",
       "</style>\n",
       "<table border=\"1\" class=\"dataframe\">\n",
       "  <thead>\n",
       "    <tr style=\"text-align: right;\">\n",
       "      <th></th>\n",
       "      <th>Порог скорринга,баллов</th>\n",
       "      <th>Процент просрочки 30+ дней,%</th>\n",
       "    </tr>\n",
       "  </thead>\n",
       "  <tbody>\n",
       "    <tr>\n",
       "      <th>0</th>\n",
       "      <td>200.00</td>\n",
       "      <td>21.84</td>\n",
       "    </tr>\n",
       "    <tr>\n",
       "      <th>1</th>\n",
       "      <td>150.00</td>\n",
       "      <td>28.17</td>\n",
       "    </tr>\n",
       "  </tbody>\n",
       "</table>\n",
       "</div>"
      ],
      "text/plain": [
       "   Порог скорринга,баллов  Процент просрочки 30+ дней,%\n",
       "0                  200.00                         21.84\n",
       "1                  150.00                         28.17"
      ]
     },
     "execution_count": 20,
     "metadata": {},
     "output_type": "execute_result"
    }
   ],
   "source": [
    "df_Result = df_Result.append(\n",
    "    {\n",
    "        'Порог скорринга,баллов':150, \n",
    "        'Процент просрочки 30+ дней,%': percent_dalay_150_scr * 100 \n",
    "    }\n",
    "    , ignore_index=True\n",
    ")\n",
    "df_Result"
   ]
  },
  {
   "cell_type": "code",
   "execution_count": 21,
   "id": "91d0a8ed",
   "metadata": {},
   "outputs": [
    {
     "name": "stdout",
     "output_type": "stream",
     "text": [
      "<class 'pandas.core.frame.DataFrame'>\n",
      "Int64Index: 791 entries, 4 to 11777\n",
      "Data columns (total 19 columns):\n",
      " #   Column               Non-Null Count  Dtype         \n",
      "---  ------               --------------  -----         \n",
      " 0   id_credit            791 non-null    int64         \n",
      " 1   id_verificator       791 non-null    int64         \n",
      " 2   credit_status        791 non-null    int64         \n",
      " 3   date_open_credit     791 non-null    datetime64[ns]\n",
      " 4   date_close_credit    791 non-null    object        \n",
      " 5   number_of_credit     791 non-null    int64         \n",
      " 6   number_of_prolong    791 non-null    int64         \n",
      " 7   age                  791 non-null    int32         \n",
      " 8   gender               791 non-null    int64         \n",
      " 9   number_of_children   791 non-null    int64         \n",
      " 10  scoring_point_skiba  791 non-null    int64         \n",
      " 11  region_of_live       791 non-null    object        \n",
      " 12  passport_region      791 non-null    object        \n",
      " 13  maturity_date        791 non-null    datetime64[ns]\n",
      " 14  day_of_delay         791 non-null    int64         \n",
      " 15  delay_gkh            791 non-null    float64       \n",
      " 16  delay_credit_card    791 non-null    float64       \n",
      " 17  delay_gibdd          791 non-null    float64       \n",
      " 18  delay_fssp           791 non-null    float64       \n",
      "dtypes: datetime64[ns](2), float64(4), int32(1), int64(9), object(3)\n",
      "memory usage: 120.5+ KB\n"
     ]
    }
   ],
   "source": [
    "credit_first_250_scr = credit_first.query('scoring_point_skiba >=250')\n",
    "credit_first_250_scr.info()"
   ]
  },
  {
   "cell_type": "code",
   "execution_count": 22,
   "id": "9caffcd6",
   "metadata": {},
   "outputs": [
    {
     "name": "stdout",
     "output_type": "stream",
     "text": [
      "Процент просрочки 30+ при первичном кредите 19.34%\n"
     ]
    }
   ],
   "source": [
    "percent_dalay_250_scr = percent_dalay(credit_first_250_scr,30)\n",
    "print('Процент просрочки 30+ при первичном кредите {:.2%}'.format(percent_dalay_250_scr))"
   ]
  },
  {
   "cell_type": "code",
   "execution_count": 23,
   "id": "c10bcc47",
   "metadata": {},
   "outputs": [
    {
     "data": {
      "text/html": [
       "<div>\n",
       "<style scoped>\n",
       "    .dataframe tbody tr th:only-of-type {\n",
       "        vertical-align: middle;\n",
       "    }\n",
       "\n",
       "    .dataframe tbody tr th {\n",
       "        vertical-align: top;\n",
       "    }\n",
       "\n",
       "    .dataframe thead th {\n",
       "        text-align: right;\n",
       "    }\n",
       "</style>\n",
       "<table border=\"1\" class=\"dataframe\">\n",
       "  <thead>\n",
       "    <tr style=\"text-align: right;\">\n",
       "      <th></th>\n",
       "      <th>Порог скорринга,баллов</th>\n",
       "      <th>Процент просрочки 30+ дней,%</th>\n",
       "    </tr>\n",
       "  </thead>\n",
       "  <tbody>\n",
       "    <tr>\n",
       "      <th>0</th>\n",
       "      <td>200.00</td>\n",
       "      <td>21.84</td>\n",
       "    </tr>\n",
       "    <tr>\n",
       "      <th>1</th>\n",
       "      <td>150.00</td>\n",
       "      <td>28.17</td>\n",
       "    </tr>\n",
       "    <tr>\n",
       "      <th>2</th>\n",
       "      <td>250.00</td>\n",
       "      <td>19.34</td>\n",
       "    </tr>\n",
       "  </tbody>\n",
       "</table>\n",
       "</div>"
      ],
      "text/plain": [
       "   Порог скорринга,баллов  Процент просрочки 30+ дней,%\n",
       "0                  200.00                         21.84\n",
       "1                  150.00                         28.17\n",
       "2                  250.00                         19.34"
      ]
     },
     "execution_count": 23,
     "metadata": {},
     "output_type": "execute_result"
    }
   ],
   "source": [
    "df_Result = df_Result.append(\n",
    "    {\n",
    "        'Порог скорринга,баллов':250, \n",
    "        'Процент просрочки 30+ дней,%': percent_dalay_250_scr * 100 \n",
    "    }\n",
    "    , ignore_index=True\n",
    ")\n",
    "df_Result"
   ]
  },
  {
   "cell_type": "code",
   "execution_count": 24,
   "id": "de6e28ad",
   "metadata": {},
   "outputs": [
    {
     "name": "stdout",
     "output_type": "stream",
     "text": [
      "Процент просрочки 30+ при первичном кредите 17.79%\n"
     ]
    }
   ],
   "source": [
    "credit_first_300_scr = credit_first.query('scoring_point_skiba >=300')\n",
    "percent_dalay_300_scr = percent_dalay(credit_first_300_scr,30)\n",
    "print('Процент просрочки 30+ при первичном кредите {:.2%}'.format(percent_dalay_300_scr))"
   ]
  },
  {
   "cell_type": "code",
   "execution_count": 25,
   "id": "45ecec70",
   "metadata": {},
   "outputs": [
    {
     "data": {
      "text/html": [
       "<div>\n",
       "<style scoped>\n",
       "    .dataframe tbody tr th:only-of-type {\n",
       "        vertical-align: middle;\n",
       "    }\n",
       "\n",
       "    .dataframe tbody tr th {\n",
       "        vertical-align: top;\n",
       "    }\n",
       "\n",
       "    .dataframe thead th {\n",
       "        text-align: right;\n",
       "    }\n",
       "</style>\n",
       "<table border=\"1\" class=\"dataframe\">\n",
       "  <thead>\n",
       "    <tr style=\"text-align: right;\">\n",
       "      <th></th>\n",
       "      <th>Порог скорринга,баллов</th>\n",
       "      <th>Процент просрочки 30+ дней,%</th>\n",
       "    </tr>\n",
       "  </thead>\n",
       "  <tbody>\n",
       "    <tr>\n",
       "      <th>3</th>\n",
       "      <td>300.00</td>\n",
       "      <td>17.79</td>\n",
       "    </tr>\n",
       "    <tr>\n",
       "      <th>2</th>\n",
       "      <td>250.00</td>\n",
       "      <td>19.34</td>\n",
       "    </tr>\n",
       "    <tr>\n",
       "      <th>0</th>\n",
       "      <td>200.00</td>\n",
       "      <td>21.84</td>\n",
       "    </tr>\n",
       "    <tr>\n",
       "      <th>1</th>\n",
       "      <td>150.00</td>\n",
       "      <td>28.17</td>\n",
       "    </tr>\n",
       "  </tbody>\n",
       "</table>\n",
       "</div>"
      ],
      "text/plain": [
       "   Порог скорринга,баллов  Процент просрочки 30+ дней,%\n",
       "3                  300.00                         17.79\n",
       "2                  250.00                         19.34\n",
       "0                  200.00                         21.84\n",
       "1                  150.00                         28.17"
      ]
     },
     "execution_count": 25,
     "metadata": {},
     "output_type": "execute_result"
    }
   ],
   "source": [
    "df_Result = df_Result.append(\n",
    "    {\n",
    "        'Порог скорринга,баллов':300, \n",
    "        'Процент просрочки 30+ дней,%': percent_dalay_300_scr * 100 \n",
    "    }\n",
    "    , ignore_index=True\n",
    ")\n",
    "df_Result.sort_values(by='Процент просрочки 30+ дней,%')"
   ]
  },
  {
   "cell_type": "code",
   "execution_count": 26,
   "id": "4ec70d34",
   "metadata": {},
   "outputs": [
    {
     "data": {
      "image/png": "[encoded data removed]",
      "text/plain": [
       "<Figure size 1080x720 with 1 Axes>"
      ]
     },
     "metadata": {},
     "output_type": "display_data"
    }
   ],
   "source": [
    "bar_plot(\n",
    "    df_Result,\n",
    "    \"Порог скорринга,баллов\",\n",
    "    \"Процент просрочки 30+ дней,%\",\n",
    "    'Зависимость просрочки 30+ от порога отсечения по баллу скоринга'\n",
    ")"
   ]
  },
  {
   "cell_type": "markdown",
   "id": "d3f7c428",
   "metadata": {},
   "source": [
    "### Вывод:\n",
    "- Мы добились поставленного в задаче процента просрочек в 17,79% благодаря установлению порога отсечения в 300 баллов(сделав 2 шага по 50 баллов в сторону увелечения)\n",
    "- Данный шаг позволяет смягчить требования к заемщику и соответственно выдать большее количество кредитов. После чего, процент просрочек станет меньше. \n",
    "- Ответ визуализирован. \n",
    "\n",
    "## Задача 2\n",
    "- Найти способ снизить просрочку 90+ (дней) по всем категориям займов более чем на 70%\n",
    "- Визуализируйте ответ\"\n",
    "\n",
    "Для решения данной задачи, снова построим карту корреляции признаков: "
   ]
  },
  {
   "cell_type": "code",
   "execution_count": 27,
   "id": "dc53244d",
   "metadata": {},
   "outputs": [
    {
     "data": {
      "image/png": "[encoded data removed]",
      "text/plain": [
       "<Figure size 1080x720 with 2 Axes>"
      ]
     },
     "metadata": {},
     "output_type": "display_data"
    }
   ],
   "source": [
    "cor_plot(data)"
   ]
  },
  {
   "cell_type": "markdown",
   "id": "aaaa066f",
   "metadata": {},
   "source": [
    "Как видно из приведенных данных, более всего количество дней просрочки коррелирует с долгами по ЖКХ. Корреляция положительная, соответственно если в признаки Долга по ЖКХ стоит значение 1, то вероятность просрочки - более 80 процентов.\n",
    "\n",
    "Создадим итоговый датафрейм для результатов исследований и последующей визуализации: "
   ]
  },
  {
   "cell_type": "code",
   "execution_count": 28,
   "id": "88afda3b",
   "metadata": {},
   "outputs": [],
   "source": [
    "df_Result_1 = pd.DataFrame(\n",
    "    {\n",
    "        'Данные':[], \n",
    "        'Процент просрочки 90+ дней,%':[]\n",
    "    }\n",
    ")"
   ]
  },
  {
   "cell_type": "code",
   "execution_count": 29,
   "id": "1fa5b61d",
   "metadata": {},
   "outputs": [
    {
     "name": "stdout",
     "output_type": "stream",
     "text": [
      "Процент просрочки 90+ при всех кредитах на общих данных: 8.39%\n"
     ]
    }
   ],
   "source": [
    "percent_dalay_90_day = percent_dalay(data, 90)\n",
    "print('Процент просрочки 90+ при всех кредитах на общих данных: {:.2%}'.format(percent_dalay_90_day))"
   ]
  },
  {
   "cell_type": "markdown",
   "id": "654de043",
   "metadata": {},
   "source": [
    "Запишем наши данные в итоговую таблицу: \n"
   ]
  },
  {
   "cell_type": "code",
   "execution_count": 30,
   "id": "5d78535f",
   "metadata": {},
   "outputs": [
    {
     "data": {
      "text/html": [
       "<div>\n",
       "<style scoped>\n",
       "    .dataframe tbody tr th:only-of-type {\n",
       "        vertical-align: middle;\n",
       "    }\n",
       "\n",
       "    .dataframe tbody tr th {\n",
       "        vertical-align: top;\n",
       "    }\n",
       "\n",
       "    .dataframe thead th {\n",
       "        text-align: right;\n",
       "    }\n",
       "</style>\n",
       "<table border=\"1\" class=\"dataframe\">\n",
       "  <thead>\n",
       "    <tr style=\"text-align: right;\">\n",
       "      <th></th>\n",
       "      <th>Данные</th>\n",
       "      <th>Процент просрочки 90+ дней,%</th>\n",
       "    </tr>\n",
       "  </thead>\n",
       "  <tbody>\n",
       "    <tr>\n",
       "      <th>0</th>\n",
       "      <td>Общие данные</td>\n",
       "      <td>8.39</td>\n",
       "    </tr>\n",
       "  </tbody>\n",
       "</table>\n",
       "</div>"
      ],
      "text/plain": [
       "         Данные  Процент просрочки 90+ дней,%\n",
       "0  Общие данные                          8.39"
      ]
     },
     "execution_count": 30,
     "metadata": {},
     "output_type": "execute_result"
    }
   ],
   "source": [
    "df_Result_1 = df_Result_1.append(\n",
    "    {\n",
    "        'Данные':'Общие данные', \n",
    "        'Процент просрочки 90+ дней,%':percent_dalay_90_day * 100\n",
    "    }\n",
    "    , ignore_index=True\n",
    ")\n",
    "df_Result_1"
   ]
  },
  {
   "cell_type": "markdown",
   "id": "f2e73a47",
   "metadata": {},
   "source": [
    "Теперь создадим фильтр по отсутствию долгов по ЖКХ и посмотрим процент задолженностей 90+ в полученном срезе данных: "
   ]
  },
  {
   "cell_type": "code",
   "execution_count": 31,
   "id": "6c512c3d",
   "metadata": {},
   "outputs": [
    {
     "name": "stdout",
     "output_type": "stream",
     "text": [
      "Процент просрочки 90+ при всех кредитах при отсутсвии долгов ЖКХ:0.36%\n"
     ]
    }
   ],
   "source": [
    "data_not_dalay_gkh = data.query('delay_gkh != 1')\n",
    "percent_dalay_90_day_not_gkh = percent_dalay(data_not_dalay_gkh, 90)\n",
    "print(\n",
    "    'Процент просрочки 90+ при всех кредитах при отсутсвии долгов ЖКХ:{:.2%}'\n",
    "    .format(percent_dalay_90_day_not_gkh))"
   ]
  },
  {
   "cell_type": "markdown",
   "id": "234914a4",
   "metadata": {},
   "source": [
    "Запишим полученный результат в итоговую таблицу: "
   ]
  },
  {
   "cell_type": "code",
   "execution_count": 32,
   "id": "d16ef0e7",
   "metadata": {},
   "outputs": [
    {
     "data": {
      "text/html": [
       "<div>\n",
       "<style scoped>\n",
       "    .dataframe tbody tr th:only-of-type {\n",
       "        vertical-align: middle;\n",
       "    }\n",
       "\n",
       "    .dataframe tbody tr th {\n",
       "        vertical-align: top;\n",
       "    }\n",
       "\n",
       "    .dataframe thead th {\n",
       "        text-align: right;\n",
       "    }\n",
       "</style>\n",
       "<table border=\"1\" class=\"dataframe\">\n",
       "  <thead>\n",
       "    <tr style=\"text-align: right;\">\n",
       "      <th></th>\n",
       "      <th>Данные</th>\n",
       "      <th>Процент просрочки 90+ дней,%</th>\n",
       "    </tr>\n",
       "  </thead>\n",
       "  <tbody>\n",
       "    <tr>\n",
       "      <th>0</th>\n",
       "      <td>Общие данные</td>\n",
       "      <td>8.39</td>\n",
       "    </tr>\n",
       "    <tr>\n",
       "      <th>1</th>\n",
       "      <td>Срез без долгов по ЖКХ</td>\n",
       "      <td>0.36</td>\n",
       "    </tr>\n",
       "  </tbody>\n",
       "</table>\n",
       "</div>"
      ],
      "text/plain": [
       "                   Данные  Процент просрочки 90+ дней,%\n",
       "0            Общие данные                          8.39\n",
       "1  Срез без долгов по ЖКХ                          0.36"
      ]
     },
     "execution_count": 32,
     "metadata": {},
     "output_type": "execute_result"
    }
   ],
   "source": [
    "df_Result_1 = df_Result_1.append(\n",
    "    {\n",
    "        'Данные':'Срез без долгов по ЖКХ', \n",
    "        'Процент просрочки 90+ дней,%': percent_dalay_90_day_not_gkh * 100\n",
    "    }\n",
    "    , ignore_index=True\n",
    ")\n",
    "df_Result_1"
   ]
  },
  {
   "cell_type": "markdown",
   "id": "86bedccd",
   "metadata": {},
   "source": [
    "Построим график с результатами исследования:"
   ]
  },
  {
   "cell_type": "code",
   "execution_count": 33,
   "id": "c93e5760",
   "metadata": {},
   "outputs": [
    {
     "data": {
      "image/png": "[encoded data removed]",
      "text/plain": [
       "<Figure size 1080x720 with 1 Axes>"
      ]
     },
     "metadata": {},
     "output_type": "display_data"
    }
   ],
   "source": [
    "bar_plot(\n",
    "    df_Result_1,\n",
    "    'Данные',\n",
    "    'Процент просрочки 90+ дней,%',\n",
    "    'Зависимость просрочки 90+ от долгов по ЖКХ'\n",
    ")"
   ]
  },
  {
   "cell_type": "markdown",
   "id": "a9c9a8ce",
   "metadata": {},
   "source": [
    "### Вывод: \n",
    "- Мы нашли параметр, который оказывает наибольшее влияние на наличие просрочки 90+ дней по всем займам - это наличие долга по ЖКХ. \n",
    "- Решение которое позволяет избежать просрочки 90+ дней - не выдавть займы людям имеющим долги по ЖКХ.\n",
    "\n",
    "\n",
    "## Задача 3\n",
    "- Какие еще переменные из выгрузки, кроме скорингового балла, наиболее коррелируют с возвратностью первичных займов (1 займ).\n",
    "- Визуализируйте ответ\n",
    "\n",
    "Создадим срез первичных кредитов и посмотрим корреляцию признаков друг с другом: \n"
   ]
  },
  {
   "cell_type": "code",
   "execution_count": 34,
   "id": "01dedd57",
   "metadata": {},
   "outputs": [
    {
     "data": {
      "image/png": "[encoded data removed]",
      "text/plain": [
       "<Figure size 1080x720 with 2 Axes>"
      ]
     },
     "metadata": {},
     "output_type": "display_data"
    }
   ],
   "source": [
    "first_credit = data.query('number_of_credit == 1')\n",
    "cor_plot(first_credit)"
   ]
  },
  {
   "cell_type": "markdown",
   "id": "0b8faed0",
   "metadata": {},
   "source": [
    "Для более наглядного примера построим таблицу корреляции по цветам"
   ]
  },
  {
   "cell_type": "code",
   "execution_count": 35,
   "id": "3ff28966",
   "metadata": {},
   "outputs": [
    {
     "data": {
      "text/html": [
       "<style type=\"text/css\">\n",
       "#T_ee12a_row0_col0 {\n",
       "  background-color: #00441b;\n",
       "  color: #f1f1f1;\n",
       "}\n",
       "#T_ee12a_row1_col0 {\n",
       "  background-color: #68be70;\n",
       "  color: #000000;\n",
       "}\n",
       "#T_ee12a_row2_col0 {\n",
       "  background-color: #6bc072;\n",
       "  color: #000000;\n",
       "}\n",
       "#T_ee12a_row3_col0, #T_ee12a_row4_col0 {\n",
       "  background-color: #6ec173;\n",
       "  color: #000000;\n",
       "}\n",
       "#T_ee12a_row5_col0 {\n",
       "  background-color: #83cb82;\n",
       "  color: #000000;\n",
       "}\n",
       "#T_ee12a_row6_col0 {\n",
       "  background-color: #84cc83;\n",
       "  color: #000000;\n",
       "}\n",
       "#T_ee12a_row7_col0 {\n",
       "  background-color: #86cc85;\n",
       "  color: #000000;\n",
       "}\n",
       "#T_ee12a_row8_col0 {\n",
       "  background-color: #8bcf89;\n",
       "  color: #000000;\n",
       "}\n",
       "#T_ee12a_row9_col0 {\n",
       "  background-color: #8ed08b;\n",
       "  color: #000000;\n",
       "}\n",
       "#T_ee12a_row10_col0, #T_ee12a_row11_col0 {\n",
       "  background-color: #90d18d;\n",
       "  color: #000000;\n",
       "}\n",
       "#T_ee12a_row12_col0 {\n",
       "  background-color: #eef8ea;\n",
       "  color: #000000;\n",
       "}\n",
       "#T_ee12a_row13_col0 {\n",
       "  background-color: #f7fcf5;\n",
       "  color: #000000;\n",
       "}\n",
       "</style>\n",
       "<table id=\"T_ee12a_\">\n",
       "  <thead>\n",
       "    <tr>\n",
       "      <th class=\"blank level0\" >&nbsp;</th>\n",
       "      <th class=\"col_heading level0 col0\" >credit_status</th>\n",
       "    </tr>\n",
       "  </thead>\n",
       "  <tbody>\n",
       "    <tr>\n",
       "      <th id=\"T_ee12a_level0_row0\" class=\"row_heading level0 row0\" >credit_status</th>\n",
       "      <td id=\"T_ee12a_row0_col0\" class=\"data row0 col0\" >1.000000</td>\n",
       "    </tr>\n",
       "    <tr>\n",
       "      <th id=\"T_ee12a_level0_row1\" class=\"row_heading level0 row1\" >delay_credit_card</th>\n",
       "      <td id=\"T_ee12a_row1_col0\" class=\"data row1 col0\" >0.136361</td>\n",
       "    </tr>\n",
       "    <tr>\n",
       "      <th id=\"T_ee12a_level0_row2\" class=\"row_heading level0 row2\" >scoring_point_skiba</th>\n",
       "      <td id=\"T_ee12a_row2_col0\" class=\"data row2 col0\" >0.121196</td>\n",
       "    </tr>\n",
       "    <tr>\n",
       "      <th id=\"T_ee12a_level0_row3\" class=\"row_heading level0 row3\" >number_of_credit</th>\n",
       "      <td id=\"T_ee12a_row3_col0\" class=\"data row3 col0\" >0.108987</td>\n",
       "    </tr>\n",
       "    <tr>\n",
       "      <th id=\"T_ee12a_level0_row4\" class=\"row_heading level0 row4\" >id_credit</th>\n",
       "      <td id=\"T_ee12a_row4_col0\" class=\"data row4 col0\" >0.108034</td>\n",
       "    </tr>\n",
       "    <tr>\n",
       "      <th id=\"T_ee12a_level0_row5\" class=\"row_heading level0 row5\" >number_of_children</th>\n",
       "      <td id=\"T_ee12a_row5_col0\" class=\"data row5 col0\" >0.011371</td>\n",
       "    </tr>\n",
       "    <tr>\n",
       "      <th id=\"T_ee12a_level0_row6\" class=\"row_heading level0 row6\" >delay_fssp</th>\n",
       "      <td id=\"T_ee12a_row6_col0\" class=\"data row6 col0\" >-0.001693</td>\n",
       "    </tr>\n",
       "    <tr>\n",
       "      <th id=\"T_ee12a_level0_row7\" class=\"row_heading level0 row7\" >gender</th>\n",
       "      <td id=\"T_ee12a_row7_col0\" class=\"data row7 col0\" >-0.003712</td>\n",
       "    </tr>\n",
       "    <tr>\n",
       "      <th id=\"T_ee12a_level0_row8\" class=\"row_heading level0 row8\" >age</th>\n",
       "      <td id=\"T_ee12a_row8_col0\" class=\"data row8 col0\" >-0.036372</td>\n",
       "    </tr>\n",
       "    <tr>\n",
       "      <th id=\"T_ee12a_level0_row9\" class=\"row_heading level0 row9\" >number_of_prolong</th>\n",
       "      <td id=\"T_ee12a_row9_col0\" class=\"data row9 col0\" >-0.051306</td>\n",
       "    </tr>\n",
       "    <tr>\n",
       "      <th id=\"T_ee12a_level0_row10\" class=\"row_heading level0 row10\" >delay_gibdd</th>\n",
       "      <td id=\"T_ee12a_row10_col0\" class=\"data row10 col0\" >-0.053446</td>\n",
       "    </tr>\n",
       "    <tr>\n",
       "      <th id=\"T_ee12a_level0_row11\" class=\"row_heading level0 row11\" >id_verificator</th>\n",
       "      <td id=\"T_ee12a_row11_col0\" class=\"data row11 col0\" >-0.058689</td>\n",
       "    </tr>\n",
       "    <tr>\n",
       "      <th id=\"T_ee12a_level0_row12\" class=\"row_heading level0 row12\" >delay_gkh</th>\n",
       "      <td id=\"T_ee12a_row12_col0\" class=\"data row12 col0\" >-0.715433</td>\n",
       "    </tr>\n",
       "    <tr>\n",
       "      <th id=\"T_ee12a_level0_row13\" class=\"row_heading level0 row13\" >day_of_delay</th>\n",
       "      <td id=\"T_ee12a_row13_col0\" class=\"data row13 col0\" >-0.831741</td>\n",
       "    </tr>\n",
       "  </tbody>\n",
       "</table>\n"
      ],
      "text/plain": [
       "<pandas.io.formats.style.Styler at 0x2b1ec2625b0>"
      ]
     },
     "execution_count": 35,
     "metadata": {},
     "output_type": "execute_result"
    }
   ],
   "source": [
    "(\n",
    "    data\n",
    "    .corr()['credit_status']\n",
    "    .to_frame()\n",
    "    .sort_values('credit_status', ascending=False)\n",
    "    .style\n",
    "    .background_gradient(cmap='Greens')\n",
    ")"
   ]
  },
  {
   "cell_type": "markdown",
   "id": "b3dd21cf",
   "metadata": {},
   "source": [
    "Как видно из приведенной выше таблицы, на возвратность кредитов влияет, помимо скорингового балла коррелирует наличие просрочки по кредитной крате, а также номер кредита.\n",
    "\n",
    "### Вывод:\n",
    "-Мы провели исследование корреляции возратности кредитов и других признаков - наиболее коррелируют просрочки по кредитной крате, а также порядковый номер кредита у клиента.\n",
    "\n",
    "## Общий вывод: \n",
    "\n",
    "В ходе исследования решены все 3 задачи:\n",
    "\n",
    "#### Задача 1:\n",
    "- Мы добились поставленного в задаче процента просрочек в 17,79% благодаря установлению порога отсечения в 300 баллов(сделав 2 шага по 50 баллов в сторону увелечения)\n",
    "- Данный шаг позволяет смягчить требования к заемщику и соответственно выдать большее количество кредитов. После чего, процент просрочек станет меньше. \n",
    "- Ответ визуализирован. \n",
    "\n",
    "#### Задача 2:\n",
    "\n",
    "- Мы нашли параметр, который оказывает наибольшее влияние на наличие просрочки 90+ дней по всем займам - это наличие долга по ЖКХ. \n",
    "- Решение которое позволяет избежать просрочки 90+ дней - не выдавть займы людям имеющим долги по ЖКХ.\n",
    "\n",
    "#### Задача 3:\n",
    "- Мы провели исследование корреляции возратности кредитов и других признаков - наиболее коррелируют просрочки по кредитной крате, а также порядковый номер кредита у клиента.\n",
    "- Результат визуализирован\n",
    "\n",
    "\n",
    "\n"
   ]
  },
  {
   "cell_type": "code",
   "execution_count": null,
   "id": "9d24da28",
   "metadata": {},
   "outputs": [],
   "source": []
  }
 ],
 "metadata": {
  "kernelspec": {
   "display_name": "Python 3 (ipykernel)",
   "language": "python",
   "name": "python3"
  },
  "language_info": {
   "codemirror_mode": {
    "name": "ipython",
    "version": 3
   },
   "file_extension": ".py",
   "mimetype": "text/x-python",
   "name": "python",
   "nbconvert_exporter": "python",
   "pygments_lexer": "ipython3",
   "version": "3.8.5"
  }
 },
 "nbformat": 4,
 "nbformat_minor": 5
}
